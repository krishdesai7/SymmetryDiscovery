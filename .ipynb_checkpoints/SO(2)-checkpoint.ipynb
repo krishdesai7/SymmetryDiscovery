{
 "cells": [
  {
   "cell_type": "code",
   "execution_count": 1,
   "metadata": {},
   "outputs": [],
   "source": [
    "import numpy as np\n",
    "import matplotlib.pyplot as plt\n",
    "from sklearn.metrics import roc_curve, auc,roc_auc_score\n",
    "from sklearn.linear_model import LinearRegression"
   ]
  },
  {
   "cell_type": "code",
   "execution_count": 2,
   "metadata": {},
   "outputs": [],
   "source": [
    "x = np.random.normal(0,1,100000)"
   ]
  },
  {
   "cell_type": "code",
   "execution_count": 3,
   "metadata": {},
   "outputs": [
    {
     "data": {
      "text/plain": [
       "(array([3.5000e+01, 6.7800e+02, 5.9130e+03, 2.1917e+04, 3.5578e+04,\n",
       "        2.6042e+04, 8.5060e+03, 1.2520e+03, 7.6000e+01, 3.0000e+00]),\n",
       " array([-4.30776535, -3.37450412, -2.44124289, -1.50798166, -0.57472043,\n",
       "         0.3585408 ,  1.29180203,  2.22506326,  3.15832449,  4.09158572,\n",
       "         5.02484695]),\n",
       " <a list of 10 Patch objects>)"
      ]
     },
     "execution_count": 3,
     "metadata": {},
     "output_type": "execute_result"
    },
    {
     "data": {
      "image/png": "[encoded data removed]",
      "text/plain": [
       "<Figure size 432x288 with 1 Axes>"
      ]
     },
     "metadata": {
      "needs_background": "light"
     },
     "output_type": "display_data"
    }
   ],
   "source": [
    "plt.hist(x)"
   ]
  },
  {
   "cell_type": "code",
   "execution_count": null,
   "metadata": {},
   "outputs": [],
   "source": []
  },
  {
   "cell_type": "code",
   "execution_count": 4,
   "metadata": {},
   "outputs": [],
   "source": [
    "import tensorflow.keras\n",
    "import tensorflow.keras.backend as K\n",
    "from tensorflow.keras.models import Sequential, Model\n",
    "from tensorflow.keras.layers import Dense, Activation, Dropout, ReLU, ELU, PReLU, Input, Concatenate, Lambda\n",
    "from tensorflow.keras.callbacks import ModelCheckpoint\n",
    "from tensorflow.keras.losses import mse, binary_crossentropy\n",
    "import tensorflow as tf"
   ]
  },
  {
   "cell_type": "code",
   "execution_count": 5,
   "metadata": {},
   "outputs": [
    {
     "data": {
      "text/plain": [
       "'\\ndef myloss(y_true, y_pred, alpha = 0.):\\n    #alpha determines the amount of decorrelation; 0 means no decorrelation.\\n    \\n    #We want to learn f(g(x)) = x with g != identity and g(x) and x should have the same probability density.\\n    #g(x) = y_pred[:,0]\\n    #f(g(x)) = y_pred[:,1]\\n    #h(x) = y_pred[:,2]\\n    #h(g(x)) = y_pred[:,3]\\n    \\n    myoutput =  mse(y_true[:,0],y_pred[:,1])                 - 0.1*binary_crossentropy(y_pred[:,2],K.ones_like(y_pred[:,2]))                 - 0.1*binary_crossentropy(y_pred[:,3],0.*K.ones_like(y_pred[:,2]))\\n    return myoutput\\n'"
      ]
     },
     "execution_count": 5,
     "metadata": {},
     "output_type": "execute_result"
    }
   ],
   "source": [
    "'''\n",
    "def myloss(y_true, y_pred, alpha = 0.):\n",
    "    #alpha determines the amount of decorrelation; 0 means no decorrelation.\n",
    "    \n",
    "    #We want to learn f(g(x)) = x with g != identity and g(x) and x should have the same probability density.\n",
    "    #g(x) = y_pred[:,0]\n",
    "    #f(g(x)) = y_pred[:,1]\n",
    "    #h(x) = y_pred[:,2]\n",
    "    #h(g(x)) = y_pred[:,3]\n",
    "    \n",
    "    myoutput =  mse(y_true[:,0],y_pred[:,1]) \\\n",
    "                - 0.1*binary_crossentropy(y_pred[:,2],K.ones_like(y_pred[:,2])) \\\n",
    "                - 0.1*binary_crossentropy(y_pred[:,3],0.*K.ones_like(y_pred[:,2]))\n",
    "    return myoutput\n",
    "'''"
   ]
  },
  {
   "cell_type": "code",
   "execution_count": 6,
   "metadata": {},
   "outputs": [
    {
     "data": {
      "text/plain": [
       "'\\n#setup the model\\n\\nmyinput = Input(shape=(1,))\\nencoded = Dense(5, activation=\\'elu\\')(myinput)\\nencoded = Dense(5, activation=\\'elu\\')(encoded)\\nencoded = Dense(1, activation=\\'linear\\')(encoded)\\n\\nencoder = Model(myinput, encoded)\\nencoder2 = encoder(encoder(myinput))\\nautoencoder = Model(myinput, encoder2)\\n\\ncombinedModel = Model(myinput,Concatenate(axis=-1)([encoded, encoder2]))\\n\\nmyinput_classify = Input(shape=(1,))\\nmyclassifier = Dense(128, activation=\\'elu\\')(myinput_classify)\\nmyclassifier = Dense(64, activation=\\'elu\\')(myclassifier)\\nmyclassifier = Dense(1, activation=\\'sigmoid\\')(myclassifier)\\nmyclassifier_model = Model(myinput_classify, myclassifier)\\nmyclassifier_input = myclassifier_model(myinput)\\nmyclassifier_encoded = myclassifier_model(encoded)\\n\\ncombinedModel_classifier = Model(myinput,Concatenate(axis=-1)([encoded, encoder2, myclassifier_input, myclassifier_encoded]))\\n\\n#First, pretrain the autoencoder:\\n#autoencoder.compile(optimizer=\\'adam\\', loss=\\'mse\\')\\n#autoencoder.fit(x,x, epochs=5, batch_size=int(0.01*len(x)))\\n\\npreds = []\\npreds += [encoder.predict(np.linspace(-4,4,10))]\\n\\nfor i in range(10):\\n    print(\"on i=\",i)\\n    #Now, train the classifier\\n    encoded_x = encoder.predict(x)[:,0]\\n    myclassifier_model.compile(optimizer=\\'adam\\', loss=\\'binary_crossentropy\\')\\n    myclassifier_model.fit(np.concatenate([x,encoded_x]),np.concatenate([np.ones(len(x)),np.zeros(len(x))]), epochs=1, batch_size=int(0.01*len(x)))\\n\\n    #y_scores = encoder.predict(np.concatenate([x,encoded_x]))\\n    #print(i,roc_auc_score(np.concatenate([np.ones(len(x)),np.zeros(len(x))]),y_scores))\\n    \\n    #Now, update the autoencoder\\n    for layer in myclassifier_model.layers[:]:\\n        layer.trainable = False\\n\\n    combinedModel_classifier.compile(optimizer=\\'adam\\', loss=lambda y_true, y_pred: myloss(y_true, y_pred))\\n    combinedModel_classifier.fit(x,np.stack((x, x), axis=-1), epochs=1, batch_size=int(0.01*len(x)))\\n    \\n    preds += [encoder.predict(np.linspace(-4,4,10))]\\n    \\n    for layer in myclassifier_model.layers[:]:\\n        layer.trainable = True\\n'"
      ]
     },
     "execution_count": 6,
     "metadata": {},
     "output_type": "execute_result"
    }
   ],
   "source": [
    "'''\n",
    "#setup the model\n",
    "\n",
    "myinput = Input(shape=(1,))\n",
    "encoded = Dense(5, activation='elu')(myinput)\n",
    "encoded = Dense(5, activation='elu')(encoded)\n",
    "encoded = Dense(1, activation='linear')(encoded)\n",
    "\n",
    "encoder = Model(myinput, encoded)\n",
    "encoder2 = encoder(encoder(myinput))\n",
    "autoencoder = Model(myinput, encoder2)\n",
    "\n",
    "combinedModel = Model(myinput,Concatenate(axis=-1)([encoded, encoder2]))\n",
    "\n",
    "myinput_classify = Input(shape=(1,))\n",
    "myclassifier = Dense(128, activation='elu')(myinput_classify)\n",
    "myclassifier = Dense(64, activation='elu')(myclassifier)\n",
    "myclassifier = Dense(1, activation='sigmoid')(myclassifier)\n",
    "myclassifier_model = Model(myinput_classify, myclassifier)\n",
    "myclassifier_input = myclassifier_model(myinput)\n",
    "myclassifier_encoded = myclassifier_model(encoded)\n",
    "\n",
    "combinedModel_classifier = Model(myinput,Concatenate(axis=-1)([encoded, encoder2, myclassifier_input, myclassifier_encoded]))\n",
    "\n",
    "#First, pretrain the autoencoder:\n",
    "#autoencoder.compile(optimizer='adam', loss='mse')\n",
    "#autoencoder.fit(x,x, epochs=5, batch_size=int(0.01*len(x)))\n",
    "\n",
    "preds = []\n",
    "preds += [encoder.predict(np.linspace(-4,4,10))]\n",
    "\n",
    "for i in range(10):\n",
    "    print(\"on i=\",i)\n",
    "    #Now, train the classifier\n",
    "    encoded_x = encoder.predict(x)[:,0]\n",
    "    myclassifier_model.compile(optimizer='adam', loss='binary_crossentropy')\n",
    "    myclassifier_model.fit(np.concatenate([x,encoded_x]),np.concatenate([np.ones(len(x)),np.zeros(len(x))]), epochs=1, batch_size=int(0.01*len(x)))\n",
    "\n",
    "    #y_scores = encoder.predict(np.concatenate([x,encoded_x]))\n",
    "    #print(i,roc_auc_score(np.concatenate([np.ones(len(x)),np.zeros(len(x))]),y_scores))\n",
    "    \n",
    "    #Now, update the autoencoder\n",
    "    for layer in myclassifier_model.layers[:]:\n",
    "        layer.trainable = False\n",
    "\n",
    "    combinedModel_classifier.compile(optimizer='adam', loss=lambda y_true, y_pred: myloss(y_true, y_pred))\n",
    "    combinedModel_classifier.fit(x,np.stack((x, x), axis=-1), epochs=1, batch_size=int(0.01*len(x)))\n",
    "    \n",
    "    preds += [encoder.predict(np.linspace(-4,4,10))]\n",
    "    \n",
    "    for layer in myclassifier_model.layers[:]:\n",
    "        layer.trainable = True\n",
    "'''"
   ]
  },
  {
   "cell_type": "code",
   "execution_count": 7,
   "metadata": {},
   "outputs": [
    {
     "data": {
      "text/plain": [
       "'\\nfor i in range(len(preds)):\\n    plt.plot(np.linspace(-4,4,10),preds[i],label=str(i))\\n    pass\\nplt.legend(frameon=False)\\n'"
      ]
     },
     "execution_count": 7,
     "metadata": {},
     "output_type": "execute_result"
    }
   ],
   "source": [
    "'''\n",
    "for i in range(len(preds)):\n",
    "    plt.plot(np.linspace(-4,4,10),preds[i],label=str(i))\n",
    "    pass\n",
    "plt.legend(frameon=False)\n",
    "'''"
   ]
  },
  {
   "cell_type": "code",
   "execution_count": 8,
   "metadata": {},
   "outputs": [],
   "source": [
    "#mypreds = combinedModel_classifier.predict(x)"
   ]
  },
  {
   "cell_type": "code",
   "execution_count": 9,
   "metadata": {},
   "outputs": [
    {
     "data": {
      "text/plain": [
       "'\\nplt.scatter(x,mypreds[:,0],label=\"Encoder\")\\nplt.scatter(x,mypreds[:,1],label=r\"Autoencoder = Encoder$^2$\")\\nplt.plot(np.linspace(-4,4,10),np.linspace(-4,4,10),ls=\\':\\',color=\"gray\")\\nplt.xlabel(\"x\")\\nplt.ylabel(\"function value\")\\nplt.legend(frameon=False)\\n'"
      ]
     },
     "execution_count": 9,
     "metadata": {},
     "output_type": "execute_result"
    }
   ],
   "source": [
    "'''\n",
    "plt.scatter(x,mypreds[:,0],label=\"Encoder\")\n",
    "plt.scatter(x,mypreds[:,1],label=r\"Autoencoder = Encoder$^2$\")\n",
    "plt.plot(np.linspace(-4,4,10),np.linspace(-4,4,10),ls=':',color=\"gray\")\n",
    "plt.xlabel(\"x\")\n",
    "plt.ylabel(\"function value\")\n",
    "plt.legend(frameon=False)\n",
    "'''"
   ]
  },
  {
   "cell_type": "code",
   "execution_count": 10,
   "metadata": {},
   "outputs": [],
   "source": [
    "x2 = np.random.normal(0,1,100000)"
   ]
  },
  {
   "cell_type": "code",
   "execution_count": 11,
   "metadata": {},
   "outputs": [],
   "source": [
    "X = np.c_[x,x2]"
   ]
  },
  {
   "cell_type": "code",
   "execution_count": 12,
   "metadata": {},
   "outputs": [],
   "source": [
    "def myloss2d(y_true, y_pred, alpha = 0.0):\n",
    "    #alpha determines the amount of decorrelation; 0 means no decorrelation.\n",
    "    \n",
    "    #We want to learn f(g(x)) = x with g != identity and g(x) and x should have the same probability density.\n",
    "    #g(x) = y_pred[:,0]\n",
    "    #f(g(x)) = y_pred[:,1]\n",
    "    #h(x) = y_pred[:,2]\n",
    "    #h(g(x)) = y_pred[:,3]\n",
    "    \n",
    "    myoutput =  mse(y_true[:,0],y_pred[:,1]) \\\n",
    "                - alpha*binary_crossentropy(y_pred[:,2],K.ones_like(y_pred[:,2])) \\\n",
    "                - alpha*binary_crossentropy(y_pred[:,3],0.*K.ones_like(y_pred[:,2]))\n",
    "    return myoutput"
   ]
  },
  {
   "cell_type": "code",
   "execution_count": 13,
   "metadata": {},
   "outputs": [
    {
     "name": "stdout",
     "output_type": "stream",
     "text": [
      "on i= 0\n",
      "200/200 [==============================] - 1s 5ms/step - loss: 0.4094\n",
      "100/100 [==============================] - 1s 7ms/step - loss: 0.2237\n",
      "Epoch 1/5\n",
      "100/100 [==============================] - 0s 2ms/step - loss: 0.7578\n",
      "Epoch 2/5\n",
      "100/100 [==============================] - 0s 2ms/step - loss: 0.3964\n",
      "Epoch 3/5\n",
      "100/100 [==============================] - 0s 2ms/step - loss: 0.1235\n",
      "Epoch 4/5\n",
      "100/100 [==============================] - 0s 2ms/step - loss: 0.0965\n",
      "Epoch 5/5\n",
      "100/100 [==============================] - 0s 2ms/step - loss: 0.0791\n",
      "on i= 1\n",
      "200/200 [==============================] - 1s 6ms/step - loss: 1.2834\n",
      "100/100 [==============================] - 1s 8ms/step - loss: 0.3490\n",
      "Epoch 1/5\n",
      "100/100 [==============================] - 0s 2ms/step - loss: 0.0796\n",
      "Epoch 2/5\n",
      "100/100 [==============================] - 0s 2ms/step - loss: 0.0461\n",
      "Epoch 3/5\n",
      "100/100 [==============================] - 0s 2ms/step - loss: 0.0327\n",
      "Epoch 4/5\n",
      "100/100 [==============================] - 0s 2ms/step - loss: 0.0240\n",
      "Epoch 5/5\n",
      "100/100 [==============================] - 0s 2ms/step - loss: 0.0185\n",
      "on i= 2\n",
      "200/200 [==============================] - 1s 5ms/step - loss: 0.6918\n",
      "100/100 [==============================] - 1s 7ms/step - loss: 0.1009\n",
      "Epoch 1/5\n",
      "100/100 [==============================] - 0s 2ms/step - loss: 0.0311\n",
      "Epoch 2/5\n",
      "100/100 [==============================] - 0s 2ms/step - loss: 0.0137\n",
      "Epoch 3/5\n",
      "100/100 [==============================] - 0s 2ms/step - loss: 0.0115\n",
      "Epoch 4/5\n",
      "100/100 [==============================] - 0s 2ms/step - loss: 0.0095\n",
      "Epoch 5/5\n",
      "100/100 [==============================] - 0s 1ms/step - loss: 0.0079\n",
      "on i= 3\n",
      "200/200 [==============================] - 1s 6ms/step - loss: 0.6793\n",
      "100/100 [==============================] - 1s 7ms/step - loss: 0.0278\n",
      "Epoch 1/5\n",
      "100/100 [==============================] - 0s 2ms/step - loss: 0.0119\n",
      "Epoch 2/5\n",
      "100/100 [==============================] - 0s 2ms/step - loss: 0.0071\n",
      "Epoch 3/5\n",
      "100/100 [==============================] - 0s 2ms/step - loss: 0.0065\n",
      "Epoch 4/5\n",
      "100/100 [==============================] - 0s 2ms/step - loss: 0.0058\n",
      "Epoch 5/5\n",
      "100/100 [==============================] - 0s 2ms/step - loss: 0.0051\n",
      "on i= 4\n",
      "200/200 [==============================] - 1s 5ms/step - loss: 0.6828\n",
      "100/100 [==============================] - 1s 7ms/step - loss: 0.0088\n",
      "Epoch 1/5\n",
      "100/100 [==============================] - 0s 2ms/step - loss: 0.0069\n",
      "Epoch 2/5\n",
      "100/100 [==============================] - 0s 2ms/step - loss: 0.0047\n",
      "Epoch 3/5\n",
      "100/100 [==============================] - 0s 2ms/step - loss: 0.0042\n",
      "Epoch 4/5\n",
      "100/100 [==============================] - 0s 2ms/step - loss: 0.0037\n",
      "Epoch 5/5\n",
      "100/100 [==============================] - 0s 2ms/step - loss: 0.0033\n",
      "on i= 5\n",
      "200/200 [==============================] - 1s 6ms/step - loss: 0.6842\n",
      "100/100 [==============================] - 1s 7ms/step - loss: 0.0054\n",
      "Epoch 1/5\n",
      "100/100 [==============================] - 0s 2ms/step - loss: 0.0046\n",
      "Epoch 2/5\n",
      "100/100 [==============================] - 0s 2ms/step - loss: 0.0030\n",
      "Epoch 3/5\n",
      "100/100 [==============================] - 0s 2ms/step - loss: 0.0027\n",
      "Epoch 4/5\n",
      "100/100 [==============================] - 0s 2ms/step - loss: 0.0024\n",
      "Epoch 5/5\n",
      "100/100 [==============================] - 0s 2ms/step - loss: 0.0022\n",
      "on i= 6\n",
      "200/200 [==============================] - 1s 7ms/step - loss: 0.6862\n",
      "100/100 [==============================] - 1s 10ms/step - loss: 0.0039\n",
      "Epoch 1/5\n",
      "100/100 [==============================] - 0s 2ms/step - loss: 0.0032\n",
      "Epoch 2/5\n",
      "100/100 [==============================] - 0s 2ms/step - loss: 0.0020\n",
      "Epoch 3/5\n",
      "100/100 [==============================] - 0s 2ms/step - loss: 0.0018\n",
      "Epoch 4/5\n",
      "100/100 [==============================] - 0s 2ms/step - loss: 0.0017\n",
      "Epoch 5/5\n",
      "100/100 [==============================] - 0s 3ms/step - loss: 0.0015\n",
      "on i= 7\n",
      "200/200 [==============================] - 1s 6ms/step - loss: 0.6876\n",
      "100/100 [==============================] - 1s 7ms/step - loss: 0.0031\n",
      "Epoch 1/5\n",
      "100/100 [==============================] - 0s 2ms/step - loss: 0.0025\n",
      "Epoch 2/5\n",
      "100/100 [==============================] - 0s 2ms/step - loss: 0.0014\n",
      "Epoch 3/5\n",
      "100/100 [==============================] - 0s 3ms/step - loss: 0.0013\n",
      "Epoch 4/5\n",
      "100/100 [==============================] - 0s 2ms/step - loss: 0.0012\n",
      "Epoch 5/5\n",
      "100/100 [==============================] - 0s 2ms/step - loss: 0.0011\n",
      "on i= 8\n",
      "200/200 [==============================] - 1s 7ms/step - loss: 0.6895\n",
      "100/100 [==============================] - 1s 8ms/step - loss: 0.0026\n",
      "Epoch 1/5\n",
      "100/100 [==============================] - 0s 2ms/step - loss: 0.0020\n",
      "Epoch 2/5\n",
      "100/100 [==============================] - 0s 2ms/step - loss: 0.0011\n",
      "Epoch 3/5\n",
      "100/100 [==============================] - 0s 2ms/step - loss: 0.0010\n",
      "Epoch 4/5\n",
      "100/100 [==============================] - 0s 2ms/step - loss: 9.4195e-04\n",
      "Epoch 5/5\n",
      "100/100 [==============================] - 0s 3ms/step - loss: 8.7172e-04\n",
      "on i= 9\n",
      "200/200 [==============================] - 1s 6ms/step - loss: 0.6904\n",
      "100/100 [==============================] - 1s 8ms/step - loss: 0.0021\n",
      "Epoch 1/5\n",
      "100/100 [==============================] - 0s 3ms/step - loss: 0.0017\n",
      "Epoch 2/5\n",
      "100/100 [==============================] - 0s 2ms/step - loss: 8.9280e-04\n",
      "Epoch 3/5\n",
      "100/100 [==============================] - 0s 2ms/step - loss: 7.9842e-04\n",
      "Epoch 4/5\n",
      "100/100 [==============================] - 0s 2ms/step - loss: 7.3723e-04\n",
      "Epoch 5/5\n",
      "100/100 [==============================] - 0s 2ms/step - loss: 6.8208e-04\n",
      "on i= 10\n",
      "200/200 [==============================] - 1s 7ms/step - loss: 0.6910\n",
      "100/100 [==============================] - 1s 8ms/step - loss: 0.0018\n",
      "Epoch 1/5\n",
      "100/100 [==============================] - 0s 2ms/step - loss: 0.0016\n",
      "Epoch 2/5\n",
      "100/100 [==============================] - 0s 2ms/step - loss: 7.2986e-04\n",
      "Epoch 3/5\n",
      "100/100 [==============================] - 0s 3ms/step - loss: 6.4524e-04\n",
      "Epoch 4/5\n",
      "100/100 [==============================] - 0s 2ms/step - loss: 5.9538e-04\n",
      "Epoch 5/5\n",
      "100/100 [==============================] - 0s 3ms/step - loss: 5.5175e-04\n",
      "on i= 11\n",
      "200/200 [==============================] - 2s 8ms/step - loss: 0.6915\n",
      "100/100 [==============================] - 1s 6ms/step - loss: 0.0015\n",
      "Epoch 1/5\n",
      "100/100 [==============================] - 0s 2ms/step - loss: 0.0017\n",
      "Epoch 2/5\n",
      "100/100 [==============================] - 0s 2ms/step - loss: 6.2809e-04\n",
      "Epoch 3/5\n",
      "100/100 [==============================] - 0s 2ms/step - loss: 5.3433e-04\n",
      "Epoch 4/5\n",
      "100/100 [==============================] - 0s 2ms/step - loss: 4.8879e-04\n",
      "Epoch 5/5\n",
      "100/100 [==============================] - 0s 2ms/step - loss: 4.5216e-04\n",
      "on i= 12\n",
      "200/200 [==============================] - 2s 8ms/step - loss: 0.6915\n",
      "100/100 [==============================] - 1s 9ms/step - loss: 0.0013\n",
      "Epoch 1/5\n",
      "100/100 [==============================] - 0s 2ms/step - loss: 0.0019\n",
      "Epoch 2/5\n",
      "100/100 [==============================] - 0s 2ms/step - loss: 5.6048e-04A: 0s - loss: 6.0547e\n",
      "Epoch 3/5\n",
      "100/100 [==============================] - 0s 3ms/step - loss: 4.5438e-04\n",
      "Epoch 4/5\n",
      "100/100 [==============================] - 0s 2ms/step - loss: 4.1433e-04\n",
      "Epoch 5/5\n",
      "100/100 [==============================] - 0s 2ms/step - loss: 3.8601e-04\n",
      "on i= 13\n",
      "200/200 [==============================] - 1s 7ms/step - loss: 0.6912\n",
      "100/100 [==============================] - 1s 9ms/step - loss: 0.0013\n",
      "Epoch 1/5\n",
      "100/100 [==============================] - 0s 2ms/step - loss: 0.0020\n",
      "Epoch 2/5\n",
      "100/100 [==============================] - 0s 2ms/step - loss: 5.0699e-04\n",
      "Epoch 3/5\n",
      "100/100 [==============================] - 0s 2ms/step - loss: 3.9940e-04\n",
      "Epoch 4/5\n",
      "100/100 [==============================] - 0s 2ms/step - loss: 3.6036e-04\n",
      "Epoch 5/5\n",
      "100/100 [==============================] - 0s 2ms/step - loss: 3.3427e-04\n",
      "on i= 14\n",
      "200/200 [==============================] - 2s 10ms/step - loss: 0.6907\n",
      "100/100 [==============================] - 1s 8ms/step - loss: 0.0013\n",
      "Epoch 1/5\n",
      "100/100 [==============================] - 0s 2ms/step - loss: 0.0021\n",
      "Epoch 2/5\n",
      "100/100 [==============================] - 0s 3ms/step - loss: 4.4722e-04\n",
      "Epoch 3/5\n",
      "100/100 [==============================] - 0s 2ms/step - loss: 3.4834e-04\n",
      "Epoch 4/5\n",
      "100/100 [==============================] - 0s 2ms/step - loss: 3.1431e-04\n",
      "Epoch 5/5\n",
      "100/100 [==============================] - 0s 2ms/step - loss: 2.9309e-04\n",
      "on i= 15\n",
      "200/200 [==============================] - 2s 8ms/step - loss: 0.6906\n",
      "100/100 [==============================] - 1s 9ms/step - loss: 0.0014\n",
      "Epoch 1/5\n",
      "100/100 [==============================] - 0s 3ms/step - loss: 0.0019\n",
      "Epoch 2/5\n",
      "100/100 [==============================] - 0s 2ms/step - loss: 3.5495e-04\n",
      "Epoch 3/5\n",
      "100/100 [==============================] - 0s 2ms/step - loss: 2.8748e-04\n",
      "Epoch 4/5\n",
      "100/100 [==============================] - 0s 2ms/step - loss: 2.6684e-04\n",
      "Epoch 5/5\n",
      "100/100 [==============================] - 0s 2ms/step - loss: 2.5120e-04\n",
      "on i= 16\n",
      "200/200 [==============================] - 2s 8ms/step - loss: 0.6909\n",
      "100/100 [==============================] - 1s 12ms/step - loss: 0.0011\n",
      "Epoch 1/5\n",
      "100/100 [==============================] - 0s 2ms/step - loss: 0.0021\n",
      "Epoch 2/5\n",
      "100/100 [==============================] - 0s 2ms/step - loss: 3.6871e-04\n",
      "Epoch 3/5\n",
      "100/100 [==============================] - 0s 2ms/step - loss: 2.7318e-04\n",
      "Epoch 4/5\n",
      "100/100 [==============================] - 0s 2ms/step - loss: 2.4465e-04\n",
      "Epoch 5/5\n",
      "100/100 [==============================] - 0s 2ms/step - loss: 2.2894e-04\n",
      "on i= 17\n",
      "200/200 [==============================] - 2s 9ms/step - loss: 0.6902\n",
      "100/100 [==============================] - 1s 10ms/step - loss: 0.0013\n",
      "Epoch 1/5\n",
      "100/100 [==============================] - 0s 2ms/step - loss: 0.0019\n",
      "Epoch 2/5\n",
      "100/100 [==============================] - 0s 2ms/step - loss: 2.7493e-04\n",
      "Epoch 3/5\n",
      "100/100 [==============================] - 0s 2ms/step - loss: 2.2536e-04\n",
      "Epoch 4/5\n",
      "100/100 [==============================] - 0s 2ms/step - loss: 2.1119e-04\n",
      "Epoch 5/5\n",
      "100/100 [==============================] - 0s 2ms/step - loss: 2.0007e-04\n",
      "on i= 18\n",
      "200/200 [==============================] - 1s 6ms/step - loss: 0.6904\n",
      "100/100 [==============================] - 1s 11ms/step - loss: 0.0011\n",
      "Epoch 1/5\n",
      "100/100 [==============================] - 0s 2ms/step - loss: 0.0021\n",
      "Epoch 2/5\n",
      "100/100 [==============================] - 0s 2ms/step - loss: 2.7934e-04\n",
      "Epoch 3/5\n",
      "100/100 [==============================] - 0s 2ms/step - loss: 2.1333e-04\n",
      "Epoch 4/5\n",
      "100/100 [==============================] - 0s 2ms/step - loss: 1.9432e-04\n",
      "Epoch 5/5\n",
      "100/100 [==============================] - 0s 2ms/step - loss: 1.8455e-04\n",
      "on i= 19\n",
      "200/200 [==============================] - 2s 8ms/step - loss: 0.6899\n",
      "100/100 [==============================] - 1s 10ms/step - loss: 0.0013\n",
      "Epoch 1/5\n",
      "100/100 [==============================] - 0s 2ms/step - loss: 0.0020\n",
      "Epoch 2/5\n",
      "100/100 [==============================] - 0s 2ms/step - loss: 2.3948e-04\n",
      "Epoch 3/5\n",
      "100/100 [==============================] - 0s 2ms/step - loss: 1.9200e-04\n",
      "Epoch 4/5\n",
      "100/100 [==============================] - 0s 2ms/step - loss: 1.7781e-04\n",
      "Epoch 5/5\n",
      "100/100 [==============================] - 0s 2ms/step - loss: 1.6957e-04\n"
     ]
    }
   ],
   "source": [
    "#setup the model\n",
    "\n",
    "myinput_2d = Input(shape=(2,))\n",
    "encoded_2d = Dense(5, activation='elu')(myinput_2d)\n",
    "encoded_2d = Dense(5, activation='elu')(encoded_2d)\n",
    "encoded_2d = Dense(2, activation='linear')(encoded_2d)\n",
    "\n",
    "encoder_2d = Model(myinput_2d, encoded_2d)\n",
    "encoder2_2d = encoder_2d(encoder_2d(myinput_2d))\n",
    "autoencoder_2d = Model(myinput_2d, encoder2_2d)\n",
    "\n",
    "combinedModel_2d = Model(myinput_2d,Concatenate(axis=-1)([encoded_2d, encoder2_2d]))\n",
    "\n",
    "myinput_classify_2d = Input(shape=(2,))\n",
    "myclassifier_2d = Dense(128, activation='elu')(myinput_classify_2d)\n",
    "myclassifier_2d = Dense(64, activation='elu')(myclassifier_2d)\n",
    "myclassifier_2d = Dense(1, activation='sigmoid')(myclassifier_2d)\n",
    "myclassifier_model_2d = Model(myinput_classify_2d, myclassifier_2d)\n",
    "myclassifier_input_2d = myclassifier_model_2d(myinput_2d)\n",
    "myclassifier_encoded_2d = myclassifier_model_2d(encoded_2d)\n",
    "\n",
    "combinedModel_classifier_2d = Model(myinput_2d,Concatenate(axis=-1)([encoded_2d, encoder2_2d, myclassifier_input_2d, myclassifier_encoded_2d]))\n",
    "\n",
    "preds = []\n",
    "preds += [encoder_2d.predict(X)]\n",
    "\n",
    "num_iters = 20\n",
    "\n",
    "for i in range(num_iters):\n",
    "    print(\"on i=\",i)\n",
    "    #Now, train the classifier\n",
    "    encoded_x_2d = encoder_2d.predict(X)\n",
    "    myclassifier_model_2d.compile(optimizer='adam', loss='binary_crossentropy')\n",
    "    myclassifier_model_2d.fit(np.concatenate([X,encoded_x_2d]),np.concatenate([np.ones(len(X)),np.zeros(len(X))]), epochs=1, batch_size=int(0.01*len(X)))\n",
    "        \n",
    "    #Now, update the autoencoder\n",
    "    for layer in myclassifier_model_2d.layers[:]:\n",
    "        layer.trainable = False\n",
    "\n",
    "    combinedModel_classifier_2d.compile(optimizer='adam', loss=lambda y_true, y_pred: myloss2d(y_true, y_pred))\n",
    "    combinedModel_classifier_2d.fit(X,X, epochs=1, batch_size=int(0.01*len(X)))\n",
    "    \n",
    "    autoencoder_2d.compile(optimizer='adam', loss='mse')\n",
    "    autoencoder_2d.fit(X,X, epochs=5, batch_size=int(0.01*len(x)))\n",
    "    \n",
    "    preds += [encoder_2d.predict(X)]\n",
    "    \n",
    "    for layer in myclassifier_model_2d.layers[:]:\n",
    "        layer.trainable = True"
   ]
  },
  {
   "cell_type": "code",
   "execution_count": 14,
   "metadata": {},
   "outputs": [
    {
     "data": {
      "text/plain": [
       "<matplotlib.legend.Legend at 0x2aab15c53b90>"
      ]
     },
     "execution_count": 14,
     "metadata": {},
     "output_type": "execute_result"
    },
    {
     "data": {
      "image/png": "[encoded data removed]",
      "text/plain": [
       "<Figure size 612x612 with 1 Axes>"
      ]
     },
     "metadata": {
      "needs_background": "light"
     },
     "output_type": "display_data"
    }
   ],
   "source": [
    "f = plt.figure(figsize=(8.5, 8.5))\n",
    "plt.scatter(X[:,0],preds[-1][:,0],label=\"$x_0$\")\n",
    "plt.scatter(X[:,1],preds[-1][:,1],label=\"$x_1$\")\n",
    "plt.plot(np.linspace(-4,4,10),np.linspace(-4,4,10),ls=':',color=\"gray\")\n",
    "plt.plot(np.linspace(-4,4,10),-np.linspace(-4,4,10),ls=':',color=\"gray\")\n",
    "plt.xlabel(\"x\")\n",
    "plt.ylabel(\"Encoder(x)\")\n",
    "plt.legend(frameon=False)"
   ]
  },
  {
   "cell_type": "code",
   "execution_count": 15,
   "metadata": {},
   "outputs": [],
   "source": [
    "mypreds = combinedModel_classifier_2d.predict(X)"
   ]
  },
  {
   "cell_type": "code",
   "execution_count": 16,
   "metadata": {},
   "outputs": [
    {
     "data": {
      "text/plain": [
       "<matplotlib.legend.Legend at 0x2aaf78592d50>"
      ]
     },
     "execution_count": 16,
     "metadata": {},
     "output_type": "execute_result"
    },
    {
     "data": {
      "image/png": "[encoded data removed]",
      "text/plain": [
       "<Figure size 612x612 with 1 Axes>"
      ]
     },
     "metadata": {
      "needs_background": "light"
     },
     "output_type": "display_data"
    }
   ],
   "source": [
    "f = plt.figure(figsize=(8.5, 8.5))\n",
    "plt.scatter(X[:,0],mypreds[:,2],label=\"$x_0$\")\n",
    "plt.scatter(X[:,1],mypreds[:,3],label=\"$x_1$\")\n",
    "plt.plot(np.linspace(-4,4,10),np.linspace(-4,4,10),ls=':',color=\"gray\")\n",
    "plt.xlabel(\"x\")\n",
    "plt.ylabel(\"Autoencoder(x) = Encoder$^2$(x)\")\n",
    "plt.legend(frameon=False)"
   ]
  },
  {
   "cell_type": "code",
   "execution_count": 17,
   "metadata": {},
   "outputs": [
    {
     "data": {
      "text/plain": [
       "'for k in range(num_iters):\\n    \\n    print(\"on k=\",k)\\n\\n    K.clear_session()\\n\\n    #setup the model\\n\\n    myinput_2d = Input(shape=(2,))\\n    encoded_2d = Dense(5, activation=\\'elu\\')(myinput_2d)\\n    encoded_2d = Dense(5, activation=\\'elu\\')(encoded_2d)\\n    encoded_2d = Dense(2, activation=\\'linear\\')(encoded_2d)\\n\\n    encoder_2d = Model(myinput_2d, encoded_2d)\\n    encoder2_2d = encoder_2d(encoder_2d(myinput_2d))\\n    autoencoder_2d = Model(myinput_2d, encoder2_2d)\\n\\n    combinedModel_2d = Model(myinput_2d,Concatenate(axis=-1)([encoded_2d, encoder2_2d]))\\n\\n    myinput_classify_2d = Input(shape=(2,))\\n    myclassifier_2d = Dense(128, activation=\\'elu\\')(myinput_classify_2d)\\n    myclassifier_2d = Dense(64, activation=\\'elu\\')(myclassifier_2d)\\n    myclassifier_2d = Dense(1, activation=\\'sigmoid\\')(myclassifier_2d)\\n    myclassifier_model_2d = Model(myinput_classify_2d, myclassifier_2d)\\n    myclassifier_input_2d = myclassifier_model_2d(myinput_2d)\\n    myclassifier_encoded_2d = myclassifier_model_2d(encoded_2d)\\n\\n    combinedModel_classifier_2d = Model(myinput_2d,Concatenate(axis=-1)([encoded_2d, encoder2_2d, myclassifier_input_2d, myclassifier_encoded_2d]))\\n\\n    preds = []\\n    preds += [encoder_2d.predict(X)]\\n\\n    for i in range(num_iters):\\n        print(\"on i=\",i)\\n        #Now, train the classifier\\n        encoded_x_2d = encoder_2d.predict(X)\\n        myclassifier_model_2d.compile(optimizer=\\'adam\\', loss=\\'binary_crossentropy\\')\\n        myclassifier_model_2d.fit(np.concatenate([X,encoded_x_2d]),np.concatenate([np.ones(len(X)),np.zeros(len(X))]), epochs=1, batch_size=int(0.01*len(X)))\\n\\n        #Now, update the autoencoder\\n        for layer in myclassifier_model_2d.layers[:]:\\n            layer.trainable = False\\n\\n        combinedModel_classifier_2d.compile(optimizer=\\'adam\\', loss=lambda y_true, y_pred: myloss2d(y_true, y_pred))\\n        combinedModel_classifier_2d.fit(X,X, epochs=1, batch_size=int(0.01*len(X)))\\n\\n        autoencoder_2d.compile(optimizer=\\'adam\\', loss=\\'mse\\')\\n        autoencoder_2d.fit(X,X, epochs=5, batch_size=int(0.01*len(x)))\\n\\n        preds += [encoder_2d.predict(X)]\\n\\n        for layer in myclassifier_model_2d.layers[:]:\\n            layer.trainable = True\\n\\n    f = plt.figure(figsize=(8.5, 8.5))\\n    plt.scatter(X[:,0][0:1000],preds[-1][:,0][0:1000],label=\"$x_0$\")\\n    plt.scatter(X[:,1][0:1000],preds[-1][:,1][0:1000],label=\"$x_1$\")\\n    plt.plot(np.linspace(-4,4,10),np.linspace(-4,4,10),ls=\\':\\',color=\"gray\")\\n    plt.plot(np.linspace(-4,4,10),-np.linspace(-4,4,10),ls=\\':\\',color=\"gray\")\\n    plt.xlabel(\"x\")\\n    plt.ylabel(\"Encoder(x)\")\\n    plt.legend(frameon=False)\\n    plt.savefig(\"symdata/encoder_\"+str(k)+\".pdf\",bbox_inches=\\'tight\\')\\n\\n    mypreds = combinedModel_classifier_2d.predict(X)\\n    \\n    print(\"why is this growing?\",len(X),len(mypreds))\\n\\n    f = plt.figure(figsize=(8.5, 8.5))\\n    plt.scatter(X[:,0][0:1000],mypreds[:,2][0:1000],label=\"$x_0$\")\\n    plt.scatter(X[:,1][0:1000],mypreds[:,3][0:1000],label=\"$x_1$\")\\n    plt.plot(np.linspace(-4,4,10),np.linspace(-4,4,10),ls=\\':\\',color=\"gray\")\\n    plt.xlabel(\"x\")\\n    plt.ylabel(\"Autoencoder(x) = Encoder$^2$(x)\")\\n    plt.legend(frameon=False)\\n    plt.savefig(\"symdata/autoencoder_\"+str(k)+\".pdf\",bbox_inches=\\'tight\\')'"
      ]
     },
     "execution_count": 17,
     "metadata": {},
     "output_type": "execute_result"
    }
   ],
   "source": [
    "'''for k in range(num_iters):\n",
    "    \n",
    "    print(\"on k=\",k)\n",
    "\n",
    "    K.clear_session()\n",
    "\n",
    "    #setup the model\n",
    "\n",
    "    myinput_2d = Input(shape=(2,))\n",
    "    encoded_2d = Dense(5, activation='elu')(myinput_2d)\n",
    "    encoded_2d = Dense(5, activation='elu')(encoded_2d)\n",
    "    encoded_2d = Dense(2, activation='linear')(encoded_2d)\n",
    "\n",
    "    encoder_2d = Model(myinput_2d, encoded_2d)\n",
    "    encoder2_2d = encoder_2d(encoder_2d(myinput_2d))\n",
    "    autoencoder_2d = Model(myinput_2d, encoder2_2d)\n",
    "\n",
    "    combinedModel_2d = Model(myinput_2d,Concatenate(axis=-1)([encoded_2d, encoder2_2d]))\n",
    "\n",
    "    myinput_classify_2d = Input(shape=(2,))\n",
    "    myclassifier_2d = Dense(128, activation='elu')(myinput_classify_2d)\n",
    "    myclassifier_2d = Dense(64, activation='elu')(myclassifier_2d)\n",
    "    myclassifier_2d = Dense(1, activation='sigmoid')(myclassifier_2d)\n",
    "    myclassifier_model_2d = Model(myinput_classify_2d, myclassifier_2d)\n",
    "    myclassifier_input_2d = myclassifier_model_2d(myinput_2d)\n",
    "    myclassifier_encoded_2d = myclassifier_model_2d(encoded_2d)\n",
    "\n",
    "    combinedModel_classifier_2d = Model(myinput_2d,Concatenate(axis=-1)([encoded_2d, encoder2_2d, myclassifier_input_2d, myclassifier_encoded_2d]))\n",
    "\n",
    "    preds = []\n",
    "    preds += [encoder_2d.predict(X)]\n",
    "\n",
    "    for i in range(num_iters):\n",
    "        print(\"on i=\",i)\n",
    "        #Now, train the classifier\n",
    "        encoded_x_2d = encoder_2d.predict(X)\n",
    "        myclassifier_model_2d.compile(optimizer='adam', loss='binary_crossentropy')\n",
    "        myclassifier_model_2d.fit(np.concatenate([X,encoded_x_2d]),np.concatenate([np.ones(len(X)),np.zeros(len(X))]), epochs=1, batch_size=int(0.01*len(X)))\n",
    "\n",
    "        #Now, update the autoencoder\n",
    "        for layer in myclassifier_model_2d.layers[:]:\n",
    "            layer.trainable = False\n",
    "\n",
    "        combinedModel_classifier_2d.compile(optimizer='adam', loss=lambda y_true, y_pred: myloss2d(y_true, y_pred))\n",
    "        combinedModel_classifier_2d.fit(X,X, epochs=1, batch_size=int(0.01*len(X)))\n",
    "\n",
    "        autoencoder_2d.compile(optimizer='adam', loss='mse')\n",
    "        autoencoder_2d.fit(X,X, epochs=5, batch_size=int(0.01*len(x)))\n",
    "\n",
    "        preds += [encoder_2d.predict(X)]\n",
    "\n",
    "        for layer in myclassifier_model_2d.layers[:]:\n",
    "            layer.trainable = True\n",
    "\n",
    "    f = plt.figure(figsize=(8.5, 8.5))\n",
    "    plt.scatter(X[:,0][0:1000],preds[-1][:,0][0:1000],label=\"$x_0$\")\n",
    "    plt.scatter(X[:,1][0:1000],preds[-1][:,1][0:1000],label=\"$x_1$\")\n",
    "    plt.plot(np.linspace(-4,4,10),np.linspace(-4,4,10),ls=':',color=\"gray\")\n",
    "    plt.plot(np.linspace(-4,4,10),-np.linspace(-4,4,10),ls=':',color=\"gray\")\n",
    "    plt.xlabel(\"x\")\n",
    "    plt.ylabel(\"Encoder(x)\")\n",
    "    plt.legend(frameon=False)\n",
    "    plt.savefig(\"symdata/encoder_\"+str(k)+\".pdf\",bbox_inches='tight')\n",
    "\n",
    "    mypreds = combinedModel_classifier_2d.predict(X)\n",
    "    \n",
    "    print(\"why is this growing?\",len(X),len(mypreds))\n",
    "\n",
    "    f = plt.figure(figsize=(8.5, 8.5))\n",
    "    plt.scatter(X[:,0][0:1000],mypreds[:,2][0:1000],label=\"$x_0$\")\n",
    "    plt.scatter(X[:,1][0:1000],mypreds[:,3][0:1000],label=\"$x_1$\")\n",
    "    plt.plot(np.linspace(-4,4,10),np.linspace(-4,4,10),ls=':',color=\"gray\")\n",
    "    plt.xlabel(\"x\")\n",
    "    plt.ylabel(\"Autoencoder(x) = Encoder$^2$(x)\")\n",
    "    plt.legend(frameon=False)\n",
    "    plt.savefig(\"symdata/autoencoder_\"+str(k)+\".pdf\",bbox_inches='tight')'''"
   ]
  },
  {
   "cell_type": "code",
   "execution_count": 18,
   "metadata": {},
   "outputs": [
    {
     "data": {
      "image/png": "[encoded data removed]",
      "text/plain": [
       "<Figure size 432x288 with 1 Axes>"
      ]
     },
     "metadata": {
      "needs_background": "light"
     },
     "output_type": "display_data"
    }
   ],
   "source": [
    "plt.hist(x);\n",
    "plt.xlabel(\"x_0\");"
   ]
  },
  {
   "cell_type": "code",
   "execution_count": 19,
   "metadata": {},
   "outputs": [
    {
     "data": {
      "image/png": "[encoded data removed]",
      "text/plain": [
       "<Figure size 432x288 with 1 Axes>"
      ]
     },
     "metadata": {
      "needs_background": "light"
     },
     "output_type": "display_data"
    }
   ],
   "source": [
    "plt.hist(x2);\n",
    "plt.xlabel(\"x_1\");"
   ]
  },
  {
   "cell_type": "code",
   "execution_count": 20,
   "metadata": {},
   "outputs": [
    {
     "data": {
      "image/png": "[encoded data removed]",
      "text/plain": [
       "<Figure size 432x288 with 1 Axes>"
      ]
     },
     "metadata": {
      "needs_background": "light"
     },
     "output_type": "display_data"
    }
   ],
   "source": [
    "plt.hist2d(x, x2);\n",
    "plt.xlabel(\"X\");"
   ]
  },
  {
   "cell_type": "code",
   "execution_count": 21,
   "metadata": {},
   "outputs": [],
   "source": [
    "Y = encoder_2d.predict(X)"
   ]
  },
  {
   "cell_type": "code",
   "execution_count": 22,
   "metadata": {},
   "outputs": [
    {
     "data": {
      "image/png": "[encoded data removed]",
      "text/plain": [
       "<Figure size 432x288 with 1 Axes>"
      ]
     },
     "metadata": {
      "needs_background": "light"
     },
     "output_type": "display_data"
    }
   ],
   "source": [
    "plt.hist2d(Y[:,0], Y[:,1]);\n",
    "plt.xlabel(\"Encoder(X)\");"
   ]
  },
  {
   "cell_type": "code",
   "execution_count": 23,
   "metadata": {},
   "outputs": [
    {
     "data": {
      "image/png": "[encoded data removed]",
      "text/plain": [
       "<Figure size 432x288 with 1 Axes>"
      ]
     },
     "metadata": {
      "needs_background": "light"
     },
     "output_type": "display_data"
    }
   ],
   "source": [
    "plt.hist(Y[:,0]);\n",
    "plt.xlabel(\"Encoder(x)_0\");"
   ]
  },
  {
   "cell_type": "code",
   "execution_count": 24,
   "metadata": {},
   "outputs": [
    {
     "data": {
      "image/png": "[encoded data removed]",
      "text/plain": [
       "<Figure size 432x288 with 1 Axes>"
      ]
     },
     "metadata": {
      "needs_background": "light"
     },
     "output_type": "display_data"
    }
   ],
   "source": [
    "plt.hist(Y[:,1]);\n",
    "plt.xlabel(\"Encoder(x)_1\");"
   ]
  },
  {
   "cell_type": "code",
   "execution_count": 25,
   "metadata": {},
   "outputs": [
    {
     "name": "stdout",
     "output_type": "stream",
     "text": [
      "Model: \"model\"\n",
      "_________________________________________________________________\n",
      "Layer (type)                 Output Shape              Param #   \n",
      "=================================================================\n",
      "input_1 (InputLayer)         [(None, 2)]               0         \n",
      "_________________________________________________________________\n",
      "dense (Dense)                (None, 5)                 15        \n",
      "_________________________________________________________________\n",
      "dense_1 (Dense)              (None, 5)                 30        \n",
      "_________________________________________________________________\n",
      "dense_2 (Dense)              (None, 2)                 12        \n",
      "=================================================================\n",
      "Total params: 57\n",
      "Trainable params: 57\n",
      "Non-trainable params: 0\n",
      "_________________________________________________________________\n"
     ]
    }
   ],
   "source": [
    "encoder_2d.summary()"
   ]
  },
  {
   "cell_type": "code",
   "execution_count": 32,
   "metadata": {},
   "outputs": [
    {
     "name": "stdout",
     "output_type": "stream",
     "text": [
      "(100000, 2)\n",
      "(1, 100000, 2)\n"
     ]
    },
    {
     "ename": "ValueError",
     "evalue": "Found array with dim 3. Estimator expected <= 2.",
     "output_type": "error",
     "traceback": [
      "\u001b[0;31m---------------------------------------------------------------------------\u001b[0m",
      "\u001b[0;31mValueError\u001b[0m                                Traceback (most recent call last)",
      "\u001b[0;32m<ipython-input-32-b59be0d0e5d1>\u001b[0m in \u001b[0;36m<module>\u001b[0;34m\u001b[0m\n\u001b[1;32m      1\u001b[0m \u001b[0mprint\u001b[0m\u001b[0;34m(\u001b[0m\u001b[0mnp\u001b[0m\u001b[0;34m.\u001b[0m\u001b[0mshape\u001b[0m\u001b[0;34m(\u001b[0m\u001b[0mX\u001b[0m\u001b[0;34m)\u001b[0m\u001b[0;34m)\u001b[0m\u001b[0;34m\u001b[0m\u001b[0;34m\u001b[0m\u001b[0m\n\u001b[1;32m      2\u001b[0m \u001b[0mprint\u001b[0m\u001b[0;34m(\u001b[0m\u001b[0mnp\u001b[0m\u001b[0;34m.\u001b[0m\u001b[0mshape\u001b[0m\u001b[0;34m(\u001b[0m\u001b[0mpreds\u001b[0m\u001b[0;34m[\u001b[0m\u001b[0;34m:\u001b[0m\u001b[0;36m1\u001b[0m\u001b[0;34m]\u001b[0m\u001b[0;34m)\u001b[0m\u001b[0;34m)\u001b[0m\u001b[0;34m\u001b[0m\u001b[0;34m\u001b[0m\u001b[0m\n\u001b[0;32m----> 3\u001b[0;31m \u001b[0mmodel\u001b[0m \u001b[0;34m=\u001b[0m \u001b[0mLinearRegression\u001b[0m\u001b[0;34m(\u001b[0m\u001b[0;34m)\u001b[0m\u001b[0;34m.\u001b[0m\u001b[0mfit\u001b[0m\u001b[0;34m(\u001b[0m\u001b[0mX\u001b[0m\u001b[0;34m.\u001b[0m\u001b[0mreshape\u001b[0m\u001b[0;34m(\u001b[0m\u001b[0;34m(\u001b[0m\u001b[0;34m-\u001b[0m\u001b[0;36m1\u001b[0m\u001b[0;34m,\u001b[0m \u001b[0;36m2\u001b[0m\u001b[0;34m)\u001b[0m\u001b[0;34m)\u001b[0m\u001b[0;34m,\u001b[0m \u001b[0mpreds\u001b[0m\u001b[0;34m[\u001b[0m\u001b[0;34m:\u001b[0m\u001b[0;36m1\u001b[0m\u001b[0;34m]\u001b[0m\u001b[0;34m)\u001b[0m\u001b[0;34m;\u001b[0m\u001b[0;34m\u001b[0m\u001b[0;34m\u001b[0m\u001b[0m\n\u001b[0m",
      "\u001b[0;32m/usr/common/software/tensorflow/intel-tensorflow/2.2.0-py37/lib/python3.7/site-packages/sklearn/linear_model/_base.py\u001b[0m in \u001b[0;36mfit\u001b[0;34m(self, X, y, sample_weight)\u001b[0m\n\u001b[1;32m    504\u001b[0m         \u001b[0mn_jobs_\u001b[0m \u001b[0;34m=\u001b[0m \u001b[0mself\u001b[0m\u001b[0;34m.\u001b[0m\u001b[0mn_jobs\u001b[0m\u001b[0;34m\u001b[0m\u001b[0;34m\u001b[0m\u001b[0m\n\u001b[1;32m    505\u001b[0m         X, y = self._validate_data(X, y, accept_sparse=['csr', 'csc', 'coo'],\n\u001b[0;32m--> 506\u001b[0;31m                                    y_numeric=True, multi_output=True)\n\u001b[0m\u001b[1;32m    507\u001b[0m \u001b[0;34m\u001b[0m\u001b[0m\n\u001b[1;32m    508\u001b[0m         \u001b[0;32mif\u001b[0m \u001b[0msample_weight\u001b[0m \u001b[0;32mis\u001b[0m \u001b[0;32mnot\u001b[0m \u001b[0;32mNone\u001b[0m\u001b[0;34m:\u001b[0m\u001b[0;34m\u001b[0m\u001b[0;34m\u001b[0m\u001b[0m\n",
      "\u001b[0;32m/usr/common/software/tensorflow/intel-tensorflow/2.2.0-py37/lib/python3.7/site-packages/sklearn/base.py\u001b[0m in \u001b[0;36m_validate_data\u001b[0;34m(self, X, y, reset, validate_separately, **check_params)\u001b[0m\n\u001b[1;32m    430\u001b[0m                 \u001b[0my\u001b[0m \u001b[0;34m=\u001b[0m \u001b[0mcheck_array\u001b[0m\u001b[0;34m(\u001b[0m\u001b[0my\u001b[0m\u001b[0;34m,\u001b[0m \u001b[0;34m**\u001b[0m\u001b[0mcheck_y_params\u001b[0m\u001b[0;34m)\u001b[0m\u001b[0;34m\u001b[0m\u001b[0;34m\u001b[0m\u001b[0m\n\u001b[1;32m    431\u001b[0m             \u001b[0;32melse\u001b[0m\u001b[0;34m:\u001b[0m\u001b[0;34m\u001b[0m\u001b[0;34m\u001b[0m\u001b[0m\n\u001b[0;32m--> 432\u001b[0;31m                 \u001b[0mX\u001b[0m\u001b[0;34m,\u001b[0m \u001b[0my\u001b[0m \u001b[0;34m=\u001b[0m \u001b[0mcheck_X_y\u001b[0m\u001b[0;34m(\u001b[0m\u001b[0mX\u001b[0m\u001b[0;34m,\u001b[0m \u001b[0my\u001b[0m\u001b[0;34m,\u001b[0m \u001b[0;34m**\u001b[0m\u001b[0mcheck_params\u001b[0m\u001b[0;34m)\u001b[0m\u001b[0;34m\u001b[0m\u001b[0;34m\u001b[0m\u001b[0m\n\u001b[0m\u001b[1;32m    433\u001b[0m             \u001b[0mout\u001b[0m \u001b[0;34m=\u001b[0m \u001b[0mX\u001b[0m\u001b[0;34m,\u001b[0m \u001b[0my\u001b[0m\u001b[0;34m\u001b[0m\u001b[0;34m\u001b[0m\u001b[0m\n\u001b[1;32m    434\u001b[0m \u001b[0;34m\u001b[0m\u001b[0m\n",
      "\u001b[0;32m/usr/common/software/tensorflow/intel-tensorflow/2.2.0-py37/lib/python3.7/site-packages/sklearn/utils/validation.py\u001b[0m in \u001b[0;36minner_f\u001b[0;34m(*args, **kwargs)\u001b[0m\n\u001b[1;32m     71\u001b[0m                           FutureWarning)\n\u001b[1;32m     72\u001b[0m         \u001b[0mkwargs\u001b[0m\u001b[0;34m.\u001b[0m\u001b[0mupdate\u001b[0m\u001b[0;34m(\u001b[0m\u001b[0;34m{\u001b[0m\u001b[0mk\u001b[0m\u001b[0;34m:\u001b[0m \u001b[0marg\u001b[0m \u001b[0;32mfor\u001b[0m \u001b[0mk\u001b[0m\u001b[0;34m,\u001b[0m \u001b[0marg\u001b[0m \u001b[0;32min\u001b[0m \u001b[0mzip\u001b[0m\u001b[0;34m(\u001b[0m\u001b[0msig\u001b[0m\u001b[0;34m.\u001b[0m\u001b[0mparameters\u001b[0m\u001b[0;34m,\u001b[0m \u001b[0margs\u001b[0m\u001b[0;34m)\u001b[0m\u001b[0;34m}\u001b[0m\u001b[0;34m)\u001b[0m\u001b[0;34m\u001b[0m\u001b[0;34m\u001b[0m\u001b[0m\n\u001b[0;32m---> 73\u001b[0;31m         \u001b[0;32mreturn\u001b[0m \u001b[0mf\u001b[0m\u001b[0;34m(\u001b[0m\u001b[0;34m**\u001b[0m\u001b[0mkwargs\u001b[0m\u001b[0;34m)\u001b[0m\u001b[0;34m\u001b[0m\u001b[0;34m\u001b[0m\u001b[0m\n\u001b[0m\u001b[1;32m     74\u001b[0m     \u001b[0;32mreturn\u001b[0m \u001b[0minner_f\u001b[0m\u001b[0;34m\u001b[0m\u001b[0;34m\u001b[0m\u001b[0m\n\u001b[1;32m     75\u001b[0m \u001b[0;34m\u001b[0m\u001b[0m\n",
      "\u001b[0;32m/usr/common/software/tensorflow/intel-tensorflow/2.2.0-py37/lib/python3.7/site-packages/sklearn/utils/validation.py\u001b[0m in \u001b[0;36mcheck_X_y\u001b[0;34m(X, y, accept_sparse, accept_large_sparse, dtype, order, copy, force_all_finite, ensure_2d, allow_nd, multi_output, ensure_min_samples, ensure_min_features, y_numeric, estimator)\u001b[0m\n\u001b[1;32m    804\u001b[0m     \u001b[0;32mif\u001b[0m \u001b[0mmulti_output\u001b[0m\u001b[0;34m:\u001b[0m\u001b[0;34m\u001b[0m\u001b[0;34m\u001b[0m\u001b[0m\n\u001b[1;32m    805\u001b[0m         y = check_array(y, accept_sparse='csr', force_all_finite=True,\n\u001b[0;32m--> 806\u001b[0;31m                         ensure_2d=False, dtype=None)\n\u001b[0m\u001b[1;32m    807\u001b[0m     \u001b[0;32melse\u001b[0m\u001b[0;34m:\u001b[0m\u001b[0;34m\u001b[0m\u001b[0;34m\u001b[0m\u001b[0m\n\u001b[1;32m    808\u001b[0m         \u001b[0my\u001b[0m \u001b[0;34m=\u001b[0m \u001b[0mcolumn_or_1d\u001b[0m\u001b[0;34m(\u001b[0m\u001b[0my\u001b[0m\u001b[0;34m,\u001b[0m \u001b[0mwarn\u001b[0m\u001b[0;34m=\u001b[0m\u001b[0;32mTrue\u001b[0m\u001b[0;34m)\u001b[0m\u001b[0;34m\u001b[0m\u001b[0;34m\u001b[0m\u001b[0m\n",
      "\u001b[0;32m/usr/common/software/tensorflow/intel-tensorflow/2.2.0-py37/lib/python3.7/site-packages/sklearn/utils/validation.py\u001b[0m in \u001b[0;36minner_f\u001b[0;34m(*args, **kwargs)\u001b[0m\n\u001b[1;32m     71\u001b[0m                           FutureWarning)\n\u001b[1;32m     72\u001b[0m         \u001b[0mkwargs\u001b[0m\u001b[0;34m.\u001b[0m\u001b[0mupdate\u001b[0m\u001b[0;34m(\u001b[0m\u001b[0;34m{\u001b[0m\u001b[0mk\u001b[0m\u001b[0;34m:\u001b[0m \u001b[0marg\u001b[0m \u001b[0;32mfor\u001b[0m \u001b[0mk\u001b[0m\u001b[0;34m,\u001b[0m \u001b[0marg\u001b[0m \u001b[0;32min\u001b[0m \u001b[0mzip\u001b[0m\u001b[0;34m(\u001b[0m\u001b[0msig\u001b[0m\u001b[0;34m.\u001b[0m\u001b[0mparameters\u001b[0m\u001b[0;34m,\u001b[0m \u001b[0margs\u001b[0m\u001b[0;34m)\u001b[0m\u001b[0;34m}\u001b[0m\u001b[0;34m)\u001b[0m\u001b[0;34m\u001b[0m\u001b[0;34m\u001b[0m\u001b[0m\n\u001b[0;32m---> 73\u001b[0;31m         \u001b[0;32mreturn\u001b[0m \u001b[0mf\u001b[0m\u001b[0;34m(\u001b[0m\u001b[0;34m**\u001b[0m\u001b[0mkwargs\u001b[0m\u001b[0;34m)\u001b[0m\u001b[0;34m\u001b[0m\u001b[0;34m\u001b[0m\u001b[0m\n\u001b[0m\u001b[1;32m     74\u001b[0m     \u001b[0;32mreturn\u001b[0m \u001b[0minner_f\u001b[0m\u001b[0;34m\u001b[0m\u001b[0;34m\u001b[0m\u001b[0m\n\u001b[1;32m     75\u001b[0m \u001b[0;34m\u001b[0m\u001b[0m\n",
      "\u001b[0;32m/usr/common/software/tensorflow/intel-tensorflow/2.2.0-py37/lib/python3.7/site-packages/sklearn/utils/validation.py\u001b[0m in \u001b[0;36mcheck_array\u001b[0;34m(array, accept_sparse, accept_large_sparse, dtype, order, copy, force_all_finite, ensure_2d, allow_nd, ensure_min_samples, ensure_min_features, estimator)\u001b[0m\n\u001b[1;32m    640\u001b[0m         \u001b[0;32mif\u001b[0m \u001b[0;32mnot\u001b[0m \u001b[0mallow_nd\u001b[0m \u001b[0;32mand\u001b[0m \u001b[0marray\u001b[0m\u001b[0;34m.\u001b[0m\u001b[0mndim\u001b[0m \u001b[0;34m>=\u001b[0m \u001b[0;36m3\u001b[0m\u001b[0;34m:\u001b[0m\u001b[0;34m\u001b[0m\u001b[0;34m\u001b[0m\u001b[0m\n\u001b[1;32m    641\u001b[0m             raise ValueError(\"Found array with dim %d. %s expected <= 2.\"\n\u001b[0;32m--> 642\u001b[0;31m                              % (array.ndim, estimator_name))\n\u001b[0m\u001b[1;32m    643\u001b[0m \u001b[0;34m\u001b[0m\u001b[0m\n\u001b[1;32m    644\u001b[0m         \u001b[0;32mif\u001b[0m \u001b[0mforce_all_finite\u001b[0m\u001b[0;34m:\u001b[0m\u001b[0;34m\u001b[0m\u001b[0;34m\u001b[0m\u001b[0m\n",
      "\u001b[0;31mValueError\u001b[0m: Found array with dim 3. Estimator expected <= 2."
     ]
    }
   ],
   "source": [
    "print(np.shape(X))\n",
    "print(np.shape(preds[:1]))\n",
    "model = LinearRegression().fit(X.reshape((-1, 2)), preds[:1]);"
   ]
  },
  {
   "cell_type": "code",
   "execution_count": 27,
   "metadata": {},
   "outputs": [
    {
     "ename": "NameError",
     "evalue": "name 'model' is not defined",
     "output_type": "error",
     "traceback": [
      "\u001b[0;31m---------------------------------------------------------------------------\u001b[0m",
      "\u001b[0;31mNameError\u001b[0m                                 Traceback (most recent call last)",
      "\u001b[0;32m<ipython-input-27-498e91a005a3>\u001b[0m in \u001b[0;36m<module>\u001b[0;34m\u001b[0m\n\u001b[0;32m----> 1\u001b[0;31m \u001b[0mprint\u001b[0m\u001b[0;34m(\u001b[0m\u001b[0;34m'slope:'\u001b[0m\u001b[0;34m,\u001b[0m \u001b[0mmodel\u001b[0m\u001b[0;34m.\u001b[0m\u001b[0mcoef_\u001b[0m\u001b[0;34m)\u001b[0m\u001b[0;34m\u001b[0m\u001b[0;34m\u001b[0m\u001b[0m\n\u001b[0m\u001b[1;32m      2\u001b[0m \u001b[0mprint\u001b[0m\u001b[0;34m(\u001b[0m\u001b[0;34m'intercept:'\u001b[0m\u001b[0;34m,\u001b[0m \u001b[0mmodel\u001b[0m\u001b[0;34m.\u001b[0m\u001b[0mintercept_\u001b[0m\u001b[0;34m)\u001b[0m\u001b[0;34m\u001b[0m\u001b[0;34m\u001b[0m\u001b[0m\n",
      "\u001b[0;31mNameError\u001b[0m: name 'model' is not defined"
     ]
    }
   ],
   "source": [
    "print('slope:', model.coef_)\n",
    "print('intercept:', model.intercept_)"
   ]
  },
  {
   "cell_type": "code",
   "execution_count": null,
   "metadata": {},
   "outputs": [],
   "source": []
  },
  {
   "cell_type": "code",
   "execution_count": null,
   "metadata": {},
   "outputs": [],
   "source": []
  }
 ],
 "metadata": {
  "kernelspec": {
   "display_name": "tensorflow-v2.2.0-cpu",
   "language": "python",
   "name": "tensorflow_intel_2.2.0-py37"
  },
  "language_info": {
   "codemirror_mode": {
    "name": "ipython",
    "version": 3
   },
   "file_extension": ".py",
   "mimetype": "text/x-python",
   "name": "python",
   "nbconvert_exporter": "python",
   "pygments_lexer": "ipython3",
   "version": "3.7.4"
  },
  "nteract": {
   "version": "0.26.0"
  }
 },
 "nbformat": 4,
 "nbformat_minor": 4
}
