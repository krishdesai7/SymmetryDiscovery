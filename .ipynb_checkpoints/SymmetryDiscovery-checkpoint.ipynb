{
 "cells": [
  {
   "cell_type": "code",
   "execution_count": 1,
   "metadata": {},
   "outputs": [],
   "source": [
    "import numpy as np\n",
    "import matplotlib.pyplot as plt\n",
    "from sklearn.metrics import roc_curve, auc,roc_auc_score"
   ]
  },
  {
   "cell_type": "code",
   "execution_count": 2,
   "metadata": {},
   "outputs": [],
   "source": [
    "x = mydata = np.random.normal(0,1,10000)"
   ]
  },
  {
   "cell_type": "code",
   "execution_count": 3,
   "metadata": {},
   "outputs": [
    {
     "data": {
      "text/plain": [
       "(array([  43.,  270., 1046., 2339., 2934., 2152.,  951.,  232.,   28.,\n",
       "           5.]),\n",
       " array([-3.38940973, -2.62855045, -1.86769116, -1.10683188, -0.34597259,\n",
       "         0.41488669,  1.17574598,  1.93660526,  2.69746455,  3.45832383,\n",
       "         4.21918311]),\n",
       " <a list of 10 Patch objects>)"
      ]
     },
     "execution_count": 3,
     "metadata": {},
     "output_type": "execute_result"
    },
    {
     "data": {
      "image/png": "[encoded data removed]",
      "text/plain": [
       "<Figure size 432x288 with 1 Axes>"
      ]
     },
     "metadata": {
      "needs_background": "light"
     },
     "output_type": "display_data"
    }
   ],
   "source": [
    "plt.hist(x)"
   ]
  },
  {
   "cell_type": "code",
   "execution_count": 4,
   "metadata": {},
   "outputs": [
    {
     "ename": "ModuleNotFoundError",
     "evalue": "No module named 'keras'",
     "output_type": "error",
     "traceback": [
      "\u001b[0;31m---------------------------------------------------------------------------\u001b[0m",
      "\u001b[0;31mModuleNotFoundError\u001b[0m                       Traceback (most recent call last)",
      "\u001b[0;32m<ipython-input-4-39e4b13fad5e>\u001b[0m in \u001b[0;36m<module>\u001b[0;34m\u001b[0m\n\u001b[0;32m----> 1\u001b[0;31m \u001b[0;32mimport\u001b[0m \u001b[0mkeras\u001b[0m\u001b[0;34m\u001b[0m\u001b[0;34m\u001b[0m\u001b[0m\n\u001b[0m\u001b[1;32m      2\u001b[0m \u001b[0;32mimport\u001b[0m \u001b[0mkeras\u001b[0m\u001b[0;34m.\u001b[0m\u001b[0mbackend\u001b[0m \u001b[0;32mas\u001b[0m \u001b[0mK\u001b[0m\u001b[0;34m\u001b[0m\u001b[0;34m\u001b[0m\u001b[0m\n\u001b[1;32m      3\u001b[0m \u001b[0;32mfrom\u001b[0m \u001b[0mkeras\u001b[0m\u001b[0;34m.\u001b[0m\u001b[0mmodels\u001b[0m \u001b[0;32mimport\u001b[0m \u001b[0mSequential\u001b[0m\u001b[0;34m,\u001b[0m \u001b[0mModel\u001b[0m\u001b[0;34m\u001b[0m\u001b[0;34m\u001b[0m\u001b[0m\n\u001b[1;32m      4\u001b[0m \u001b[0;32mfrom\u001b[0m \u001b[0mkeras\u001b[0m\u001b[0;34m.\u001b[0m\u001b[0mlayers\u001b[0m \u001b[0;32mimport\u001b[0m \u001b[0mDense\u001b[0m\u001b[0;34m,\u001b[0m \u001b[0mActivation\u001b[0m\u001b[0;34m,\u001b[0m \u001b[0mDropout\u001b[0m\u001b[0;34m,\u001b[0m \u001b[0mReLU\u001b[0m\u001b[0;34m,\u001b[0m \u001b[0mELU\u001b[0m\u001b[0;34m,\u001b[0m \u001b[0mPReLU\u001b[0m\u001b[0;34m,\u001b[0m \u001b[0mInput\u001b[0m\u001b[0;34m,\u001b[0m \u001b[0mConcatenate\u001b[0m\u001b[0;34m,\u001b[0m \u001b[0mLambda\u001b[0m\u001b[0;34m\u001b[0m\u001b[0;34m\u001b[0m\u001b[0m\n\u001b[1;32m      5\u001b[0m \u001b[0;32mfrom\u001b[0m \u001b[0mkeras\u001b[0m\u001b[0;34m.\u001b[0m\u001b[0mcallbacks\u001b[0m \u001b[0;32mimport\u001b[0m \u001b[0mModelCheckpoint\u001b[0m\u001b[0;34m\u001b[0m\u001b[0;34m\u001b[0m\u001b[0m\n",
      "\u001b[0;31mModuleNotFoundError\u001b[0m: No module named 'keras'"
     ]
    }
   ],
   "source": [
    "import keras\n",
    "import keras.backend as K\n",
    "from keras.models import Sequential, Model\n",
    "from keras.layers import Dense, Activation, Dropout, ReLU, ELU, PReLU, Input, Concatenate, Lambda\n",
    "from keras.callbacks import ModelCheckpoint\n",
    "from keras.losses import mse, binary_crossentropy\n",
    "import tensorflow as tf"
   ]
  },
  {
   "cell_type": "code",
   "execution_count": null,
   "metadata": {},
   "outputs": [],
   "source": [
    "def myloss(y_true, y_pred, alpha = 0.):\n",
    "    #alpha determines the amount of decorrelation; 0 means no decorrelation.\n",
    "    \n",
    "    #We want to learn f(g(x)) = x with g != identity and g(x) and x should have the same probability density.\n",
    "    #g(x) = y_pred[:,0]\n",
    "    #f(g(x)) = y_pred[:,1]\n",
    "    #h(x) = y_pred[:,2]\n",
    "    #h(g(x)) = y_pred[:,3]\n",
    "    \n",
    "    myoutput =  mse(y_true[:,0],y_pred[:,1]) \\\n",
    "                - 0.1*binary_crossentropy(y_pred[:,2],K.ones_like(y_pred[:,0])) \\\n",
    "                - 0.1*binary_crossentropy(y_pred[:,3],0.*K.ones_like(y_pred[:,0]))\n",
    "    return myoutput"
   ]
  },
  {
   "cell_type": "code",
   "execution_count": null,
   "metadata": {},
   "outputs": [],
   "source": [
    "#setup the model\n",
    "\n",
    "myinput = Input(shape=(1,))\n",
    "encoded = Dense(5, activation='elu')(myinput)\n",
    "encoded = Dense(5, activation='elu')(encoded)\n",
    "encoded = Dense(1, activation='linear')(encoded)\n",
    "\n",
    "encoder = Model(myinput, encoded)\n",
    "encoder2 = encoder(encoder(myinput))\n",
    "autoencoder = Model(myinput, encoder2)\n",
    "\n",
    "combinedModel = Model(myinput,Concatenate(axis=-1)([encoded, encoder2]))\n",
    "\n",
    "myinput_classify = Input(shape=(1,))\n",
    "myclassifier = Dense(128, activation='elu')(myinput_classify)\n",
    "myclassifier = Dense(64, activation='elu')(myclassifier)\n",
    "myclassifier = Dense(1, activation='sigmoid')(myclassifier)\n",
    "myclassifier_model = Model(myinput_classify, myclassifier)\n",
    "myclassifier_input = myclassifier_model(myinput)\n",
    "myclassifier_encoded = myclassifier_model(encoded)\n",
    "\n",
    "combinedModel_classifier = Model(myinput,Concatenate(axis=-1)([encoded, encoder2, myclassifier_input, myclassifier_encoded]))\n",
    "\n",
    "#First, pretrain the autoencoder:\n",
    "#autoencoder.compile(optimizer='adam', loss='mse')\n",
    "#autoencoder.fit(x,x, epochs=5, batch_size=int(0.01*len(x)))\n",
    "\n",
    "preds = []\n",
    "preds += [encoder.predict(np.linspace(-4,4,10))]\n",
    "\n",
    "for i in range(10):\n",
    "    print(\"on i=\",i)\n",
    "    #Now, train the classifier\n",
    "    encoded_x = encoder.predict(x)[:,0]\n",
    "    myclassifier_model.compile(optimizer='adam', loss='binary_crossentropy')\n",
    "    myclassifier_model.fit(np.concatenate([x,encoded_x]),np.concatenate([np.ones(len(x)),np.zeros(len(x))]), epochs=1, batch_size=int(0.01*len(x)))\n",
    "\n",
    "    y_scores = encoder.predict(np.concatenate([x,encoded_x]))\n",
    "    print(i,roc_auc_score(np.concatenate([np.ones(len(x)),np.zeros(len(x))]),y_scores))\n",
    "    \n",
    "    #Now, update the autoencoder\n",
    "    for layer in myclassifier_model.layers[:]:\n",
    "        layer.trainable = False\n",
    "\n",
    "    combinedModel_classifier.compile(optimizer='adam', loss=lambda y_true, y_pred: myloss(y_true, y_pred))\n",
    "    combinedModel_classifier.fit(x,np.stack((x, x), axis=-1), epochs=1, batch_size=int(0.01*len(x)))\n",
    "    \n",
    "    preds += [encoder.predict(np.linspace(-4,4,10))]\n",
    "    \n",
    "    for layer in myclassifier_model.layers[:]:\n",
    "        layer.trainable = True"
   ]
  },
  {
   "cell_type": "code",
   "execution_count": null,
   "metadata": {},
   "outputs": [],
   "source": [
    "for i in range(len(preds)):\n",
    "    plt.plot(np.linspace(-4,4,10),preds[i],label=str(i))\n",
    "    pass\n",
    "plt.legend(frameon=False)"
   ]
  },
  {
   "cell_type": "code",
   "execution_count": null,
   "metadata": {},
   "outputs": [],
   "source": [
    "mypreds = combinedModel_classifier.predict(x)"
   ]
  },
  {
   "cell_type": "code",
   "execution_count": null,
   "metadata": {},
   "outputs": [],
   "source": [
    "plt.scatter(x,mypreds[:,0],label=\"Encoder\")\n",
    "plt.scatter(x,mypreds[:,1],label=r\"Autoencoder = Encoder$^2$\")\n",
    "plt.plot(np.linspace(-4,4,10),np.linspace(-4,4,10),ls=':',color=\"gray\")\n",
    "plt.xlabel(\"x\")\n",
    "plt.ylabel(\"function value\")\n",
    "plt.legend(frameon=False)"
   ]
  },
  {
   "cell_type": "code",
   "execution_count": null,
   "metadata": {},
   "outputs": [],
   "source": []
  }
 ],
 "metadata": {
  "kernelspec": {
   "display_name": "Python 3",
   "language": "python",
   "name": "python3"
  },
  "language_info": {
   "codemirror_mode": {
    "name": "ipython",
    "version": 3
   },
   "file_extension": ".py",
   "mimetype": "text/x-python",
   "name": "python",
   "nbconvert_exporter": "python",
   "pygments_lexer": "ipython3",
   "version": "3.8.3"
  }
 },
 "nbformat": 4,
 "nbformat_minor": 2
}
