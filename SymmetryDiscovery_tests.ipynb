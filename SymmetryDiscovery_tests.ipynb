{
 "cells": [
  {
   "cell_type": "code",
   "execution_count": 1,
   "metadata": {},
   "outputs": [],
   "source": [
    "import numpy as np\n",
    "import matplotlib.pyplot as plt\n",
    "from sklearn.metrics import roc_curve, auc,roc_auc_score"
   ]
  },
  {
   "cell_type": "code",
   "execution_count": 2,
   "metadata": {},
   "outputs": [],
   "source": [
    "x = mydata = np.random.normal(0,1,10000)"
   ]
  },
  {
   "cell_type": "code",
   "execution_count": 3,
   "metadata": {},
   "outputs": [
    {
     "data": {
      "text/plain": [
       "(array([   5.,   50.,  341., 1215., 2533., 2982., 1957.,  749.,  149.,\n",
       "          19.]),\n",
       " array([-4.13112256, -3.34531125, -2.55949995, -1.77368865, -0.98787735,\n",
       "        -0.20206605,  0.58374526,  1.36955656,  2.15536786,  2.94117916,\n",
       "         3.72699046]),\n",
       " <a list of 10 Patch objects>)"
      ]
     },
     "execution_count": 3,
     "metadata": {},
     "output_type": "execute_result"
    },
    {
     "data": {
      "image/png": "[encoded data removed]",
      "text/plain": [
       "<Figure size 432x288 with 1 Axes>"
      ]
     },
     "metadata": {
      "needs_background": "light"
     },
     "output_type": "display_data"
    }
   ],
   "source": [
    "plt.hist(x)"
   ]
  },
  {
   "cell_type": "code",
   "execution_count": 4,
   "metadata": {},
   "outputs": [
    {
     "name": "stderr",
     "output_type": "stream",
     "text": [
      "Using TensorFlow backend.\n",
      "/home/bpnachman/anaconda3/envs/myenv/lib/python3.6/site-packages/tensorflow/python/framework/dtypes.py:523: FutureWarning: Passing (type, 1) or '1type' as a synonym of type is deprecated; in a future version of numpy, it will be understood as (type, (1,)) / '(1,)type'.\n",
      "  _np_qint8 = np.dtype([(\"qint8\", np.int8, 1)])\n",
      "/home/bpnachman/anaconda3/envs/myenv/lib/python3.6/site-packages/tensorflow/python/framework/dtypes.py:524: FutureWarning: Passing (type, 1) or '1type' as a synonym of type is deprecated; in a future version of numpy, it will be understood as (type, (1,)) / '(1,)type'.\n",
      "  _np_quint8 = np.dtype([(\"quint8\", np.uint8, 1)])\n",
      "/home/bpnachman/anaconda3/envs/myenv/lib/python3.6/site-packages/tensorflow/python/framework/dtypes.py:525: FutureWarning: Passing (type, 1) or '1type' as a synonym of type is deprecated; in a future version of numpy, it will be understood as (type, (1,)) / '(1,)type'.\n",
      "  _np_qint16 = np.dtype([(\"qint16\", np.int16, 1)])\n",
      "/home/bpnachman/anaconda3/envs/myenv/lib/python3.6/site-packages/tensorflow/python/framework/dtypes.py:526: FutureWarning: Passing (type, 1) or '1type' as a synonym of type is deprecated; in a future version of numpy, it will be understood as (type, (1,)) / '(1,)type'.\n",
      "  _np_quint16 = np.dtype([(\"quint16\", np.uint16, 1)])\n",
      "/home/bpnachman/anaconda3/envs/myenv/lib/python3.6/site-packages/tensorflow/python/framework/dtypes.py:527: FutureWarning: Passing (type, 1) or '1type' as a synonym of type is deprecated; in a future version of numpy, it will be understood as (type, (1,)) / '(1,)type'.\n",
      "  _np_qint32 = np.dtype([(\"qint32\", np.int32, 1)])\n",
      "/home/bpnachman/anaconda3/envs/myenv/lib/python3.6/site-packages/tensorflow/python/framework/dtypes.py:532: FutureWarning: Passing (type, 1) or '1type' as a synonym of type is deprecated; in a future version of numpy, it will be understood as (type, (1,)) / '(1,)type'.\n",
      "  np_resource = np.dtype([(\"resource\", np.ubyte, 1)])\n"
     ]
    }
   ],
   "source": [
    "import keras\n",
    "import keras.backend as K\n",
    "from keras.models import Sequential, Model\n",
    "from keras.layers import Dense, Activation, Dropout, ReLU, ELU, PReLU, Input, Concatenate, Lambda\n",
    "from keras.callbacks import ModelCheckpoint\n",
    "from keras.losses import mse, binary_crossentropy\n",
    "import tensorflow as tf"
   ]
  },
  {
   "cell_type": "code",
   "execution_count": 5,
   "metadata": {},
   "outputs": [
    {
     "name": "stdout",
     "output_type": "stream",
     "text": [
      "Epoch 1/5\n",
      "20000/20000 [==============================] - 2s 120us/step - loss: 0.6947 - acc: 0.4970\n",
      "Epoch 2/5\n",
      "20000/20000 [==============================] - 1s 47us/step - loss: 0.6938 - acc: 0.5012\n",
      "Epoch 3/5\n",
      "20000/20000 [==============================] - 1s 47us/step - loss: 0.6939 - acc: 0.4955\n",
      "Epoch 4/5\n",
      "20000/20000 [==============================] - 1s 46us/step - loss: 0.6936 - acc: 0.4996\n",
      "Epoch 5/5\n",
      "20000/20000 [==============================] - 1s 46us/step - loss: 0.6937 - acc: 0.4989\n",
      "0.49518853\n"
     ]
    }
   ],
   "source": [
    "model = Sequential()\n",
    "#model.add(Lambda(redacted_set,input_shape =(1,)))\n",
    "model.add(Dense(50, input_shape=(1,)))\n",
    "model.add(Dense(128, activation='relu')) \n",
    "model.add(Dense(1, activation='sigmoid'))\n",
    "#model.compile(loss=lambda y_true, y_pred: DisCo(y_true, y_pred, model_DisCo.input, alpha = 1000), optimizer='adam', metrics=['accuracy'])\n",
    "model.compile(loss='binary_crossentropy', optimizer='adam', metrics=['accuracy'])\n",
    "hist_model_DisCo = model.fit(np.concatenate([x,-x]),np.concatenate([np.ones(len(x)),np.zeros(len(x))]), epochs=5, batch_size=int(0.01*len(x)))\n",
    "\n",
    "preds = model.predict(np.concatenate([x,-x]))\n",
    "print(roc_auc_score(np.concatenate([np.ones(len(x)),np.zeros(len(x))]), preds))"
   ]
  },
  {
   "cell_type": "code",
   "execution_count": 157,
   "metadata": {},
   "outputs": [],
   "source": [
    "myinput = Input(shape=(1,))\n",
    "encoded = Dense(128, activation='elu')(myinput)\n",
    "encoded = Dense(64, activation='elu')(encoded)\n",
    "encoded = Dense(1, activation='linear')(encoded)\n",
    "\n",
    "decoded = Dense(128, activation='elu')(encoded)\n",
    "decoded = Dense(164, activation='elu')(decoded)\n",
    "decoded = Dense(1, activation='linear')(decoded)\n",
    "\n",
    "autoencoder = Model(myinput, decoded)\n",
    "encoder = Model(myinput, encoded)\n",
    "\n",
    "combinedModel = Model(myinput,Concatenate(axis=-1)([encoded, decoded]))"
   ]
  },
  {
   "cell_type": "code",
   "execution_count": 158,
   "metadata": {},
   "outputs": [
    {
     "name": "stdout",
     "output_type": "stream",
     "text": [
      "__________________________________________________________________________________________________\n",
      "Layer (type)                    Output Shape         Param #     Connected to                     \n",
      "==================================================================================================\n",
      "input_12 (InputLayer)           (None, 1)            0                                            \n",
      "__________________________________________________________________________________________________\n",
      "dense_68 (Dense)                (None, 128)          256         input_12[0][0]                   \n",
      "__________________________________________________________________________________________________\n",
      "dense_69 (Dense)                (None, 64)           8256        dense_68[0][0]                   \n",
      "__________________________________________________________________________________________________\n",
      "dense_70 (Dense)                (None, 1)            65          dense_69[0][0]                   \n",
      "__________________________________________________________________________________________________\n",
      "dense_71 (Dense)                (None, 128)          256         dense_70[0][0]                   \n",
      "__________________________________________________________________________________________________\n",
      "dense_72 (Dense)                (None, 164)          21156       dense_71[0][0]                   \n",
      "__________________________________________________________________________________________________\n",
      "dense_73 (Dense)                (None, 1)            165         dense_72[0][0]                   \n",
      "__________________________________________________________________________________________________\n",
      "concatenate_6 (Concatenate)     (None, 2)            0           dense_70[0][0]                   \n",
      "                                                                 dense_73[0][0]                   \n",
      "==================================================================================================\n",
      "Total params: 30,154\n",
      "Trainable params: 30,154\n",
      "Non-trainable params: 0\n",
      "__________________________________________________________________________________________________\n"
     ]
    }
   ],
   "source": [
    "combinedModel.summary()"
   ]
  },
  {
   "cell_type": "code",
   "execution_count": 326,
   "metadata": {},
   "outputs": [],
   "source": [
    "def myloss(y_true, y_pred, alpha = 0.):\n",
    "    #alpha determines the amount of decorrelation; 0 means no decorrelation.\n",
    "    \n",
    "    #We want to learn f(g(x)) = x with g != identity and g(x) and x should have the same probability density.\n",
    "    #g(x) = y_pred[:,0]\n",
    "    #f(g(x)) = y_pred[:,1]\n",
    "    #h(x) = y_pred[:,2]\n",
    "    #h(g(x)) = y_pred[:,3]\n",
    "    \n",
    "    #return mse(y_true[:,0],y_true[:,1])\n",
    "    myoutput =  mse(y_true[:,0],y_pred[:,1]) \\\n",
    "                + 100*K.exp(-(y_true[:,0]-y_pred[:,0])**2) \\\n",
    "                + 0.1*binary_crossentropy(y_pred[:,2],K.ones_like(y_pred[:,0])) \\\n",
    "                + 0.1*binary_crossentropy(y_pred[:,3],0.*K.ones_like(y_pred[:,0]))\n",
    "    return myoutput"
   ]
  },
  {
   "cell_type": "code",
   "execution_count": 327,
   "metadata": {},
   "outputs": [
    {
     "name": "stdout",
     "output_type": "stream",
     "text": [
      "Epoch 1/5\n",
      "10000/10000 [==============================] - 4s 447us/step - loss: 0.0345\n",
      "Epoch 2/5\n",
      "10000/10000 [==============================] - 1s 61us/step - loss: 0.0029\n",
      "Epoch 3/5\n",
      "10000/10000 [==============================] - 1s 60us/step - loss: 0.0023\n",
      "Epoch 4/5\n",
      "10000/10000 [==============================] - 1s 59us/step - loss: 0.0017\n",
      "Epoch 5/5\n",
      "10000/10000 [==============================] - 1s 58us/step - loss: 0.0013\n"
     ]
    },
    {
     "data": {
      "text/plain": [
       "<keras.callbacks.History at 0x7f7a7823ff28>"
      ]
     },
     "execution_count": 327,
     "metadata": {},
     "output_type": "execute_result"
    }
   ],
   "source": [
    "autoencoder.compile(optimizer='adam', loss='mse')\n",
    "autoencoder.fit(x,x, epochs=5, batch_size=int(0.01*len(x)))"
   ]
  },
  {
   "cell_type": "code",
   "execution_count": 328,
   "metadata": {},
   "outputs": [
    {
     "ename": "ValueError",
     "evalue": "slice index 2 of dimension 1 out of bounds. for 'loss_56/concatenate_28_loss/strided_slice_4' (op: 'StridedSlice') with input shapes: [?,2], [2], [2], [2] and with computed input tensors: input[1] = <0 2>, input[2] = <0 3>, input[3] = <1 1>.",
     "output_type": "error",
     "traceback": [
      "\u001b[0;31m---------------------------------------------------------------------------\u001b[0m",
      "\u001b[0;31mInvalidArgumentError\u001b[0m                      Traceback (most recent call last)",
      "\u001b[0;32m~/anaconda3/envs/myenv/lib/python3.6/site-packages/tensorflow/python/framework/ops.py\u001b[0m in \u001b[0;36m_create_c_op\u001b[0;34m(graph, node_def, inputs, control_inputs)\u001b[0m\n\u001b[1;32m   1627\u001b[0m   \u001b[0;32mtry\u001b[0m\u001b[0;34m:\u001b[0m\u001b[0;34m\u001b[0m\u001b[0;34m\u001b[0m\u001b[0m\n\u001b[0;32m-> 1628\u001b[0;31m     \u001b[0mc_op\u001b[0m \u001b[0;34m=\u001b[0m \u001b[0mc_api\u001b[0m\u001b[0;34m.\u001b[0m\u001b[0mTF_FinishOperation\u001b[0m\u001b[0;34m(\u001b[0m\u001b[0mop_desc\u001b[0m\u001b[0;34m)\u001b[0m\u001b[0;34m\u001b[0m\u001b[0;34m\u001b[0m\u001b[0m\n\u001b[0m\u001b[1;32m   1629\u001b[0m   \u001b[0;32mexcept\u001b[0m \u001b[0merrors\u001b[0m\u001b[0;34m.\u001b[0m\u001b[0mInvalidArgumentError\u001b[0m \u001b[0;32mas\u001b[0m \u001b[0me\u001b[0m\u001b[0;34m:\u001b[0m\u001b[0;34m\u001b[0m\u001b[0;34m\u001b[0m\u001b[0m\n",
      "\u001b[0;31mInvalidArgumentError\u001b[0m: slice index 2 of dimension 1 out of bounds. for 'loss_56/concatenate_28_loss/strided_slice_4' (op: 'StridedSlice') with input shapes: [?,2], [2], [2], [2] and with computed input tensors: input[1] = <0 2>, input[2] = <0 3>, input[3] = <1 1>.",
      "\nDuring handling of the above exception, another exception occurred:\n",
      "\u001b[0;31mValueError\u001b[0m                                Traceback (most recent call last)",
      "\u001b[0;32m<ipython-input-328-d855d27847b6>\u001b[0m in \u001b[0;36m<module>\u001b[0;34m\u001b[0m\n\u001b[0;32m----> 1\u001b[0;31m \u001b[0mcombinedModel\u001b[0m\u001b[0;34m.\u001b[0m\u001b[0mcompile\u001b[0m\u001b[0;34m(\u001b[0m\u001b[0moptimizer\u001b[0m\u001b[0;34m=\u001b[0m\u001b[0;34m'adam'\u001b[0m\u001b[0;34m,\u001b[0m \u001b[0mloss\u001b[0m\u001b[0;34m=\u001b[0m\u001b[0;32mlambda\u001b[0m \u001b[0my_true\u001b[0m\u001b[0;34m,\u001b[0m \u001b[0my_pred\u001b[0m\u001b[0;34m:\u001b[0m \u001b[0mmyloss\u001b[0m\u001b[0;34m(\u001b[0m\u001b[0my_true\u001b[0m\u001b[0;34m,\u001b[0m \u001b[0my_pred\u001b[0m\u001b[0;34m)\u001b[0m\u001b[0;34m)\u001b[0m\u001b[0;34m\u001b[0m\u001b[0;34m\u001b[0m\u001b[0m\n\u001b[0m\u001b[1;32m      2\u001b[0m \u001b[0;31m#combinedModel.compile(optimizer='adam', loss=\"mse\")\u001b[0m\u001b[0;34m\u001b[0m\u001b[0;34m\u001b[0m\u001b[0;34m\u001b[0m\u001b[0m\n\u001b[1;32m      3\u001b[0m \u001b[0mcombinedModel\u001b[0m\u001b[0;34m.\u001b[0m\u001b[0mfit\u001b[0m\u001b[0;34m(\u001b[0m\u001b[0mx\u001b[0m\u001b[0;34m,\u001b[0m\u001b[0mnp\u001b[0m\u001b[0;34m.\u001b[0m\u001b[0mstack\u001b[0m\u001b[0;34m(\u001b[0m\u001b[0;34m(\u001b[0m\u001b[0mx\u001b[0m\u001b[0;34m,\u001b[0m \u001b[0mx\u001b[0m\u001b[0;34m)\u001b[0m\u001b[0;34m,\u001b[0m \u001b[0maxis\u001b[0m\u001b[0;34m=\u001b[0m\u001b[0;34m-\u001b[0m\u001b[0;36m1\u001b[0m\u001b[0;34m)\u001b[0m\u001b[0;34m,\u001b[0m \u001b[0mepochs\u001b[0m\u001b[0;34m=\u001b[0m\u001b[0;36m20\u001b[0m\u001b[0;34m,\u001b[0m \u001b[0mbatch_size\u001b[0m\u001b[0;34m=\u001b[0m\u001b[0mint\u001b[0m\u001b[0;34m(\u001b[0m\u001b[0;36m0.01\u001b[0m\u001b[0;34m*\u001b[0m\u001b[0mlen\u001b[0m\u001b[0;34m(\u001b[0m\u001b[0mx\u001b[0m\u001b[0;34m)\u001b[0m\u001b[0;34m)\u001b[0m\u001b[0;34m)\u001b[0m\u001b[0;34m\u001b[0m\u001b[0;34m\u001b[0m\u001b[0m\n",
      "\u001b[0;32m~/anaconda3/envs/myenv/lib/python3.6/site-packages/keras/engine/training.py\u001b[0m in \u001b[0;36mcompile\u001b[0;34m(self, optimizer, loss, metrics, loss_weights, sample_weight_mode, weighted_metrics, target_tensors, **kwargs)\u001b[0m\n\u001b[1;32m    340\u001b[0m                 \u001b[0;32mwith\u001b[0m \u001b[0mK\u001b[0m\u001b[0;34m.\u001b[0m\u001b[0mname_scope\u001b[0m\u001b[0;34m(\u001b[0m\u001b[0mself\u001b[0m\u001b[0;34m.\u001b[0m\u001b[0moutput_names\u001b[0m\u001b[0;34m[\u001b[0m\u001b[0mi\u001b[0m\u001b[0;34m]\u001b[0m \u001b[0;34m+\u001b[0m \u001b[0;34m'_loss'\u001b[0m\u001b[0;34m)\u001b[0m\u001b[0;34m:\u001b[0m\u001b[0;34m\u001b[0m\u001b[0;34m\u001b[0m\u001b[0m\n\u001b[1;32m    341\u001b[0m                     output_loss = weighted_loss(y_true, y_pred,\n\u001b[0;32m--> 342\u001b[0;31m                                                 sample_weight, mask)\n\u001b[0m\u001b[1;32m    343\u001b[0m                 \u001b[0;32mif\u001b[0m \u001b[0mlen\u001b[0m\u001b[0;34m(\u001b[0m\u001b[0mself\u001b[0m\u001b[0;34m.\u001b[0m\u001b[0moutputs\u001b[0m\u001b[0;34m)\u001b[0m \u001b[0;34m>\u001b[0m \u001b[0;36m1\u001b[0m\u001b[0;34m:\u001b[0m\u001b[0;34m\u001b[0m\u001b[0;34m\u001b[0m\u001b[0m\n\u001b[1;32m    344\u001b[0m                     \u001b[0mself\u001b[0m\u001b[0;34m.\u001b[0m\u001b[0mmetrics_tensors\u001b[0m\u001b[0;34m.\u001b[0m\u001b[0mappend\u001b[0m\u001b[0;34m(\u001b[0m\u001b[0moutput_loss\u001b[0m\u001b[0;34m)\u001b[0m\u001b[0;34m\u001b[0m\u001b[0;34m\u001b[0m\u001b[0m\n",
      "\u001b[0;32m~/anaconda3/envs/myenv/lib/python3.6/site-packages/keras/engine/training_utils.py\u001b[0m in \u001b[0;36mweighted\u001b[0;34m(y_true, y_pred, weights, mask)\u001b[0m\n\u001b[1;32m    402\u001b[0m         \"\"\"\n\u001b[1;32m    403\u001b[0m         \u001b[0;31m# score_array has ndim >= 2\u001b[0m\u001b[0;34m\u001b[0m\u001b[0;34m\u001b[0m\u001b[0;34m\u001b[0m\u001b[0m\n\u001b[0;32m--> 404\u001b[0;31m         \u001b[0mscore_array\u001b[0m \u001b[0;34m=\u001b[0m \u001b[0mfn\u001b[0m\u001b[0;34m(\u001b[0m\u001b[0my_true\u001b[0m\u001b[0;34m,\u001b[0m \u001b[0my_pred\u001b[0m\u001b[0;34m)\u001b[0m\u001b[0;34m\u001b[0m\u001b[0;34m\u001b[0m\u001b[0m\n\u001b[0m\u001b[1;32m    405\u001b[0m         \u001b[0;32mif\u001b[0m \u001b[0mmask\u001b[0m \u001b[0;32mis\u001b[0m \u001b[0;32mnot\u001b[0m \u001b[0;32mNone\u001b[0m\u001b[0;34m:\u001b[0m\u001b[0;34m\u001b[0m\u001b[0;34m\u001b[0m\u001b[0m\n\u001b[1;32m    406\u001b[0m             \u001b[0;31m# Cast the mask to floatX to avoid float64 upcasting in Theano\u001b[0m\u001b[0;34m\u001b[0m\u001b[0;34m\u001b[0m\u001b[0;34m\u001b[0m\u001b[0m\n",
      "\u001b[0;32m<ipython-input-328-d855d27847b6>\u001b[0m in \u001b[0;36m<lambda>\u001b[0;34m(y_true, y_pred)\u001b[0m\n\u001b[0;32m----> 1\u001b[0;31m \u001b[0mcombinedModel\u001b[0m\u001b[0;34m.\u001b[0m\u001b[0mcompile\u001b[0m\u001b[0;34m(\u001b[0m\u001b[0moptimizer\u001b[0m\u001b[0;34m=\u001b[0m\u001b[0;34m'adam'\u001b[0m\u001b[0;34m,\u001b[0m \u001b[0mloss\u001b[0m\u001b[0;34m=\u001b[0m\u001b[0;32mlambda\u001b[0m \u001b[0my_true\u001b[0m\u001b[0;34m,\u001b[0m \u001b[0my_pred\u001b[0m\u001b[0;34m:\u001b[0m \u001b[0mmyloss\u001b[0m\u001b[0;34m(\u001b[0m\u001b[0my_true\u001b[0m\u001b[0;34m,\u001b[0m \u001b[0my_pred\u001b[0m\u001b[0;34m)\u001b[0m\u001b[0;34m)\u001b[0m\u001b[0;34m\u001b[0m\u001b[0;34m\u001b[0m\u001b[0m\n\u001b[0m\u001b[1;32m      2\u001b[0m \u001b[0;31m#combinedModel.compile(optimizer='adam', loss=\"mse\")\u001b[0m\u001b[0;34m\u001b[0m\u001b[0;34m\u001b[0m\u001b[0;34m\u001b[0m\u001b[0m\n\u001b[1;32m      3\u001b[0m \u001b[0mcombinedModel\u001b[0m\u001b[0;34m.\u001b[0m\u001b[0mfit\u001b[0m\u001b[0;34m(\u001b[0m\u001b[0mx\u001b[0m\u001b[0;34m,\u001b[0m\u001b[0mnp\u001b[0m\u001b[0;34m.\u001b[0m\u001b[0mstack\u001b[0m\u001b[0;34m(\u001b[0m\u001b[0;34m(\u001b[0m\u001b[0mx\u001b[0m\u001b[0;34m,\u001b[0m \u001b[0mx\u001b[0m\u001b[0;34m)\u001b[0m\u001b[0;34m,\u001b[0m \u001b[0maxis\u001b[0m\u001b[0;34m=\u001b[0m\u001b[0;34m-\u001b[0m\u001b[0;36m1\u001b[0m\u001b[0;34m)\u001b[0m\u001b[0;34m,\u001b[0m \u001b[0mepochs\u001b[0m\u001b[0;34m=\u001b[0m\u001b[0;36m20\u001b[0m\u001b[0;34m,\u001b[0m \u001b[0mbatch_size\u001b[0m\u001b[0;34m=\u001b[0m\u001b[0mint\u001b[0m\u001b[0;34m(\u001b[0m\u001b[0;36m0.01\u001b[0m\u001b[0;34m*\u001b[0m\u001b[0mlen\u001b[0m\u001b[0;34m(\u001b[0m\u001b[0mx\u001b[0m\u001b[0;34m)\u001b[0m\u001b[0;34m)\u001b[0m\u001b[0;34m)\u001b[0m\u001b[0;34m\u001b[0m\u001b[0;34m\u001b[0m\u001b[0m\n",
      "\u001b[0;32m<ipython-input-326-fc76827c7646>\u001b[0m in \u001b[0;36mmyloss\u001b[0;34m(y_true, y_pred, alpha)\u001b[0m\n\u001b[1;32m     12\u001b[0m                 \u001b[0;34m+\u001b[0m \u001b[0;36m100\u001b[0m\u001b[0;34m*\u001b[0m\u001b[0mK\u001b[0m\u001b[0;34m.\u001b[0m\u001b[0mexp\u001b[0m\u001b[0;34m(\u001b[0m\u001b[0;34m-\u001b[0m\u001b[0;34m(\u001b[0m\u001b[0my_true\u001b[0m\u001b[0;34m[\u001b[0m\u001b[0;34m:\u001b[0m\u001b[0;34m,\u001b[0m\u001b[0;36m0\u001b[0m\u001b[0;34m]\u001b[0m\u001b[0;34m-\u001b[0m\u001b[0my_pred\u001b[0m\u001b[0;34m[\u001b[0m\u001b[0;34m:\u001b[0m\u001b[0;34m,\u001b[0m\u001b[0;36m0\u001b[0m\u001b[0;34m]\u001b[0m\u001b[0;34m)\u001b[0m\u001b[0;34m**\u001b[0m\u001b[0;36m2\u001b[0m\u001b[0;34m)\u001b[0m\u001b[0;31m \u001b[0m\u001b[0;31m\\\u001b[0m\u001b[0;34m\u001b[0m\u001b[0;34m\u001b[0m\u001b[0m\n\u001b[1;32m     13\u001b[0m                 \u001b[0;34m+\u001b[0m \u001b[0;36m0.1\u001b[0m\u001b[0;34m*\u001b[0m\u001b[0mbinary_crossentropy\u001b[0m\u001b[0;34m(\u001b[0m\u001b[0my_pred\u001b[0m\u001b[0;34m[\u001b[0m\u001b[0;34m:\u001b[0m\u001b[0;34m,\u001b[0m\u001b[0;36m2\u001b[0m\u001b[0;34m]\u001b[0m\u001b[0;34m,\u001b[0m\u001b[0mK\u001b[0m\u001b[0;34m.\u001b[0m\u001b[0mones_like\u001b[0m\u001b[0;34m(\u001b[0m\u001b[0my_pred\u001b[0m\u001b[0;34m[\u001b[0m\u001b[0;34m:\u001b[0m\u001b[0;34m,\u001b[0m\u001b[0;36m0\u001b[0m\u001b[0;34m]\u001b[0m\u001b[0;34m)\u001b[0m\u001b[0;34m)\u001b[0m\u001b[0;31m \u001b[0m\u001b[0;31m\\\u001b[0m\u001b[0;34m\u001b[0m\u001b[0;34m\u001b[0m\u001b[0m\n\u001b[0;32m---> 14\u001b[0;31m                 \u001b[0;34m+\u001b[0m \u001b[0;36m0.1\u001b[0m\u001b[0;34m*\u001b[0m\u001b[0mbinary_crossentropy\u001b[0m\u001b[0;34m(\u001b[0m\u001b[0my_pred\u001b[0m\u001b[0;34m[\u001b[0m\u001b[0;34m:\u001b[0m\u001b[0;34m,\u001b[0m\u001b[0;36m3\u001b[0m\u001b[0;34m]\u001b[0m\u001b[0;34m,\u001b[0m\u001b[0;36m0.\u001b[0m\u001b[0;34m*\u001b[0m\u001b[0mK\u001b[0m\u001b[0;34m.\u001b[0m\u001b[0mones_like\u001b[0m\u001b[0;34m(\u001b[0m\u001b[0my_pred\u001b[0m\u001b[0;34m[\u001b[0m\u001b[0;34m:\u001b[0m\u001b[0;34m,\u001b[0m\u001b[0;36m0\u001b[0m\u001b[0;34m]\u001b[0m\u001b[0;34m)\u001b[0m\u001b[0;34m)\u001b[0m\u001b[0;34m\u001b[0m\u001b[0;34m\u001b[0m\u001b[0m\n\u001b[0m\u001b[1;32m     15\u001b[0m     \u001b[0;32mreturn\u001b[0m \u001b[0mmyoutput\u001b[0m\u001b[0;34m\u001b[0m\u001b[0;34m\u001b[0m\u001b[0m\n",
      "\u001b[0;32m~/anaconda3/envs/myenv/lib/python3.6/site-packages/tensorflow/python/ops/array_ops.py\u001b[0m in \u001b[0;36m_slice_helper\u001b[0;34m(tensor, slice_spec, var)\u001b[0m\n\u001b[1;32m    523\u001b[0m         \u001b[0mellipsis_mask\u001b[0m\u001b[0;34m=\u001b[0m\u001b[0mellipsis_mask\u001b[0m\u001b[0;34m,\u001b[0m\u001b[0;34m\u001b[0m\u001b[0;34m\u001b[0m\u001b[0m\n\u001b[1;32m    524\u001b[0m         \u001b[0mvar\u001b[0m\u001b[0;34m=\u001b[0m\u001b[0mvar\u001b[0m\u001b[0;34m,\u001b[0m\u001b[0;34m\u001b[0m\u001b[0;34m\u001b[0m\u001b[0m\n\u001b[0;32m--> 525\u001b[0;31m         name=name)\n\u001b[0m\u001b[1;32m    526\u001b[0m \u001b[0;34m\u001b[0m\u001b[0m\n\u001b[1;32m    527\u001b[0m \u001b[0;34m\u001b[0m\u001b[0m\n",
      "\u001b[0;32m~/anaconda3/envs/myenv/lib/python3.6/site-packages/tensorflow/python/ops/array_ops.py\u001b[0m in \u001b[0;36mstrided_slice\u001b[0;34m(input_, begin, end, strides, begin_mask, end_mask, ellipsis_mask, new_axis_mask, shrink_axis_mask, var, name)\u001b[0m\n\u001b[1;32m    689\u001b[0m       \u001b[0mellipsis_mask\u001b[0m\u001b[0;34m=\u001b[0m\u001b[0mellipsis_mask\u001b[0m\u001b[0;34m,\u001b[0m\u001b[0;34m\u001b[0m\u001b[0;34m\u001b[0m\u001b[0m\n\u001b[1;32m    690\u001b[0m       \u001b[0mnew_axis_mask\u001b[0m\u001b[0;34m=\u001b[0m\u001b[0mnew_axis_mask\u001b[0m\u001b[0;34m,\u001b[0m\u001b[0;34m\u001b[0m\u001b[0;34m\u001b[0m\u001b[0m\n\u001b[0;32m--> 691\u001b[0;31m       shrink_axis_mask=shrink_axis_mask)\n\u001b[0m\u001b[1;32m    692\u001b[0m \u001b[0;34m\u001b[0m\u001b[0m\n\u001b[1;32m    693\u001b[0m   \u001b[0mparent_name\u001b[0m \u001b[0;34m=\u001b[0m \u001b[0mname\u001b[0m\u001b[0;34m\u001b[0m\u001b[0;34m\u001b[0m\u001b[0m\n",
      "\u001b[0;32m~/anaconda3/envs/myenv/lib/python3.6/site-packages/tensorflow/python/ops/gen_array_ops.py\u001b[0m in \u001b[0;36mstrided_slice\u001b[0;34m(input, begin, end, strides, begin_mask, end_mask, ellipsis_mask, new_axis_mask, shrink_axis_mask, name)\u001b[0m\n\u001b[1;32m   8520\u001b[0m         \u001b[0mbegin_mask\u001b[0m\u001b[0;34m=\u001b[0m\u001b[0mbegin_mask\u001b[0m\u001b[0;34m,\u001b[0m \u001b[0mend_mask\u001b[0m\u001b[0;34m=\u001b[0m\u001b[0mend_mask\u001b[0m\u001b[0;34m,\u001b[0m \u001b[0mellipsis_mask\u001b[0m\u001b[0;34m=\u001b[0m\u001b[0mellipsis_mask\u001b[0m\u001b[0;34m,\u001b[0m\u001b[0;34m\u001b[0m\u001b[0;34m\u001b[0m\u001b[0m\n\u001b[1;32m   8521\u001b[0m         \u001b[0mnew_axis_mask\u001b[0m\u001b[0;34m=\u001b[0m\u001b[0mnew_axis_mask\u001b[0m\u001b[0;34m,\u001b[0m \u001b[0mshrink_axis_mask\u001b[0m\u001b[0;34m=\u001b[0m\u001b[0mshrink_axis_mask\u001b[0m\u001b[0;34m,\u001b[0m\u001b[0;34m\u001b[0m\u001b[0;34m\u001b[0m\u001b[0m\n\u001b[0;32m-> 8522\u001b[0;31m         name=name)\n\u001b[0m\u001b[1;32m   8523\u001b[0m     \u001b[0m_result\u001b[0m \u001b[0;34m=\u001b[0m \u001b[0m_op\u001b[0m\u001b[0;34m.\u001b[0m\u001b[0moutputs\u001b[0m\u001b[0;34m[\u001b[0m\u001b[0;34m:\u001b[0m\u001b[0;34m]\u001b[0m\u001b[0;34m\u001b[0m\u001b[0;34m\u001b[0m\u001b[0m\n\u001b[1;32m   8524\u001b[0m     \u001b[0m_inputs_flat\u001b[0m \u001b[0;34m=\u001b[0m \u001b[0m_op\u001b[0m\u001b[0;34m.\u001b[0m\u001b[0minputs\u001b[0m\u001b[0;34m\u001b[0m\u001b[0;34m\u001b[0m\u001b[0m\n",
      "\u001b[0;32m~/anaconda3/envs/myenv/lib/python3.6/site-packages/tensorflow/python/framework/op_def_library.py\u001b[0m in \u001b[0;36m_apply_op_helper\u001b[0;34m(self, op_type_name, name, **keywords)\u001b[0m\n\u001b[1;32m    785\u001b[0m         op = g.create_op(op_type_name, inputs, output_types, name=scope,\n\u001b[1;32m    786\u001b[0m                          \u001b[0minput_types\u001b[0m\u001b[0;34m=\u001b[0m\u001b[0minput_types\u001b[0m\u001b[0;34m,\u001b[0m \u001b[0mattrs\u001b[0m\u001b[0;34m=\u001b[0m\u001b[0mattr_protos\u001b[0m\u001b[0;34m,\u001b[0m\u001b[0;34m\u001b[0m\u001b[0;34m\u001b[0m\u001b[0m\n\u001b[0;32m--> 787\u001b[0;31m                          op_def=op_def)\n\u001b[0m\u001b[1;32m    788\u001b[0m       \u001b[0;32mreturn\u001b[0m \u001b[0moutput_structure\u001b[0m\u001b[0;34m,\u001b[0m \u001b[0mop_def\u001b[0m\u001b[0;34m.\u001b[0m\u001b[0mis_stateful\u001b[0m\u001b[0;34m,\u001b[0m \u001b[0mop\u001b[0m\u001b[0;34m\u001b[0m\u001b[0;34m\u001b[0m\u001b[0m\n\u001b[1;32m    789\u001b[0m \u001b[0;34m\u001b[0m\u001b[0m\n",
      "\u001b[0;32m~/anaconda3/envs/myenv/lib/python3.6/site-packages/tensorflow/python/util/deprecation.py\u001b[0m in \u001b[0;36mnew_func\u001b[0;34m(*args, **kwargs)\u001b[0m\n\u001b[1;32m    486\u001b[0m                 \u001b[0;34m'in a future version'\u001b[0m \u001b[0;32mif\u001b[0m \u001b[0mdate\u001b[0m \u001b[0;32mis\u001b[0m \u001b[0;32mNone\u001b[0m \u001b[0;32melse\u001b[0m \u001b[0;34m(\u001b[0m\u001b[0;34m'after %s'\u001b[0m \u001b[0;34m%\u001b[0m \u001b[0mdate\u001b[0m\u001b[0;34m)\u001b[0m\u001b[0;34m,\u001b[0m\u001b[0;34m\u001b[0m\u001b[0;34m\u001b[0m\u001b[0m\n\u001b[1;32m    487\u001b[0m                 instructions)\n\u001b[0;32m--> 488\u001b[0;31m       \u001b[0;32mreturn\u001b[0m \u001b[0mfunc\u001b[0m\u001b[0;34m(\u001b[0m\u001b[0;34m*\u001b[0m\u001b[0margs\u001b[0m\u001b[0;34m,\u001b[0m \u001b[0;34m**\u001b[0m\u001b[0mkwargs\u001b[0m\u001b[0;34m)\u001b[0m\u001b[0;34m\u001b[0m\u001b[0;34m\u001b[0m\u001b[0m\n\u001b[0m\u001b[1;32m    489\u001b[0m     return tf_decorator.make_decorator(func, new_func, 'deprecated',\n\u001b[1;32m    490\u001b[0m                                        _add_deprecated_arg_notice_to_docstring(\n",
      "\u001b[0;32m~/anaconda3/envs/myenv/lib/python3.6/site-packages/tensorflow/python/framework/ops.py\u001b[0m in \u001b[0;36mcreate_op\u001b[0;34m(***failed resolving arguments***)\u001b[0m\n\u001b[1;32m   3272\u001b[0m           \u001b[0minput_types\u001b[0m\u001b[0;34m=\u001b[0m\u001b[0minput_types\u001b[0m\u001b[0;34m,\u001b[0m\u001b[0;34m\u001b[0m\u001b[0;34m\u001b[0m\u001b[0m\n\u001b[1;32m   3273\u001b[0m           \u001b[0moriginal_op\u001b[0m\u001b[0;34m=\u001b[0m\u001b[0mself\u001b[0m\u001b[0;34m.\u001b[0m\u001b[0m_default_original_op\u001b[0m\u001b[0;34m,\u001b[0m\u001b[0;34m\u001b[0m\u001b[0;34m\u001b[0m\u001b[0m\n\u001b[0;32m-> 3274\u001b[0;31m           op_def=op_def)\n\u001b[0m\u001b[1;32m   3275\u001b[0m       \u001b[0mself\u001b[0m\u001b[0;34m.\u001b[0m\u001b[0m_create_op_helper\u001b[0m\u001b[0;34m(\u001b[0m\u001b[0mret\u001b[0m\u001b[0;34m,\u001b[0m \u001b[0mcompute_device\u001b[0m\u001b[0;34m=\u001b[0m\u001b[0mcompute_device\u001b[0m\u001b[0;34m)\u001b[0m\u001b[0;34m\u001b[0m\u001b[0;34m\u001b[0m\u001b[0m\n\u001b[1;32m   3276\u001b[0m     \u001b[0;32mreturn\u001b[0m \u001b[0mret\u001b[0m\u001b[0;34m\u001b[0m\u001b[0;34m\u001b[0m\u001b[0m\n",
      "\u001b[0;32m~/anaconda3/envs/myenv/lib/python3.6/site-packages/tensorflow/python/framework/ops.py\u001b[0m in \u001b[0;36m__init__\u001b[0;34m(self, node_def, g, inputs, output_types, control_inputs, input_types, original_op, op_def)\u001b[0m\n\u001b[1;32m   1790\u001b[0m           op_def, inputs, node_def.attr)\n\u001b[1;32m   1791\u001b[0m       self._c_op = _create_c_op(self._graph, node_def, grouped_inputs,\n\u001b[0;32m-> 1792\u001b[0;31m                                 control_input_ops)\n\u001b[0m\u001b[1;32m   1793\u001b[0m \u001b[0;34m\u001b[0m\u001b[0m\n\u001b[1;32m   1794\u001b[0m     \u001b[0;31m# Initialize self._outputs.\u001b[0m\u001b[0;34m\u001b[0m\u001b[0;34m\u001b[0m\u001b[0;34m\u001b[0m\u001b[0m\n",
      "\u001b[0;32m~/anaconda3/envs/myenv/lib/python3.6/site-packages/tensorflow/python/framework/ops.py\u001b[0m in \u001b[0;36m_create_c_op\u001b[0;34m(graph, node_def, inputs, control_inputs)\u001b[0m\n\u001b[1;32m   1629\u001b[0m   \u001b[0;32mexcept\u001b[0m \u001b[0merrors\u001b[0m\u001b[0;34m.\u001b[0m\u001b[0mInvalidArgumentError\u001b[0m \u001b[0;32mas\u001b[0m \u001b[0me\u001b[0m\u001b[0;34m:\u001b[0m\u001b[0;34m\u001b[0m\u001b[0;34m\u001b[0m\u001b[0m\n\u001b[1;32m   1630\u001b[0m     \u001b[0;31m# Convert to ValueError for backwards compatibility.\u001b[0m\u001b[0;34m\u001b[0m\u001b[0;34m\u001b[0m\u001b[0;34m\u001b[0m\u001b[0m\n\u001b[0;32m-> 1631\u001b[0;31m     \u001b[0;32mraise\u001b[0m \u001b[0mValueError\u001b[0m\u001b[0;34m(\u001b[0m\u001b[0mstr\u001b[0m\u001b[0;34m(\u001b[0m\u001b[0me\u001b[0m\u001b[0;34m)\u001b[0m\u001b[0;34m)\u001b[0m\u001b[0;34m\u001b[0m\u001b[0;34m\u001b[0m\u001b[0m\n\u001b[0m\u001b[1;32m   1632\u001b[0m \u001b[0;34m\u001b[0m\u001b[0m\n\u001b[1;32m   1633\u001b[0m   \u001b[0;32mreturn\u001b[0m \u001b[0mc_op\u001b[0m\u001b[0;34m\u001b[0m\u001b[0;34m\u001b[0m\u001b[0m\n",
      "\u001b[0;31mValueError\u001b[0m: slice index 2 of dimension 1 out of bounds. for 'loss_56/concatenate_28_loss/strided_slice_4' (op: 'StridedSlice') with input shapes: [?,2], [2], [2], [2] and with computed input tensors: input[1] = <0 2>, input[2] = <0 3>, input[3] = <1 1>."
     ]
    }
   ],
   "source": [
    "combinedModel.compile(optimizer='adam', loss=lambda y_true, y_pred: myloss(y_true, y_pred))\n",
    "#combinedModel.compile(optimizer='adam', loss=\"mse\")\n",
    "combinedModel.fit(x,np.stack((x, x), axis=-1), epochs=20, batch_size=int(0.01*len(x)))"
   ]
  },
  {
   "cell_type": "code",
   "execution_count": 162,
   "metadata": {},
   "outputs": [],
   "source": [
    "mypreds = combinedModel.predict(x)\n",
    "#mypreds = autoencoder.predict(x)"
   ]
  },
  {
   "cell_type": "code",
   "execution_count": 163,
   "metadata": {},
   "outputs": [
    {
     "data": {
      "text/plain": [
       "array([[  9.749565  ,  -0.19684747],\n",
       "       [ 58.66332   ,  -1.1270177 ],\n",
       "       [ 82.589066  ,  -1.6887114 ],\n",
       "       ...,\n",
       "       [  7.236262  ,  -0.1544587 ],\n",
       "       [-68.08147   ,   1.9448228 ],\n",
       "       [-32.98022   ,   0.67787504]], dtype=float32)"
      ]
     },
     "execution_count": 163,
     "metadata": {},
     "output_type": "execute_result"
    }
   ],
   "source": [
    "mypreds"
   ]
  },
  {
   "cell_type": "code",
   "execution_count": 166,
   "metadata": {},
   "outputs": [
    {
     "data": {
      "text/plain": [
       "<matplotlib.legend.Legend at 0x7f7a7d68c358>"
      ]
     },
     "execution_count": 166,
     "metadata": {},
     "output_type": "execute_result"
    },
    {
     "data": {
      "image/png": "[encoded data removed]",
      "text/plain": [
       "<Figure size 432x288 with 1 Axes>"
      ]
     },
     "metadata": {
      "needs_background": "light"
     },
     "output_type": "display_data"
    }
   ],
   "source": [
    "plt.scatter(x,mypreds[:,0],label=\"Encoder\")\n",
    "plt.scatter(x,mypreds[:,1],label=\"Autoencoder\")\n",
    "plt.plot([-4,4],[-4,4],label=\"f(x)=x\",ls=\"--\")\n",
    "plt.ylim([-10,10])\n",
    "plt.legend(frameon=False)"
   ]
  },
  {
   "cell_type": "code",
   "execution_count": 365,
   "metadata": {},
   "outputs": [],
   "source": [
    "def myloss(y_true, y_pred, alpha = 0.):\n",
    "    #alpha determines the amount of decorrelation; 0 means no decorrelation.\n",
    "    \n",
    "    #We want to learn f(g(x)) = x with g != identity and g(x) and x should have the same probability density.\n",
    "    #g(x) = y_pred[:,0]\n",
    "    #f(g(x)) = y_pred[:,1]\n",
    "    #h(x) = y_pred[:,2]\n",
    "    #h(g(x)) = y_pred[:,3]\n",
    "    \n",
    "    #return mse(y_true[:,0],y_true[:,1])\n",
    "    myoutput =  mse(y_true[:,0],y_pred[:,1]) \\\n",
    "                + 1*K.exp(-(y_true[:,0]-y_pred[:,0])**2) \\\n",
    "                - 1*binary_crossentropy(y_pred[:,2],K.ones_like(y_pred[:,0])) \\\n",
    "                - 1*binary_crossentropy(y_pred[:,3],0.*K.ones_like(y_pred[:,0]))\n",
    "    return myoutput"
   ]
  },
  {
   "cell_type": "code",
   "execution_count": 376,
   "metadata": {},
   "outputs": [],
   "source": [
    "myinput = Input(shape=(1,))\n",
    "encoded = Dense(128, activation='elu')(myinput)\n",
    "encoded = Dense(64, activation='elu')(encoded)\n",
    "encoded = Dense(1, activation='linear')(encoded)\n",
    "\n",
    "encoder = Model(myinput, encoded)\n",
    "\n",
    "encoder2 = encoder(encoder(myinput))\n",
    "autoencoder = Model(myinput, encoder2)\n",
    "\n",
    "combinedModel = Model(myinput,Concatenate(axis=-1)([encoded, encoder2]))\n",
    "\n",
    "myinput_classify = Input(shape=(1,))\n",
    "myclassifier = Dense(128, activation='elu')(myinput_classify)\n",
    "myclassifier = Dense(64, activation='elu')(myclassifier)\n",
    "myclassifier = Dense(1, activation='sigmoid')(myclassifier)\n",
    "myclassifier_model = Model(myinput_classify, myclassifier)\n",
    "myclassifier_input = myclassifier_model(myinput)\n",
    "myclassifier_encoded = myclassifier_model(encoded)\n",
    "\n",
    "combinedModel_classifier = Model(myinput,Concatenate(axis=-1)([encoded, encoder2, myclassifier_input, myclassifier_encoded]))"
   ]
  },
  {
   "cell_type": "code",
   "execution_count": 380,
   "metadata": {},
   "outputs": [],
   "source": [
    "for layer in myclassifier_model.layers[:]:\n",
    "    layer.trainable = False"
   ]
  },
  {
   "cell_type": "code",
   "execution_count": 381,
   "metadata": {},
   "outputs": [
    {
     "name": "stdout",
     "output_type": "stream",
     "text": [
      "__________________________________________________________________________________________________\n",
      "Layer (type)                    Output Shape         Param #     Connected to                     \n",
      "==================================================================================================\n",
      "input_75 (InputLayer)           (None, 1)            0                                            \n",
      "__________________________________________________________________________________________________\n",
      "dense_219 (Dense)               (None, 128)          256         input_75[0][0]                   \n",
      "__________________________________________________________________________________________________\n",
      "dense_220 (Dense)               (None, 64)           8256        dense_219[0][0]                  \n",
      "__________________________________________________________________________________________________\n",
      "dense_221 (Dense)               (None, 1)            65          dense_220[0][0]                  \n",
      "__________________________________________________________________________________________________\n",
      "model_131 (Model)               (None, 1)            8577        input_75[0][0]                   \n",
      "                                                                 model_131[1][0]                  \n",
      "__________________________________________________________________________________________________\n",
      "model_134 (Model)               (None, 1)            8577        input_75[0][0]                   \n",
      "                                                                 dense_221[0][0]                  \n",
      "__________________________________________________________________________________________________\n",
      "concatenate_39 (Concatenate)    (None, 4)            0           dense_221[0][0]                  \n",
      "                                                                 model_131[2][0]                  \n",
      "                                                                 model_134[1][0]                  \n",
      "                                                                 model_134[2][0]                  \n",
      "==================================================================================================\n",
      "Total params: 17,154\n",
      "Trainable params: 8,577\n",
      "Non-trainable params: 8,577\n",
      "__________________________________________________________________________________________________\n"
     ]
    }
   ],
   "source": [
    "combinedModel_classifier.summary()"
   ]
  },
  {
   "cell_type": "code",
   "execution_count": 368,
   "metadata": {},
   "outputs": [
    {
     "name": "stdout",
     "output_type": "stream",
     "text": [
      "Epoch 1/5\n",
      "10000/10000 [==============================] - 6s 563us/step - loss: 0.0572\n",
      "Epoch 2/5\n",
      "10000/10000 [==============================] - 1s 60us/step - loss: 0.0077\n",
      "Epoch 3/5\n",
      "10000/10000 [==============================] - 1s 59us/step - loss: 0.0058\n",
      "Epoch 4/5\n",
      "10000/10000 [==============================] - 1s 58us/step - loss: 0.0038\n",
      "Epoch 5/5\n",
      "10000/10000 [==============================] - 1s 57us/step - loss: 0.0019\n"
     ]
    },
    {
     "data": {
      "text/plain": [
       "<keras.callbacks.History at 0x7f7a72b44d30>"
      ]
     },
     "execution_count": 368,
     "metadata": {},
     "output_type": "execute_result"
    }
   ],
   "source": [
    "autoencoder.compile(optimizer='adam', loss='mse')\n",
    "autoencoder.fit(x,x, epochs=5, batch_size=int(0.01*len(x)))"
   ]
  },
  {
   "cell_type": "code",
   "execution_count": 369,
   "metadata": {},
   "outputs": [],
   "source": [
    "mypreds = autoencoder.predict(x)"
   ]
  },
  {
   "cell_type": "code",
   "execution_count": 370,
   "metadata": {},
   "outputs": [
    {
     "data": {
      "text/plain": [
       "<matplotlib.collections.PathCollection at 0x7f7a71507208>"
      ]
     },
     "execution_count": 370,
     "metadata": {},
     "output_type": "execute_result"
    },
    {
     "data": {
      "image/png": "[encoded data removed]",
      "text/plain": [
       "<Figure size 432x288 with 1 Axes>"
      ]
     },
     "metadata": {
      "needs_background": "light"
     },
     "output_type": "display_data"
    }
   ],
   "source": [
    "plt.scatter(x,mypreds)"
   ]
  },
  {
   "cell_type": "code",
   "execution_count": 371,
   "metadata": {},
   "outputs": [
    {
     "name": "stdout",
     "output_type": "stream",
     "text": [
      "Epoch 1/10\n",
      "10000/10000 [==============================] - 6s 649us/step - loss: -26.2501\n",
      "Epoch 2/10\n",
      "10000/10000 [==============================] - 1s 111us/step - loss: -31.9605\n",
      "Epoch 3/10\n",
      "10000/10000 [==============================] - 1s 110us/step - loss: -32.0330\n",
      "Epoch 4/10\n",
      "10000/10000 [==============================] - 1s 112us/step - loss: -32.0460\n",
      "Epoch 5/10\n",
      "10000/10000 [==============================] - 1s 110us/step - loss: -32.0500\n",
      "Epoch 6/10\n",
      "10000/10000 [==============================] - 1s 103us/step - loss: -32.0510\n",
      "Epoch 7/10\n",
      "10000/10000 [==============================] - 1s 104us/step - loss: -32.0553\n",
      "Epoch 8/10\n",
      "10000/10000 [==============================] - 1s 102us/step - loss: -32.0533\n",
      "Epoch 9/10\n",
      "10000/10000 [==============================] - 1s 105us/step - loss: -32.0565\n",
      "Epoch 10/10\n",
      "10000/10000 [==============================] - 1s 102us/step - loss: -32.0575\n"
     ]
    },
    {
     "data": {
      "text/plain": [
       "<keras.callbacks.History at 0x7f7a71535e48>"
      ]
     },
     "execution_count": 371,
     "metadata": {},
     "output_type": "execute_result"
    }
   ],
   "source": [
    "#combinedModel.compile(optimizer='adam', loss=lambda y_true, y_pred: myloss(y_true, y_pred))\n",
    "#combinedModel.fit(x,np.stack((x, x), axis=-1), epochs=20, batch_size=int(0.01*len(x)))\n",
    "\n",
    "combinedModel_classifier.compile(optimizer='adam', loss=lambda y_true, y_pred: myloss(y_true, y_pred))\n",
    "combinedModel_classifier.fit(x,np.stack((x, x), axis=-1), epochs=10, batch_size=int(0.01*len(x)))"
   ]
  },
  {
   "cell_type": "code",
   "execution_count": 372,
   "metadata": {},
   "outputs": [],
   "source": [
    "mypreds = combinedModel_classifier.predict(x)"
   ]
  },
  {
   "cell_type": "code",
   "execution_count": 373,
   "metadata": {},
   "outputs": [
    {
     "data": {
      "text/plain": [
       "array([[ 1.04494276e+01, -9.13807571e-01,  5.16148134e-07,\n",
       "         1.00000000e+00],\n",
       "       [ 1.02351999e+01, -6.85038090e-01,  6.99424675e-07,\n",
       "         1.00000000e+00],\n",
       "       [ 8.15913486e+00,  1.46344686e+00,  3.93765149e-05,\n",
       "         9.99991059e-01],\n",
       "       ...,\n",
       "       [ 1.15797825e+01, -2.14608669e+00,  1.22823124e-07,\n",
       "         1.00000000e+00],\n",
       "       [ 8.35955334e+00,  1.26035070e+00,  2.40509489e-05,\n",
       "         9.99995232e-01],\n",
       "       [ 8.68532562e+00,  9.28632975e-01,  1.13288743e-05,\n",
       "         9.99998212e-01]], dtype=float32)"
      ]
     },
     "execution_count": 373,
     "metadata": {},
     "output_type": "execute_result"
    }
   ],
   "source": [
    "mypreds"
   ]
  },
  {
   "cell_type": "code",
   "execution_count": 374,
   "metadata": {},
   "outputs": [
    {
     "data": {
      "text/plain": [
       "<matplotlib.legend.Legend at 0x7f7a70a12c50>"
      ]
     },
     "execution_count": 374,
     "metadata": {},
     "output_type": "execute_result"
    },
    {
     "data": {
      "image/png": "[encoded data removed]",
      "text/plain": [
       "<Figure size 432x288 with 1 Axes>"
      ]
     },
     "metadata": {
      "needs_background": "light"
     },
     "output_type": "display_data"
    }
   ],
   "source": [
    "plt.scatter(x,mypreds[:,0],label=\"Encoder\")\n",
    "plt.scatter(x,mypreds[:,1],label=\"Autoencoder\")\n",
    "plt.plot([-4,4],[-4,4],label=\"f(x)=x\",ls=\"--\",color=\"red\")\n",
    "plt.plot([-4,4],[4,-4],label=\"f(x)=-x\",ls=\"--\",color=\"blue\")\n",
    "plt.ylim([-10,20])\n",
    "plt.legend(frameon=False)"
   ]
  },
  {
   "cell_type": "code",
   "execution_count": 251,
   "metadata": {},
   "outputs": [],
   "source": [
    "vals = combinedModel.predict(np.linspace(-10,10,20))"
   ]
  },
  {
   "cell_type": "code",
   "execution_count": 257,
   "metadata": {},
   "outputs": [
    {
     "data": {
      "text/plain": [
       "<matplotlib.legend.Legend at 0x7f7a7b7c2630>"
      ]
     },
     "execution_count": 257,
     "metadata": {},
     "output_type": "execute_result"
    },
    {
     "data": {
      "image/png": "[encoded data removed]",
      "text/plain": [
       "<Figure size 432x288 with 1 Axes>"
      ]
     },
     "metadata": {
      "needs_background": "light"
     },
     "output_type": "display_data"
    }
   ],
   "source": [
    "plt.plot(np.linspace(-10,10,20),vals[:,0],label=\"Encoder\")\n",
    "plt.plot(np.linspace(-10,10,20),vals[:,1],label=\"Autoencoder\")\n",
    "plt.axvline(-4,ls=\":\")\n",
    "plt.axvline(4,ls=\":\")\n",
    "plt.plot([-10,10],[-10,10],label=\"f(x)=x\",ls=\"--\")\n",
    "plt.legend(frameon=False)"
   ]
  },
  {
   "cell_type": "code",
   "execution_count": 10,
   "metadata": {},
   "outputs": [],
   "source": [
    "def myloss(y_true, y_pred, alpha = 0.):\n",
    "    #alpha determines the amount of decorrelation; 0 means no decorrelation.\n",
    "    \n",
    "    #We want to learn f(g(x)) = x with g != identity and g(x) and x should have the same probability density.\n",
    "    #g(x) = y_pred[:,0]\n",
    "    #f(g(x)) = y_pred[:,1]\n",
    "    #h(x) = y_pred[:,2]\n",
    "    #h(g(x)) = y_pred[:,3]\n",
    "    \n",
    "    #return mse(y_true[:,0],y_true[:,1])\n",
    "    myoutput =  mse(y_true[:,0],y_pred[:,1]) \\\n",
    "                + 10*K.exp(-(y_true[:,0]-y_pred[:,0])**2) \\\n",
    "                - 1*binary_crossentropy(y_pred[:,2],K.ones_like(y_pred[:,0])) \\\n",
    "                - 1*binary_crossentropy(y_pred[:,3],0.*K.ones_like(y_pred[:,0]))\n",
    "    return myoutput"
   ]
  },
  {
   "cell_type": "code",
   "execution_count": 15,
   "metadata": {},
   "outputs": [
    {
     "name": "stdout",
     "output_type": "stream",
     "text": [
      "Epoch 1/5\n",
      "10000/10000 [==============================] - 1s 149us/step - loss: 0.0817\n",
      "Epoch 2/5\n",
      "10000/10000 [==============================] - 0s 49us/step - loss: 0.0083\n",
      "Epoch 3/5\n",
      "10000/10000 [==============================] - 0s 49us/step - loss: 0.0063\n",
      "Epoch 4/5\n",
      "10000/10000 [==============================] - 0s 49us/step - loss: 0.0039\n",
      "Epoch 5/5\n",
      "10000/10000 [==============================] - 0s 49us/step - loss: 0.0022\n",
      "on i= 0\n",
      "Epoch 1/5\n",
      "20000/20000 [==============================] - 2s 104us/step - loss: 0.6915\n",
      "Epoch 2/5\n",
      "20000/20000 [==============================] - 1s 51us/step - loss: 0.6911\n",
      "Epoch 3/5\n",
      "20000/20000 [==============================] - 1s 50us/step - loss: 0.6910\n",
      "Epoch 4/5\n",
      "20000/20000 [==============================] - 1s 51us/step - loss: 0.6911\n",
      "Epoch 5/5\n",
      "20000/20000 [==============================] - 1s 46us/step - loss: 0.6905\n",
      "Epoch 1/10\n",
      "10000/10000 [==============================] - 2s 206us/step - loss: -18.1183\n",
      "Epoch 2/10\n",
      "10000/10000 [==============================] - 1s 75us/step - loss: -23.0573\n",
      "Epoch 3/10\n",
      "10000/10000 [==============================] - 1s 75us/step - loss: -23.6085\n",
      "Epoch 4/10\n",
      "10000/10000 [==============================] - 1s 73us/step - loss: -23.7368\n",
      "Epoch 5/10\n",
      "10000/10000 [==============================] - 1s 74us/step - loss: -23.7955\n",
      "Epoch 6/10\n",
      "10000/10000 [==============================] - 1s 73us/step - loss: -23.8340\n",
      "Epoch 7/10\n",
      "10000/10000 [==============================] - 1s 73us/step - loss: -23.8493\n",
      "Epoch 8/10\n",
      "10000/10000 [==============================] - 1s 74us/step - loss: -23.8581\n",
      "Epoch 9/10\n",
      "10000/10000 [==============================] - 1s 75us/step - loss: -23.8648\n",
      "Epoch 10/10\n",
      "10000/10000 [==============================] - 1s 79us/step - loss: -23.8836\n",
      "on i= 1\n",
      "Epoch 1/5\n",
      "20000/20000 [==============================] - 2s 111us/step - loss: 0.1866\n",
      "Epoch 2/5\n",
      "20000/20000 [==============================] - 1s 51us/step - loss: 0.0020\n",
      "Epoch 3/5\n",
      "20000/20000 [==============================] - 1s 51us/step - loss: 5.5559e-04\n",
      "Epoch 4/5\n",
      "20000/20000 [==============================] - 1s 52us/step - loss: 2.5928e-04\n",
      "Epoch 5/5\n",
      "20000/20000 [==============================] - 1s 51us/step - loss: 1.4914e-04\n",
      "Epoch 1/10\n",
      "10000/10000 [==============================] - 2s 224us/step - loss: 0.3941\n",
      "Epoch 2/10\n",
      "10000/10000 [==============================] - 1s 76us/step - loss: 0.0021\n",
      "Epoch 3/10\n",
      "10000/10000 [==============================] - 1s 79us/step - loss: 0.0014\n",
      "Epoch 4/10\n",
      "10000/10000 [==============================] - 1s 77us/step - loss: 9.3947e-04\n",
      "Epoch 5/10\n",
      "10000/10000 [==============================] - 1s 75us/step - loss: 3.9144e-04\n",
      "Epoch 6/10\n",
      "10000/10000 [==============================] - 1s 74us/step - loss: -1.2463e-04\n",
      "Epoch 7/10\n",
      "10000/10000 [==============================] - 1s 75us/step - loss: -2.8186e-04\n",
      "Epoch 8/10\n",
      "10000/10000 [==============================] - 1s 77us/step - loss: -8.8722e-04\n",
      "Epoch 9/10\n",
      "10000/10000 [==============================] - 1s 76us/step - loss: -0.0013\n",
      "Epoch 10/10\n",
      "10000/10000 [==============================] - 1s 77us/step - loss: -0.0015\n",
      "on i= 2\n",
      "Epoch 1/5\n",
      "20000/20000 [==============================] - 2s 121us/step - loss: 5.2002e-06\n",
      "Epoch 2/5\n",
      "20000/20000 [==============================] - 1s 52us/step - loss: 2.4549e-07\n",
      "Epoch 3/5\n",
      "20000/20000 [==============================] - 1s 52us/step - loss: 1.3290e-07\n",
      "Epoch 4/5\n",
      "20000/20000 [==============================] - 1s 52us/step - loss: 1.1149e-07\n",
      "Epoch 5/5\n",
      "20000/20000 [==============================] - 1s 49us/step - loss: 1.1002e-07\n",
      "Epoch 1/10\n",
      "10000/10000 [==============================] - 2s 236us/step - loss: 0.2616\n",
      "Epoch 2/10\n",
      "10000/10000 [==============================] - 1s 75us/step - loss: 0.0015\n",
      "Epoch 3/10\n",
      "10000/10000 [==============================] - 1s 78us/step - loss: 0.0014\n",
      "Epoch 4/10\n",
      "10000/10000 [==============================] - 1s 78us/step - loss: 0.0013\n",
      "Epoch 5/10\n",
      "10000/10000 [==============================] - 1s 79us/step - loss: 0.0013\n",
      "Epoch 6/10\n",
      "10000/10000 [==============================] - 1s 78us/step - loss: 0.0013\n",
      "Epoch 7/10\n",
      "10000/10000 [==============================] - 1s 79us/step - loss: 0.0011\n",
      "Epoch 8/10\n",
      "10000/10000 [==============================] - 1s 78us/step - loss: 0.0011\n",
      "Epoch 9/10\n",
      "10000/10000 [==============================] - 1s 77us/step - loss: 9.5468e-04\n",
      "Epoch 10/10\n",
      "10000/10000 [==============================] - 1s 79us/step - loss: 8.2680e-04\n",
      "on i= 3\n",
      "Epoch 1/5\n",
      "20000/20000 [==============================] - 3s 126us/step - loss: 1.1027e-07\n",
      "Epoch 2/5\n",
      "20000/20000 [==============================] - 1s 52us/step - loss: 1.0972e-07\n",
      "Epoch 3/5\n",
      "20000/20000 [==============================] - 1s 52us/step - loss: 1.0966e-07\n",
      "Epoch 4/5\n",
      "20000/20000 [==============================] - 1s 53us/step - loss: 1.0963e-07\n",
      "Epoch 5/5\n",
      "20000/20000 [==============================] - 1s 50us/step - loss: 1.0963e-07\n",
      "Epoch 1/10\n",
      "10000/10000 [==============================] - 3s 257us/step - loss: 0.1937\n",
      "Epoch 2/10\n",
      "10000/10000 [==============================] - 1s 78us/step - loss: 7.3810e-04\n",
      "Epoch 3/10\n",
      "10000/10000 [==============================] - 1s 73us/step - loss: 6.9718e-04\n",
      "Epoch 4/10\n",
      "10000/10000 [==============================] - 1s 74us/step - loss: 6.9452e-04\n",
      "Epoch 5/10\n",
      "10000/10000 [==============================] - 1s 75us/step - loss: 6.9209e-04\n",
      "Epoch 6/10\n",
      "10000/10000 [==============================] - 1s 80us/step - loss: 7.0494e-04\n",
      "Epoch 7/10\n",
      "10000/10000 [==============================] - 1s 75us/step - loss: 6.0682e-04\n",
      "Epoch 8/10\n",
      "10000/10000 [==============================] - 1s 76us/step - loss: 5.6745e-04\n",
      "Epoch 9/10\n",
      "10000/10000 [==============================] - 1s 75us/step - loss: 5.4345e-04\n",
      "Epoch 10/10\n",
      "10000/10000 [==============================] - 1s 78us/step - loss: 5.9757e-04\n",
      "on i= 4\n",
      "Epoch 1/5\n",
      "20000/20000 [==============================] - 3s 136us/step - loss: 1.0976e-07\n",
      "Epoch 2/5\n",
      "20000/20000 [==============================] - 1s 53us/step - loss: 1.0965e-07\n",
      "Epoch 3/5\n",
      "20000/20000 [==============================] - 1s 53us/step - loss: 1.0964e-07\n",
      "Epoch 4/5\n",
      "20000/20000 [==============================] - 1s 51us/step - loss: 1.0963e-07\n",
      "Epoch 5/5\n",
      "20000/20000 [==============================] - 1s 52us/step - loss: 1.0962e-07\n",
      "Epoch 1/10\n",
      "10000/10000 [==============================] - 3s 278us/step - loss: 0.1567\n",
      "Epoch 2/10\n",
      "10000/10000 [==============================] - 1s 80us/step - loss: 5.1852e-04\n",
      "Epoch 3/10\n",
      "10000/10000 [==============================] - 1s 81us/step - loss: 5.1504e-04\n",
      "Epoch 4/10\n",
      "10000/10000 [==============================] - 1s 80us/step - loss: 4.7522e-04\n",
      "Epoch 5/10\n",
      "10000/10000 [==============================] - 1s 79us/step - loss: 4.6534e-04\n",
      "Epoch 6/10\n",
      "10000/10000 [==============================] - 1s 80us/step - loss: 4.8406e-04\n",
      "Epoch 7/10\n",
      "10000/10000 [==============================] - 1s 81us/step - loss: 4.1588e-04\n",
      "Epoch 8/10\n",
      "10000/10000 [==============================] - 1s 80us/step - loss: 4.3144e-04\n",
      "Epoch 9/10\n",
      "10000/10000 [==============================] - 1s 80us/step - loss: 3.7892e-04\n",
      "Epoch 10/10\n",
      "10000/10000 [==============================] - 1s 79us/step - loss: 4.6789e-04\n",
      "on i= 5\n",
      "Epoch 1/5\n",
      "20000/20000 [==============================] - 3s 146us/step - loss: 1.0975e-07\n",
      "Epoch 2/5\n",
      "20000/20000 [==============================] - 1s 53us/step - loss: 1.0965e-07\n",
      "Epoch 3/5\n",
      "20000/20000 [==============================] - 1s 54us/step - loss: 1.0964e-07\n",
      "Epoch 4/5\n",
      "20000/20000 [==============================] - 1s 54us/step - loss: 1.0963e-07\n",
      "Epoch 5/5\n",
      "20000/20000 [==============================] - 1s 52us/step - loss: 1.0962e-07\n",
      "Epoch 1/10\n",
      "10000/10000 [==============================] - 3s 288us/step - loss: 0.1345\n",
      "Epoch 2/10\n",
      "10000/10000 [==============================] - 1s 77us/step - loss: 4.2658e-04\n",
      "Epoch 3/10\n",
      "10000/10000 [==============================] - 1s 80us/step - loss: 3.7518e-04\n",
      "Epoch 4/10\n",
      "10000/10000 [==============================] - 1s 79us/step - loss: 3.6353e-04\n",
      "Epoch 5/10\n",
      "10000/10000 [==============================] - 1s 81us/step - loss: 3.7234e-04\n",
      "Epoch 6/10\n",
      "10000/10000 [==============================] - 1s 81us/step - loss: 3.3037e-04\n",
      "Epoch 7/10\n",
      "10000/10000 [==============================] - 1s 81us/step - loss: 3.0722e-04\n",
      "Epoch 8/10\n"
     ]
    },
    {
     "name": "stdout",
     "output_type": "stream",
     "text": [
      "10000/10000 [==============================] - 1s 83us/step - loss: 3.3716e-04\n",
      "Epoch 9/10\n",
      "10000/10000 [==============================] - 1s 80us/step - loss: 3.1777e-04\n",
      "Epoch 10/10\n",
      "10000/10000 [==============================] - 1s 82us/step - loss: 3.2938e-04\n",
      "on i= 6\n",
      "Epoch 1/5\n",
      "20000/20000 [==============================] - 3s 155us/step - loss: 1.0977e-07\n",
      "Epoch 2/5\n",
      "20000/20000 [==============================] - 1s 53us/step - loss: 1.0966e-07\n",
      "Epoch 3/5\n",
      "20000/20000 [==============================] - 1s 53us/step - loss: 1.0965e-07\n",
      "Epoch 4/5\n",
      "20000/20000 [==============================] - 1s 52us/step - loss: 1.0964e-07\n",
      "Epoch 5/5\n",
      "20000/20000 [==============================] - 1s 54us/step - loss: 1.0963e-07\n",
      "Epoch 1/10\n",
      "10000/10000 [==============================] - 3s 315us/step - loss: 0.0849\n",
      "Epoch 2/10\n",
      "10000/10000 [==============================] - 1s 82us/step - loss: 3.7337e-04\n",
      "Epoch 3/10\n",
      "10000/10000 [==============================] - 1s 80us/step - loss: 3.3339e-04\n",
      "Epoch 4/10\n",
      "10000/10000 [==============================] - 1s 82us/step - loss: 3.1444e-04\n",
      "Epoch 5/10\n",
      "10000/10000 [==============================] - 1s 81us/step - loss: 2.9035e-04\n",
      "Epoch 6/10\n",
      "10000/10000 [==============================] - 1s 81us/step - loss: 3.2967e-04\n",
      "Epoch 7/10\n",
      "10000/10000 [==============================] - 1s 80us/step - loss: 2.8736e-04\n",
      "Epoch 8/10\n",
      "10000/10000 [==============================] - 1s 81us/step - loss: 2.8854e-04\n",
      "Epoch 9/10\n",
      "10000/10000 [==============================] - 1s 80us/step - loss: 2.5016e-04\n",
      "Epoch 10/10\n",
      "10000/10000 [==============================] - 1s 80us/step - loss: 2.3212e-04\n",
      "on i= 7\n",
      "Epoch 1/5\n",
      "20000/20000 [==============================] - 3s 164us/step - loss: 1.0979e-07\n",
      "Epoch 2/5\n",
      "20000/20000 [==============================] - 1s 50us/step - loss: 1.0969e-07\n",
      "Epoch 3/5\n",
      "20000/20000 [==============================] - 1s 51us/step - loss: 1.0967e-07\n",
      "Epoch 4/5\n",
      "20000/20000 [==============================] - 1s 53us/step - loss: 1.0965e-07\n",
      "Epoch 5/5\n",
      "20000/20000 [==============================] - 1s 48us/step - loss: 1.0963e-07\n",
      "Epoch 1/10\n",
      "10000/10000 [==============================] - 3s 330us/step - loss: 0.0944\n",
      "Epoch 2/10\n",
      "10000/10000 [==============================] - 1s 77us/step - loss: 2.5489e-04\n",
      "Epoch 3/10\n",
      "10000/10000 [==============================] - 1s 81us/step - loss: 2.4600e-04\n",
      "Epoch 4/10\n",
      "10000/10000 [==============================] - 1s 77us/step - loss: 2.2489e-04\n",
      "Epoch 5/10\n",
      "10000/10000 [==============================] - 1s 82us/step - loss: 2.2318e-04\n",
      "Epoch 6/10\n",
      "10000/10000 [==============================] - 1s 83us/step - loss: 2.4434e-04\n",
      "Epoch 7/10\n",
      "10000/10000 [==============================] - 1s 82us/step - loss: 2.4605e-04\n",
      "Epoch 8/10\n",
      "10000/10000 [==============================] - 1s 79us/step - loss: 2.1289e-04\n",
      "Epoch 9/10\n",
      "10000/10000 [==============================] - 1s 82us/step - loss: 2.2053e-04\n",
      "Epoch 10/10\n",
      "10000/10000 [==============================] - 1s 82us/step - loss: 2.2969e-04\n",
      "on i= 8\n",
      "Epoch 1/5\n",
      "20000/20000 [==============================] - 4s 177us/step - loss: 1.0989e-07\n",
      "Epoch 2/5\n",
      "20000/20000 [==============================] - 1s 55us/step - loss: 1.0972e-07\n",
      "Epoch 3/5\n",
      "20000/20000 [==============================] - 1s 56us/step - loss: 1.0967e-07\n",
      "Epoch 4/5\n",
      "20000/20000 [==============================] - 1s 55us/step - loss: 1.0965e-07\n",
      "Epoch 5/5\n",
      "20000/20000 [==============================] - 1s 54us/step - loss: 1.0966e-07\n",
      "Epoch 1/10\n",
      "10000/10000 [==============================] - 3s 346us/step - loss: 0.0852\n",
      "Epoch 2/10\n",
      "10000/10000 [==============================] - 1s 82us/step - loss: 1.9141e-04\n",
      "Epoch 3/10\n",
      "10000/10000 [==============================] - 1s 83us/step - loss: 1.8397e-04\n",
      "Epoch 4/10\n",
      "10000/10000 [==============================] - 1s 83us/step - loss: 1.7701e-04\n",
      "Epoch 5/10\n",
      "10000/10000 [==============================] - 1s 83us/step - loss: 1.8685e-04\n",
      "Epoch 6/10\n",
      "10000/10000 [==============================] - 1s 82us/step - loss: 2.1363e-04\n",
      "Epoch 7/10\n",
      "10000/10000 [==============================] - 1s 83us/step - loss: 1.6950e-04\n",
      "Epoch 8/10\n",
      "10000/10000 [==============================] - 1s 83us/step - loss: 1.6125e-04\n",
      "Epoch 9/10\n",
      "10000/10000 [==============================] - 1s 83us/step - loss: 1.6821e-04\n",
      "Epoch 10/10\n",
      "10000/10000 [==============================] - 1s 79us/step - loss: 1.7533e-04\n",
      "on i= 9\n",
      "Epoch 1/5\n",
      "20000/20000 [==============================] - 4s 188us/step - loss: 1.0999e-07\n",
      "Epoch 2/5\n",
      "20000/20000 [==============================] - 1s 55us/step - loss: 1.0976e-07\n",
      "Epoch 3/5\n",
      "20000/20000 [==============================] - 1s 56us/step - loss: 1.0971e-07\n",
      "Epoch 4/5\n",
      "20000/20000 [==============================] - 1s 55us/step - loss: 1.0969e-07\n",
      "Epoch 5/5\n",
      "20000/20000 [==============================] - 1s 52us/step - loss: 1.0967e-07\n",
      "Epoch 1/10\n",
      "10000/10000 [==============================] - 4s 379us/step - loss: 0.0715\n",
      "Epoch 2/10\n",
      "10000/10000 [==============================] - 1s 81us/step - loss: 1.4899e-04\n",
      "Epoch 3/10\n",
      "10000/10000 [==============================] - 1s 79us/step - loss: 1.4161e-04\n",
      "Epoch 4/10\n",
      "10000/10000 [==============================] - 1s 80us/step - loss: 1.3772e-04\n",
      "Epoch 5/10\n",
      "10000/10000 [==============================] - 1s 78us/step - loss: 1.3470e-04\n",
      "Epoch 6/10\n",
      "10000/10000 [==============================] - 1s 78us/step - loss: 1.4376e-04\n",
      "Epoch 7/10\n",
      "10000/10000 [==============================] - 1s 76us/step - loss: 1.3131e-04\n",
      "Epoch 8/10\n",
      "10000/10000 [==============================] - 1s 78us/step - loss: 1.4120e-04\n",
      "Epoch 9/10\n",
      "10000/10000 [==============================] - 1s 77us/step - loss: 1.3501e-04\n",
      "Epoch 10/10\n",
      "10000/10000 [==============================] - 1s 76us/step - loss: 1.1436e-04\n"
     ]
    }
   ],
   "source": [
    "#setup the model\n",
    "\n",
    "myinput = Input(shape=(1,))\n",
    "encoded = Dense(128, activation='elu')(myinput)\n",
    "encoded = Dense(64, activation='elu')(encoded)\n",
    "encoded = Dense(1, activation='linear')(encoded)\n",
    "\n",
    "encoder = Model(myinput, encoded)\n",
    "encoder2 = encoder(encoder(myinput))\n",
    "autoencoder = Model(myinput, encoder2)\n",
    "\n",
    "combinedModel = Model(myinput,Concatenate(axis=-1)([encoded, encoder2]))\n",
    "\n",
    "myinput_classify = Input(shape=(1,))\n",
    "myclassifier = Dense(128, activation='elu')(myinput_classify)\n",
    "myclassifier = Dense(64, activation='elu')(myclassifier)\n",
    "myclassifier = Dense(1, activation='sigmoid')(myclassifier)\n",
    "myclassifier_model = Model(myinput_classify, myclassifier)\n",
    "myclassifier_input = myclassifier_model(myinput)\n",
    "myclassifier_encoded = myclassifier_model(encoded)\n",
    "\n",
    "combinedModel_classifier = Model(myinput,Concatenate(axis=-1)([encoded, encoder2, myclassifier_input, myclassifier_encoded]))\n",
    "\n",
    "#First, pretrain the autoencoder:\n",
    "autoencoder.compile(optimizer='adam', loss='mse')\n",
    "autoencoder.fit(x,x, epochs=5, batch_size=int(0.01*len(x)))\n",
    "\n",
    "for i in range(10):\n",
    "    print(\"on i=\",i)\n",
    "    #Now, train the classifier\n",
    "    encoded_x = encoder.predict(x)[:,0]\n",
    "    myclassifier_model.compile(optimizer='adam', loss='binary_crossentropy')\n",
    "    myclassifier_model.fit(np.concatenate([x,encoded_x]),np.concatenate([np.ones(len(x)),np.zeros(len(x))]), epochs=5, batch_size=int(0.01*len(x)))\n",
    "\n",
    "    #Now, update the autoencoder\n",
    "    for layer in myclassifier_model.layers[:]:\n",
    "        layer.trainable = False\n",
    "\n",
    "    combinedModel_classifier.compile(optimizer='adam', loss=lambda y_true, y_pred: myloss(y_true, y_pred))\n",
    "    combinedModel_classifier.fit(x,np.stack((x, x), axis=-1), epochs=10, batch_size=int(0.01*len(x)))\n",
    "    \n",
    "    for layer in myclassifier_model.layers[:]:\n",
    "        layer.trainable = True"
   ]
  },
  {
   "cell_type": "code",
   "execution_count": 16,
   "metadata": {},
   "outputs": [],
   "source": [
    "mypreds = combinedModel_classifier.predict(x)"
   ]
  },
  {
   "cell_type": "code",
   "execution_count": 17,
   "metadata": {},
   "outputs": [
    {
     "data": {
      "text/plain": [
       "array([[ 3.1662600e+01, -1.9336277e+00,  1.0000000e+00,  1.1096169e-16],\n",
       "       [ 2.4443439e+01,  1.2742668e-01,  1.0000000e+00,  6.3700380e-13],\n",
       "       [ 2.4448221e+01,  1.2607086e-01,  1.0000000e+00,  6.3323636e-13],\n",
       "       ...,\n",
       "       [ 2.5994818e+01, -3.1265935e-01,  1.0000000e+00,  9.4628908e-14],\n",
       "       [ 2.8675831e+01, -1.0763761e+00,  1.0000000e+00,  3.7529857e-15],\n",
       "       [ 2.7465315e+01, -7.3093677e-01,  1.0000000e+00,  1.5967562e-14]],\n",
       "      dtype=float32)"
      ]
     },
     "execution_count": 17,
     "metadata": {},
     "output_type": "execute_result"
    }
   ],
   "source": [
    "mypreds"
   ]
  },
  {
   "cell_type": "code",
   "execution_count": 18,
   "metadata": {},
   "outputs": [
    {
     "data": {
      "text/plain": [
       "<matplotlib.collections.PathCollection at 0x7efde67c9d68>"
      ]
     },
     "execution_count": 18,
     "metadata": {},
     "output_type": "execute_result"
    },
    {
     "data": {
      "image/png": "[encoded data removed]",
      "text/plain": [
       "<Figure size 432x288 with 1 Axes>"
      ]
     },
     "metadata": {
      "needs_background": "light"
     },
     "output_type": "display_data"
    }
   ],
   "source": [
    "plt.scatter(x,mypreds[:,0])\n",
    "plt.scatter(x,mypreds[:,1])"
   ]
  },
  {
   "cell_type": "code",
   "execution_count": 35,
   "metadata": {},
   "outputs": [],
   "source": [
    "#K.clear_session()"
   ]
  },
  {
   "cell_type": "code",
   "execution_count": 8,
   "metadata": {},
   "outputs": [
    {
     "name": "stdout",
     "output_type": "stream",
     "text": [
      "Epoch 1/5\n",
      "20000/20000 [==============================] - 1s 54us/step - loss: 0.1079\n",
      "Epoch 2/5\n",
      "20000/20000 [==============================] - 1s 45us/step - loss: 0.0209\n",
      "Epoch 3/5\n",
      "20000/20000 [==============================] - 1s 44us/step - loss: 0.0199\n",
      "Epoch 4/5\n",
      "20000/20000 [==============================] - 1s 45us/step - loss: 0.0195\n",
      "Epoch 5/5\n",
      "20000/20000 [==============================] - 1s 45us/step - loss: 0.0198\n",
      "0.019753671530343127\n",
      "Epoch 1/5\n",
      "20000/20000 [==============================] - 1s 55us/step - loss: 0.0768\n",
      "Epoch 2/5\n",
      "20000/20000 [==============================] - 1s 44us/step - loss: 0.0745\n",
      "Epoch 3/5\n",
      "20000/20000 [==============================] - 1s 45us/step - loss: 0.0739\n",
      "Epoch 4/5\n",
      "20000/20000 [==============================] - 1s 45us/step - loss: 0.0741\n",
      "Epoch 5/5\n",
      "20000/20000 [==============================] - 1s 44us/step - loss: 0.0738\n",
      "0.07377640344202518\n",
      "Epoch 1/5\n",
      "20000/20000 [==============================] - 1s 58us/step - loss: 0.2138\n",
      "Epoch 2/5\n",
      "20000/20000 [==============================] - 1s 45us/step - loss: 0.2093\n",
      "Epoch 3/5\n",
      "20000/20000 [==============================] - 1s 45us/step - loss: 0.2096\n",
      "Epoch 4/5\n",
      "20000/20000 [==============================] - 1s 44us/step - loss: 0.2103\n",
      "Epoch 5/5\n",
      "20000/20000 [==============================] - 1s 44us/step - loss: 0.2098\n",
      "0.20975500743836165\n",
      "Epoch 1/5\n",
      "20000/20000 [==============================] - 1s 60us/step - loss: 0.4478\n",
      "Epoch 2/5\n",
      "20000/20000 [==============================] - 1s 45us/step - loss: 0.4421\n",
      "Epoch 3/5\n",
      "20000/20000 [==============================] - 1s 45us/step - loss: 0.4419\n",
      "Epoch 4/5\n",
      "20000/20000 [==============================] - 1s 45us/step - loss: 0.4420\n",
      "Epoch 5/5\n",
      "20000/20000 [==============================] - 1s 45us/step - loss: 0.4418\n",
      "0.4417622956633568\n",
      "Epoch 1/5\n",
      "20000/20000 [==============================] - 1s 60us/step - loss: 0.6655\n",
      "Epoch 2/5\n",
      "20000/20000 [==============================] - 1s 46us/step - loss: 0.6601\n",
      "Epoch 3/5\n",
      "20000/20000 [==============================] - 1s 45us/step - loss: 0.6598\n",
      "Epoch 4/5\n",
      "20000/20000 [==============================] - 1s 45us/step - loss: 0.6601\n",
      "Epoch 5/5\n",
      "20000/20000 [==============================] - 1s 45us/step - loss: 0.6596\n",
      "0.6595996153354645\n",
      "Epoch 1/5\n",
      "20000/20000 [==============================] - 1s 61us/step - loss: 0.6651\n",
      "Epoch 2/5\n",
      "20000/20000 [==============================] - 1s 46us/step - loss: 0.6545\n",
      "Epoch 3/5\n",
      "20000/20000 [==============================] - 1s 45us/step - loss: 0.6544\n",
      "Epoch 4/5\n",
      "20000/20000 [==============================] - 1s 46us/step - loss: 0.6545\n",
      "Epoch 5/5\n",
      "20000/20000 [==============================] - 1s 44us/step - loss: 0.6540\n",
      "0.654038063287735\n",
      "Epoch 1/5\n",
      "20000/20000 [==============================] - 1s 59us/step - loss: 0.4384\n",
      "Epoch 2/5\n",
      "20000/20000 [==============================] - 1s 43us/step - loss: 0.4327\n",
      "Epoch 3/5\n",
      "20000/20000 [==============================] - 1s 45us/step - loss: 0.4326\n",
      "Epoch 4/5\n",
      "20000/20000 [==============================] - 1s 44us/step - loss: 0.4325\n",
      "Epoch 5/5\n",
      "20000/20000 [==============================] - 1s 45us/step - loss: 0.4324\n",
      "0.4324327458441257\n",
      "Epoch 1/5\n",
      "20000/20000 [==============================] - 1s 68us/step - loss: 0.2061\n",
      "Epoch 2/5\n",
      "20000/20000 [==============================] - 1s 43us/step - loss: 0.2027\n",
      "Epoch 3/5\n",
      "20000/20000 [==============================] - 1s 42us/step - loss: 0.2027\n",
      "Epoch 4/5\n",
      "20000/20000 [==============================] - 1s 43us/step - loss: 0.2025\n",
      "Epoch 5/5\n",
      "20000/20000 [==============================] - 1s 43us/step - loss: 0.2026\n",
      "0.2026031931489706\n",
      "Epoch 1/5\n",
      "20000/20000 [==============================] - 1s 71us/step - loss: 0.0704\n",
      "Epoch 2/5\n",
      "20000/20000 [==============================] - 1s 46us/step - loss: 0.0686\n",
      "Epoch 3/5\n",
      "20000/20000 [==============================] - 1s 47us/step - loss: 0.0688\n",
      "Epoch 4/5\n",
      "20000/20000 [==============================] - 1s 46us/step - loss: 0.0686\n",
      "Epoch 5/5\n",
      "20000/20000 [==============================] - 1s 47us/step - loss: 0.0689\n",
      "0.06889569915365427\n",
      "Epoch 1/5\n",
      "20000/20000 [==============================] - 1s 69us/step - loss: 0.0166\n",
      "Epoch 2/5\n",
      "20000/20000 [==============================] - 1s 47us/step - loss: 0.0158\n",
      "Epoch 3/5\n",
      "20000/20000 [==============================] - 1s 45us/step - loss: 0.0156\n",
      "Epoch 4/5\n",
      "20000/20000 [==============================] - 1s 47us/step - loss: 0.0162\n",
      "Epoch 5/5\n",
      "20000/20000 [==============================] - 1s 46us/step - loss: 0.0161\n",
      "0.016061527835263406\n"
     ]
    }
   ],
   "source": [
    "xx = []\n",
    "yy = []\n",
    "for c in np.linspace(-5,5,10):\n",
    "    encoded_x = c - x\n",
    "    myclassifier_model.compile(optimizer='adam', loss='binary_crossentropy')\n",
    "    myloss = myclassifier_model.fit(np.concatenate([x,encoded_x]),np.concatenate([np.ones(len(x)),np.zeros(len(x))]), epochs=5, batch_size=int(0.01*len(x)))\n",
    "    print(myloss.history['loss'][-1])\n",
    "    xx+=[c]\n",
    "    yy+=[myloss.history['loss'][-1]]"
   ]
  },
  {
   "cell_type": "code",
   "execution_count": 9,
   "metadata": {},
   "outputs": [
    {
     "data": {
      "text/plain": [
       "[<matplotlib.lines.Line2D at 0x7efe343ebeb8>]"
      ]
     },
     "execution_count": 9,
     "metadata": {},
     "output_type": "execute_result"
    },
    {
     "data": {
      "image/png": "[encoded data removed]",
      "text/plain": [
       "<Figure size 432x288 with 1 Axes>"
      ]
     },
     "metadata": {
      "needs_background": "light"
     },
     "output_type": "display_data"
    }
   ],
   "source": [
    "plt.plot(xx,yy)"
   ]
  },
  {
   "cell_type": "code",
   "execution_count": 19,
   "metadata": {},
   "outputs": [],
   "source": [
    "#Try doing this fit automatically?  Just need "
   ]
  },
  {
   "cell_type": "code",
   "execution_count": 104,
   "metadata": {},
   "outputs": [],
   "source": [
    "from keras import backend as K\n",
    "from keras.engine.topology import Layer\n",
    "import numpy as np\n",
    "\n",
    "initializer = tf.keras.initializers.RandomUniform(minval=-5., maxval=5.)\n",
    "\n",
    "class MyLayer(Layer):\n",
    "\n",
    "    def __init__(self, **kwargs):\n",
    "        super(MyLayer, self).__init__(**kwargs)\n",
    "\n",
    "    def build(self, input_shape):\n",
    "        # Create a trainable weight variable for this layer.\n",
    "        self._c = self.add_weight(name='x', \n",
    "                                    shape=(1,),\n",
    "                                    initializer=initializer, #'uniform',\n",
    "                                    trainable=True)\n",
    "        super(MyLayer, self).build(input_shape)  # Be sure to call this at the end\n",
    "\n",
    "    def call(self, x):\n",
    "        return self._c - x"
   ]
  },
  {
   "cell_type": "code",
   "execution_count": 105,
   "metadata": {},
   "outputs": [],
   "source": [
    "mymodel_inputtest = Input(shape=(1,))\n",
    "mymodel_test = MyLayer()(mymodel_inputtest)\n",
    "myclassifier_model_test = Model(mymodel_inputtest, mymodel_test)"
   ]
  },
  {
   "cell_type": "code",
   "execution_count": 106,
   "metadata": {},
   "outputs": [
    {
     "name": "stdout",
     "output_type": "stream",
     "text": [
      "_________________________________________________________________\n",
      "Layer (type)                 Output Shape              Param #   \n",
      "=================================================================\n",
      "input_36 (InputLayer)        (None, 1)                 0         \n",
      "_________________________________________________________________\n",
      "my_layer_13 (MyLayer)        (None, 1)                 1         \n",
      "=================================================================\n",
      "Total params: 1\n",
      "Trainable params: 1\n",
      "Non-trainable params: 0\n",
      "_________________________________________________________________\n"
     ]
    }
   ],
   "source": [
    "myclassifier_model_test.summary()"
   ]
  },
  {
   "cell_type": "code",
   "execution_count": 107,
   "metadata": {},
   "outputs": [],
   "source": [
    "x_transform = myclassifier_model_test.predict(x)"
   ]
  },
  {
   "cell_type": "code",
   "execution_count": 108,
   "metadata": {},
   "outputs": [
    {
     "data": {
      "text/plain": [
       "<matplotlib.collections.PathCollection at 0x7efde3f8c320>"
      ]
     },
     "execution_count": 108,
     "metadata": {},
     "output_type": "execute_result"
    },
    {
     "data": {
      "image/png": "[encoded data removed]",
      "text/plain": [
       "<Figure size 432x288 with 1 Axes>"
      ]
     },
     "metadata": {
      "needs_background": "light"
     },
     "output_type": "display_data"
    }
   ],
   "source": [
    "plt.scatter(x,x_transform)"
   ]
  },
  {
   "cell_type": "code",
   "execution_count": 109,
   "metadata": {},
   "outputs": [],
   "source": [
    "def myloss(y_true, y_pred, alpha = 0.):\n",
    "    \n",
    "    myoutput =  mse(y_true[:,0],y_pred[:,1]) \\\n",
    "                - 1*binary_crossentropy(y_pred[:,2],K.ones_like(y_pred[:,0])) \\\n",
    "                - 1*binary_crossentropy(y_pred[:,3],0.*K.ones_like(y_pred[:,0]))\n",
    "    return myoutput"
   ]
  },
  {
   "cell_type": "code",
   "execution_count": 118,
   "metadata": {
    "scrolled": false
   },
   "outputs": [
    {
     "name": "stdout",
     "output_type": "stream",
     "text": [
      "on i= 0\n",
      "Epoch 1/5\n",
      "20000/20000 [==============================] - 7s 328us/step - loss: 0.3079\n",
      "Epoch 2/5\n",
      "20000/20000 [==============================] - 1s 59us/step - loss: 0.2810\n",
      "Epoch 3/5\n",
      "20000/20000 [==============================] - 1s 57us/step - loss: 0.2829\n",
      "Epoch 4/5\n",
      "20000/20000 [==============================] - 1s 54us/step - loss: 0.2812\n",
      "Epoch 5/5\n",
      "20000/20000 [==============================] - 1s 53us/step - loss: 0.2805\n",
      "Epoch 1/10\n",
      "10000/10000 [==============================] - 6s 611us/step - loss: -5.5978\n",
      "Epoch 2/10\n",
      "10000/10000 [==============================] - 1s 56us/step - loss: -5.9489\n",
      "Epoch 3/10\n",
      "10000/10000 [==============================] - 1s 53us/step - loss: -6.3399\n",
      "Epoch 4/10\n",
      "10000/10000 [==============================] - 1s 56us/step - loss: -6.7719\n",
      "Epoch 5/10\n",
      "10000/10000 [==============================] - 1s 54us/step - loss: -7.2438\n",
      "Epoch 6/10\n",
      "10000/10000 [==============================] - 1s 60us/step - loss: -7.7526\n",
      "Epoch 7/10\n",
      "10000/10000 [==============================] - 1s 60us/step - loss: -8.2919\n",
      "Epoch 8/10\n",
      "10000/10000 [==============================] - 1s 59us/step - loss: -8.8556\n",
      "Epoch 9/10\n",
      "10000/10000 [==============================] - 1s 59us/step - loss: -9.4345\n",
      "Epoch 10/10\n",
      "10000/10000 [==============================] - 1s 59us/step - loss: -10.0210\n",
      "on i= 1\n",
      "Epoch 1/5\n",
      "20000/20000 [==============================] - 7s 340us/step - loss: 0.5368\n",
      "Epoch 2/5\n",
      "20000/20000 [==============================] - 1s 58us/step - loss: 0.5296\n",
      "Epoch 3/5\n",
      "20000/20000 [==============================] - 1s 57us/step - loss: 0.5292\n",
      "Epoch 4/5\n",
      "20000/20000 [==============================] - 1s 59us/step - loss: 0.5299\n",
      "Epoch 5/5\n",
      "20000/20000 [==============================] - 1s 54us/step - loss: 0.5292\n",
      "Epoch 1/10\n",
      "10000/10000 [==============================] - 6s 629us/step - loss: -11.7045\n",
      "Epoch 2/10\n",
      "10000/10000 [==============================] - 1s 60us/step - loss: -12.0574\n",
      "Epoch 3/10\n",
      "10000/10000 [==============================] - 1s 60us/step - loss: -12.4191\n",
      "Epoch 4/10\n",
      "10000/10000 [==============================] - 1s 59us/step - loss: -12.7880\n",
      "Epoch 5/10\n",
      "10000/10000 [==============================] - 1s 59us/step - loss: -13.1618\n",
      "Epoch 6/10\n",
      "10000/10000 [==============================] - 1s 59us/step - loss: -13.5381\n",
      "Epoch 7/10\n",
      "10000/10000 [==============================] - 1s 59us/step - loss: -13.9141\n",
      "Epoch 8/10\n",
      "10000/10000 [==============================] - 1s 60us/step - loss: -14.2873\n",
      "Epoch 9/10\n",
      "10000/10000 [==============================] - 1s 52us/step - loss: -14.6557\n",
      "Epoch 10/10\n",
      "10000/10000 [==============================] - 1s 59us/step - loss: -15.0169\n",
      "on i= 2\n",
      "Epoch 1/5\n",
      "20000/20000 [==============================] - 7s 345us/step - loss: 0.6898\n",
      "Epoch 2/5\n",
      "20000/20000 [==============================] - 1s 59us/step - loss: 0.6866\n",
      "Epoch 3/5\n",
      "20000/20000 [==============================] - 1s 56us/step - loss: 0.6863\n",
      "Epoch 4/5\n",
      "20000/20000 [==============================] - 1s 58us/step - loss: 0.6861\n",
      "Epoch 5/5\n",
      "20000/20000 [==============================] - 1s 59us/step - loss: 0.6861\n",
      "Epoch 1/10\n",
      "10000/10000 [==============================] - 6s 631us/step - loss: -15.8435\n",
      "Epoch 2/10\n",
      "10000/10000 [==============================] - 1s 59us/step - loss: -15.9397\n",
      "Epoch 3/10\n",
      "10000/10000 [==============================] - 1s 55us/step - loss: -16.0355\n",
      "Epoch 4/10\n",
      "10000/10000 [==============================] - 1s 52us/step - loss: -16.1307\n",
      "Epoch 5/10\n",
      "10000/10000 [==============================] - 1s 55us/step - loss: -16.2253\n",
      "Epoch 6/10\n",
      "10000/10000 [==============================] - 1s 58us/step - loss: -16.3192\n",
      "Epoch 7/10\n",
      "10000/10000 [==============================] - 1s 59us/step - loss: -16.4123\n",
      "Epoch 8/10\n",
      "10000/10000 [==============================] - 1s 57us/step - loss: -16.5044\n",
      "Epoch 9/10\n",
      "10000/10000 [==============================] - 1s 58us/step - loss: -16.5954\n",
      "Epoch 10/10\n",
      "10000/10000 [==============================] - 1s 59us/step - loss: -16.6853\n",
      "on i= 3\n",
      "Epoch 1/5\n",
      "20000/20000 [==============================] - 7s 356us/step - loss: 0.6366\n",
      "Epoch 2/5\n",
      "20000/20000 [==============================] - 1s 59us/step - loss: 0.6298\n",
      "Epoch 3/5\n",
      "20000/20000 [==============================] - 1s 59us/step - loss: 0.6297\n",
      "Epoch 4/5\n",
      "20000/20000 [==============================] - 1s 60us/step - loss: 0.6299\n",
      "Epoch 5/5\n",
      "20000/20000 [==============================] - 1s 59us/step - loss: 0.6296\n",
      "Epoch 1/10\n",
      "10000/10000 [==============================] - 7s 650us/step - loss: -14.3253\n",
      "Epoch 2/10\n",
      "10000/10000 [==============================] - 1s 60us/step - loss: -14.5727\n",
      "Epoch 3/10\n",
      "10000/10000 [==============================] - 1s 60us/step - loss: -14.8211\n",
      "Epoch 4/10\n",
      "10000/10000 [==============================] - 1s 60us/step - loss: -15.0702\n",
      "Epoch 5/10\n",
      "10000/10000 [==============================] - 1s 56us/step - loss: -15.3191\n",
      "Epoch 6/10\n",
      "10000/10000 [==============================] - 1s 58us/step - loss: -15.5670\n",
      "Epoch 7/10\n",
      "10000/10000 [==============================] - 1s 58us/step - loss: -15.8129\n",
      "Epoch 8/10\n",
      "10000/10000 [==============================] - 1s 56us/step - loss: -16.0561\n",
      "Epoch 9/10\n",
      "10000/10000 [==============================] - 1s 58us/step - loss: -16.2959\n",
      "Epoch 10/10\n",
      "10000/10000 [==============================] - 1s 55us/step - loss: -16.5314\n",
      "on i= 4\n",
      "Epoch 1/5\n",
      "20000/20000 [==============================] - 7s 365us/step - loss: 0.6911\n",
      "Epoch 2/5\n",
      "20000/20000 [==============================] - 1s 59us/step - loss: 0.6858\n",
      "Epoch 3/5\n",
      "20000/20000 [==============================] - 1s 59us/step - loss: 0.6857\n",
      "Epoch 4/5\n",
      "20000/20000 [==============================] - 1s 59us/step - loss: 0.6856\n",
      "Epoch 5/5\n",
      "20000/20000 [==============================] - 1s 58us/step - loss: 0.6858\n",
      "Epoch 1/10\n",
      "10000/10000 [==============================] - 7s 672us/step - loss: -15.8561\n",
      "Epoch 2/10\n",
      "10000/10000 [==============================] - 1s 54us/step - loss: -15.9433\n",
      "Epoch 3/10\n",
      "10000/10000 [==============================] - 1s 60us/step - loss: -16.0300\n",
      "Epoch 4/10\n",
      "10000/10000 [==============================] - 1s 59us/step - loss: -16.1162\n",
      "Epoch 5/10\n",
      "10000/10000 [==============================] - 1s 53us/step - loss: -16.2019\n",
      "Epoch 6/10\n",
      "10000/10000 [==============================] - 1s 60us/step - loss: -16.2870\n",
      "Epoch 7/10\n",
      "10000/10000 [==============================] - 1s 60us/step - loss: -16.3714\n",
      "Epoch 8/10\n",
      "10000/10000 [==============================] - 1s 61us/step - loss: -16.4550\n",
      "Epoch 9/10\n",
      "10000/10000 [==============================] - 1s 61us/step - loss: -16.5378\n",
      "Epoch 10/10\n",
      "10000/10000 [==============================] - 1s 60us/step - loss: -16.6197\n",
      "on i= 5\n",
      "Epoch 1/5\n",
      "20000/20000 [==============================] - 7s 369us/step - loss: 0.6412\n",
      "Epoch 2/5\n",
      "20000/20000 [==============================] - 1s 59us/step - loss: 0.6310\n",
      "Epoch 3/5\n",
      "20000/20000 [==============================] - 1s 55us/step - loss: 0.6308\n",
      "Epoch 4/5\n",
      "20000/20000 [==============================] - 1s 57us/step - loss: 0.6306\n",
      "Epoch 5/5\n",
      "20000/20000 [==============================] - 1s 59us/step - loss: 0.6306\n",
      "Epoch 1/10\n",
      "10000/10000 [==============================] - 7s 692us/step - loss: -14.2375\n",
      "Epoch 2/10\n",
      "10000/10000 [==============================] - 1s 54us/step - loss: -14.5000\n",
      "Epoch 3/10\n",
      "10000/10000 [==============================] - 1s 59us/step - loss: -14.7637\n",
      "Epoch 4/10\n",
      "10000/10000 [==============================] - 1s 59us/step - loss: -15.0281\n",
      "Epoch 5/10\n",
      "10000/10000 [==============================] - 1s 61us/step - loss: -15.2921\n",
      "Epoch 6/10\n",
      "10000/10000 [==============================] - 1s 61us/step - loss: -15.5547\n",
      "Epoch 7/10\n",
      "10000/10000 [==============================] - 1s 58us/step - loss: -15.8149\n",
      "Epoch 8/10\n",
      "10000/10000 [==============================] - 1s 60us/step - loss: -16.0718\n",
      "Epoch 9/10\n",
      "10000/10000 [==============================] - 1s 54us/step - loss: -16.3243\n",
      "Epoch 10/10\n",
      "10000/10000 [==============================] - 1s 53us/step - loss: -16.5718\n",
      "on i= 6\n",
      "Epoch 1/5\n",
      "20000/20000 [==============================] - 8s 377us/step - loss: 0.6934\n",
      "Epoch 2/5\n",
      "20000/20000 [==============================] - 1s 58us/step - loss: 0.6854\n",
      "Epoch 3/5\n",
      "20000/20000 [==============================] - 1s 58us/step - loss: 0.6854\n",
      "Epoch 4/5\n"
     ]
    },
    {
     "name": "stdout",
     "output_type": "stream",
     "text": [
      "20000/20000 [==============================] - 1s 55us/step - loss: 0.6853\n",
      "Epoch 5/5\n",
      "20000/20000 [==============================] - 1s 53us/step - loss: 0.6855\n",
      "Epoch 1/10\n",
      "10000/10000 [==============================] - 7s 721us/step - loss: -15.8238\n",
      "Epoch 2/10\n",
      "10000/10000 [==============================] - 1s 59us/step - loss: -15.9240\n",
      "Epoch 3/10\n",
      "10000/10000 [==============================] - 1s 53us/step - loss: -16.0236\n",
      "Epoch 4/10\n",
      "10000/10000 [==============================] - 1s 54us/step - loss: -16.1227\n",
      "Epoch 5/10\n",
      "10000/10000 [==============================] - 1s 59us/step - loss: -16.2211\n",
      "Epoch 6/10\n",
      "10000/10000 [==============================] - 1s 52us/step - loss: -16.3187\n",
      "Epoch 7/10\n",
      "10000/10000 [==============================] - 1s 50us/step - loss: -16.4154\n",
      "Epoch 8/10\n",
      "10000/10000 [==============================] - 1s 50us/step - loss: -16.5111\n",
      "Epoch 9/10\n",
      "10000/10000 [==============================] - 0s 50us/step - loss: -16.6055\n",
      "Epoch 10/10\n",
      "10000/10000 [==============================] - 1s 51us/step - loss: -16.6987\n",
      "on i= 7\n",
      "Epoch 1/5\n",
      "20000/20000 [==============================] - 8s 384us/step - loss: 0.6465\n",
      "Epoch 2/5\n",
      "20000/20000 [==============================] - 1s 54us/step - loss: 0.6317\n",
      "Epoch 3/5\n",
      "20000/20000 [==============================] - 1s 59us/step - loss: 0.6318\n",
      "Epoch 4/5\n",
      "20000/20000 [==============================] - 1s 60us/step - loss: 0.6316\n",
      "Epoch 5/5\n",
      "20000/20000 [==============================] - 1s 59us/step - loss: 0.6316\n",
      "Epoch 1/10\n",
      "10000/10000 [==============================] - 7s 729us/step - loss: -14.3561\n",
      "Epoch 2/10\n",
      "10000/10000 [==============================] - 1s 61us/step - loss: -14.6037\n",
      "Epoch 3/10\n",
      "10000/10000 [==============================] - 1s 61us/step - loss: -14.8521\n",
      "Epoch 4/10\n",
      "10000/10000 [==============================] - 1s 62us/step - loss: -15.1011\n",
      "Epoch 5/10\n",
      "10000/10000 [==============================] - 1s 60us/step - loss: -15.3497\n",
      "Epoch 6/10\n",
      "10000/10000 [==============================] - 1s 56us/step - loss: -15.5970\n",
      "Epoch 7/10\n",
      "10000/10000 [==============================] - 1s 61us/step - loss: -15.8421\n",
      "Epoch 8/10\n",
      "10000/10000 [==============================] - 1s 61us/step - loss: -16.0840\n",
      "Epoch 9/10\n",
      "10000/10000 [==============================] - 1s 62us/step - loss: -16.3221\n",
      "Epoch 10/10\n",
      "10000/10000 [==============================] - 1s 59us/step - loss: -16.5555\n",
      "on i= 8\n",
      "Epoch 1/5\n",
      "20000/20000 [==============================] - 8s 394us/step - loss: 0.6929\n",
      "Epoch 2/5\n",
      "20000/20000 [==============================] - 1s 61us/step - loss: 0.6850\n",
      "Epoch 3/5\n",
      "20000/20000 [==============================] - 1s 61us/step - loss: 0.6851\n",
      "Epoch 4/5\n",
      "20000/20000 [==============================] - 1s 59us/step - loss: 0.6851\n",
      "Epoch 5/5\n",
      "20000/20000 [==============================] - 1s 59us/step - loss: 0.6851\n",
      "Epoch 1/10\n",
      "10000/10000 [==============================] - 7s 735us/step - loss: -15.8101\n",
      "Epoch 2/10\n",
      "10000/10000 [==============================] - 1s 52us/step - loss: -15.9141\n",
      "Epoch 3/10\n",
      "10000/10000 [==============================] - 1s 56us/step - loss: -16.0180\n",
      "Epoch 4/10\n",
      "10000/10000 [==============================] - 1s 59us/step - loss: -16.1218\n",
      "Epoch 5/10\n",
      "10000/10000 [==============================] - 1s 59us/step - loss: -16.2253\n",
      "Epoch 6/10\n",
      "10000/10000 [==============================] - 1s 59us/step - loss: -16.3284\n",
      "Epoch 7/10\n",
      "10000/10000 [==============================] - 1s 61us/step - loss: -16.4309\n",
      "Epoch 8/10\n",
      "10000/10000 [==============================] - 1s 60us/step - loss: -16.5327\n",
      "Epoch 9/10\n",
      "10000/10000 [==============================] - 1s 61us/step - loss: -16.6335\n",
      "Epoch 10/10\n",
      "10000/10000 [==============================] - 1s 57us/step - loss: -16.7332\n",
      "on i= 9\n",
      "Epoch 1/5\n",
      "20000/20000 [==============================] - 8s 406us/step - loss: 0.6487\n",
      "Epoch 2/5\n",
      "20000/20000 [==============================] - 1s 59us/step - loss: 0.6314\n",
      "Epoch 3/5\n",
      "20000/20000 [==============================] - 1s 60us/step - loss: 0.6317\n",
      "Epoch 4/5\n",
      "20000/20000 [==============================] - 1s 60us/step - loss: 0.6319\n",
      "Epoch 5/5\n",
      "20000/20000 [==============================] - 1s 55us/step - loss: 0.6316\n",
      "Epoch 1/10\n",
      "10000/10000 [==============================] - 8s 756us/step - loss: -14.4492\n",
      "Epoch 2/10\n",
      "10000/10000 [==============================] - 1s 54us/step - loss: -14.6829\n",
      "Epoch 3/10\n",
      "10000/10000 [==============================] - 1s 60us/step - loss: -14.9174\n",
      "Epoch 4/10\n",
      "10000/10000 [==============================] - 1s 60us/step - loss: -15.1523\n",
      "Epoch 5/10\n",
      "10000/10000 [==============================] - 1s 59us/step - loss: -15.3867\n",
      "Epoch 6/10\n",
      "10000/10000 [==============================] - 1s 56us/step - loss: -15.6200\n",
      "Epoch 7/10\n",
      "10000/10000 [==============================] - 1s 54us/step - loss: -15.8512\n",
      "Epoch 8/10\n",
      "10000/10000 [==============================] - 1s 55us/step - loss: -16.0794\n",
      "Epoch 9/10\n",
      "10000/10000 [==============================] - 1s 59us/step - loss: -16.3040\n",
      "Epoch 10/10\n",
      "10000/10000 [==============================] - 1s 59us/step - loss: -16.5243\n"
     ]
    }
   ],
   "source": [
    "myinput = Input(shape=(1,))\n",
    "encoded = MyLayer()(myinput)\n",
    "\n",
    "encoder = Model(myinput, encoded)\n",
    "\n",
    "encoder2 = encoder(encoder(myinput))\n",
    "autoencoder = Model(myinput, encoder2)\n",
    "\n",
    "combinedModel = Model(myinput,Concatenate(axis=-1)([encoded, encoder2]))\n",
    "\n",
    "myinput_classify = Input(shape=(1,))\n",
    "myclassifier = Dense(128, activation='elu')(myinput_classify)\n",
    "myclassifier = Dense(64, activation='elu')(myclassifier)\n",
    "myclassifier = Dense(1, activation='sigmoid')(myclassifier)\n",
    "myclassifier_model = Model(myinput_classify, myclassifier)\n",
    "myclassifier_input = myclassifier_model(myinput)\n",
    "myclassifier_encoded = myclassifier_model(encoded)\n",
    "\n",
    "combinedModel_classifier = Model(myinput,Concatenate(axis=-1)([encoded, encoder2, myclassifier_input, myclassifier_encoded]))\n",
    "\n",
    "for i in range(10):\n",
    "    print(\"on i=\",i)\n",
    "    #Now, train the classifier\n",
    "    encoded_x = encoder.predict(x)[:,0]\n",
    "    myclassifier_model.compile(optimizer='adam', loss='binary_crossentropy')\n",
    "    myclassifier_model.fit(np.concatenate([x,encoded_x]),np.concatenate([np.ones(len(x)),np.zeros(len(x))]), epochs=5, batch_size=int(0.01*len(x)))\n",
    "\n",
    "    #Now, update the autoencoder\n",
    "    for layer in myclassifier_model.layers[:]:\n",
    "        layer.trainable = False\n",
    "\n",
    "    combinedModel_classifier.compile(optimizer='adam', loss=lambda y_true, y_pred: myloss(y_true, y_pred))\n",
    "    combinedModel_classifier.fit(x,np.stack((x, x), axis=-1), epochs=10, batch_size=int(0.01*len(x)))\n",
    "    \n",
    "    for layer in myclassifier_model.layers[:]:\n",
    "        layer.trainable = True"
   ]
  },
  {
   "cell_type": "code",
   "execution_count": 119,
   "metadata": {},
   "outputs": [],
   "source": [
    "mypreds = combinedModel_classifier.predict(x)"
   ]
  },
  {
   "cell_type": "code",
   "execution_count": 120,
   "metadata": {},
   "outputs": [
    {
     "data": {
      "text/plain": [
       "<matplotlib.collections.PathCollection at 0x7efdd3708e48>"
      ]
     },
     "execution_count": 120,
     "metadata": {},
     "output_type": "execute_result"
    },
    {
     "data": {
      "image/png": "[encoded data removed]",
      "text/plain": [
       "<Figure size 432x288 with 1 Axes>"
      ]
     },
     "metadata": {
      "needs_background": "light"
     },
     "output_type": "display_data"
    }
   ],
   "source": [
    "plt.scatter(x,mypreds[:,0])\n",
    "plt.scatter(x,mypreds[:,1])"
   ]
  },
  {
   "cell_type": "code",
   "execution_count": 125,
   "metadata": {},
   "outputs": [
    {
     "name": "stdout",
     "output_type": "stream",
     "text": [
      "0\n",
      "1\n",
      "2\n",
      "3\n",
      "4\n",
      "5\n",
      "6\n",
      "7\n",
      "8\n",
      "9\n"
     ]
    }
   ],
   "source": [
    "myvals = []\n",
    "for i in range(10):\n",
    "    print(i)\n",
    "    myinput = Input(shape=(1,))\n",
    "    encoded = Dense(1, activation='relu')(myinput)\n",
    "    #encoded = Dense(64, activation='elu')(encoded)\n",
    "    #encoded = Dense(1, activation='linear')(encoded)\n",
    "\n",
    "    encoder = Model(myinput, encoded)\n",
    "    myvals += [encoder.predict(np.linspace(-4,4,10))]"
   ]
  },
  {
   "cell_type": "code",
   "execution_count": 124,
   "metadata": {},
   "outputs": [
    {
     "data": {
      "image/png": "[encoded data removed]",
      "text/plain": [
       "<Figure size 432x288 with 1 Axes>"
      ]
     },
     "metadata": {
      "needs_background": "light"
     },
     "output_type": "display_data"
    }
   ],
   "source": [
    "for i in range(10):\n",
    "    plt.plot(np.linspace(-4,4,10),myvals[i])"
   ]
  },
  {
   "cell_type": "code",
   "execution_count": 126,
   "metadata": {},
   "outputs": [
    {
     "data": {
      "image/png": "[encoded data removed]",
      "text/plain": [
       "<Figure size 432x288 with 1 Axes>"
      ]
     },
     "metadata": {
      "needs_background": "light"
     },
     "output_type": "display_data"
    }
   ],
   "source": [
    "for i in range(10):\n",
    "    plt.plot(np.linspace(-4,4,10),myvals[i])"
   ]
  },
  {
   "cell_type": "code",
   "execution_count": 5,
   "metadata": {},
   "outputs": [],
   "source": [
    "def myloss(y_true, y_pred, alpha = 0.):\n",
    "    #alpha determines the amount of decorrelation; 0 means no decorrelation.\n",
    "    \n",
    "    #We want to learn f(g(x)) = x with g != identity and g(x) and x should have the same probability density.\n",
    "    #g(x) = y_pred[:,0]\n",
    "    #f(g(x)) = y_pred[:,1]\n",
    "    #h(x) = y_pred[:,2]\n",
    "    #h(g(x)) = y_pred[:,3]\n",
    "    \n",
    "    myoutput =  mse(y_true[:,0],y_pred[:,1]) \\\n",
    "                - 1*binary_crossentropy(y_pred[:,2],K.ones_like(y_pred[:,0])) \\\n",
    "                - 1*binary_crossentropy(y_pred[:,3],0.*K.ones_like(y_pred[:,0]))\n",
    "    return myoutput"
   ]
  },
  {
   "cell_type": "code",
   "execution_count": 132,
   "metadata": {},
   "outputs": [
    {
     "name": "stdout",
     "output_type": "stream",
     "text": [
      "Epoch 1/5\n",
      "10000/10000 [==============================] - 10s 1ms/step - loss: 0.0495\n",
      "Epoch 2/5\n",
      "10000/10000 [==============================] - 1s 61us/step - loss: 0.0083\n",
      "Epoch 3/5\n",
      "10000/10000 [==============================] - 1s 62us/step - loss: 0.0067\n",
      "Epoch 4/5\n",
      "10000/10000 [==============================] - 1s 61us/step - loss: 0.0051\n",
      "Epoch 5/5\n",
      "10000/10000 [==============================] - 1s 61us/step - loss: 0.0039\n"
     ]
    },
    {
     "data": {
      "text/plain": [
       "<keras.callbacks.History at 0x7efdc64e04e0>"
      ]
     },
     "execution_count": 132,
     "metadata": {},
     "output_type": "execute_result"
    }
   ],
   "source": [
    "myinput = Input(shape=(1,))\n",
    "encoded = Dense(128, activation='elu')(myinput)\n",
    "encoded = Dense(64, activation='elu')(encoded)\n",
    "encoded = Dense(1, activation='linear')(encoded)\n",
    "\n",
    "encoder = Model(myinput, encoded)\n",
    "encoder2 = encoder(encoder(myinput))\n",
    "autoencoder = Model(myinput, encoder2)\n",
    "\n",
    "autoencoder.compile(optimizer='adam', loss='mse')\n",
    "autoencoder.fit(x,x, epochs=5, batch_size=int(0.01*len(x)))"
   ]
  },
  {
   "cell_type": "code",
   "execution_count": 135,
   "metadata": {},
   "outputs": [],
   "source": [
    "mypreds = autoencoder.predict(x)\n",
    "mypreds_e = encoder.predict(x)"
   ]
  },
  {
   "cell_type": "code",
   "execution_count": 136,
   "metadata": {},
   "outputs": [
    {
     "data": {
      "text/plain": [
       "<matplotlib.collections.PathCollection at 0x7efdc5ffeac8>"
      ]
     },
     "execution_count": 136,
     "metadata": {},
     "output_type": "execute_result"
    },
    {
     "data": {
      "image/png": "[encoded data removed]",
      "text/plain": [
       "<Figure size 432x288 with 1 Axes>"
      ]
     },
     "metadata": {
      "needs_background": "light"
     },
     "output_type": "display_data"
    }
   ],
   "source": [
    "plt.scatter(x,mypreds_e[:,0])\n",
    "plt.scatter(x,mypreds[:,0])"
   ]
  },
  {
   "cell_type": "code",
   "execution_count": 6,
   "metadata": {},
   "outputs": [
    {
     "name": "stdout",
     "output_type": "stream",
     "text": [
      "Epoch 1/5\n",
      "10000/10000 [==============================] - 2s 197us/step - loss: 0.0796\n",
      "Epoch 2/5\n",
      "10000/10000 [==============================] - 0s 42us/step - loss: 0.0512\n",
      "Epoch 3/5\n",
      "10000/10000 [==============================] - 0s 42us/step - loss: 0.0293\n",
      "Epoch 4/5\n",
      "10000/10000 [==============================] - 0s 43us/step - loss: 0.0129\n",
      "Epoch 5/5\n",
      "10000/10000 [==============================] - 0s 42us/step - loss: 0.0051\n",
      "on i= 0\n",
      "Epoch 1/5\n",
      "20000/20000 [==============================] - 1s 58us/step - loss: 0.6687\n",
      "Epoch 2/5\n",
      "20000/20000 [==============================] - 1s 45us/step - loss: 0.6681\n",
      "Epoch 3/5\n",
      "20000/20000 [==============================] - 1s 44us/step - loss: 0.6685\n",
      "Epoch 4/5\n",
      "20000/20000 [==============================] - 1s 45us/step - loss: 0.6678\n",
      "Epoch 5/5\n",
      "20000/20000 [==============================] - 1s 45us/step - loss: 0.6678\n",
      "0 0.37420580000000003\n",
      "Epoch 1/10\n",
      "10000/10000 [==============================] - 1s 101us/step - loss: -15.9694\n",
      "Epoch 2/10\n",
      "10000/10000 [==============================] - 1s 68us/step - loss: -17.7022\n",
      "Epoch 3/10\n",
      "10000/10000 [==============================] - 1s 67us/step - loss: -19.2564\n",
      "Epoch 4/10\n",
      "10000/10000 [==============================] - 1s 67us/step - loss: -20.4900\n",
      "Epoch 5/10\n",
      "10000/10000 [==============================] - 1s 66us/step - loss: -21.4972\n",
      "Epoch 6/10\n",
      "10000/10000 [==============================] - 1s 65us/step - loss: -22.2859\n",
      "Epoch 7/10\n",
      "10000/10000 [==============================] - 1s 66us/step - loss: -22.7960\n",
      "Epoch 8/10\n",
      "10000/10000 [==============================] - 1s 66us/step - loss: -23.1003\n",
      "Epoch 9/10\n",
      "10000/10000 [==============================] - 1s 66us/step - loss: -23.2920\n",
      "Epoch 10/10\n",
      "10000/10000 [==============================] - 1s 67us/step - loss: -23.4204\n",
      "on i= 1\n",
      "Epoch 1/5\n",
      "20000/20000 [==============================] - 1s 59us/step - loss: 0.2045\n",
      "Epoch 2/5\n",
      "20000/20000 [==============================] - 1s 46us/step - loss: 0.0035\n",
      "Epoch 3/5\n",
      "20000/20000 [==============================] - 1s 44us/step - loss: 9.7281e-04\n",
      "Epoch 4/5\n",
      "20000/20000 [==============================] - 1s 42us/step - loss: 4.7332e-04\n",
      "Epoch 5/5\n",
      "20000/20000 [==============================] - 1s 42us/step - loss: 2.8270e-04\n",
      "1 1.0\n",
      "Epoch 1/10\n",
      "10000/10000 [==============================] - 1s 105us/step - loss: -0.0161\n",
      "Epoch 2/10\n",
      "10000/10000 [==============================] - 1s 65us/step - loss: -2.8626\n",
      "Epoch 3/10\n",
      "10000/10000 [==============================] - 1s 68us/step - loss: -9.9448\n",
      "Epoch 4/10\n",
      "10000/10000 [==============================] - 1s 67us/step - loss: -15.2196\n",
      "Epoch 5/10\n",
      "10000/10000 [==============================] - 1s 68us/step - loss: -16.0043\n",
      "Epoch 6/10\n",
      "10000/10000 [==============================] - 1s 68us/step - loss: -16.0543\n",
      "Epoch 7/10\n",
      "10000/10000 [==============================] - 1s 67us/step - loss: -16.0709\n",
      "Epoch 8/10\n",
      "10000/10000 [==============================] - 1s 64us/step - loss: -16.0804\n",
      "Epoch 9/10\n",
      "10000/10000 [==============================] - 1s 67us/step - loss: -16.0873\n",
      "Epoch 10/10\n",
      "10000/10000 [==============================] - 1s 67us/step - loss: -16.0927\n",
      "on i= 2\n",
      "Epoch 1/5\n",
      "20000/20000 [==============================] - 1s 64us/step - loss: 1.0144\n",
      "Epoch 2/5\n",
      "20000/20000 [==============================] - 1s 46us/step - loss: 0.6093\n",
      "Epoch 3/5\n",
      "20000/20000 [==============================] - 1s 42us/step - loss: 0.6098\n",
      "Epoch 4/5\n",
      "20000/20000 [==============================] - 1s 43us/step - loss: 0.6099\n",
      "Epoch 5/5\n",
      "20000/20000 [==============================] - 1s 46us/step - loss: 0.6100\n",
      "2 0.72794015\n",
      "Epoch 1/10\n",
      "10000/10000 [==============================] - 1s 114us/step - loss: -15.3143\n",
      "Epoch 2/10\n",
      "10000/10000 [==============================] - 1s 68us/step - loss: -18.3835\n",
      "Epoch 3/10\n",
      "10000/10000 [==============================] - 1s 67us/step - loss: -20.1981\n",
      "Epoch 4/10\n",
      "10000/10000 [==============================] - 1s 69us/step - loss: -21.1452\n",
      "Epoch 5/10\n",
      "10000/10000 [==============================] - 1s 68us/step - loss: -21.5622\n",
      "Epoch 6/10\n",
      "10000/10000 [==============================] - 1s 67us/step - loss: -21.7572\n",
      "Epoch 7/10\n",
      "10000/10000 [==============================] - 1s 67us/step - loss: -21.8660\n",
      "Epoch 8/10\n",
      "10000/10000 [==============================] - 1s 67us/step - loss: -21.9333\n",
      "Epoch 9/10\n",
      "10000/10000 [==============================] - 1s 67us/step - loss: -21.9768\n",
      "Epoch 10/10\n",
      "10000/10000 [==============================] - 1s 66us/step - loss: -22.0063\n",
      "on i= 3\n",
      "Epoch 1/5\n",
      "20000/20000 [==============================] - 1s 66us/step - loss: 0.2348\n",
      "Epoch 2/5\n",
      "20000/20000 [==============================] - 1s 46us/step - loss: 0.0113\n",
      "Epoch 3/5\n",
      "20000/20000 [==============================] - 1s 46us/step - loss: 0.0043\n",
      "Epoch 4/5\n",
      "20000/20000 [==============================] - 1s 46us/step - loss: 0.0026\n",
      "Epoch 5/5\n",
      "20000/20000 [==============================] - 1s 45us/step - loss: 0.0019\n",
      "3 4.399999999999737e-07\n",
      "Epoch 1/10\n",
      "10000/10000 [==============================] - 1s 125us/step - loss: -1.1984\n",
      "Epoch 2/10\n",
      "10000/10000 [==============================] - 1s 70us/step - loss: -12.0414\n",
      "Epoch 3/10\n",
      "10000/10000 [==============================] - 1s 70us/step - loss: -15.6808\n",
      "Epoch 4/10\n",
      "10000/10000 [==============================] - 1s 68us/step - loss: -16.0471\n",
      "Epoch 5/10\n",
      "10000/10000 [==============================] - 1s 69us/step - loss: -16.0958\n",
      "Epoch 6/10\n",
      "10000/10000 [==============================] - 1s 69us/step - loss: -16.1099\n",
      "Epoch 7/10\n",
      "10000/10000 [==============================] - 1s 68us/step - loss: -16.1162\n",
      "Epoch 8/10\n",
      "10000/10000 [==============================] - 1s 68us/step - loss: -16.1200\n",
      "Epoch 9/10\n",
      "10000/10000 [==============================] - 1s 70us/step - loss: -16.1229\n",
      "Epoch 10/10\n",
      "10000/10000 [==============================] - 1s 68us/step - loss: -16.1252\n",
      "on i= 4\n",
      "Epoch 1/5\n",
      "20000/20000 [==============================] - 1s 73us/step - loss: 1.2069\n",
      "Epoch 2/5\n",
      "20000/20000 [==============================] - 1s 47us/step - loss: 0.6945\n",
      "Epoch 3/5\n",
      "20000/20000 [==============================] - 1s 47us/step - loss: 0.6950\n",
      "Epoch 4/5\n",
      "20000/20000 [==============================] - 1s 47us/step - loss: 0.6954\n",
      "Epoch 5/5\n",
      "20000/20000 [==============================] - 1s 46us/step - loss: 0.6946\n",
      "4 0.5045608100000001\n",
      "Epoch 1/10\n",
      "10000/10000 [==============================] - 1s 133us/step - loss: -16.2862\n",
      "Epoch 2/10\n",
      "10000/10000 [==============================] - 1s 70us/step - loss: -16.8508\n",
      "Epoch 3/10\n",
      "10000/10000 [==============================] - 1s 71us/step - loss: -17.2035\n",
      "Epoch 4/10\n",
      "10000/10000 [==============================] - 1s 71us/step - loss: -17.3560\n",
      "Epoch 5/10\n",
      "10000/10000 [==============================] - 1s 70us/step - loss: -17.4137\n",
      "Epoch 6/10\n",
      "10000/10000 [==============================] - 1s 69us/step - loss: -17.4324\n",
      "Epoch 7/10\n",
      "10000/10000 [==============================] - 1s 70us/step - loss: -17.4378\n",
      "Epoch 8/10\n",
      "10000/10000 [==============================] - 1s 69us/step - loss: -17.4393\n",
      "Epoch 9/10\n",
      "10000/10000 [==============================] - 1s 69us/step - loss: -17.4398\n",
      "Epoch 10/10\n",
      "10000/10000 [==============================] - 1s 69us/step - loss: -17.4400\n",
      "on i= 5\n",
      "Epoch 1/5\n",
      "20000/20000 [==============================] - 2s 77us/step - loss: 0.0633\n",
      "Epoch 2/5\n",
      "20000/20000 [==============================] - 1s 48us/step - loss: 0.0028\n",
      "Epoch 3/5\n",
      "20000/20000 [==============================] - 1s 46us/step - loss: 0.0011\n",
      "Epoch 4/5\n",
      "20000/20000 [==============================] - 1s 47us/step - loss: 5.6394e-04\n",
      "Epoch 5/5\n",
      "20000/20000 [==============================] - 1s 48us/step - loss: 3.5606e-04\n",
      "5 0.0\n",
      "Epoch 1/10\n",
      "10000/10000 [==============================] - 1s 140us/step - loss: -0.0210\n",
      "Epoch 2/10\n",
      "10000/10000 [==============================] - 1s 67us/step - loss: -7.7217\n",
      "Epoch 3/10\n",
      "10000/10000 [==============================] - 1s 67us/step - loss: -15.6263\n",
      "Epoch 4/10\n",
      "10000/10000 [==============================] - 1s 70us/step - loss: -16.0316\n",
      "Epoch 5/10\n",
      "10000/10000 [==============================] - 1s 70us/step - loss: -16.0786\n",
      "Epoch 6/10\n",
      "10000/10000 [==============================] - 1s 71us/step - loss: -16.0927\n",
      "Epoch 7/10\n",
      "10000/10000 [==============================] - 1s 70us/step - loss: -16.0994\n",
      "Epoch 8/10\n"
     ]
    },
    {
     "name": "stdout",
     "output_type": "stream",
     "text": [
      "10000/10000 [==============================] - 1s 70us/step - loss: -16.1034\n",
      "Epoch 9/10\n",
      "10000/10000 [==============================] - 1s 70us/step - loss: -16.1063\n",
      "Epoch 10/10\n",
      "10000/10000 [==============================] - 1s 70us/step - loss: -16.1086\n",
      "on i= 6\n",
      "Epoch 1/5\n",
      "20000/20000 [==============================] - 2s 82us/step - loss: 1.0586\n",
      "Epoch 2/5\n",
      "20000/20000 [==============================] - 1s 49us/step - loss: 0.6837\n",
      "Epoch 3/5\n",
      "20000/20000 [==============================] - 1s 47us/step - loss: 0.6826\n",
      "Epoch 4/5\n",
      "20000/20000 [==============================] - 1s 46us/step - loss: 0.6830\n",
      "Epoch 5/5\n",
      "20000/20000 [==============================] - 1s 48us/step - loss: 0.6828\n",
      "6 0.412785885\n",
      "Epoch 1/10\n",
      "10000/10000 [==============================] - 2s 152us/step - loss: -17.6883\n",
      "Epoch 2/10\n",
      "10000/10000 [==============================] - 1s 72us/step - loss: -20.1854\n",
      "Epoch 3/10\n",
      "10000/10000 [==============================] - 1s 69us/step - loss: -20.6117\n",
      "Epoch 4/10\n",
      "10000/10000 [==============================] - 1s 69us/step - loss: -20.6637\n",
      "Epoch 5/10\n",
      "10000/10000 [==============================] - 1s 71us/step - loss: -20.6759\n",
      "Epoch 6/10\n",
      "10000/10000 [==============================] - 1s 71us/step - loss: -20.6834\n",
      "Epoch 7/10\n",
      "10000/10000 [==============================] - 1s 71us/step - loss: -20.6894\n",
      "Epoch 8/10\n",
      "10000/10000 [==============================] - 1s 71us/step - loss: -20.6947\n",
      "Epoch 9/10\n",
      "10000/10000 [==============================] - 1s 70us/step - loss: -20.7002\n",
      "Epoch 10/10\n",
      "10000/10000 [==============================] - 1s 70us/step - loss: -20.7048\n",
      "on i= 7\n",
      "Epoch 1/5\n",
      "20000/20000 [==============================] - 2s 88us/step - loss: 0.0814\n",
      "Epoch 2/5\n",
      "20000/20000 [==============================] - 1s 47us/step - loss: 0.0163\n",
      "Epoch 3/5\n",
      "20000/20000 [==============================] - 1s 45us/step - loss: 0.0150\n",
      "Epoch 4/5\n",
      "20000/20000 [==============================] - 1s 48us/step - loss: 0.0141\n",
      "Epoch 5/5\n",
      "20000/20000 [==============================] - 1s 49us/step - loss: 0.0144\n",
      "7 0.9998753899999999\n",
      "Epoch 1/10\n",
      "10000/10000 [==============================] - 2s 163us/step - loss: -6.5250\n",
      "Epoch 2/10\n",
      "10000/10000 [==============================] - 1s 72us/step - loss: -15.8164\n",
      "Epoch 3/10\n",
      "10000/10000 [==============================] - 1s 74us/step - loss: -16.1356\n",
      "Epoch 4/10\n",
      "10000/10000 [==============================] - 1s 72us/step - loss: -16.1795\n",
      "Epoch 5/10\n",
      "10000/10000 [==============================] - 1s 69us/step - loss: -16.1949\n",
      "Epoch 6/10\n",
      "10000/10000 [==============================] - 1s 66us/step - loss: -16.2023\n",
      "Epoch 7/10\n",
      "10000/10000 [==============================] - 1s 68us/step - loss: -16.2066\n",
      "Epoch 8/10\n",
      "10000/10000 [==============================] - 1s 69us/step - loss: -16.2091\n",
      "Epoch 9/10\n",
      "10000/10000 [==============================] - 1s 69us/step - loss: -16.2110\n",
      "Epoch 10/10\n",
      "10000/10000 [==============================] - 1s 69us/step - loss: -16.2122\n",
      "on i= 8\n",
      "Epoch 1/5\n",
      "20000/20000 [==============================] - 2s 93us/step - loss: 1.2864\n",
      "Epoch 2/5\n",
      "20000/20000 [==============================] - 1s 50us/step - loss: 0.6728\n",
      "Epoch 3/5\n",
      "20000/20000 [==============================] - 1s 50us/step - loss: 0.6718\n",
      "Epoch 4/5\n",
      "20000/20000 [==============================] - 1s 46us/step - loss: 0.6703\n",
      "Epoch 5/5\n",
      "20000/20000 [==============================] - 1s 45us/step - loss: 0.6687\n",
      "8 0.40052947\n",
      "Epoch 1/10\n",
      "10000/10000 [==============================] - 2s 177us/step - loss: -18.1405\n",
      "Epoch 2/10\n",
      "10000/10000 [==============================] - 1s 72us/step - loss: -22.2595\n",
      "Epoch 3/10\n",
      "10000/10000 [==============================] - 1s 72us/step - loss: -22.9237\n",
      "Epoch 4/10\n",
      "10000/10000 [==============================] - 1s 73us/step - loss: -23.0973\n",
      "Epoch 5/10\n",
      "10000/10000 [==============================] - 1s 72us/step - loss: -23.1665\n",
      "Epoch 6/10\n",
      "10000/10000 [==============================] - 1s 71us/step - loss: -23.1989\n",
      "Epoch 7/10\n",
      "10000/10000 [==============================] - 1s 70us/step - loss: -23.2153\n",
      "Epoch 8/10\n",
      "10000/10000 [==============================] - 1s 72us/step - loss: -23.2240\n",
      "Epoch 9/10\n",
      "10000/10000 [==============================] - 1s 71us/step - loss: -23.2287\n",
      "Epoch 10/10\n",
      "10000/10000 [==============================] - 1s 72us/step - loss: -23.2313\n",
      "on i= 9\n",
      "Epoch 1/5\n",
      "20000/20000 [==============================] - 2s 97us/step - loss: 0.0749\n",
      "Epoch 2/5\n",
      "20000/20000 [==============================] - 1s 51us/step - loss: 0.0027\n",
      "Epoch 3/5\n",
      "20000/20000 [==============================] - 1s 50us/step - loss: 0.0012\n",
      "Epoch 4/5\n",
      "20000/20000 [==============================] - 1s 51us/step - loss: 7.4238e-04\n",
      "Epoch 5/5\n",
      "20000/20000 [==============================] - 1s 48us/step - loss: 4.9520e-04\n",
      "9 1.0\n",
      "Epoch 1/10\n",
      "10000/10000 [==============================] - 2s 189us/step - loss: -0.4144\n",
      "Epoch 2/10\n",
      "10000/10000 [==============================] - 1s 73us/step - loss: -13.5588\n",
      "Epoch 3/10\n",
      "10000/10000 [==============================] - 1s 73us/step - loss: -16.0581\n",
      "Epoch 4/10\n",
      "10000/10000 [==============================] - 1s 70us/step - loss: -16.0925\n",
      "Epoch 5/10\n",
      "10000/10000 [==============================] - 1s 71us/step - loss: -16.1044\n",
      "Epoch 6/10\n",
      "10000/10000 [==============================] - 1s 74us/step - loss: -16.1104\n",
      "Epoch 7/10\n",
      "10000/10000 [==============================] - 1s 75us/step - loss: -16.1139\n",
      "Epoch 8/10\n",
      "10000/10000 [==============================] - 1s 75us/step - loss: -16.1162\n",
      "Epoch 9/10\n",
      "10000/10000 [==============================] - 1s 73us/step - loss: -16.1177\n",
      "Epoch 10/10\n",
      "10000/10000 [==============================] - 1s 73us/step - loss: -16.1189\n"
     ]
    }
   ],
   "source": [
    "#setup the model\n",
    "\n",
    "myinput = Input(shape=(1,))\n",
    "encoded = Dense(5, activation='elu')(myinput)\n",
    "encoded = Dense(5, activation='elu')(encoded)\n",
    "encoded = Dense(1, activation='linear')(encoded)\n",
    "\n",
    "encoder = Model(myinput, encoded)\n",
    "encoder2 = encoder(encoder(myinput))\n",
    "autoencoder = Model(myinput, encoder2)\n",
    "\n",
    "combinedModel = Model(myinput,Concatenate(axis=-1)([encoded, encoder2]))\n",
    "\n",
    "myinput_classify = Input(shape=(1,))\n",
    "myclassifier = Dense(128, activation='elu')(myinput_classify)\n",
    "myclassifier = Dense(64, activation='elu')(myclassifier)\n",
    "myclassifier = Dense(1, activation='sigmoid')(myclassifier)\n",
    "myclassifier_model = Model(myinput_classify, myclassifier)\n",
    "myclassifier_input = myclassifier_model(myinput)\n",
    "myclassifier_encoded = myclassifier_model(encoded)\n",
    "\n",
    "combinedModel_classifier = Model(myinput,Concatenate(axis=-1)([encoded, encoder2, myclassifier_input, myclassifier_encoded]))\n",
    "\n",
    "#First, pretrain the autoencoder:\n",
    "autoencoder.compile(optimizer='adam', loss='mse')\n",
    "autoencoder.fit(x,x, epochs=5, batch_size=int(0.01*len(x)))\n",
    "\n",
    "preds = []\n",
    "\n",
    "for i in range(10):\n",
    "    print(\"on i=\",i)\n",
    "    #Now, train the classifier\n",
    "    encoded_x = encoder.predict(x)[:,0]\n",
    "    myclassifier_model.compile(optimizer='adam', loss='binary_crossentropy')\n",
    "    myclassifier_model.fit(np.concatenate([x,encoded_x]),np.concatenate([np.ones(len(x)),np.zeros(len(x))]), epochs=5, batch_size=int(0.01*len(x)))\n",
    "\n",
    "    y_scores = encoder.predict(np.concatenate([x,encoded_x]))\n",
    "    print(i,roc_auc_score(np.concatenate([np.ones(len(x)),np.zeros(len(x))]),y_scores))\n",
    "    \n",
    "    #Now, update the autoencoder\n",
    "    for layer in myclassifier_model.layers[:]:\n",
    "        layer.trainable = False\n",
    "\n",
    "    combinedModel_classifier.compile(optimizer='adam', loss=lambda y_true, y_pred: myloss(y_true, y_pred))\n",
    "    combinedModel_classifier.fit(x,np.stack((x, x), axis=-1), epochs=10, batch_size=int(0.01*len(x)))\n",
    "    \n",
    "    preds += [encoder.predict(np.linspace(-4,4,10))]\n",
    "    \n",
    "    for layer in myclassifier_model.layers[:]:\n",
    "        layer.trainable = True"
   ]
  },
  {
   "cell_type": "code",
   "execution_count": 7,
   "metadata": {},
   "outputs": [
    {
     "data": {
      "text/plain": [
       "<matplotlib.legend.Legend at 0x7fd2173cb1d0>"
      ]
     },
     "execution_count": 7,
     "metadata": {},
     "output_type": "execute_result"
    },
    {
     "data": {
      "image/png": "[encoded data removed]",
      "text/plain": [
       "<Figure size 432x288 with 1 Axes>"
      ]
     },
     "metadata": {
      "needs_background": "light"
     },
     "output_type": "display_data"
    }
   ],
   "source": [
    "for i in range(len(preds)):\n",
    "    plt.plot(np.linspace(-4,4,10),preds[i],label=str(i))\n",
    "    pass\n",
    "plt.legend(frameon=False)"
   ]
  },
  {
   "cell_type": "code",
   "execution_count": 8,
   "metadata": {},
   "outputs": [],
   "source": [
    "mypreds = combinedModel_classifier.predict(x)"
   ]
  },
  {
   "cell_type": "code",
   "execution_count": 9,
   "metadata": {},
   "outputs": [
    {
     "data": {
      "text/plain": [
       "<matplotlib.collections.PathCollection at 0x7fd217377588>"
      ]
     },
     "execution_count": 9,
     "metadata": {},
     "output_type": "execute_result"
    },
    {
     "data": {
      "image/png": "[encoded data removed]",
      "text/plain": [
       "<Figure size 432x288 with 1 Axes>"
      ]
     },
     "metadata": {
      "needs_background": "light"
     },
     "output_type": "display_data"
    }
   ],
   "source": [
    "plt.scatter(x,mypreds[:,0])\n",
    "plt.scatter(x,mypreds[:,1])"
   ]
  },
  {
   "cell_type": "code",
   "execution_count": null,
   "metadata": {},
   "outputs": [],
   "source": []
  }
 ],
 "metadata": {
  "kernelspec": {
   "display_name": "Python 3",
   "language": "python",
   "name": "python3"
  },
  "language_info": {
   "codemirror_mode": {
    "name": "ipython",
    "version": 3
   },
   "file_extension": ".py",
   "mimetype": "text/x-python",
   "name": "python",
   "nbconvert_exporter": "python",
   "pygments_lexer": "ipython3",
   "version": "3.6.9"
  }
 },
 "nbformat": 4,
 "nbformat_minor": 2
}
