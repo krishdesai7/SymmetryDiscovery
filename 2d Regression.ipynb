{
 "cells": [
  {
   "cell_type": "code",
   "execution_count": 1,
   "metadata": {},
   "outputs": [],
   "source": [
    "import numpy as np\n",
    "import matplotlib.pyplot as plt\n",
    "from sklearn.metrics import roc_curve, auc,roc_auc_score\n",
    "from sklearn.linear_model import LinearRegression"
   ]
  },
  {
   "cell_type": "code",
   "execution_count": 2,
   "metadata": {},
   "outputs": [],
   "source": [
    "import tensorflow.keras\n",
    "import tensorflow.keras.backend as K\n",
    "from tensorflow.keras.models import Sequential, Model\n",
    "from tensorflow.keras.layers import Dense, Activation, Dropout, ReLU, ELU, PReLU, Input, Concatenate, Lambda\n",
    "from tensorflow.keras.callbacks import ModelCheckpoint\n",
    "from tensorflow.keras.losses import mse, binary_crossentropy\n",
    "import tensorflow as tf"
   ]
  },
  {
   "cell_type": "code",
   "execution_count": 3,
   "metadata": {},
   "outputs": [],
   "source": [
    "def myloss2d(y_true, y_pred, alpha = 100):\n",
    "    #alpha determines the amount of decorrelation; 0 means no decorrelation.\n",
    "    \n",
    "    #We want to learn f(g(x)) = x with g != identity and g(x) and x should have the same probability density.\n",
    "    #g(x) = y_pred[:,0]\n",
    "    #f(g(x)) = y_pred[:,1]\n",
    "    #h(x) = y_pred[:,2]\n",
    "    #h(g(x)) = y_pred[:,3]\n",
    "    \n",
    "    myoutput =  mse(y_true[:,0],y_pred[:,1]) \\\n",
    "                - alpha*binary_crossentropy(y_pred[:,2],K.ones_like(y_pred[:,2])) \\\n",
    "                - alpha*binary_crossentropy(y_pred[:,3],0.*K.ones_like(y_pred[:,2]))\n",
    "    return myoutput"
   ]
  },
  {
   "cell_type": "code",
   "execution_count": 4,
   "metadata": {},
   "outputs": [
    {
     "name": "stdout",
     "output_type": "stream",
     "text": [
      "on j= 0\n",
      "on j= 1\n",
      "on j= 2\n",
      "on j= 3\n",
      "on j= 4\n",
      "on j= 5\n",
      "on j= 6\n",
      "on j= 7\n",
      "on j= 8\n",
      "on j= 9\n"
     ]
    }
   ],
   "source": [
    "num_iters = 10\n",
    "training = 20\n",
    "zero = [0]*100000\n",
    "slopes = []\n",
    "intercepts = []\n",
    "\n",
    "for j in range(num_iters):\n",
    "    print(\"on j=\",j)\n",
    "    x0 = np.random.normal(0,1,100000)\n",
    "    x1 = np.random.normal(0,2,100000)\n",
    "    X = np.concatenate((np.c_[x0, zero], np.c_[zero, x1]))\n",
    "    np.random.shuffle(X)\n",
    "    \n",
    "    myinput_2d = Input(shape=(2,))\n",
    "    encoded_2d = Dense(5, activation='elu')(myinput_2d)\n",
    "    encoded_2d = Dense(5, activation='elu')(encoded_2d)\n",
    "    encoded_2d = Dense(2, activation='linear')(encoded_2d)\n",
    "\n",
    "    encoder_2d = Model(myinput_2d, encoded_2d)\n",
    "    encoder2_2d = encoder_2d(encoder_2d(myinput_2d))\n",
    "    autoencoder_2d = Model(myinput_2d, encoder2_2d)\n",
    "\n",
    "    combinedModel_2d = Model(myinput_2d,Concatenate(axis=-1)([encoded_2d, encoder2_2d]))\n",
    "\n",
    "    myinput_classify_2d = Input(shape=(2,))\n",
    "    myclassifier_2d = Dense(128, activation='elu')(myinput_classify_2d)\n",
    "    myclassifier_2d = Dense(64, activation='elu')(myclassifier_2d)\n",
    "    myclassifier_2d = Dense(1, activation='sigmoid')(myclassifier_2d)\n",
    "    myclassifier_model_2d = Model(myinput_classify_2d, myclassifier_2d)\n",
    "    myclassifier_input_2d = myclassifier_model_2d(myinput_2d)\n",
    "    myclassifier_encoded_2d = myclassifier_model_2d(encoded_2d)\n",
    "\n",
    "    combinedModel_classifier_2d = Model(myinput_2d,Concatenate(axis=-1)([encoded_2d, encoder2_2d, myclassifier_input_2d, myclassifier_encoded_2d]))\n",
    "\n",
    "    preds = []\n",
    "    preds += [encoder_2d.predict(X)]\n",
    "\n",
    "    for i in range(training):\n",
    "        #Now, train the classifier\n",
    "        encoded_x_2d = encoder_2d.predict(X)\n",
    "        myclassifier_model_2d.compile(optimizer='adam', loss='binary_crossentropy')\n",
    "        myclassifier_model_2d.fit(np.concatenate([X,encoded_x_2d]),np.concatenate([np.ones(len(X)),np.zeros(len(X))]), epochs=1, batch_size=int(0.01*len(X)), verbose=0)\n",
    "\n",
    "        #Now, update the autoencoder\n",
    "        for layer in myclassifier_model_2d.layers[:]:\n",
    "            layer.trainable = False\n",
    "\n",
    "        combinedModel_classifier_2d.compile(optimizer='adam', loss=lambda y_true, y_pred: myloss2d(y_true, y_pred))\n",
    "        combinedModel_classifier_2d.fit(X,X, epochs=1, batch_size=int(0.01*len(X)), verbose=0)\n",
    "\n",
    "        autoencoder_2d.compile(optimizer='adam', loss='mse')\n",
    "        autoencoder_2d.fit(X,X, epochs=5, batch_size=int(0.01*len(x0)), verbose=0)\n",
    "\n",
    "        preds += [encoder_2d.predict(X)]\n",
    "\n",
    "        for layer in myclassifier_model_2d.layers[:]:\n",
    "            layer.trainable = True\n",
    "            \n",
    "            \n",
    "            \n",
    "    model = LinearRegression().fit(X, preds[-1]);\n",
    "    slopes.append(model.coef_);\n",
    "    intercepts.append(model.intercept_)\n",
    "    "
   ]
  },
  {
   "cell_type": "code",
   "execution_count": 5,
   "metadata": {},
   "outputs": [
    {
     "name": "stdout",
     "output_type": "stream",
     "text": [
      "Determinants:\n",
      "-1.0\n",
      "-2.0\n",
      "-1.0\n",
      "-5.0\n",
      "1.0\n",
      "0.0\n",
      "-1.0\n",
      "-1.0\n",
      "-1.0\n",
      "1.0\n"
     ]
    }
   ],
   "source": [
    "print(\"Determinants:\")\n",
    "for i in range(num_iters):\n",
    "    det = np.linalg.det(slopes[i])\n",
    "    print(round(det, 0))"
   ]
  },
  {
   "cell_type": "code",
   "execution_count": 6,
   "metadata": {},
   "outputs": [
    {
     "name": "stdout",
     "output_type": "stream",
     "text": [
      "Slopes:\n",
      "-7.54\t-13.83\n",
      "3.66 \t6.82  \n",
      "\n",
      "\n",
      "-6.24 \t3.45\n",
      "-12.51\t7.22\n",
      "\n",
      "\n",
      "-6.13\t-5.32\n",
      "7.15 \t6.31 \n",
      "\n",
      "\n",
      "-5.98\t-3.44\n",
      "13.78\t8.71 \n",
      "\n",
      "\n",
      "0.7  \t0.16\n",
      "-1.25\t0.83\n",
      "\n",
      "\n",
      "-3.76\t-4.2\n",
      "3.22 \t3.59\n",
      "\n",
      "\n",
      "3.59 \t1.62 \n",
      "-4.19\t-2.26\n",
      "\n",
      "\n",
      "-0.39\t-0.09\n",
      "-2.79\t1.48 \n",
      "\n",
      "\n",
      "1.55 \t-0.23\n",
      "-4.07\t-0.18\n",
      "\n",
      "\n",
      "0.98 \t-0.01\n",
      "-0.01\t0.99 \n",
      "\n",
      "\n"
     ]
    }
   ],
   "source": [
    "print(\"Slopes:\")\n",
    "for i in range(num_iters):\n",
    "    s = [[str(np.around(e, 2)) for e in row] for row in slopes[i]]\n",
    "    lens = [max(map(len, col)) for col in zip(*s)]\n",
    "    fmt = '\\t'.join('{{:{}}}'.format(x) for x in lens)\n",
    "    table = [fmt.format(*row) for row in s]\n",
    "    print (\"\\n\".join(table))\n",
    "    print(\"\\n\")"
   ]
  },
  {
   "cell_type": "code",
   "execution_count": null,
   "metadata": {},
   "outputs": [],
   "source": []
  },
  {
   "cell_type": "code",
   "execution_count": 7,
   "metadata": {},
   "outputs": [
    {
     "name": "stdout",
     "output_type": "stream",
     "text": [
      "Intercepts:\n",
      "[-19.97   8.4 ]\n",
      "[ 6.14 11.45]\n",
      "[-5.97  5.75]\n",
      "[-6.51 11.42]\n",
      "[0.29 0.91]\n",
      "[-4.26  2.86]\n",
      "[-3.62  5.98]\n",
      "[2.55 4.74]\n",
      "[-0.49  2.12]\n",
      "[-0. -0.]\n"
     ]
    }
   ],
   "source": [
    "print(\"Intercepts:\")\n",
    "for i in range(num_iters):\n",
    "    print(np.around(intercepts[i], 2))"
   ]
  },
  {
   "cell_type": "code",
   "execution_count": 8,
   "metadata": {},
   "outputs": [
    {
     "data": {
      "text/plain": [
       "<matplotlib.legend.Legend at 0x2aab14530bd0>"
      ]
     },
     "execution_count": 8,
     "metadata": {},
     "output_type": "execute_result"
    },
    {
     "data": {
      "image/png": "[encoded data removed]",
      "text/plain": [
       "<Figure size 612x612 with 1 Axes>"
      ]
     },
     "metadata": {
      "needs_background": "light"
     },
     "output_type": "display_data"
    }
   ],
   "source": [
    "f = plt.figure(figsize=(8.5, 8.5))\n",
    "plt.scatter(X[:,0],preds[-1][:,0],label=\"$x_0$\")\n",
    "plt.scatter(X[:,1],preds[-1][:,1],label=\"$x_1$\")\n",
    "plt.plot(np.linspace(-4,4,10),np.linspace(-4,4,10),ls=':',color=\"gray\")\n",
    "plt.plot(np.linspace(-4,4,10),-np.linspace(-4,4,10),ls=':',color=\"gray\")\n",
    "plt.xlabel(\"x\")\n",
    "plt.ylabel(\"Encoder(x)\")\n",
    "plt.legend(frameon=False)"
   ]
  },
  {
   "cell_type": "code",
   "execution_count": 9,
   "metadata": {},
   "outputs": [],
   "source": [
    "mypreds = combinedModel_classifier_2d.predict(X)"
   ]
  },
  {
   "cell_type": "code",
   "execution_count": 10,
   "metadata": {},
   "outputs": [
    {
     "data": {
      "text/plain": [
       "<matplotlib.legend.Legend at 0x2aac000cf210>"
      ]
     },
     "execution_count": 10,
     "metadata": {},
     "output_type": "execute_result"
    },
    {
     "data": {
      "image/png": "[encoded data removed]",
      "text/plain": [
       "<Figure size 612x612 with 1 Axes>"
      ]
     },
     "metadata": {
      "needs_background": "light"
     },
     "output_type": "display_data"
    }
   ],
   "source": [
    "f = plt.figure(figsize=(8.5, 8.5))\n",
    "plt.scatter(X[:,0],mypreds[:,2],label=\"$x_0$\")\n",
    "plt.scatter(X[:,1],mypreds[:,3],label=\"$x_1$\")\n",
    "plt.plot(np.linspace(-4,4,10),np.linspace(-4,4,10),ls=':',color=\"gray\")\n",
    "plt.xlabel(\"x\")\n",
    "plt.ylabel(\"Autoencoder(x) = Encoder$^2$(x)\")\n",
    "plt.legend(frameon=False)"
   ]
  },
  {
   "cell_type": "code",
   "execution_count": 11,
   "metadata": {},
   "outputs": [],
   "source": [
    "Y = encoder_2d.predict(X)"
   ]
  },
  {
   "cell_type": "code",
   "execution_count": 12,
   "metadata": {},
   "outputs": [
    {
     "data": {
      "image/png": "[encoded data removed]",
      "text/plain": [
       "<Figure size 432x288 with 1 Axes>"
      ]
     },
     "metadata": {
      "needs_background": "light"
     },
     "output_type": "display_data"
    }
   ],
   "source": [
    "plt.hist2d(Y[:,0], Y[:, 1]);\n",
    "plt.xlabel(\"Y\");"
   ]
  },
  {
   "cell_type": "code",
   "execution_count": 13,
   "metadata": {},
   "outputs": [
    {
     "data": {
      "image/png": "[encoded data removed]",
      "text/plain": [
       "<Figure size 432x288 with 1 Axes>"
      ]
     },
     "metadata": {
      "needs_background": "light"
     },
     "output_type": "display_data"
    }
   ],
   "source": [
    "plt.hist(Y[:,0], bins=10);\n",
    "plt.xlabel(\"Encoder(X)_0\");"
   ]
  },
  {
   "cell_type": "code",
   "execution_count": 14,
   "metadata": {},
   "outputs": [
    {
     "data": {
      "image/png": "[encoded data removed]",
      "text/plain": [
       "<Figure size 432x288 with 1 Axes>"
      ]
     },
     "metadata": {
      "needs_background": "light"
     },
     "output_type": "display_data"
    }
   ],
   "source": [
    "plt.hist(Y[:,1], bins=10);\n",
    "plt.xlabel(\"Encoder(X)_1\");"
   ]
  },
  {
   "cell_type": "code",
   "execution_count": null,
   "metadata": {},
   "outputs": [],
   "source": []
  }
 ],
 "metadata": {
  "kernelspec": {
   "display_name": "tensorflow-v2.2.0-gpu",
   "language": "python",
   "name": "tensorflow_gpu_2.2.0-py37"
  },
  "language_info": {
   "codemirror_mode": {
    "name": "ipython",
    "version": 3
   },
   "file_extension": ".py",
   "mimetype": "text/x-python",
   "name": "python",
   "nbconvert_exporter": "python",
   "pygments_lexer": "ipython3",
   "version": "3.7.4"
  }
 },
 "nbformat": 4,
 "nbformat_minor": 4
}
