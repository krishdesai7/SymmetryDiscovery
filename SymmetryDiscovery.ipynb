{
  "cells": [
    {
      "cell_type": "code",
      "source": [
        "import numpy as np\n",
        "import matplotlib.pyplot as plt\n",
        "from sklearn.metrics import roc_curve, auc,roc_auc_score"
      ],
      "outputs": [],
      "execution_count": 2,
      "metadata": {
        "execution": {
          "iopub.execute_input": "2020-10-22T18:25:17.823Z",
          "iopub.status.busy": "2020-10-22T18:25:17.817Z",
          "iopub.status.idle": "2020-10-22T18:25:17.827Z",
          "shell.execute_reply": "2020-10-22T18:25:17.799Z"
        }
      }
    },
    {
      "cell_type": "code",
      "source": [
        "x = mydata = (np.random.beta(0.5, 0.5, 10000)-0.5)"
      ],
      "outputs": [],
      "execution_count": 11,
      "metadata": {
        "execution": {
          "iopub.execute_input": "2020-10-22T18:25:17.838Z",
          "iopub.status.busy": "2020-10-22T18:25:17.834Z",
          "iopub.status.idle": "2020-10-22T18:25:17.844Z",
          "shell.execute_reply": "2020-10-22T18:25:17.807Z"
        }
      }
    },
    {
      "cell_type": "code",
      "source": [
        "    plt.hist(x)\n",
        "\n"
      ],
      "outputs": [
        {
          "output_type": "execute_result",
          "execution_count": 12,
          "data": {
            "text/plain": "(array([2061.,  882.,  778.,  666.,  661.,  629.,  653.,  750.,  841.,\n        2079.]),\n array([-4.99999987e-01, -3.99999989e-01, -2.99999990e-01, -1.99999992e-01,\n        -9.99999932e-02,  5.33113942e-09,  1.00000004e-01,  2.00000002e-01,\n         3.00000001e-01,  4.00000000e-01,  4.99999998e-01]),\n <a list of 10 Patch objects>)"
          },
          "metadata": {}
        },
        {
          "output_type": "display_data",
          "data": {
            "image/png": "[encoded data removed]",
            "text/plain": "<Figure size 432x288 with 1 Axes>"
          },
          "metadata": {
            "needs_background": "light"
          }
        }
      ],
      "execution_count": 12,
      "metadata": {
        "execution": {
          "iopub.execute_input": "2020-10-22T18:25:17.856Z",
          "iopub.status.busy": "2020-10-22T18:25:17.852Z",
          "iopub.status.idle": "2020-10-22T18:25:17.941Z",
          "shell.execute_reply": "2020-10-22T18:25:18.008Z"
        }
      }
    },
    {
      "cell_type": "code",
      "source": [
        "import keras\n",
        "import keras.backend as K\n",
        "from keras.models import Sequential, Model\n",
        "from keras.layers import Dense, Activation, Dropout, ReLU, ELU, PReLU, Input, Concatenate, Lambda\n",
        "from keras.callbacks import ModelCheckpoint\n",
        "from keras.losses import mse, binary_crossentropy\n",
        "import tensorflow as tf"
      ],
      "outputs": [],
      "execution_count": 5,
      "metadata": {
        "execution": {
          "iopub.execute_input": "2020-10-22T18:25:17.952Z",
          "iopub.status.busy": "2020-10-22T18:25:17.947Z",
          "iopub.status.idle": "2020-10-22T18:25:17.961Z",
          "shell.execute_reply": "2020-10-22T18:25:18.013Z"
        }
      }
    },
    {
      "cell_type": "code",
      "source": [
        "def myloss(y_true, y_pred, alpha = 0.01):\n",
        "    #alpha determines the amount of decorrelation; 0 means no decorrelation.\n",
        "    \n",
        "    #We want to learn f(g(x)) = x with g != identity and g(x) and x should have the same probability density.\n",
        "    #g(x) = y_pred[:,0]\n",
        "    #f(g(x)) = y_pred[:,1]\n",
        "    #h(x) = y_pred[:,2]\n",
        "    #h(g(x)) = y_pred[:,3]\n",
        "    \n",
        "    myoutput =  mse(y_true[:,0],y_pred[:,1]) \\\n",
        "                - alpha*binary_crossentropy(y_pred[:,2],K.ones_like(y_pred[:,0])) \\\n",
        "                - alpha*binary_crossentropy(y_pred[:,3],0.*K.ones_like(y_pred[:,0]))\n",
        "    return myoutput\n",
        "    "
      ],
      "outputs": [],
      "execution_count": 6,
      "metadata": {
        "execution": {
          "iopub.execute_input": "2020-10-22T18:25:17.972Z",
          "iopub.status.busy": "2020-10-22T18:25:17.967Z",
          "iopub.status.idle": "2020-10-22T18:25:17.979Z",
          "shell.execute_reply": "2020-10-22T18:25:18.016Z"
        }
      }
    },
    {
      "cell_type": "code",
      "source": [
        "#setup the model\n",
        "\n",
        "myinput = Input(shape=(1,))\n",
        "encoded = Dense(5, activation='elu')(myinput)\n",
        "encoded = Dense(5, activation='elu')(encoded)\n",
        "encoded = Dense(1, activation='linear')(encoded)\n",
        "\n",
        "encoder = Model(myinput, encoded)\n",
        "encoder2 = encoder(encoder(myinput))\n",
        "autoencoder = Model(myinput, encoder2)\n",
        "\n",
        "combinedModel = Model(myinput,Concatenate(axis=-1)([encoded, encoder2]))\n",
        "\n",
        "myinput_classify = Input(shape=(1,))\n",
        "myclassifier = Dense(128, activation='elu')(myinput_classify)\n",
        "myclassifier = Dense(64, activation='elu')(myclassifier)\n",
        "myclassifier = Dense(1, activation='sigmoid')(myclassifier)\n",
        "myclassifier_model = Model(myinput_classify, myclassifier)\n",
        "myclassifier_input = myclassifier_model(myinput)\n",
        "myclassifier_encoded = myclassifier_model(encoded)\n",
        "\n",
        "combinedModel_classifier = Model(myinput,Concatenate(axis=-1)([encoded, encoder2, myclassifier_input, myclassifier_encoded]))\n",
        "\n",
        "#First, pretrain the autoencoder:\n",
        "#autoencoder.compile(optimizer='adam', loss='mse')\n",
        "#autoencoder.fit(x,x, epochs=5, batch_size=int(0.01*len(x)))\n",
        "\n",
        "preds = []\n",
        "preds += [encoder.predict(np.linspace(-4,4,10))]\n",
        "\n",
        "for i in range(10):\n",
        "    print(\"on i=\",i)\n",
        "    #Now, train the classifier\n",
        "    encoded_x = encoder.predict(x)[:,0]\n",
        "    myclassifier_model.compile(optimizer='adam', loss='binary_crossentropy')\n",
        "    myclassifier_model.fit(np.concatenate([x,encoded_x]),np.concatenate([np.ones(len(x)),np.zeros(len(x))]), epochs=1, batch_size=int(0.01*len(x)))\n",
        "\n",
        "    y_scores = encoder.predict(np.concatenate([x,encoded_x]))\n",
        "    print(i,roc_auc_score(np.concatenate([np.ones(len(x)),np.zeros(len(x))]),y_scores))\n",
        "    \n",
        "    #Now, update the autoencoder\n",
        "    for layer in myclassifier_model.layers[:]:\n",
        "        layer.trainable = False\n",
        "\n",
        "    combinedModel_classifier.compile(optimizer='adam', loss=lambda y_true, y_pred: myloss(y_true, y_pred))\n",
        "    combinedModel_classifier.fit(x,np.stack((x, x), axis=-1), epochs=1, batch_size=int(0.01*len(x)))\n",
        "    \n",
        "    preds += [encoder.predict(np.linspace(-4,4,10))]\n",
        "    \n",
        "    for layer in myclassifier_model.layers[:]:\n",
        "        layer.trainable = True\n",
        "        "
      ],
      "outputs": [
        {
          "output_type": "stream",
          "name": "stdout",
          "text": [
            "on i= 0\n",
            "200/200 [==============================] - 0s 669us/step - loss: 0.6831\n",
            "0 0.50140819\n",
            "100/100 [==============================] - 0s 822us/step - loss: -0.1424\n",
            "on i= 1\n",
            "200/200 [==============================] - 0s 676us/step - loss: 0.7019\n",
            "1 0.498976625\n",
            "100/100 [==============================] - 0s 831us/step - loss: -0.1535\n",
            "on i= 2\n",
            "200/200 [==============================] - 0s 674us/step - loss: 0.6943\n",
            "2 0.5014714849999999\n",
            "100/100 [==============================] - 0s 937us/step - loss: -0.1535\n",
            "on i= 3\n",
            "200/200 [==============================] - 0s 695us/step - loss: 0.6941\n",
            "3 0.498827025\n",
            "100/100 [==============================] - 0s 851us/step - loss: -0.1535\n",
            "on i= 4\n",
            "200/200 [==============================] - 0s 670us/step - loss: 0.6935\n",
            "4 0.50258275\n",
            "100/100 [==============================] - 0s 861us/step - loss: -0.1535\n",
            "on i= 5\n",
            "200/200 [==============================] - 0s 782us/step - loss: 0.6934\n",
            "5 0.50112601\n",
            "100/100 [==============================] - 0s 835us/step - loss: -0.1535\n",
            "on i= 6\n",
            "200/200 [==============================] - 0s 701us/step - loss: 0.6933\n",
            "6 0.49990576\n",
            "100/100 [==============================] - 0s 805us/step - loss: -0.1536\n",
            "on i= 7\n",
            "200/200 [==============================] - 0s 699us/step - loss: 0.6935\n",
            "7 0.49970167\n",
            "100/100 [==============================] - 0s 843us/step - loss: -0.1536\n",
            "on i= 8\n",
            "200/200 [==============================] - 0s 759us/step - loss: 0.6933\n",
            "8 0.5006647\n",
            "100/100 [==============================] - 0s 850us/step - loss: -0.1536\n",
            "on i= 9\n",
            "200/200 [==============================] - 0s 703us/step - loss: 0.6935\n",
            "9 0.500939445\n",
            "100/100 [==============================] - 0s 814us/step - loss: -0.1536\n"
          ]
        }
      ],
      "execution_count": 7,
      "metadata": {
        "execution": {
          "iopub.execute_input": "2020-10-22T18:25:17.990Z",
          "iopub.status.busy": "2020-10-22T18:25:17.986Z",
          "iopub.status.idle": "2020-10-22T18:25:37.068Z",
          "shell.execute_reply": "2020-10-22T18:25:37.084Z"
        }
      }
    },
    {
      "cell_type": "code",
      "source": [
        "    for i in range(len(preds)):\n",
        "        plt.plot(np.linspace(-4,4,10),preds[i],label=str(i))\n",
        "        pass\n",
        "    plt.legend(frameon=False)\n"
      ],
      "outputs": [
        {
          "output_type": "execute_result",
          "execution_count": 8,
          "data": {
            "text/plain": "<matplotlib.legend.Legend at 0x7fbf1bfa4d00>"
          },
          "metadata": {}
        },
        {
          "output_type": "display_data",
          "data": {
            "image/png": "[encoded data removed]",
            "text/plain": "<Figure size 432x288 with 1 Axes>"
          },
          "metadata": {
            "needs_background": "light"
          }
        }
      ],
      "execution_count": 8,
      "metadata": {
        "execution": {
          "iopub.execute_input": "2020-10-22T18:25:37.078Z",
          "iopub.status.busy": "2020-10-22T18:25:37.074Z",
          "iopub.status.idle": "2020-10-22T18:25:37.267Z",
          "shell.execute_reply": "2020-10-22T18:25:37.289Z"
        }
      }
    },
    {
      "cell_type": "code",
      "source": [
        "mypreds = combinedModel_classifier.predict(x)"
      ],
      "outputs": [],
      "execution_count": 9,
      "metadata": {
        "execution": {
          "iopub.execute_input": "2020-10-22T18:25:37.277Z",
          "iopub.status.busy": "2020-10-22T18:25:37.273Z",
          "iopub.status.idle": "2020-10-22T18:25:37.506Z",
          "shell.execute_reply": "2020-10-22T18:25:37.526Z"
        }
      }
    },
    {
      "cell_type": "code",
      "source": [
        "hi = 0\n",
        "lo = 1\n",
        "plt.scatter(x,mypreds[:,0],label=\"Encoder\")\n",
        "plt.scatter(x,mypreds[:,1],label=r\"Autoencoder = Encoder$^2$\")\n",
        "plt.plot(np.linspace(lo,hi,10),np.linspace(lo,hi,10),ls=':',color=\"gray\")\n",
        "plt.xlabel(\"x\")\n",
        "plt.ylabel(\"function value\")\n",
        "plt.legend(frameon=False)"
      ],
      "outputs": [
        {
          "output_type": "execute_result",
          "execution_count": 10,
          "data": {
            "text/plain": "<matplotlib.legend.Legend at 0x7fbf1c54f430>"
          },
          "metadata": {}
        },
        {
          "output_type": "display_data",
          "data": {
            "image/png": "[encoded data removed]",
            "text/plain": "<Figure size 432x288 with 1 Axes>"
          },
          "metadata": {
            "needs_background": "light"
          }
        }
      ],
      "execution_count": 10,
      "metadata": {
        "execution": {
          "iopub.execute_input": "2020-10-22T18:25:37.521Z",
          "iopub.status.busy": "2020-10-22T18:25:37.515Z",
          "iopub.status.idle": "2020-10-22T18:25:37.833Z",
          "shell.execute_reply": "2020-10-22T18:25:37.863Z"
        }
      }
    },
    {
      "cell_type": "code",
      "source": [],
      "outputs": [],
      "execution_count": 87,
      "metadata": {
        "execution": {
          "iopub.execute_input": "2020-10-22T18:25:37.843Z",
          "iopub.status.busy": "2020-10-22T18:25:37.839Z",
          "iopub.status.idle": "2020-10-22T18:25:37.852Z",
          "shell.execute_reply": "2020-10-22T18:25:37.866Z"
        }
      }
    },
    {
      "cell_type": "code",
      "source": [],
      "outputs": [],
      "execution_count": null,
      "metadata": {}
    }
  ],
  "metadata": {
    "kernelspec": {
      "display_name": "Python 3",
      "language": "python",
      "name": "python3"
    },
    "language_info": {
      "codemirror_mode": {
        "name": "ipython",
        "version": 3
      },
      "file_extension": ".py",
      "mimetype": "text/x-python",
      "name": "python",
      "nbconvert_exporter": "python",
      "pygments_lexer": "ipython3",
      "version": "3.8.3"
    },
    "nteract": {
      "version": "0.26.0"
    }
  },
  "nbformat": 4,
  "nbformat_minor": 2
}