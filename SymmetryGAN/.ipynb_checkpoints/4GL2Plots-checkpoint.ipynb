{
 "cells": [
  {
   "cell_type": "code",
   "execution_count": 2,
   "metadata": {},
   "outputs": [],
   "source": [
    "import numpy as np\n",
    "import scipy.stats as sp\n",
    "import matplotlib.pyplot as plt\n",
    "from mpl_toolkits.mplot3d import Axes3D\n",
    "from matplotlib import cm, ticker\n",
    "%matplotlib inline"
   ]
  },
  {
   "cell_type": "code",
   "execution_count": 8,
   "metadata": {},
   "outputs": [],
   "source": [
    "def p(x,mu,sigma):\n",
    "    return sp.multivariate_normal.pdf(x, mean=mu, cov=sigma)\n",
    "\n",
    "def g(d, t, r, u, x):\n",
    "    if d >= 0:\n",
    "        P = np.array([[1, 0], [0, 1]])\n",
    "    else:\n",
    "        P = np.array([[1, 0], [0, -1]])\n",
    "    S = np.array([[r*np.cos(t) + u*np.sin(t)/r, u*np.cos(t)/r - r*np.sin(t)],[np.sin(t)/r, np.cos(t)/r]])\n",
    "    M = np.matmul(P, S)\n",
    "    return np.matmul(x, M)\n",
    "\n",
    "mu = np.array([1, 0])\n",
    "sigma = np.array([[1, 0], [0, 1]])\n",
    "\n",
    "def h(d, t, r, u, x):\n",
    "    if d >= 0:\n",
    "        P = np.array([[1, 0], [0, 1]])\n",
    "    else:\n",
    "        P = np.array([[1, 0], [0, -1]])\n",
    "    S = np.array([[r*np.cos(t) + u*np.sin(t)/r, u*np.cos(t)/r - r*np.sin(t)],[np.sin(t)/r, np.cos(t)/r]])\n",
    "    M = np.matmul(P, S)\n",
    "               \n",
    "    p0 = p(x, mu, sigma)\n",
    "    p1 = p(x, np.matmul(mu, M), np.matmul(np.transpose(M), np.matmul(sigma, M)))\n",
    "    return p0/(p0 + p1)"
   ]
  },
  {
   "cell_type": "code",
   "execution_count": 14,
   "metadata": {},
   "outputs": [],
   "source": [
    "N = 10**3\n",
    "generator = np.random.default_rng()\n",
    "xx = generator.multivariate_normal(mu, sigma, N)\n",
    "D = T = R = U = 0\n",
    "range = 1.5\n",
    "\n",
    "low = D-range\n",
    "high = D+range\n",
    "step = 20\n",
    "e = 10**-7\n",
    "\n",
    "mylosses= np.zeros((step, step, step, step))\n",
    "i = 0\n",
    "for u in np.linspace(low,high,step):\n",
    "    losses1 = np.zeros((step, step, step))\n",
    "    j = 0\n",
    "    for r in np.linspace(low, high, step):\n",
    "        losses2 = np.zeros((step, step))\n",
    "        k = 0\n",
    "        for t in np.linspace(low, high, step):\n",
    "            losses3 = np.zeros(step)\n",
    "            l = 0\n",
    "            for d in np.linspace(low, high, step):\n",
    "                yy = g(d, t, r, u, xx)\n",
    "                losses3[l] = np.mean(-np.log(e+h(d, t, r, u, xx)) - np.log(e+1.-h(d, t, r, u, yy)))\n",
    "                l += 1\n",
    "            losses2[k] = losses3\n",
    "            k += 1\n",
    "        losses1[j] = losses2\n",
    "        j += 1\n",
    "    mylosses[i] = losses1\n",
    "    i += 1"
   ]
  },
  {
   "cell_type": "code",
   "execution_count": 16,
   "metadata": {},
   "outputs": [],
   "source": [
    "import sys"
   ]
  },
  {
   "cell_type": "code",
   "execution_count": 22,
   "metadata": {},
   "outputs": [],
   "source": [
    "np.set_printoptions(threshold=sys.maxsize)\n",
    "with open('4O2data.txt', 'w') as f:\n",
    "    print(mylosses, file=f)\n"
   ]
  },
  {
   "cell_type": "code",
   "execution_count": null,
   "metadata": {},
   "outputs": [],
   "source": []
  }
 ],
 "metadata": {
  "kernelspec": {
   "display_name": "Python 3",
   "language": "python",
   "name": "python3"
  },
  "language_info": {
   "codemirror_mode": {
    "name": "ipython",
    "version": 3
   },
   "file_extension": ".py",
   "mimetype": "text/x-python",
   "name": "python",
   "nbconvert_exporter": "python",
   "pygments_lexer": "ipython3",
   "version": "3.7.4"
  }
 },
 "nbformat": 4,
 "nbformat_minor": 4
}
