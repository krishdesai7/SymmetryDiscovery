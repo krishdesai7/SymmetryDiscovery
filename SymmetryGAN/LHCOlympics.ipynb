{
 "cells": [
  {
   "cell_type": "code",
   "execution_count": 1,
   "id": "5223e74d-fe5f-48f6-9ab2-5bbf93f3891d",
   "metadata": {},
   "outputs": [],
   "source": [
    "import numpy as np\n",
    "from sklearn.linear_model import LinearRegression\n",
    "import matplotlib.pyplot as plt\n",
    "from mpl_toolkits import mplot3d\n",
    "\n",
    "import tensorflow as tf\n",
    "import tensorflow.keras\n",
    "import tensorflow.keras.backend as K\n",
    "from tensorflow.keras.layers import Dense, Input, Dropout, Concatenate\n",
    "from tensorflow.keras.models import Model\n",
    "from tensorflow.keras.utils import to_categorical\n",
    "from tensorflow.keras.callbacks import EarlyStopping\n",
    "from tensorflow.keras.layers import Lambda, Layer\n",
    "from tensorflow.keras.models import Sequential\n",
    "import pandas as pd"
   ]
  },
  {
   "cell_type": "code",
   "execution_count": null,
   "id": "929f1dc4-fd76-4f6d-9adf-913231e6b20a",
   "metadata": {},
   "outputs": [],
   "source": []
  },
  {
   "cell_type": "code",
   "execution_count": 2,
   "id": "528fbe1f-a53a-4c2e-a088-2ffac5c755e2",
   "metadata": {},
   "outputs": [],
   "source": [
    "f = pd.read_hdf(\"events_anomalydetection_DelphesPythia8_v2_qcd_features.h5\")"
   ]
  },
  {
   "cell_type": "code",
   "execution_count": 19,
   "id": "deaea725-41ca-4d78-86ae-a6d5e7dacdd7",
   "metadata": {},
   "outputs": [
    {
     "name": "stdout",
     "output_type": "stream",
     "text": [
      "               pxj1         pyj1         pzj1         mj1      tau1j1  \\\n",
      "0      -1467.239990   611.502014   511.101990   38.896000    8.290650   \n",
      "1      -1211.239990   347.315002   547.963013  389.532013  191.804001   \n",
      "2      -1229.619995   649.857971     8.089170   72.155502   47.168098   \n",
      "3       -693.304016 -1046.729980  1716.910034   55.797798   24.788500   \n",
      "4      -1488.199951   -25.370100   -30.989700   84.891502   26.878799   \n",
      "...             ...          ...          ...         ...         ...   \n",
      "999994  -646.442017 -1295.150024  1331.800049   37.011299   21.006800   \n",
      "999995  -286.550995 -1310.829956 -1510.910034  147.516998   60.997799   \n",
      "999996   918.562988   951.195984 -1622.569946   32.242199    5.894110   \n",
      "999997  1447.219971  -547.710999   827.945007  396.112000  181.406998   \n",
      "999998   200.035995 -1252.869995    27.924900  363.790985  139.281998   \n",
      "\n",
      "            tau2j1     tau3j1         pxj2         pyj2         pzj2  \\\n",
      "0         4.836080   4.260190  1403.579956  -674.551025  -451.670990   \n",
      "1        99.562798  70.872200   619.341003   -62.177299 -1944.040039   \n",
      "2        37.243198  33.658199  1196.250000  -647.896973 -1283.109985   \n",
      "3         6.890140   5.813400   747.961975   994.250000  -412.966003   \n",
      "4        15.517200  13.260400  1415.640015    20.905100   223.630997   \n",
      "...            ...        ...          ...          ...          ...   \n",
      "999994   12.873700   8.898860   274.566986  1019.390015  -504.290985   \n",
      "999995   41.356201  28.225700   252.884995  1085.420044   759.314026   \n",
      "999996    5.004100   3.992740  -266.285004 -1284.189941   185.007996   \n",
      "999997  152.207993  86.676804  -932.369995   165.005005 -2806.959961   \n",
      "999998   31.751499  22.884300  -583.494995  1096.890015 -1194.410034   \n",
      "\n",
      "               mj2      tau1j2      tau2j2     tau3j2  \n",
      "0       237.893997   79.815102   21.010300  16.757601  \n",
      "1        22.999201    8.042180    6.335090   5.525370  \n",
      "2        78.230698   15.292900   13.944200  10.013500  \n",
      "3       359.113007  175.209000  103.500999  84.447098  \n",
      "4        77.506500   57.986000   34.147400  26.660601  \n",
      "...            ...         ...         ...        ...  \n",
      "999994   90.375000   61.218800   20.514500  15.854600  \n",
      "999995   58.769901   42.276402    8.637120   7.852020  \n",
      "999996  136.389008   70.623901   49.508499  40.708599  \n",
      "999997   56.471600   14.446400   10.258900   8.874700  \n",
      "999998  105.186996   36.687000   23.652201  19.462601  \n",
      "\n",
      "[999999 rows x 14 columns]\n"
     ]
    }
   ],
   "source": [
    "print(f)"
   ]
  },
  {
   "cell_type": "code",
   "execution_count": 6,
   "id": "23b51e96-489f-43a9-a6e6-fb34a9f83aad",
   "metadata": {},
   "outputs": [],
   "source": [
    "G = (f[['pxj1','pxj2', 'pyj1', 'pyj2']]).to_numpy()\n",
    "px1 = G[:, 0]\n",
    "py1 = G[:, 2]\n",
    "px2 = G[:, 1]\n",
    "py2 = G[:, 3]\n"
   ]
  },
  {
   "cell_type": "code",
   "execution_count": 21,
   "id": "4aa75e01-bb20-4198-84e6-dd2dc9351871",
   "metadata": {},
   "outputs": [
    {
     "data": {
      "text/plain": [
       "(999999,)"
      ]
     },
     "execution_count": 21,
     "metadata": {},
     "output_type": "execute_result"
    }
   ],
   "source": [
    "np.shape(px1)"
   ]
  },
  {
   "cell_type": "code",
   "execution_count": null,
   "id": "5a92dc44-1084-44dd-b673-e5433d136760",
   "metadata": {},
   "outputs": [],
   "source": []
  },
  {
   "cell_type": "code",
   "execution_count": 23,
   "id": "6b5a1d6d-b980-4a74-9a80-ebacf54fa5f1",
   "metadata": {},
   "outputs": [
    {
     "data": {
      "text/plain": [
       "(array([1.42000e+03, 4.67457e+05, 3.01060e+04, 4.00000e+01, 1.00000e+00,\n",
       "        0.00000e+00, 2.40000e+01, 2.75780e+04, 4.71699e+05, 1.67400e+03]),\n",
       " array([-4.76285566, -3.81191235, -2.86096904, -1.91002573, -0.95908242,\n",
       "        -0.00813911,  0.9428042 ,  1.89374751,  2.84469083,  3.79563414,\n",
       "         4.74657745]),\n",
       " <a list of 10 Patch objects>)"
      ]
     },
     "execution_count": 23,
     "metadata": {},
     "output_type": "execute_result"
    },
    {
     "data": {
      "image/png": "[encoded data removed]",
      "text/plain": [
       "<Figure size 432x288 with 1 Axes>"
      ]
     },
     "metadata": {
      "needs_background": "light"
     },
     "output_type": "display_data"
    }
   ],
   "source": [
    "plt.hist(np.arctan2(G[:,2], G[:,0]) - np.arctan2(G[:,3], G[:,1]))"
   ]
  },
  {
   "cell_type": "code",
   "execution_count": 3,
   "id": "ea632eb4-9e47-4a83-899e-9f6a5abebeb9",
   "metadata": {},
   "outputs": [],
   "source": [
    "class MyLayer(Layer):\n",
    "\n",
    "    def __init__(self, **kwargs):\n",
    "        super(MyLayer, self).__init__(**kwargs)\n",
    "\n",
    "    def build(self, input_shape):\n",
    "        # Create a trainable weight variable for this layer.\n",
    "        self._t1 = self.add_weight(name='x', \n",
    "                                    shape=(1,),\n",
    "                                    initializer=tf.keras.initializers.RandomUniform(minval= 0, maxval=2*np.pi), #'uniform',\n",
    "                                    trainable=True)\n",
    "        self._t2 = self.add_weight(name='x', \n",
    "                                    shape=(1,),\n",
    "                                    initializer=tf.keras.initializers.RandomUniform(minval=0, maxval=2*np.pi), #'uniform',\n",
    "                                    trainable=True)\n",
    "        super(MyLayer, self).build(input_shape)  # Be sure to call this at the end\n",
    "\n",
    "    def call(self, X):\n",
    "        s1 = tf.math.sin(self._t1)\n",
    "        c1 = tf.math.cos(self._t1)\n",
    "        s2 = tf.math.sin(self._t2)\n",
    "        c2 = tf.math.cos(self._t2)\n",
    "        npc = [[c1, s1, 0.0, 0.0], [-s1, c1, 0.0, 0.0], [0.0, 0.0, c2, s2], [0.0, 0.0, -s2, c2]]\n",
    "        M = tf.convert_to_tensor(npc)\n",
    "        M = tf.reshape(M, [4, 4])\n",
    "        return tf.linalg.matmul(X, M)"
   ]
  },
  {
   "cell_type": "code",
   "execution_count": null,
   "id": "a868b719-1099-447c-89ee-f08e8110baf5",
   "metadata": {},
   "outputs": [],
   "source": []
  },
  {
   "cell_type": "code",
   "execution_count": 22,
   "id": "74957a09-0721-4cee-ad4d-69b4e91655e7",
   "metadata": {},
   "outputs": [],
   "source": [
    "def define_discriminator(n_inputs=4):\n",
    "\tmodel = Sequential()\n",
    "\tmodel.add(Dense(25, activation='relu', input_dim=n_inputs))\n",
    "\tmodel.add(Dense(25, activation='relu', input_dim=n_inputs))    \n",
    "\tmodel.add(Dense(1, activation='sigmoid'))\n",
    "\t# compile model\n",
    "\tmodel.compile(loss='binary_crossentropy', optimizer='adam', metrics=['accuracy'])\n",
    "\treturn model\n",
    " \n",
    "# define the standalone generator model\n",
    "def define_generator(n_outputs=1):\n",
    "\t#model = Sequential()\n",
    "\t#model.add(Dense(15, activation='relu', input_dim=n_outputs))\n",
    "\t#model.add(Dense(15, activation='relu', input_dim=n_outputs))    \n",
    "\t#model.add(Dense(n_outputs, activation='linear'))\n",
    "\n",
    "\tmymodel_inputtest = Input(shape=(4,))\n",
    "\tmymodel_test = MyLayer()(mymodel_inputtest)\n",
    "\tmodel = Model(mymodel_inputtest, mymodel_test)\n",
    "\treturn model\n",
    " \n",
    "# define the combined generator and discriminator model, for updating the generator\n",
    "def define_gan(generator, discriminator):\n",
    "\t# make weights in the discriminator not trainable\n",
    "\tdiscriminator.trainable = False\n",
    "\t# connect them\n",
    "\tmodel = Sequential()\n",
    "\t# add generator\n",
    "\tmodel.add(generator)\n",
    "\t# add the discriminator\n",
    "\tmodel.add(discriminator)\n",
    "\t# compile model\n",
    "\tmodel.compile(loss='binary_crossentropy', optimizer='adam')\n",
    "\treturn model\n",
    " \n",
    "# generate n real samples with class labels\n",
    "def generate_real_samples(n):\n",
    "\trandomlySelectedY = np.argsort(np.random.random(len(px1)))[:n]\n",
    "\tX = [px1[randomlySelectedY], py1[randomlySelectedY], px2[randomlySelectedY], py2[randomlySelectedY]]\n",
    "\ty = np.ones((n, 1))\n",
    "\treturn X, y\n",
    " \n",
    "# generate points in latent space as input for the generator\n",
    "def generate_latent_points(n):\n",
    "\t# generate points in the latent space\n",
    "\tx_input = generate_real_samples(n)\n",
    "\treturn x_input[0]\n",
    " \n",
    "# use the generator to generate n fake examples, with class labels\n",
    "def generate_fake_samples(generator, n):\n",
    "\t# generate points in latent space\n",
    "\tx_input = generate_latent_points(n)\n",
    "\t# predict outputs\n",
    "\tX = generator.predict(x_input)\n",
    "\t# create class labels\n",
    "\ty = zeros((n, 1))\n",
    "\treturn X, y\n",
    "\n",
    "def generate_fake_samples_with_input(generator, n):\n",
    "\t# generate points in latent space\n",
    "\tx_input = generate_latent_points(n)\n",
    "\t# predict outputs\n",
    "\tX = generator.predict(x_input)\n",
    "\t# create class labels\n",
    "\ty = zeros((n, 1))\n",
    "\treturn X, y, x_input\n",
    " \n",
    "# train the generator and discriminator\n",
    "def train(g_model, d_model, gan_model, n_epochs=10000, n_batch=128, n_eval=2000):\n",
    "\t# determine half the size of one batch, for updating the discriminator\n",
    "\thalf_batch = int(n_batch / 2)\n",
    "\t# manually enumerate epochs\n",
    "\tfor i in range(n_epochs):\n",
    "\t\t# prepare real samples\n",
    "\t\tx_real, y_real = generate_real_samples(half_batch)\n",
    "\t\t# prepare fake examples\n",
    "\t\tx_fake, y_fake = generate_fake_samples(g_model, half_batch)\n",
    "\t\t# update discriminator\n",
    "\t\td_model.train_on_batch(x_real, y_real)\n",
    "\t\td_model.train_on_batch(x_fake, y_fake)\n",
    "\t\t# prepare points in latent space as input for the generator\n",
    "\t\tx_gan = generate_latent_points(n_batch)\n",
    "\t\t# create inverted labels for the fake samples\n",
    "\t\ty_gan = ones((n_batch, 1))\n",
    "\t\t# update the generator via the discriminator's error\n",
    "\t\tgan_model.train_on_batch(x_gan, y_gan)\n",
    "#\t\tif (i+1) % n_eval == 0:\n",
    "#\t\t\tprint(\"epoch = \", i)"
   ]
  },
  {
   "cell_type": "code",
   "execution_count": 23,
   "id": "80340458-01c0-4d2d-8cad-6d823fbab52f",
   "metadata": {},
   "outputs": [
    {
     "name": "stdout",
     "output_type": "stream",
     "text": [
      "j =  0\n"
     ]
    },
    {
     "ename": "ValueError",
     "evalue": "in user code:\n\n    <ipython-input-3-4895f62b4035>:24 call  *\n        M = tf.convert_to_tensor(npc)\n    /usr/common/software/tensorflow/gpu-tensorflow/2.2.0-py37/lib/python3.7/site-packages/tensorflow/python/framework/ops.py:1283 convert_to_tensor_v2  **\n        as_ref=False)\n    /usr/common/software/tensorflow/gpu-tensorflow/2.2.0-py37/lib/python3.7/site-packages/tensorflow/python/framework/ops.py:1341 convert_to_tensor\n        ret = conversion_func(value, dtype=dtype, name=name, as_ref=as_ref)\n    /usr/common/software/tensorflow/gpu-tensorflow/2.2.0-py37/lib/python3.7/site-packages/tensorflow/python/ops/array_ops.py:1455 _autopacking_conversion_function\n        return _autopacking_helper(v, dtype, name or \"packed\")\n    /usr/common/software/tensorflow/gpu-tensorflow/2.2.0-py37/lib/python3.7/site-packages/tensorflow/python/ops/array_ops.py:1374 _autopacking_helper\n        converted_elem = _autopacking_helper(elem, dtype, str(i))\n    /usr/common/software/tensorflow/gpu-tensorflow/2.2.0-py37/lib/python3.7/site-packages/tensorflow/python/ops/array_ops.py:1391 _autopacking_helper\n        return gen_array_ops.pack(elems_as_tensors, name=scope)\n    /usr/common/software/tensorflow/gpu-tensorflow/2.2.0-py37/lib/python3.7/site-packages/tensorflow/python/ops/gen_array_ops.py:6348 pack\n        \"Pack\", values=values, axis=axis, name=name)\n    /usr/common/software/tensorflow/gpu-tensorflow/2.2.0-py37/lib/python3.7/site-packages/tensorflow/python/framework/op_def_library.py:744 _apply_op_helper\n        attrs=attr_protos, op_def=op_def)\n    /usr/common/software/tensorflow/gpu-tensorflow/2.2.0-py37/lib/python3.7/site-packages/tensorflow/python/framework/func_graph.py:595 _create_op_internal\n        compute_device)\n    /usr/common/software/tensorflow/gpu-tensorflow/2.2.0-py37/lib/python3.7/site-packages/tensorflow/python/framework/ops.py:3327 _create_op_internal\n        op_def=op_def)\n    /usr/common/software/tensorflow/gpu-tensorflow/2.2.0-py37/lib/python3.7/site-packages/tensorflow/python/framework/ops.py:1817 __init__\n        control_input_ops, op_def)\n    /usr/common/software/tensorflow/gpu-tensorflow/2.2.0-py37/lib/python3.7/site-packages/tensorflow/python/framework/ops.py:1657 _create_c_op\n        raise ValueError(str(e))\n\n    ValueError: Shapes must be equal rank, but are 1 and 0\n    \tFrom merging shape 1 with other shapes. for '{{node my_layer_1/packed/0}} = Pack[N=4, T=DT_FLOAT, axis=0](my_layer_1/Cos, my_layer_1/Sin, my_layer_1/packed/0/2, my_layer_1/packed/0/3)' with input shapes: [1], [1], [], [].\n",
     "output_type": "error",
     "traceback": [
      "\u001b[0;31m---------------------------------------------------------------------------\u001b[0m",
      "\u001b[0;31mValueError\u001b[0m                                Traceback (most recent call last)",
      "\u001b[0;32m<ipython-input-23-e917bceb4eab>\u001b[0m in \u001b[0;36m<module>\u001b[0;34m\u001b[0m\n\u001b[1;32m      9\u001b[0m     \u001b[0mdiscriminator\u001b[0m \u001b[0;34m=\u001b[0m \u001b[0mdefine_discriminator\u001b[0m\u001b[0;34m(\u001b[0m\u001b[0;34m)\u001b[0m\u001b[0;34m\u001b[0m\u001b[0;34m\u001b[0m\u001b[0m\n\u001b[1;32m     10\u001b[0m     \u001b[0;31m# create the generator\u001b[0m\u001b[0;34m\u001b[0m\u001b[0;34m\u001b[0m\u001b[0;34m\u001b[0m\u001b[0m\n\u001b[0;32m---> 11\u001b[0;31m     \u001b[0mgenerator\u001b[0m \u001b[0;34m=\u001b[0m \u001b[0mdefine_generator\u001b[0m\u001b[0;34m(\u001b[0m\u001b[0;34m)\u001b[0m\u001b[0;34m\u001b[0m\u001b[0;34m\u001b[0m\u001b[0m\n\u001b[0m\u001b[1;32m     12\u001b[0m     \u001b[0;31m# create the gan\u001b[0m\u001b[0;34m\u001b[0m\u001b[0;34m\u001b[0m\u001b[0;34m\u001b[0m\u001b[0m\n\u001b[1;32m     13\u001b[0m     \u001b[0mgan_model\u001b[0m \u001b[0;34m=\u001b[0m \u001b[0mdefine_gan\u001b[0m\u001b[0;34m(\u001b[0m\u001b[0mgenerator\u001b[0m\u001b[0;34m,\u001b[0m \u001b[0mdiscriminator\u001b[0m\u001b[0;34m)\u001b[0m\u001b[0;34m\u001b[0m\u001b[0;34m\u001b[0m\u001b[0m\n",
      "\u001b[0;32m<ipython-input-22-9e72c611b399>\u001b[0m in \u001b[0;36mdefine_generator\u001b[0;34m(n_outputs)\u001b[0m\n\u001b[1;32m     16\u001b[0m \u001b[0;34m\u001b[0m\u001b[0m\n\u001b[1;32m     17\u001b[0m         \u001b[0mmymodel_inputtest\u001b[0m \u001b[0;34m=\u001b[0m \u001b[0mInput\u001b[0m\u001b[0;34m(\u001b[0m\u001b[0mshape\u001b[0m\u001b[0;34m=\u001b[0m\u001b[0;34m(\u001b[0m\u001b[0;36m4\u001b[0m\u001b[0;34m,\u001b[0m\u001b[0;34m)\u001b[0m\u001b[0;34m)\u001b[0m\u001b[0;34m\u001b[0m\u001b[0;34m\u001b[0m\u001b[0m\n\u001b[0;32m---> 18\u001b[0;31m         \u001b[0mmymodel_test\u001b[0m \u001b[0;34m=\u001b[0m \u001b[0mMyLayer\u001b[0m\u001b[0;34m(\u001b[0m\u001b[0;34m)\u001b[0m\u001b[0;34m(\u001b[0m\u001b[0mmymodel_inputtest\u001b[0m\u001b[0;34m)\u001b[0m\u001b[0;34m\u001b[0m\u001b[0;34m\u001b[0m\u001b[0m\n\u001b[0m\u001b[1;32m     19\u001b[0m         \u001b[0mmodel\u001b[0m \u001b[0;34m=\u001b[0m \u001b[0mModel\u001b[0m\u001b[0;34m(\u001b[0m\u001b[0mmymodel_inputtest\u001b[0m\u001b[0;34m,\u001b[0m \u001b[0mmymodel_test\u001b[0m\u001b[0;34m)\u001b[0m\u001b[0;34m\u001b[0m\u001b[0;34m\u001b[0m\u001b[0m\n\u001b[1;32m     20\u001b[0m         \u001b[0;32mreturn\u001b[0m \u001b[0mmodel\u001b[0m\u001b[0;34m\u001b[0m\u001b[0;34m\u001b[0m\u001b[0m\n",
      "\u001b[0;32m/usr/common/software/tensorflow/gpu-tensorflow/2.2.0-py37/lib/python3.7/site-packages/tensorflow/python/keras/engine/base_layer.py\u001b[0m in \u001b[0;36m__call__\u001b[0;34m(self, *args, **kwargs)\u001b[0m\n\u001b[1;32m    920\u001b[0m                     not base_layer_utils.is_in_eager_or_tf_function()):\n\u001b[1;32m    921\u001b[0m                   \u001b[0;32mwith\u001b[0m \u001b[0mauto_control_deps\u001b[0m\u001b[0;34m.\u001b[0m\u001b[0mAutomaticControlDependencies\u001b[0m\u001b[0;34m(\u001b[0m\u001b[0;34m)\u001b[0m \u001b[0;32mas\u001b[0m \u001b[0macd\u001b[0m\u001b[0;34m:\u001b[0m\u001b[0;34m\u001b[0m\u001b[0;34m\u001b[0m\u001b[0m\n\u001b[0;32m--> 922\u001b[0;31m                     \u001b[0moutputs\u001b[0m \u001b[0;34m=\u001b[0m \u001b[0mcall_fn\u001b[0m\u001b[0;34m(\u001b[0m\u001b[0mcast_inputs\u001b[0m\u001b[0;34m,\u001b[0m \u001b[0;34m*\u001b[0m\u001b[0margs\u001b[0m\u001b[0;34m,\u001b[0m \u001b[0;34m**\u001b[0m\u001b[0mkwargs\u001b[0m\u001b[0;34m)\u001b[0m\u001b[0;34m\u001b[0m\u001b[0;34m\u001b[0m\u001b[0m\n\u001b[0m\u001b[1;32m    923\u001b[0m                     \u001b[0;31m# Wrap Tensors in `outputs` in `tf.identity` to avoid\u001b[0m\u001b[0;34m\u001b[0m\u001b[0;34m\u001b[0m\u001b[0;34m\u001b[0m\u001b[0m\n\u001b[1;32m    924\u001b[0m                     \u001b[0;31m# circular dependencies.\u001b[0m\u001b[0;34m\u001b[0m\u001b[0;34m\u001b[0m\u001b[0;34m\u001b[0m\u001b[0m\n",
      "\u001b[0;32m/usr/common/software/tensorflow/gpu-tensorflow/2.2.0-py37/lib/python3.7/site-packages/tensorflow/python/autograph/impl/api.py\u001b[0m in \u001b[0;36mwrapper\u001b[0;34m(*args, **kwargs)\u001b[0m\n\u001b[1;32m    263\u001b[0m       \u001b[0;32mexcept\u001b[0m \u001b[0mException\u001b[0m \u001b[0;32mas\u001b[0m \u001b[0me\u001b[0m\u001b[0;34m:\u001b[0m  \u001b[0;31m# pylint:disable=broad-except\u001b[0m\u001b[0;34m\u001b[0m\u001b[0;34m\u001b[0m\u001b[0m\n\u001b[1;32m    264\u001b[0m         \u001b[0;32mif\u001b[0m \u001b[0mhasattr\u001b[0m\u001b[0;34m(\u001b[0m\u001b[0me\u001b[0m\u001b[0;34m,\u001b[0m \u001b[0;34m'ag_error_metadata'\u001b[0m\u001b[0;34m)\u001b[0m\u001b[0;34m:\u001b[0m\u001b[0;34m\u001b[0m\u001b[0;34m\u001b[0m\u001b[0m\n\u001b[0;32m--> 265\u001b[0;31m           \u001b[0;32mraise\u001b[0m \u001b[0me\u001b[0m\u001b[0;34m.\u001b[0m\u001b[0mag_error_metadata\u001b[0m\u001b[0;34m.\u001b[0m\u001b[0mto_exception\u001b[0m\u001b[0;34m(\u001b[0m\u001b[0me\u001b[0m\u001b[0;34m)\u001b[0m\u001b[0;34m\u001b[0m\u001b[0;34m\u001b[0m\u001b[0m\n\u001b[0m\u001b[1;32m    266\u001b[0m         \u001b[0;32melse\u001b[0m\u001b[0;34m:\u001b[0m\u001b[0;34m\u001b[0m\u001b[0;34m\u001b[0m\u001b[0m\n\u001b[1;32m    267\u001b[0m           \u001b[0;32mraise\u001b[0m\u001b[0;34m\u001b[0m\u001b[0;34m\u001b[0m\u001b[0m\n",
      "\u001b[0;31mValueError\u001b[0m: in user code:\n\n    <ipython-input-3-4895f62b4035>:24 call  *\n        M = tf.convert_to_tensor(npc)\n    /usr/common/software/tensorflow/gpu-tensorflow/2.2.0-py37/lib/python3.7/site-packages/tensorflow/python/framework/ops.py:1283 convert_to_tensor_v2  **\n        as_ref=False)\n    /usr/common/software/tensorflow/gpu-tensorflow/2.2.0-py37/lib/python3.7/site-packages/tensorflow/python/framework/ops.py:1341 convert_to_tensor\n        ret = conversion_func(value, dtype=dtype, name=name, as_ref=as_ref)\n    /usr/common/software/tensorflow/gpu-tensorflow/2.2.0-py37/lib/python3.7/site-packages/tensorflow/python/ops/array_ops.py:1455 _autopacking_conversion_function\n        return _autopacking_helper(v, dtype, name or \"packed\")\n    /usr/common/software/tensorflow/gpu-tensorflow/2.2.0-py37/lib/python3.7/site-packages/tensorflow/python/ops/array_ops.py:1374 _autopacking_helper\n        converted_elem = _autopacking_helper(elem, dtype, str(i))\n    /usr/common/software/tensorflow/gpu-tensorflow/2.2.0-py37/lib/python3.7/site-packages/tensorflow/python/ops/array_ops.py:1391 _autopacking_helper\n        return gen_array_ops.pack(elems_as_tensors, name=scope)\n    /usr/common/software/tensorflow/gpu-tensorflow/2.2.0-py37/lib/python3.7/site-packages/tensorflow/python/ops/gen_array_ops.py:6348 pack\n        \"Pack\", values=values, axis=axis, name=name)\n    /usr/common/software/tensorflow/gpu-tensorflow/2.2.0-py37/lib/python3.7/site-packages/tensorflow/python/framework/op_def_library.py:744 _apply_op_helper\n        attrs=attr_protos, op_def=op_def)\n    /usr/common/software/tensorflow/gpu-tensorflow/2.2.0-py37/lib/python3.7/site-packages/tensorflow/python/framework/func_graph.py:595 _create_op_internal\n        compute_device)\n    /usr/common/software/tensorflow/gpu-tensorflow/2.2.0-py37/lib/python3.7/site-packages/tensorflow/python/framework/ops.py:3327 _create_op_internal\n        op_def=op_def)\n    /usr/common/software/tensorflow/gpu-tensorflow/2.2.0-py37/lib/python3.7/site-packages/tensorflow/python/framework/ops.py:1817 __init__\n        control_input_ops, op_def)\n    /usr/common/software/tensorflow/gpu-tensorflow/2.2.0-py37/lib/python3.7/site-packages/tensorflow/python/framework/ops.py:1657 _create_c_op\n        raise ValueError(str(e))\n\n    ValueError: Shapes must be equal rank, but are 1 and 0\n    \tFrom merging shape 1 with other shapes. for '{{node my_layer_1/packed/0}} = Pack[N=4, T=DT_FLOAT, axis=0](my_layer_1/Cos, my_layer_1/Sin, my_layer_1/packed/0/2, my_layer_1/packed/0/3)' with input shapes: [1], [1], [], [].\n"
     ]
    }
   ],
   "source": [
    "N = 1\n",
    "t1i = []\n",
    "t1f = []\n",
    "t2i = []\n",
    "t2f = []\n",
    "for j in range(N):\n",
    "    print(\"j = \", j)\n",
    "    # create the discriminator\n",
    "    discriminator = define_discriminator()\n",
    "    # create the generator\n",
    "    generator = define_generator()\n",
    "    # create the gan\n",
    "    gan_model = define_gan(generator, discriminator)\n",
    "    t1i.append(generator.layers[-1].get_weights()[0][0])\n",
    "    t2i.append(generator.layers[-1].get_weights()[1][0])\n",
    "\n",
    "    # train model\n",
    "    train(generator, discriminator, gan_model)\n",
    "    t1f.append(generator.layers[-1].get_weights()[0][0])\n",
    "    t2f.append(generator.layers[-1].get_weights()[1][0])\n",
    "    \n",
    "print(\"LHC Olympics\")\n",
    "print(\"t1i = \", t1i)\n",
    "print(\"t2i = \", t2i)\n",
    "print(\"t1f = \", t1f)\n",
    "print(\"t2f = \", t2f)"
   ]
  },
  {
   "cell_type": "code",
   "execution_count": 4,
   "id": "a88362db-9b30-44ab-845e-9b784d1cc502",
   "metadata": {},
   "outputs": [
    {
     "name": "stdout",
     "output_type": "stream",
     "text": [
      "/global/u1/k/kdesai/SymmetryDiscovery/SymmetryGAN\n"
     ]
    }
   ],
   "source": [
    "!pwd"
   ]
  },
  {
   "cell_type": "code",
   "execution_count": 5,
   "id": "917c2bf3-1862-4787-a974-331aa2376556",
   "metadata": {},
   "outputs": [
    {
     "name": "stdout",
     "output_type": "stream",
     "text": [
      "'1-c*x.ipynb'\t     O2PlottingLossFunctions.ipynb\n",
      " 4GL2Plots.ipynb     O2Theta\n",
      " 4GL2data.txt\t     PlottingLoss2.ipynb\n",
      " 4O2Slices\t     PlottingLossFunctions_v2.ipynb\n",
      " 6GL2Plots.ipynb     Z2PlottingLossFunctions.ipynb\n",
      " Augmentation\t    'b + c*x.ipynb'\n",
      " Distributions\t     b+cx_stats.ipynb\n",
      " LHCOlympics.ipynb   events_anomalydetection_DelphesPythia8_v2_qcd_features.h5\n",
      "'O(2).ipynb'\t     fSymmDiscovery\n",
      "'O(2)stats.ipynb'\n"
     ]
    }
   ],
   "source": [
    "!ls"
   ]
  },
  {
   "cell_type": "code",
   "execution_count": 5,
   "id": "e343d40f-19a4-4d4d-88b6-3daa7cc6a004",
   "metadata": {},
   "outputs": [
    {
     "ename": "ImportError",
     "evalue": "Missing optional dependency 'tables'.  Use pip or conda to install tables.",
     "output_type": "error",
     "traceback": [
      "\u001b[0;31m---------------------------------------------------------------------------\u001b[0m",
      "\u001b[0;31mImportError\u001b[0m                               Traceback (most recent call last)",
      "\u001b[0;32m<ipython-input-5-f702bdab7201>\u001b[0m in \u001b[0;36m<module>\u001b[0;34m\u001b[0m\n\u001b[0;32m----> 1\u001b[0;31m \u001b[0mg\u001b[0m \u001b[0;34m=\u001b[0m \u001b[0mpd\u001b[0m\u001b[0;34m.\u001b[0m\u001b[0mread_hdf\u001b[0m\u001b[0;34m(\u001b[0m\u001b[0;34m\"4GL2data.txt\"\u001b[0m\u001b[0;34m)\u001b[0m\u001b[0;34m\u001b[0m\u001b[0;34m\u001b[0m\u001b[0m\n\u001b[0m",
      "\u001b[0;32m/usr/common/software/tensorflow/gpu-tensorflow/2.2.0-py37/lib/python3.7/site-packages/pandas/io/pytables.py\u001b[0m in \u001b[0;36mread_hdf\u001b[0;34m(path_or_buf, key, mode, errors, where, start, stop, columns, iterator, chunksize, **kwargs)\u001b[0m\n\u001b[1;32m    395\u001b[0m             \u001b[0;32mraise\u001b[0m \u001b[0mFileNotFoundError\u001b[0m\u001b[0;34m(\u001b[0m\u001b[0;34mf\"File {path_or_buf} does not exist\"\u001b[0m\u001b[0;34m)\u001b[0m\u001b[0;34m\u001b[0m\u001b[0;34m\u001b[0m\u001b[0m\n\u001b[1;32m    396\u001b[0m \u001b[0;34m\u001b[0m\u001b[0m\n\u001b[0;32m--> 397\u001b[0;31m         \u001b[0mstore\u001b[0m \u001b[0;34m=\u001b[0m \u001b[0mHDFStore\u001b[0m\u001b[0;34m(\u001b[0m\u001b[0mpath_or_buf\u001b[0m\u001b[0;34m,\u001b[0m \u001b[0mmode\u001b[0m\u001b[0;34m=\u001b[0m\u001b[0mmode\u001b[0m\u001b[0;34m,\u001b[0m \u001b[0merrors\u001b[0m\u001b[0;34m=\u001b[0m\u001b[0merrors\u001b[0m\u001b[0;34m,\u001b[0m \u001b[0;34m**\u001b[0m\u001b[0mkwargs\u001b[0m\u001b[0;34m)\u001b[0m\u001b[0;34m\u001b[0m\u001b[0;34m\u001b[0m\u001b[0m\n\u001b[0m\u001b[1;32m    398\u001b[0m         \u001b[0;31m# can't auto open/close if we are using an iterator\u001b[0m\u001b[0;34m\u001b[0m\u001b[0;34m\u001b[0m\u001b[0;34m\u001b[0m\u001b[0m\n\u001b[1;32m    399\u001b[0m         \u001b[0;31m# so delegate to the iterator\u001b[0m\u001b[0;34m\u001b[0m\u001b[0;34m\u001b[0m\u001b[0;34m\u001b[0m\u001b[0m\n",
      "\u001b[0;32m/usr/common/software/tensorflow/gpu-tensorflow/2.2.0-py37/lib/python3.7/site-packages/pandas/io/pytables.py\u001b[0m in \u001b[0;36m__init__\u001b[0;34m(self, path, mode, complevel, complib, fletcher32, **kwargs)\u001b[0m\n\u001b[1;32m    516\u001b[0m             \u001b[0;32mraise\u001b[0m \u001b[0mValueError\u001b[0m\u001b[0;34m(\u001b[0m\u001b[0;34m\"format is not a defined argument for HDFStore\"\u001b[0m\u001b[0;34m)\u001b[0m\u001b[0;34m\u001b[0m\u001b[0;34m\u001b[0m\u001b[0m\n\u001b[1;32m    517\u001b[0m \u001b[0;34m\u001b[0m\u001b[0m\n\u001b[0;32m--> 518\u001b[0;31m         \u001b[0mtables\u001b[0m \u001b[0;34m=\u001b[0m \u001b[0mimport_optional_dependency\u001b[0m\u001b[0;34m(\u001b[0m\u001b[0;34m\"tables\"\u001b[0m\u001b[0;34m)\u001b[0m\u001b[0;34m\u001b[0m\u001b[0;34m\u001b[0m\u001b[0m\n\u001b[0m\u001b[1;32m    519\u001b[0m \u001b[0;34m\u001b[0m\u001b[0m\n\u001b[1;32m    520\u001b[0m         \u001b[0;32mif\u001b[0m \u001b[0mcomplib\u001b[0m \u001b[0;32mis\u001b[0m \u001b[0;32mnot\u001b[0m \u001b[0;32mNone\u001b[0m \u001b[0;32mand\u001b[0m \u001b[0mcomplib\u001b[0m \u001b[0;32mnot\u001b[0m \u001b[0;32min\u001b[0m \u001b[0mtables\u001b[0m\u001b[0;34m.\u001b[0m\u001b[0mfilters\u001b[0m\u001b[0;34m.\u001b[0m\u001b[0mall_complibs\u001b[0m\u001b[0;34m:\u001b[0m\u001b[0;34m\u001b[0m\u001b[0;34m\u001b[0m\u001b[0m\n",
      "\u001b[0;32m/usr/common/software/tensorflow/gpu-tensorflow/2.2.0-py37/lib/python3.7/site-packages/pandas/compat/_optional.py\u001b[0m in \u001b[0;36mimport_optional_dependency\u001b[0;34m(name, extra, raise_on_missing, on_version)\u001b[0m\n\u001b[1;32m     90\u001b[0m     \u001b[0;32mexcept\u001b[0m \u001b[0mImportError\u001b[0m\u001b[0;34m:\u001b[0m\u001b[0;34m\u001b[0m\u001b[0;34m\u001b[0m\u001b[0m\n\u001b[1;32m     91\u001b[0m         \u001b[0;32mif\u001b[0m \u001b[0mraise_on_missing\u001b[0m\u001b[0;34m:\u001b[0m\u001b[0;34m\u001b[0m\u001b[0;34m\u001b[0m\u001b[0m\n\u001b[0;32m---> 92\u001b[0;31m             \u001b[0;32mraise\u001b[0m \u001b[0mImportError\u001b[0m\u001b[0;34m(\u001b[0m\u001b[0mmsg\u001b[0m\u001b[0;34m)\u001b[0m \u001b[0;32mfrom\u001b[0m \u001b[0;32mNone\u001b[0m\u001b[0;34m\u001b[0m\u001b[0;34m\u001b[0m\u001b[0m\n\u001b[0m\u001b[1;32m     93\u001b[0m         \u001b[0;32melse\u001b[0m\u001b[0;34m:\u001b[0m\u001b[0;34m\u001b[0m\u001b[0;34m\u001b[0m\u001b[0m\n\u001b[1;32m     94\u001b[0m             \u001b[0;32mreturn\u001b[0m \u001b[0;32mNone\u001b[0m\u001b[0;34m\u001b[0m\u001b[0;34m\u001b[0m\u001b[0m\n",
      "\u001b[0;31mImportError\u001b[0m: Missing optional dependency 'tables'.  Use pip or conda to install tables."
     ]
    }
   ],
   "source": [
    "g = pd.read_hdf(\"4GL2data.txt\")"
   ]
  },
  {
   "cell_type": "code",
   "execution_count": 7,
   "id": "45150b87-088a-4620-8e61-5b266d4a8fd0",
   "metadata": {},
   "outputs": [
    {
     "name": "stdout",
     "output_type": "stream",
     "text": [
      "Collecting tables\n",
      "  Using cached https://files.pythonhosted.org/packages/0f/cb/4097be890a773af95343389faa8c283b0d9ff606f144227a548461dcbdd5/tables-3.6.1-cp37-cp37m-manylinux1_x86_64.whl\n",
      "Requirement already satisfied: numpy>=1.9.3 in /global/common/cori_cle7/software/tensorflow/gpu-tensorflow/2.2.0-py37/lib/python3.7/site-packages (from tables) (1.18.4)\n",
      "Collecting numexpr>=2.6.2\n",
      "  Using cached https://files.pythonhosted.org/packages/8d/37/851139d750ed1d88754ff0f69b7bcf83e8a6464207007a9b4a54942302d4/numexpr-2.7.3-cp37-cp37m-manylinux2010_x86_64.whl\n",
      "Installing collected packages: numexpr, tables\n",
      "\u001b[33m  WARNING: The scripts pt2to3, ptdump, ptrepack and pttree are installed in '/global/homes/k/kdesai/.local/cori/gpu-tensorflow2.2.0-py37/bin' which is not on PATH.\n",
      "  Consider adding this directory to PATH or, if you prefer to suppress this warning, use --no-warn-script-location.\u001b[0m\n",
      "Successfully installed numexpr-2.7.3 tables-3.6.1\n"
     ]
    }
   ],
   "source": [
    "!pip install tables --user"
   ]
  },
  {
   "cell_type": "code",
   "execution_count": 12,
   "id": "8729040e-232c-4f8e-a899-74cbce84d190",
   "metadata": {},
   "outputs": [
    {
     "data": {
      "text/plain": [
       "999999"
      ]
     },
     "execution_count": 12,
     "metadata": {},
     "output_type": "execute_result"
    }
   ],
   "source": []
  },
  {
   "cell_type": "code",
   "execution_count": 16,
   "id": "52f3049b-6ef9-4433-b12c-0ca2e8c83b31",
   "metadata": {},
   "outputs": [
    {
     "data": {
      "text/plain": [
       "array([ 5, 14, 11, 12,  7,  6,  1, 18, 15,  4])"
      ]
     },
     "execution_count": 16,
     "metadata": {},
     "output_type": "execute_result"
    }
   ],
   "source": []
  },
  {
   "cell_type": "code",
   "execution_count": 21,
   "id": "8728e1c8-fde3-481b-a330-27b1dd2db506",
   "metadata": {},
   "outputs": [
    {
     "data": {
      "text/plain": [
       "([array([  224.46600342,  1467.2800293 ,  -898.66601562,  -539.34802246,\n",
       "          -328.59399414,   258.85198975, -1444.01000977,  -489.99200439,\n",
       "          -936.73199463,  -106.9489975 ,  -362.08898926, -1106.93994141,\n",
       "          -621.25      ,  1019.38000488, -2089.94995117,  -440.41699219,\n",
       "           843.46899414,  1264.23999023,  -940.90100098,  1031.59997559,\n",
       "         -1061.79003906, -1108.23999023,  -330.60198975,   200.9980011 ,\n",
       "          -134.51199341, -1016.90002441,   376.0960083 ,  -697.61700439,\n",
       "         -1192.44995117,  1320.82995605,  -899.45300293,  -530.02502441,\n",
       "           523.01098633,   902.41497803, -1000.07000732, -1242.64001465,\n",
       "           678.40698242,  -797.3369751 ,   325.2250061 ,  -907.51599121,\n",
       "          1089.18994141,  -269.26400757,  -857.72998047, -1179.86999512,\n",
       "         -1009.71002197,  1125.61999512,   596.75799561,   -41.22900009,\n",
       "          -915.29699707,   360.03900146]),\n",
       "  array([ 1709.32995605,  -263.6210022 ,   878.79498291,  1256.7800293 ,\n",
       "         -1320.25      ,  1359.5300293 ,  -103.2480011 , -1188.94995117,\n",
       "           789.67700195,  1331.19995117,  1244.31994629,   789.13800049,\n",
       "         -1312.98999023,   700.06097412,   704.63598633,  1120.32995605,\n",
       "          1274.85998535,  -195.58700562, -1378.55004883,   946.39599609,\n",
       "           574.78198242,   774.35998535, -1160.86999512, -1429.4699707 ,\n",
       "         -1269.05004883,   758.25      , -1392.64001465, -1087.75      ,\n",
       "         -1198.30004883,  -174.46800232,   804.42199707,  1166.26000977,\n",
       "          1453.23999023,   974.93902588,  -689.46697998,    86.16549683,\n",
       "           992.0380249 ,  1240.11999512,  1424.17004395,   805.66497803,\n",
       "           654.37902832,  1342.30004883,  1168.60998535,  -804.5380249 ,\n",
       "           690.50701904,   681.38299561, -1123.4699707 , -1845.34997559,\n",
       "           975.05700684, -1181.18994141]),\n",
       "  array([  847.19299316,  -794.32598877,   838.60797119,   368.57998657,\n",
       "           409.51699829,  -234.44500732,  1047.25      ,   471.95300293,\n",
       "           452.46798706,   -44.72129822,   311.52999878,   829.54998779,\n",
       "            32.65520096,  -755.79199219,  1690.15002441,   718.78302002,\n",
       "          -821.7800293 , -1164.92004395,   926.74401855,  -587.10900879,\n",
       "           703.14300537,   991.58502197,   324.30499268,   -65.11190033,\n",
       "           108.71499634,   950.60302734,  -154.07400513,   631.08197021,\n",
       "          1258.05004883, -1212.18994141,   982.35699463,   563.81097412,\n",
       "          -538.13201904,  -687.17199707,   917.83300781,  1038.95996094,\n",
       "          -667.02197266,   794.01000977,  -325.27099609,   895.64099121,\n",
       "         -1073.9699707 ,   166.62800598,   608.56500244,  1029.17004395,\n",
       "           495.64001465, -1167.11999512,  -585.35400391,   100.07499695,\n",
       "           908.36700439,  -390.2250061 ]),\n",
       "  array([-1152.06994629,   252.84399414,  -813.87200928, -1058.44995117,\n",
       "          1198.98999023, -1313.04003906,    82.10620117,   995.59399414,\n",
       "          -401.40499878, -1225.60998535, -1056.55004883,  -896.74401855,\n",
       "           777.91900635,  -534.95697021,  -524.92700195,  -890.45800781,\n",
       "         -1128.0300293 ,   157.11999512,  1367.05004883,  -538.39398193,\n",
       "          -173.00799561,  -683.40600586,  1023.46002197,  1060.4699707 ,\n",
       "          1188.82995605,  -548.65802002,  1297.4699707 ,  1023.20001221,\n",
       "           996.99102783,   170.19500732,  -681.64697266,  -857.53497314,\n",
       "         -1404.06994629,  -882.6619873 ,   716.67498779,     4.38070011,\n",
       "          -989.0369873 , -1104.73999023, -1313.09997559,  -765.309021  ,\n",
       "          -640.2869873 , -1320.70996094,  -613.0880127 ,   791.57397461,\n",
       "          -298.65499878,  -340.94000244,  1100.65002441,  1819.98999023,\n",
       "          -977.95300293,  1117.0300293 ])],\n",
       " array([[1.],\n",
       "        [1.],\n",
       "        [1.],\n",
       "        [1.],\n",
       "        [1.],\n",
       "        [1.],\n",
       "        [1.],\n",
       "        [1.],\n",
       "        [1.],\n",
       "        [1.],\n",
       "        [1.],\n",
       "        [1.],\n",
       "        [1.],\n",
       "        [1.],\n",
       "        [1.],\n",
       "        [1.],\n",
       "        [1.],\n",
       "        [1.],\n",
       "        [1.],\n",
       "        [1.],\n",
       "        [1.],\n",
       "        [1.],\n",
       "        [1.],\n",
       "        [1.],\n",
       "        [1.],\n",
       "        [1.],\n",
       "        [1.],\n",
       "        [1.],\n",
       "        [1.],\n",
       "        [1.],\n",
       "        [1.],\n",
       "        [1.],\n",
       "        [1.],\n",
       "        [1.],\n",
       "        [1.],\n",
       "        [1.],\n",
       "        [1.],\n",
       "        [1.],\n",
       "        [1.],\n",
       "        [1.],\n",
       "        [1.],\n",
       "        [1.],\n",
       "        [1.],\n",
       "        [1.],\n",
       "        [1.],\n",
       "        [1.],\n",
       "        [1.],\n",
       "        [1.],\n",
       "        [1.],\n",
       "        [1.]]))"
      ]
     },
     "execution_count": 21,
     "metadata": {},
     "output_type": "execute_result"
    }
   ],
   "source": [
    "generate_real_samples(50)"
   ]
  },
  {
   "cell_type": "code",
   "execution_count": 11,
   "id": "28d07c7a-e2d0-47e2-a92d-a4c209ef9942",
   "metadata": {},
   "outputs": [
    {
     "data": {
      "text/plain": [
       "array([9, 5, 7, 1])"
      ]
     },
     "execution_count": 11,
     "metadata": {},
     "output_type": "execute_result"
    }
   ],
   "source": [
    "np.argsort(np.random.random(10))[:4]"
   ]
  },
  {
   "cell_type": "code",
   "execution_count": 14,
   "id": "c3e82c48-db3d-4fbe-8b8f-5d74bc8bf495",
   "metadata": {},
   "outputs": [],
   "source": []
  },
  {
   "cell_type": "code",
   "execution_count": 16,
   "id": "25e5146b-6a4a-4d35-b455-de3e770744fe",
   "metadata": {},
   "outputs": [
    {
     "name": "stdout",
     "output_type": "stream",
     "text": [
      "[-1145.82995605 -1313.5300293   1377.76000977 -1211.11999512\n",
      "  1227.84997559   515.84802246  -319.79699707  -339.55999756\n",
      "   397.21398926  1130.33996582  -988.75299072   917.29998779\n",
      "   180.28399658 -1622.68994141   664.35601807  -245.28300476\n",
      " -1206.56005859   980.97198486  -764.48199463 -2102.39990234\n",
      " -1210.61999512  -138.19999695  -430.72799683  1255.57995605\n",
      "  -807.190979    1170.18005371 -1317.7800293   -852.67797852\n",
      " -1539.06005859  -106.77300262   541.65197754  -460.68899536\n",
      "  1529.2800293    760.13800049 -1079.22998047 -1160.64001465\n",
      " -1111.89001465  1281.         -1271.45996094   606.00201416\n",
      "  -986.79602051  1205.20996094  1706.60998535 -1144.86999512\n",
      "  1142.22998047 -1130.66003418   -97.2519989   -933.07202148\n",
      "   -63.06489944  -987.76397705]\n"
     ]
    }
   ],
   "source": []
  },
  {
   "cell_type": "code",
   "execution_count": null,
   "id": "258b4994-c349-4ffb-a0da-aced05f23f55",
   "metadata": {},
   "outputs": [],
   "source": []
  }
 ],
 "metadata": {
  "kernelspec": {
   "display_name": "tensorflow-v2.2.0-gpu",
   "language": "python",
   "name": "tensorflow_gpu_2.2.0-py37"
  },
  "language_info": {
   "codemirror_mode": {
    "name": "ipython",
    "version": 3
   },
   "file_extension": ".py",
   "mimetype": "text/x-python",
   "name": "python",
   "nbconvert_exporter": "python",
   "pygments_lexer": "ipython3",
   "version": "3.7.4"
  }
 },
 "nbformat": 4,
 "nbformat_minor": 5
}
