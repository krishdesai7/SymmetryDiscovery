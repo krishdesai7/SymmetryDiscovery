{
 "cells": [
  {
   "cell_type": "code",
   "execution_count": null,
   "metadata": {},
   "outputs": [
    {
     "name": "stdout",
     "output_type": "stream",
     "text": [
      "j =  0\n",
      "epoch =  1999\n",
      "epoch =  3999\n",
      "epoch =  5999\n",
      "epoch =  7999\n",
      "epoch =  9999\n",
      "b_i =  [0.51688623]\n",
      "c_i =  [0.8584626]\n",
      "b_f =  [0.025363926]\n",
      "c_f =  [0.97838897]\n",
      "j =  1\n",
      "epoch =  1999\n",
      "epoch =  3999\n",
      "epoch =  5999\n",
      "epoch =  7999\n",
      "epoch =  9999\n",
      "b_i =  [0.51688623, -0.058414936]\n",
      "c_i =  [0.8584626, -0.18793392]\n",
      "b_f =  [0.025363926, 0.01518116]\n",
      "c_f =  [0.97838897, -0.9953473]\n",
      "j =  2\n",
      "epoch =  1999\n",
      "epoch =  3999\n",
      "epoch =  5999\n",
      "epoch =  7999\n",
      "epoch =  9999\n",
      "b_i =  [0.51688623, -0.058414936, 0.7303791]\n",
      "c_i =  [0.8584626, -0.18793392, -0.031193256]\n",
      "b_f =  [0.025363926, 0.01518116, 0.021411933]\n",
      "c_f =  [0.97838897, -0.9953473, -1.016073]\n",
      "j =  3\n",
      "epoch =  1999\n",
      "epoch =  3999\n",
      "epoch =  5999\n",
      "epoch =  7999\n",
      "epoch =  9999\n",
      "b_i =  [0.51688623, -0.058414936, 0.7303791, 0.6164856]\n",
      "c_i =  [0.8584626, -0.18793392, -0.031193256, -0.85332155]\n",
      "b_f =  [0.025363926, 0.01518116, 0.021411933, 0.016038774]\n",
      "c_f =  [0.97838897, -0.9953473, -1.016073, -0.9622726]\n",
      "j =  4\n",
      "epoch =  1999\n",
      "epoch =  3999\n",
      "epoch =  5999\n",
      "epoch =  7999\n",
      "epoch =  9999\n",
      "b_i =  [0.51688623, -0.058414936, 0.7303791, 0.6164856, -0.6496744]\n",
      "c_i =  [0.8584626, -0.18793392, -0.031193256, -0.85332155, 0.67522764]\n",
      "b_f =  [0.025363926, 0.01518116, 0.021411933, 0.016038774, 0.044502437]\n",
      "c_f =  [0.97838897, -0.9953473, -1.016073, -0.9622726, 0.97214234]\n",
      "j =  5\n",
      "epoch =  1999\n",
      "epoch =  3999\n",
      "epoch =  5999\n",
      "epoch =  7999\n",
      "epoch =  9999\n",
      "b_i =  [0.51688623, -0.058414936, 0.7303791, 0.6164856, -0.6496744, -0.47089744]\n",
      "c_i =  [0.8584626, -0.18793392, -0.031193256, -0.85332155, 0.67522764, -0.19506097]\n",
      "b_f =  [0.025363926, 0.01518116, 0.021411933, 0.016038774, 0.044502437, 0.0033742252]\n",
      "c_f =  [0.97838897, -0.9953473, -1.016073, -0.9622726, 0.97214234, -1.0485175]\n",
      "j =  6\n",
      "epoch =  1999\n",
      "epoch =  3999\n",
      "epoch =  5999\n",
      "epoch =  7999\n",
      "epoch =  9999\n",
      "b_i =  [0.51688623, -0.058414936, 0.7303791, 0.6164856, -0.6496744, -0.47089744, 0.032030344]\n",
      "c_i =  [0.8584626, -0.18793392, -0.031193256, -0.85332155, 0.67522764, -0.19506097, -0.14232492]\n",
      "b_f =  [0.025363926, 0.01518116, 0.021411933, 0.016038774, 0.044502437, 0.0033742252, -0.028979931]\n",
      "c_f =  [0.97838897, -0.9953473, -1.016073, -0.9622726, 0.97214234, -1.0485175, -0.97478515]\n",
      "j =  7\n",
      "epoch =  1999\n",
      "epoch =  3999\n",
      "epoch =  5999\n",
      "epoch =  7999\n",
      "epoch =  9999\n",
      "b_i =  [0.51688623, -0.058414936, 0.7303791, 0.6164856, -0.6496744, -0.47089744, 0.032030344, 0.45722508]\n",
      "c_i =  [0.8584626, -0.18793392, -0.031193256, -0.85332155, 0.67522764, -0.19506097, -0.14232492, -0.20392203]\n",
      "b_f =  [0.025363926, 0.01518116, 0.021411933, 0.016038774, 0.044502437, 0.0033742252, -0.028979931, 0.006091847]\n",
      "c_f =  [0.97838897, -0.9953473, -1.016073, -0.9622726, 0.97214234, -1.0485175, -0.97478515, -0.9918384]\n",
      "j =  8\n",
      "epoch =  1999\n",
      "epoch =  3999\n",
      "epoch =  5999\n",
      "epoch =  7999\n",
      "epoch =  9999\n",
      "b_i =  [0.51688623, -0.058414936, 0.7303791, 0.6164856, -0.6496744, -0.47089744, 0.032030344, 0.45722508, -0.3724656]\n",
      "c_i =  [0.8584626, -0.18793392, -0.031193256, -0.85332155, 0.67522764, -0.19506097, -0.14232492, -0.20392203, 0.5560663]\n",
      "b_f =  [0.025363926, 0.01518116, 0.021411933, 0.016038774, 0.044502437, 0.0033742252, -0.028979931, 0.006091847, -0.033361275]\n",
      "c_f =  [0.97838897, -0.9953473, -1.016073, -0.9622726, 0.97214234, -1.0485175, -0.97478515, -0.9918384, 1.0011771]\n",
      "j =  9\n"
     ]
    }
   ],
   "source": [
    "import tensorflow as tf\n",
    "import numpy as np\n",
    "import matplotlib.pyplot as plt\n",
    "from numpy import hstack\n",
    "from numpy import zeros\n",
    "from numpy import ones\n",
    "from numpy.random import rand\n",
    "from numpy.random import randn\n",
    "from tensorflow.keras.models import Sequential\n",
    "from tensorflow.keras.layers import Lambda, Dense, Input, Layer, Dropout\n",
    "from tensorflow.keras.callbacks import EarlyStopping, LambdaCallback\n",
    "from tensorflow.keras.utils import to_categorical\n",
    "from tensorflow.keras.models import Model\n",
    "from matplotlib import pyplot\n",
    "from sklearn.model_selection import train_test_split\n",
    "import scipy\n",
    "from matplotlib import gridspec\n",
    "from tensorflow.keras.layers import Layer\n",
    "\n",
    "class MyLayer(Layer):\n",
    "\n",
    "    def __init__(self, kernel_initilizer=tf.keras.initializers.RandomUniform(minval=-1., maxval=1.), **kwargs):\n",
    "        super(MyLayer, self).__init__(**kwargs)\n",
    "        self.kernel_initializer = tf.keras.initializers.get(kernel_initilizer)\n",
    "\n",
    "    def build(self, input_shape):\n",
    "        # Create a trainable weight variable for this layer.\n",
    "        self._b = self.add_weight(name='x', \n",
    "                                    shape=(1,),\n",
    "                                    initializer=self.kernel_initializer, #'uniform',\n",
    "                                    trainable=True)\n",
    "        self._c = self.add_weight(name='x', \n",
    "                                    shape=(1,),\n",
    "                                    initializer=self.kernel_initializer, #'uniform',\n",
    "                                    trainable=True)\n",
    "        super(MyLayer, self).build(input_shape)  # Be sure to call this at the end\n",
    "\n",
    "    def call(self, x):\n",
    "        return self._b + self._c*x\n",
    "    \n",
    "#Quick vanilla GAN from https://machinelearningmastery.com/how-to-develop-a-generative-adversarial-network-for-a-1-dimensional-function-from-scratch-in-keras/\n",
    " \n",
    "# define the standalone discriminator model\n",
    "def define_discriminator(n_inputs=1):\n",
    "\tmodel = Sequential()\n",
    "\tmodel.add(Dense(25, activation='relu', input_dim=n_inputs))\n",
    "\tmodel.add(Dense(25, activation='relu', input_dim=n_inputs))    \n",
    "\tmodel.add(Dense(1, activation='sigmoid'))\n",
    "\t# compile model\n",
    "\tmodel.compile(loss='binary_crossentropy', optimizer='adam', metrics=['accuracy'])\n",
    "\treturn model\n",
    " \n",
    "# define the standalone generator model\n",
    "def define_generator(n_outputs=1):\n",
    "\t#model = Sequential()\n",
    "\t#model.add(Dense(15, activation='relu', input_dim=n_outputs))\n",
    "\t#model.add(Dense(15, activation='relu', input_dim=n_outputs))    \n",
    "\t#model.add(Dense(n_outputs, activation='linear'))\n",
    "\n",
    "\tmymodel_inputtest = Input(shape=(1,))\n",
    "\tmymodel_test = MyLayer()(mymodel_inputtest)\n",
    "\tmodel = Model(mymodel_inputtest, mymodel_test)\n",
    "\treturn model\n",
    " \n",
    "# define the combined generator and discriminator model, for updating the generator\n",
    "def define_gan(generator, discriminator):\n",
    "\t# make weights in the discriminator not trainable\n",
    "\tdiscriminator.trainable = False\n",
    "\t# connect them\n",
    "\tmodel = Sequential()\n",
    "\t# add generator\n",
    "\tmodel.add(generator)\n",
    "\t# add the discriminator\n",
    "\tmodel.add(discriminator)\n",
    "\t# compile model\n",
    "\tmodel.compile(loss='binary_crossentropy', optimizer='adam')\n",
    "\treturn model\n",
    " \n",
    "# generate n real samples with class labels\n",
    "def generate_real_samples(n):\n",
    "\tmu, sigma = -1, 0.4\n",
    "\tmu2, sigma2 = 1, 0.4\n",
    "\tX1 = np.random.normal(mu, sigma, n//2)\n",
    "\tX2 = np.random.normal(mu2, sigma2, n//2)\n",
    "\tX = np.concatenate([X1, X2])\n",
    "\t#X = np.random.normal(0, 1, n)\n",
    "\t#plt.hist(X, bins=50)\n",
    "\ty = ones((n, 1))\n",
    "\treturn X, y\n",
    " \n",
    "# generate points in latent space as input for the generator\n",
    "def generate_latent_points(n):\n",
    "\t# generate points in the latent space\n",
    "\tx_input = generate_real_samples(n)\n",
    "\treturn x_input[0]\n",
    " \n",
    "# use the generator to generate n fake examples, with class labels\n",
    "def generate_fake_samples(generator, n):\n",
    "\t# generate points in latent space\n",
    "\tx_input = generate_latent_points(n)\n",
    "\t# predict outputs\n",
    "\tX = generator.predict(x_input)\n",
    "\t# create class labels\n",
    "\ty = zeros((n, 1))\n",
    "\treturn X, y\n",
    "\n",
    "def generate_fake_samples_with_input(generator, n):\n",
    "\t# generate points in latent space\n",
    "\tx_input = generate_latent_points(n)\n",
    "\t# predict outputs\n",
    "\tX = generator.predict(x_input)\n",
    "\t# create class labels\n",
    "\ty = zeros((n, 1))\n",
    "\treturn X, y, x_input\n",
    " \n",
    "# train the generator and discriminator\n",
    "def train(g_model, d_model, gan_model, n_epochs=10000, n_batch=128, n_eval=2000):\n",
    "\t# determine half the size of one batch, for updating the discriminator\n",
    "\thalf_batch = int(n_batch / 2)\n",
    "\t# manually enumerate epochs\n",
    "\tfor i in range(n_epochs):\n",
    "\t\t# prepare real samples\n",
    "\t\tx_real, y_real = generate_real_samples(half_batch)\n",
    "\t\t# prepare fake examples\n",
    "\t\tx_fake, y_fake = generate_fake_samples(g_model, half_batch)\n",
    "\t\t# update discriminator\n",
    "\t\td_model.train_on_batch(x_real, y_real)\n",
    "\t\td_model.train_on_batch(x_fake, y_fake)\n",
    "\t\t# prepare points in latent space as input for the generator\n",
    "\t\tx_gan = generate_latent_points(n_batch)\n",
    "\t\t# create inverted labels for the fake samples\n",
    "\t\ty_gan = ones((n_batch, 1))\n",
    "\t\t# update the generator via the discriminator's error\n",
    "\t\tgan_model.train_on_batch(x_gan, y_gan)\n",
    "\t\tif (i+1) % n_eval == 0:\n",
    "\t\t\tprint(\"epoch = \", i)\n",
    "          \n",
    "        \n",
    "N = 10\n",
    "b_i = []\n",
    "c_i = []\n",
    "b_f = []\n",
    "c_f = []\n",
    "for j in range(N):\n",
    "    print(\"j = \", j)\n",
    "    # create the discriminator\n",
    "    discriminator = define_discriminator()\n",
    "    # create the generator\n",
    "    generator = define_generator()\n",
    "    # create the gan\n",
    "    gan_model = define_gan(generator, discriminator)\n",
    "    b_i.append(generator.layers[-1].get_weights()[0][0])\n",
    "    c_i.append(generator.layers[-1].get_weights()[1][0])\n",
    "    # train model\n",
    "    train(generator, discriminator, gan_model)\n",
    "    b_f.append(generator.layers[-1].get_weights()[0][0])\n",
    "    c_f.append(generator.layers[-1].get_weights()[1][0])\n",
    "    print(\"b_i = \", b_i)\n",
    "    print(\"c_i = \", c_i)\n",
    "    print(\"b_f = \", b_f)\n",
    "    print(\"c_f = \", c_f)"
   ]
  },
  {
   "cell_type": "code",
   "execution_count": 2,
   "metadata": {},
   "outputs": [],
   "source": [
    "b_i =  [0.51688623, -0.058414936, 0.7303791, 0.6164856, -0.6496744, -0.47089744, 0.032030344, 0.45722508, -0.3724656,-0.86075854, -0.19965816, -0.68948245, -0.6106994, 0.30577278, -0.76033163, -0.65713835, -0.06874132, 0.6534102, -0.20973158]\n",
    "c_i =  [0.8584626, -0.18793392, -0.031193256, -0.85332155, 0.67522764, -0.19506097, -0.14232492, -0.20392203, 0.5560663, 0.010075331, 0.3072667, -0.72596693, -0.57415533, -0.5588381, 0.99137187, -0.5799906, 0.65360236, 0.10169029, -0.7195132]\n",
    "b_f =  [0.025363926, 0.01518116, 0.021411933, 0.016038774, 0.044502437, 0.0033742252, -0.028979931, 0.006091847, -0.033361275, -0.03301614, -0.014332288, -0.029369751, 0.019609416, -0.02250285, -0.023870151, -0.037610915, -0.01615859, -0.012202544, 0.008743415]\n",
    "c_f =  [0.97838897, -0.9953473, -1.016073, -0.9622726, 0.97214234, -1.0485175, -0.97478515, -0.9918384, 1.0011771, 0.9881556, 1.0050595, -0.9906271, -1.0254693, -1.0503438, 0.96701115, -0.93838465, 0.9661734, 0.98206806, -0.98105836]"
   ]
  },
  {
   "cell_type": "code",
   "execution_count": 1,
   "metadata": {},
   "outputs": [],
   "source": [
    "import matplotlib.pyplot as plt"
   ]
  },
  {
   "cell_type": "code",
   "execution_count": 8,
   "metadata": {},
   "outputs": [
    {
     "data": {
      "text/plain": [
       "(-1, 1)"
      ]
     },
     "execution_count": 8,
     "metadata": {},
     "output_type": "execute_result"
    },
    {
     "data": {
      "image/png": "[encoded data removed]",
      "text/plain": [
       "<Figure size 432x288 with 1 Axes>"
      ]
     },
     "metadata": {
      "needs_background": "light"
     },
     "output_type": "display_data"
    }
   ],
   "source": [
    "plt.scatter(b_i, b_f)\n",
    "plt.ylim(-1, 1)"
   ]
  },
  {
   "cell_type": "code",
   "execution_count": 6,
   "metadata": {},
   "outputs": [
    {
     "data": {
      "text/plain": [
       "<matplotlib.collections.PathCollection at 0x2aaad6ce3dd0>"
      ]
     },
     "execution_count": 6,
     "metadata": {},
     "output_type": "execute_result"
    },
    {
     "data": {
      "image/png": "[encoded data removed]",
      "text/plain": [
       "<Figure size 432x288 with 1 Axes>"
      ]
     },
     "metadata": {
      "needs_background": "light"
     },
     "output_type": "display_data"
    }
   ],
   "source": [
    "plt.scatter(c_i, c_f)"
   ]
  },
  {
   "cell_type": "code",
   "execution_count": 4,
   "metadata": {},
   "outputs": [
    {
     "data": {
      "image/png": "[encoded data removed]",
      "text/plain": [
       "<Figure size 432x288 with 1 Axes>"
      ]
     },
     "metadata": {
      "needs_background": "light"
     },
     "output_type": "display_data"
    }
   ],
   "source": [
    "plt.scatter(b_f, c_f)\n",
    "plt.xlim(-0.5, 0.5)\n",
    "plt.xlabel(r\"$b_f$ (final intercept)\")\n",
    "plt.ylabel(r\"$c_f$ (final slope)\")\n",
    "plt.rc('font', size=15)\n",
    "plt.savefig(\"1d_bimodalsymm.pdf\", bbox_inches='tight')"
   ]
  },
  {
   "cell_type": "code",
   "execution_count": null,
   "metadata": {},
   "outputs": [],
   "source": []
  },
  {
   "cell_type": "code",
   "execution_count": null,
   "metadata": {},
   "outputs": [],
   "source": []
  }
 ],
 "metadata": {
  "kernelspec": {
   "display_name": "Python 3",
   "language": "python",
   "name": "python3"
  },
  "language_info": {
   "codemirror_mode": {
    "name": "ipython",
    "version": 3
   },
   "file_extension": ".py",
   "mimetype": "text/x-python",
   "name": "python",
   "nbconvert_exporter": "python",
   "pygments_lexer": "ipython3",
   "version": "3.7.4"
  }
 },
 "nbformat": 4,
 "nbformat_minor": 4
}
