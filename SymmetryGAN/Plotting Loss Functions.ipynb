{
 "cells": [
  {
   "cell_type": "code",
   "execution_count": 40,
   "metadata": {},
   "outputs": [],
   "source": [
    "import numpy as np\n",
    "import scipy.integrate as integrate\n",
    "import matplotlib.pyplot as plt"
   ]
  },
  {
   "cell_type": "code",
   "execution_count": 41,
   "metadata": {},
   "outputs": [],
   "source": [
    "def p(x):\n",
    "    return 1/np.sqrt(2*np.pi)*np.exp(-0.5*(x - 0.5)**2)"
   ]
  },
  {
   "cell_type": "code",
   "execution_count": 67,
   "metadata": {},
   "outputs": [],
   "source": [
    "def g(c, x):\n",
    "    return c-x\n",
    "def h(c, x):\n",
    "    return p(x)/(p(x) + p(g(c, x)))\n",
    "def L(c, x):\n",
    "    return -1*np.log(h(c, x))*p(x)-np.log(1-h(c, g(c, x)))*p(g(c, x)) + (g(c, g(c, x)) - x)**2*p(g(c, x))"
   ]
  },
  {
   "cell_type": "code",
   "execution_count": 71,
   "metadata": {},
   "outputs": [],
   "source": [
    "loss = []\n",
    "result = 0\n",
    "for c in np.linspace(-1, 2):\n",
    "    result, error = integrate.quad(lambda x: L(c, x), -10, 10)\n",
    "    loss.append(result)"
   ]
  },
  {
   "cell_type": "code",
   "execution_count": 72,
   "metadata": {},
   "outputs": [
    {
     "data": {
      "text/plain": [
       "[2.712632720426226,\n",
       " 2.6197484347185847,\n",
       " 2.5309073266833337,\n",
       " 2.4460568258999067,\n",
       " 2.365140697807084,\n",
       " 2.2880990759324913,\n",
       " 2.2148685165219675,\n",
       " 2.145382077330455,\n",
       " 2.0795694224243313,\n",
       " 2.017356954940428,\n",
       " 1.9586679798486062,\n",
       " 1.9034228988704895,\n",
       " 1.8515394398133675,\n",
       " 1.8029329226793336,\n",
       " 1.7575165649965827,\n",
       " 1.715201828879283,\n",
       " 1.675898812335908,\n",
       " 1.6395166872876716,\n",
       " 1.6059641865938497,\n",
       " 1.5751501420636478,\n",
       " 1.5469840749060488,\n",
       " 1.5213768392570943,\n",
       " 1.498241318241704,\n",
       " 1.4774931703774234,\n",
       " 1.4590516219114287,\n",
       " 1.4428402978148909,\n",
       " 1.428788080597481,\n",
       " 1.416829981889029,\n",
       " 1.4069080070416866,\n",
       " 1.39897198820682,\n",
       " 1.3929803570493997,\n",
       " 1.3889008253266162,\n",
       " 1.386710940956947,\n",
       " 1.3863984898223094,\n",
       " 1.3879617198254648,\n",
       " 1.3914093733557422,\n",
       " 1.3967605261106364,\n",
       " 1.4040442423476769,\n",
       " 1.413299067165255,\n",
       " 1.4245723838862339,\n",
       " 1.4379196684379043,\n",
       " 1.453403673009721,\n",
       " 1.471093569002653,\n",
       " 1.4910640753403162,\n",
       " 1.5133945935016242,\n",
       " 1.5381683658531975,\n",
       " 1.5654716694566253,\n",
       " 1.5953930537362444,\n",
       " 1.628022627296195,\n",
       " 1.663451396750418]"
      ]
     },
     "execution_count": 72,
     "metadata": {},
     "output_type": "execute_result"
    }
   ],
   "source": [
    "loss"
   ]
  },
  {
   "cell_type": "code",
   "execution_count": 74,
   "metadata": {},
   "outputs": [
    {
     "data": {
      "text/plain": [
       "[<matplotlib.lines.Line2D at 0x2aaad9e04550>]"
      ]
     },
     "execution_count": 74,
     "metadata": {},
     "output_type": "execute_result"
    },
    {
     "data": {
      "image/png": "[encoded data removed]",
      "text/plain": [
       "<Figure size 432x288 with 1 Axes>"
      ]
     },
     "metadata": {
      "needs_background": "light"
     },
     "output_type": "display_data"
    }
   ],
   "source": [
    "plt.plot(np.linspace(-1, 2), loss)"
   ]
  },
  {
   "cell_type": "code",
   "execution_count": null,
   "metadata": {},
   "outputs": [],
   "source": []
  }
 ],
 "metadata": {
  "kernelspec": {
   "display_name": "Python 3",
   "language": "python",
   "name": "python3"
  },
  "language_info": {
   "codemirror_mode": {
    "name": "ipython",
    "version": 3
   },
   "file_extension": ".py",
   "mimetype": "text/x-python",
   "name": "python",
   "nbconvert_exporter": "python",
   "pygments_lexer": "ipython3",
   "version": "3.7.4"
  }
 },
 "nbformat": 4,
 "nbformat_minor": 4
}
