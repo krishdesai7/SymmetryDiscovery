{
 "cells": [
  {
   "cell_type": "code",
   "execution_count": 1,
   "metadata": {},
   "outputs": [],
   "source": [
    "import numpy as np\n",
    "import scipy.integrate as integrate\n",
    "import matplotlib.pyplot as plt"
   ]
  },
  {
   "cell_type": "code",
   "execution_count": 2,
   "metadata": {},
   "outputs": [],
   "source": [
    "def p(x):\n",
    "    return 1/np.sqrt(2*np.pi)*np.exp(-0.5*(x - 0.5)**2)"
   ]
  },
  {
   "cell_type": "code",
   "execution_count": 7,
   "metadata": {},
   "outputs": [],
   "source": [
    "def g(c, x):\n",
    "    return 1-c*x\n",
    "def h(c, x):\n",
    "    return p(x)/(p(x) + p(g(c, x)))\n",
    "def L(c, x):\n",
    "    return -1*np.log(h(c, x))*p(x)-np.log(1-h(c, g(c, x)))*p(g(c, x)) + (g(c, g(c, x)) - x)**2*p(g(c, x))"
   ]
  },
  {
   "cell_type": "code",
   "execution_count": 8,
   "metadata": {},
   "outputs": [
    {
     "name": "stderr",
     "output_type": "stream",
     "text": [
      "/usr/common/software/python/3.7-anaconda-2019.10/lib/python3.7/site-packages/ipykernel_launcher.py:6: RuntimeWarning: divide by zero encountered in log\n",
      "  \n"
     ]
    }
   ],
   "source": [
    "loss = []\n",
    "result = 0\n",
    "low = -2\n",
    "high = 2\n",
    "for c in np.linspace(low, high):\n",
    "    result, error = integrate.quad(lambda x: L(c, x), -10, 10)\n",
    "    loss.append(result)"
   ]
  },
  {
   "cell_type": "code",
   "execution_count": 9,
   "metadata": {},
   "outputs": [
    {
     "data": {
      "text/plain": [
       "[inf,\n",
       " inf,\n",
       " inf,\n",
       " inf,\n",
       " inf,\n",
       " inf,\n",
       " inf,\n",
       " inf,\n",
       " inf,\n",
       " inf,\n",
       " inf,\n",
       " 5.327927750176468,\n",
       " 5.581318666107058,\n",
       " 5.967764722306295,\n",
       " 6.5515820373827705,\n",
       " 7.439048378387314,\n",
       " 8.814530239861641,\n",
       " 11.01955919040351,\n",
       " 14.742402192928765,\n",
       " 21.516541076759054,\n",
       " 35.08283788797976,\n",
       " 64.05859558646912,\n",
       " 120.3400016134663,\n",
       " 197.35731077563725,\n",
       " 248.07587692446464,\n",
       " 228.5522170172422,\n",
       " 156.15060786306668,\n",
       " 83.25716739895144,\n",
       " 38.71900309301361,\n",
       " 18.205532531400056,\n",
       " 9.469381627983942,\n",
       " 5.51012733288939,\n",
       " 3.5471788608255053,\n",
       " 2.5071159417926387,\n",
       " 1.934723159051916,\n",
       " 1.6176599974039096,\n",
       " 1.4495245340855214,\n",
       " 1.3741676531042557,\n",
       " 1.360371830864672,\n",
       " 1.3892988725684554,\n",
       " inf,\n",
       " inf,\n",
       " inf,\n",
       " inf,\n",
       " inf,\n",
       " inf,\n",
       " inf,\n",
       " inf,\n",
       " inf,\n",
       " inf]"
      ]
     },
     "execution_count": 9,
     "metadata": {},
     "output_type": "execute_result"
    }
   ],
   "source": [
    "loss"
   ]
  },
  {
   "cell_type": "code",
   "execution_count": 10,
   "metadata": {},
   "outputs": [
    {
     "data": {
      "text/plain": [
       "[<matplotlib.lines.Line2D at 0x2aaad7d24290>]"
      ]
     },
     "execution_count": 10,
     "metadata": {},
     "output_type": "execute_result"
    },
    {
     "data": {
      "image/png": "[encoded data removed]",
      "text/plain": [
       "<Figure size 432x288 with 1 Axes>"
      ]
     },
     "metadata": {
      "needs_background": "light"
     },
     "output_type": "display_data"
    }
   ],
   "source": [
    "plt.plot(np.linspace(low, high), loss)"
   ]
  },
  {
   "cell_type": "code",
   "execution_count": null,
   "metadata": {},
   "outputs": [],
   "source": []
  },
  {
   "cell_type": "code",
   "execution_count": null,
   "metadata": {},
   "outputs": [],
   "source": []
  }
 ],
 "metadata": {
  "kernelspec": {
   "display_name": "Python 3",
   "language": "python",
   "name": "python3"
  },
  "language_info": {
   "codemirror_mode": {
    "name": "ipython",
    "version": 3
   },
   "file_extension": ".py",
   "mimetype": "text/x-python",
   "name": "python",
   "nbconvert_exporter": "python",
   "pygments_lexer": "ipython3",
   "version": "3.7.4"
  }
 },
 "nbformat": 4,
 "nbformat_minor": 4
}
