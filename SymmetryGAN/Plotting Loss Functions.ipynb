{
 "cells": [
  {
   "cell_type": "code",
   "execution_count": 1,
   "metadata": {},
   "outputs": [],
   "source": [
    "import numpy as np\n",
    "import matplotlib.pyplot as plt\n",
    "from mpl_toolkits.mplot3d import Axes3D\n",
    "from matplotlib import cm, ticker\n",
    "%matplotlib inline"
   ]
  },
  {
   "cell_type": "code",
   "execution_count": 2,
   "metadata": {},
   "outputs": [],
   "source": [
    "def p(x):\n",
    "    return 1/np.sqrt(2*np.pi)*np.exp(-0.5*(x - 0.5)**2)"
   ]
  },
  {
   "cell_type": "code",
   "execution_count": 3,
   "metadata": {},
   "outputs": [],
   "source": [
    "def g(a, c, x):\n",
    "    return a + c*x\n",
    "def h(a, c, x):\n",
    "    return p(x)/(p(x) + p(g(a, c, x))*abs(c))\n",
    "def L(c, x):\n",
    "    return -1*np.log(h(c, x))*p(x)-np.log(1-h(c, g(c, x)))*p(g(c, x))*abs(c) + (g(c, g(c, x)) - x)**2*p(g(c, x))*abs(c)"
   ]
  },
  {
   "cell_type": "code",
   "execution_count": 4,
   "metadata": {},
   "outputs": [],
   "source": [
    "xx = np.random.normal(0.5,1.,10000)\n",
    "A = 0\n",
    "C = 0\n",
    "range = 3\n",
    "alow = A-range\n",
    "ahigh = A+range\n",
    "astep = 200\n",
    "clow = C - range\n",
    "chigh = C + range\n",
    "cstep = 200\n",
    "\n",
    "mylosses=[]\n",
    "for c in np.linspace(clow,chigh,cstep):\n",
    "    losses=[]\n",
    "    for a in np.linspace(alow, ahigh, astep):\n",
    "        yy = g(a, c, xx)\n",
    "        losses += [np.mean(-np.log(0.000000001+h(a, c, xx)) - np.log(0.000000001+1.-h(a, c, yy)))]\n",
    "    mylosses += [losses]"
   ]
  },
  {
   "cell_type": "code",
   "execution_count": 5,
   "metadata": {},
   "outputs": [
    {
     "data": {
      "image/png": "[encoded data removed]",
      "text/plain": [
       "<Figure size 432x432 with 2 Axes>"
      ]
     },
     "metadata": {
      "needs_background": "light"
     },
     "output_type": "display_data"
    }
   ],
   "source": [
    "x = np.linspace(alow, ahigh, astep)\n",
    "y = np.linspace(clow, chigh, cstep)\n",
    "X,Y = np.meshgrid(x,y)\n",
    "Z = np.array(mylosses)\n",
    "\n",
    "\n",
    "fig, ax = plt.subplots(figsize=(6,6))\n",
    "\n",
    "\n",
    "ax.set_aspect('equal')\n",
    "ax.set_xlabel('a')\n",
    "ax.set_ylabel('c')\n",
    "cf = ax.contourf(X,Y,Z, locator=ticker.LogLocator(), cmap=cm.PuBu_r)\n",
    "fig.colorbar(cf, ax=ax)\n",
    "plt.scatter([0, 1], [1, -1], marker='*', c='yellow')\n",
    "\n",
    "\n",
    "plt.show()"
   ]
  },
  {
   "cell_type": "code",
   "execution_count": null,
   "metadata": {},
   "outputs": [],
   "source": []
  },
  {
   "cell_type": "code",
   "execution_count": null,
   "metadata": {},
   "outputs": [],
   "source": []
  }
 ],
 "metadata": {
  "kernelspec": {
   "display_name": "Python 3",
   "language": "python",
   "name": "python3"
  },
  "language_info": {
   "codemirror_mode": {
    "name": "ipython",
    "version": 3
   },
   "file_extension": ".py",
   "mimetype": "text/x-python",
   "name": "python",
   "nbconvert_exporter": "python",
   "pygments_lexer": "ipython3",
   "version": "3.7.4"
  }
 },
 "nbformat": 4,
 "nbformat_minor": 4
}
