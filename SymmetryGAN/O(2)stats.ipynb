{
 "cells": [
  {
   "cell_type": "code",
   "execution_count": 60,
   "metadata": {},
   "outputs": [],
   "source": [
    "s_i =  [0.26571512, -0.3945005, 0.44834018, 0.5462165, -0.94836926, 0.23670745, -0.9631424, 0.49777198, 0.059622288, -0.06225252, 0.5462706, -0.6066456, 0.13397312, 0.0998075, 0.7076709, 0.9624219, 0.43074346, -0.1603167, -0.62717533, -0.6902883]\n",
    "c_i =  [0.9816861, -0.25062108, 0.9110687, -0.48910642, -0.62036824, 0.4152813, 0.21696877, 0.507576, -0.16734147, -0.36346364, -0.23032498, -0.7328994, -0.10310316, 0.0027916431, 0.6895435, 0.91285515, -0.03623557, -0.9383857, -0.5187366, -0.4970281]\n",
    "s_f =  [-0.0063809827, -0.050858375, -0.023912752, -0.0690209, -0.07821135, 0.09186161, -0.020683106, -0.032206576, -0.059284702, 0.052080724, 0.021130614, -0.043961585, -0.0028533146, -0.038303714, -0.046481118, -0.0006580645, -0.078888625, 0.026181556, -0.02838049, 0.006531654]\n",
    "c_f =  [0.9991846, -0.9585784, 1.0, -0.9496853, -0.9909553, 1.0, 1.0, 1.0, -0.9719964, -0.9852231, -0.95447344, -0.9609807, -1.0, 0.98924637, 0.99099576, 1.0, -1.0, -1.0, -1.0, -1.0]"
   ]
  },
  {
   "cell_type": "code",
   "execution_count": 49,
   "metadata": {},
   "outputs": [
    {
     "data": {
      "text/plain": [
       "[0.9984105818173776,\n",
       " 0.9214591232542008,\n",
       " 1.0005718197082134,\n",
       " 0.9066660536728999,\n",
       " 0.9881094218669124,\n",
       " 1.008438555391792,\n",
       " 1.0004277908738073,\n",
       " 1.0010372635376439,\n",
       " 0.9482916775041887,\n",
       " 0.9733769585859743,\n",
       " 0.9114660505134505,\n",
       " 0.9254165267282023,\n",
       " 1.0000081414042066,\n",
       " 0.9800755550643708,\n",
       " 0.9842330906685075,\n",
       " 1.000000433048886,\n",
       " 1.0062234151543907]"
      ]
     },
     "execution_count": 49,
     "metadata": {},
     "output_type": "execute_result"
    }
   ],
   "source": [
    "N = 20\n",
    "det = [c_f[n]**2 + s_f[n]**2 for n in range(17)]\n",
    "det"
   ]
  },
  {
   "cell_type": "code",
   "execution_count": 50,
   "metadata": {},
   "outputs": [],
   "source": [
    "import numpy as np\n",
    "import matplotlib.pyplot as plt"
   ]
  },
  {
   "cell_type": "code",
   "execution_count": 51,
   "metadata": {},
   "outputs": [],
   "source": [
    "arccos = np.arccos(np.array(c_f))"
   ]
  },
  {
   "cell_type": "code",
   "execution_count": 52,
   "metadata": {},
   "outputs": [],
   "source": [
    "arcsin = np.arcsin(np.array(s_f))"
   ]
  },
  {
   "cell_type": "code",
   "execution_count": 53,
   "metadata": {},
   "outputs": [
    {
     "data": {
      "text/plain": [
       "<matplotlib.collections.PathCollection at 0x2aaad7d2ea50>"
      ]
     },
     "execution_count": 53,
     "metadata": {},
     "output_type": "execute_result"
    },
    {
     "data": {
      "image/png": "[encoded data removed]",
      "text/plain": [
       "<Figure size 432x288 with 1 Axes>"
      ]
     },
     "metadata": {
      "needs_background": "light"
     },
     "output_type": "display_data"
    }
   ],
   "source": [
    "plt.scatter(arccos - arcsin, np.linspace(0, 1, N))"
   ]
  },
  {
   "cell_type": "code",
   "execution_count": 54,
   "metadata": {},
   "outputs": [],
   "source": [
    "M = [[[c_f[n], -s_f[n]], [s_f[n], c_f[n]]] for n in range(N)]"
   ]
  },
  {
   "cell_type": "code",
   "execution_count": 55,
   "metadata": {},
   "outputs": [],
   "source": [
    "X = np.random.multivariate_normal([0, 0], [[1, 0],[0, 2]],10000)\n",
    "Y = np.matmul(X, M)"
   ]
  },
  {
   "cell_type": "code",
   "execution_count": 56,
   "metadata": {},
   "outputs": [
    {
     "data": {
      "text/plain": [
       "(array([  31.,   72.,  120.,  224.,  364.,  602.,  785., 1023., 1082.,\n",
       "        1258., 1132.,  975.,  790.,  595.,  405.,  256.,  137.,   70.,\n",
       "          32.]),\n",
       " array([-4.        , -3.57894737, -3.15789474, -2.73684211, -2.31578947,\n",
       "        -1.89473684, -1.47368421, -1.05263158, -0.63157895, -0.21052632,\n",
       "         0.21052632,  0.63157895,  1.05263158,  1.47368421,  1.89473684,\n",
       "         2.31578947,  2.73684211,  3.15789474,  3.57894737,  4.        ]),\n",
       " <a list of 19 Patch objects>)"
      ]
     },
     "execution_count": 56,
     "metadata": {},
     "output_type": "execute_result"
    },
    {
     "data": {
      "image/png": "[encoded data removed]",
      "text/plain": [
       "<Figure size 432x288 with 1 Axes>"
      ]
     },
     "metadata": {
      "needs_background": "light"
     },
     "output_type": "display_data"
    }
   ],
   "source": [
    "plt.hist(X[:,1], bins = np.linspace(-4, 4, 20))\n",
    "plt.hist(Y[0, :, 1], bins = np.linspace(-4, 4, 20), alpha = 0.5)"
   ]
  },
  {
   "cell_type": "code",
   "execution_count": 57,
   "metadata": {},
   "outputs": [
    {
     "name": "stdout",
     "output_type": "stream",
     "text": [
      "[[[ 1.  0.]\n",
      "  [-0.  1.]]\n",
      "\n",
      " [[-1.  0.]\n",
      "  [-0. -1.]]\n",
      "\n",
      " [[ 1.  0.]\n",
      "  [-0.  1.]]\n",
      "\n",
      " [[-1.  0.]\n",
      "  [-0. -1.]]\n",
      "\n",
      " [[-1.  0.]\n",
      "  [-0. -1.]]\n",
      "\n",
      " [[ 1. -0.]\n",
      "  [ 0.  1.]]\n",
      "\n",
      " [[ 1.  0.]\n",
      "  [-0.  1.]]\n",
      "\n",
      " [[ 1.  0.]\n",
      "  [-0.  1.]]\n",
      "\n",
      " [[-1.  0.]\n",
      "  [-0. -1.]]\n",
      "\n",
      " [[-1. -0.]\n",
      "  [ 0. -1.]]\n",
      "\n",
      " [[-1. -0.]\n",
      "  [ 0. -1.]]\n",
      "\n",
      " [[-1.  0.]\n",
      "  [-0. -1.]]\n",
      "\n",
      " [[-1.  0.]\n",
      "  [-0. -1.]]\n",
      "\n",
      " [[ 1.  0.]\n",
      "  [-0.  1.]]\n",
      "\n",
      " [[ 1.  0.]\n",
      "  [-0.  1.]]\n",
      "\n",
      " [[ 1.  0.]\n",
      "  [-0.  1.]]\n",
      "\n",
      " [[-1.  0.]\n",
      "  [-0. -1.]]\n",
      "\n",
      " [[-1. -0.]\n",
      "  [ 0. -1.]]\n",
      "\n",
      " [[-1.  0.]\n",
      "  [-0. -1.]]\n",
      "\n",
      " [[-1. -0.]\n",
      "  [ 0. -1.]]]\n"
     ]
    }
   ],
   "source": [
    "print(np.round(M))"
   ]
  },
  {
   "cell_type": "code",
   "execution_count": 58,
   "metadata": {},
   "outputs": [
    {
     "data": {
      "text/plain": [
       "(array([12.,  0.,  0.,  0.,  0.,  0.,  0.,  0.,  0.,  8.]),\n",
       " array([-1. , -0.8, -0.6, -0.4, -0.2,  0. ,  0.2,  0.4,  0.6,  0.8,  1. ]),\n",
       " <a list of 10 Patch objects>)"
      ]
     },
     "execution_count": 58,
     "metadata": {},
     "output_type": "execute_result"
    },
    {
     "data": {
      "image/png": "[encoded data removed]",
      "text/plain": [
       "<Figure size 432x288 with 1 Axes>"
      ]
     },
     "metadata": {
      "needs_background": "light"
     },
     "output_type": "display_data"
    }
   ],
   "source": [
    "plt.hist(c_f)"
   ]
  },
  {
   "cell_type": "code",
   "execution_count": 61,
   "metadata": {},
   "outputs": [
    {
     "data": {
      "text/plain": [
       "(array([1., 2., 4., 2., 4., 0., 1., 2., 1., 3.]),\n",
       " array([-0.9383857 , -0.74637852, -0.55437134, -0.36236416, -0.17035698,\n",
       "         0.0216502 ,  0.21365738,  0.40566456,  0.59767174,  0.78967892,\n",
       "         0.9816861 ]),\n",
       " <a list of 10 Patch objects>)"
      ]
     },
     "execution_count": 61,
     "metadata": {},
     "output_type": "execute_result"
    },
    {
     "data": {
      "image/png": "[encoded data removed]",
      "text/plain": [
       "<Figure size 432x288 with 1 Axes>"
      ]
     },
     "metadata": {
      "needs_background": "light"
     },
     "output_type": "display_data"
    }
   ],
   "source": [
    "plt.hist(c_i)"
   ]
  },
  {
   "cell_type": "code",
   "execution_count": 62,
   "metadata": {},
   "outputs": [
    {
     "data": {
      "text/plain": [
       "<matplotlib.collections.PathCollection at 0x2aaad7dbb210>"
      ]
     },
     "execution_count": 62,
     "metadata": {},
     "output_type": "execute_result"
    },
    {
     "data": {
      "image/png": "[encoded data removed]",
      "text/plain": [
       "<Figure size 432x288 with 1 Axes>"
      ]
     },
     "metadata": {
      "needs_background": "light"
     },
     "output_type": "display_data"
    }
   ],
   "source": [
    "plt.scatter(c_i, c_f)"
   ]
  },
  {
   "cell_type": "code",
   "execution_count": null,
   "metadata": {},
   "outputs": [],
   "source": []
  }
 ],
 "metadata": {
  "kernelspec": {
   "display_name": "Python 3",
   "language": "python",
   "name": "python3"
  },
  "language_info": {
   "codemirror_mode": {
    "name": "ipython",
    "version": 3
   },
   "file_extension": ".py",
   "mimetype": "text/x-python",
   "name": "python",
   "nbconvert_exporter": "python",
   "pygments_lexer": "ipython3",
   "version": "3.7.4"
  }
 },
 "nbformat": 4,
 "nbformat_minor": 4
}
