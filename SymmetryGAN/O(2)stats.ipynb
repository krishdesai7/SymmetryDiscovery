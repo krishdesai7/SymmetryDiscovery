{
 "cells": [
  {
   "cell_type": "code",
   "execution_count": 2,
   "metadata": {},
   "outputs": [],
   "source": [
    "c_i =  [-0.24761796, 0.6839776, 0.57680607, -0.13831687, 0.4076047, -0.00024318695, 0.20524263, 0.23096871, 0.38633323, 0.82817245, 0.46339464, 0.13541079, -0.6105211, -0.40828204, -0.6918249, 0.8043544, -0.9724276, 0.32730365, -0.91302276, 0.23864913, -0.94202805, -0.17273617, 0.11781907, 0.18444324, 0.36379552, 0.6479242, 0.2666192, -0.42077255, 0.13438654, 0.69995, -0.19269681, 0.7108393, 0.64555717, 0.51882625, 0.56519485, -0.29991555, 0.8098345, 0.3637302, -0.498981, -0.9446771, 0.93871737, -0.0074448586, 0.93780494, -0.34893394, -0.28659177, 0.85749793, 0.005752802, -0.24882531, 0.09769511, -0.48574662, -0.004515171, -0.39720035, 0.7290387, 0.4595754, 0.08883524, 0.36481094, 0.23455524, 0.5468805, 0.18282342, 0.4416473, 0.8082247, 0.06534481, -0.63474727, 0.6447251, 0.25465846, -0.3575623, -0.1691649, -0.9114766, 0.12543154, 0.2760315, 0.518554, 0.013571739, 0.6319852, -0.9798789, 0.7578752, 0.5634918, 0.16594362, 0.017180204, -0.07765961, 0.10219002, 0.25366116, 0.45167422, 0.7953932, 0.8983393, -0.6203594, 0.32442498, 0.6252043, 0.777931, -0.8121519, 0.31772947, 0.400923, 0.72967005, 0.8446381, -0.9110851, -0.3543439, 0.72608876, 0.6883168, -0.30184603, -0.98714375, 0.29503894]\n",
    "s_i =  [0.06271815, 0.8542905, 0.44459987, 0.9777272, 0.8224721, 0.051771164, 0.6493716, -0.7526703, 0.39649606, 0.28520513, 0.9373939, -0.56937814, -0.48524618, -0.9061661, -0.45070076, -0.39333344, 0.05631113, -0.20302129, -0.3951497, -0.748512, -0.3358047, 0.7792926, -0.3936367, 0.1642592, 0.1996324, 0.1457007, 0.81705546, 0.52193046, 0.123600006, -0.8146789, 0.21678305, -0.50855637, 0.7355678, 0.46359944, 0.11129141, 0.05180812, 0.31207347, -0.16171646, -0.9454491, 0.71768713, 0.014745951, 0.83100724, -0.8255031, 0.7859068, -0.3836391, 0.47390985, 0.6761439, 0.31854963, -0.9774952, 0.41746068, 0.019920588, -0.13164616, -0.8824518, -0.90661764, -0.577538, 0.5201168, 0.24878812, 0.5164354, -0.21906185, -0.49719954, -0.47966456, 0.39231277, -0.23326254, 0.51873064, -0.47954464, 0.017942667, 0.80700874, 0.962003, 0.6919353, -0.23525286, 0.76848173, 0.88832736, 0.7165296, 0.6262438, -0.25842428, -0.4625399, -0.55285025, -0.7912116, -0.08273244, 0.7119341, -0.02074194, 0.7529788, 0.097566605, 0.62417793, 0.8939495, -0.79122186, 0.113865376, -0.18675447, -0.6295626, 0.66046906, 0.100412846, -0.731832, -0.13717246, -0.57239413, 0.4769597, -0.826406, 0.6907284, -0.2633052, 0.1998148, -0.39100718]"
   ]
  },
  {
   "cell_type": "code",
   "execution_count": 11,
   "metadata": {},
   "outputs": [
    {
     "ename": "NameError",
     "evalue": "name 'c_f' is not defined",
     "output_type": "error",
     "traceback": [
      "\u001b[0;31m---------------------------------------------------------------------------\u001b[0m",
      "\u001b[0;31mNameError\u001b[0m                                 Traceback (most recent call last)",
      "\u001b[0;32m<ipython-input-11-8e58a6739975>\u001b[0m in \u001b[0;36m<module>\u001b[0;34m\u001b[0m\n\u001b[1;32m      1\u001b[0m \u001b[0mN\u001b[0m \u001b[0;34m=\u001b[0m \u001b[0;36m100\u001b[0m\u001b[0;34m\u001b[0m\u001b[0;34m\u001b[0m\u001b[0m\n\u001b[0;32m----> 2\u001b[0;31m \u001b[0mdet\u001b[0m \u001b[0;34m=\u001b[0m \u001b[0;34m[\u001b[0m\u001b[0mc_f\u001b[0m\u001b[0;34m[\u001b[0m\u001b[0mn\u001b[0m\u001b[0;34m]\u001b[0m\u001b[0;34m**\u001b[0m\u001b[0;36m2\u001b[0m \u001b[0;34m+\u001b[0m \u001b[0ms_f\u001b[0m\u001b[0;34m[\u001b[0m\u001b[0mn\u001b[0m\u001b[0;34m]\u001b[0m\u001b[0;34m**\u001b[0m\u001b[0;36m2\u001b[0m \u001b[0;32mfor\u001b[0m \u001b[0mn\u001b[0m \u001b[0;32min\u001b[0m \u001b[0mrange\u001b[0m\u001b[0;34m(\u001b[0m\u001b[0;36m17\u001b[0m\u001b[0;34m)\u001b[0m\u001b[0;34m]\u001b[0m\u001b[0;34m\u001b[0m\u001b[0;34m\u001b[0m\u001b[0m\n\u001b[0m\u001b[1;32m      3\u001b[0m \u001b[0mdet\u001b[0m\u001b[0;34m\u001b[0m\u001b[0;34m\u001b[0m\u001b[0m\n",
      "\u001b[0;32m<ipython-input-11-8e58a6739975>\u001b[0m in \u001b[0;36m<listcomp>\u001b[0;34m(.0)\u001b[0m\n\u001b[1;32m      1\u001b[0m \u001b[0mN\u001b[0m \u001b[0;34m=\u001b[0m \u001b[0;36m100\u001b[0m\u001b[0;34m\u001b[0m\u001b[0;34m\u001b[0m\u001b[0m\n\u001b[0;32m----> 2\u001b[0;31m \u001b[0mdet\u001b[0m \u001b[0;34m=\u001b[0m \u001b[0;34m[\u001b[0m\u001b[0mc_f\u001b[0m\u001b[0;34m[\u001b[0m\u001b[0mn\u001b[0m\u001b[0;34m]\u001b[0m\u001b[0;34m**\u001b[0m\u001b[0;36m2\u001b[0m \u001b[0;34m+\u001b[0m \u001b[0ms_f\u001b[0m\u001b[0;34m[\u001b[0m\u001b[0mn\u001b[0m\u001b[0;34m]\u001b[0m\u001b[0;34m**\u001b[0m\u001b[0;36m2\u001b[0m \u001b[0;32mfor\u001b[0m \u001b[0mn\u001b[0m \u001b[0;32min\u001b[0m \u001b[0mrange\u001b[0m\u001b[0;34m(\u001b[0m\u001b[0;36m17\u001b[0m\u001b[0;34m)\u001b[0m\u001b[0;34m]\u001b[0m\u001b[0;34m\u001b[0m\u001b[0;34m\u001b[0m\u001b[0m\n\u001b[0m\u001b[1;32m      3\u001b[0m \u001b[0mdet\u001b[0m\u001b[0;34m\u001b[0m\u001b[0;34m\u001b[0m\u001b[0m\n",
      "\u001b[0;31mNameError\u001b[0m: name 'c_f' is not defined"
     ]
    }
   ],
   "source": [
    "N = 100\n",
    "det = [c_f[n]**2 + s_f[n]**2 for n in range(17)]\n",
    "det"
   ]
  },
  {
   "cell_type": "code",
   "execution_count": 4,
   "metadata": {},
   "outputs": [],
   "source": [
    "import numpy as np\n",
    "import matplotlib.pyplot as plt"
   ]
  },
  {
   "cell_type": "code",
   "execution_count": 13,
   "metadata": {},
   "outputs": [],
   "source": [
    "arccos = np.arccos(np.array(c_i))"
   ]
  },
  {
   "cell_type": "code",
   "execution_count": 14,
   "metadata": {},
   "outputs": [],
   "source": [
    "arcsin = np.arcsin(np.array(s_i))"
   ]
  },
  {
   "cell_type": "code",
   "execution_count": 15,
   "metadata": {},
   "outputs": [
    {
     "data": {
      "text/plain": [
       "<matplotlib.collections.PathCollection at 0x2aaad6a09590>"
      ]
     },
     "execution_count": 15,
     "metadata": {},
     "output_type": "execute_result"
    },
    {
     "data": {
      "image/png": "[encoded data removed]",
      "text/plain": [
       "<Figure size 432x288 with 1 Axes>"
      ]
     },
     "metadata": {
      "needs_background": "light"
     },
     "output_type": "display_data"
    }
   ],
   "source": [
    "plt.scatter(arccos - arcsin, np.linspace(0, 1, N))"
   ]
  },
  {
   "cell_type": "code",
   "execution_count": 8,
   "metadata": {},
   "outputs": [],
   "source": [
    "M = [[[c_f[n], -s_f[n]], [s_f[n], c_f[n]]] for n in range(N)]"
   ]
  },
  {
   "cell_type": "code",
   "execution_count": 9,
   "metadata": {},
   "outputs": [],
   "source": [
    "X = np.random.multivariate_normal([0, 0], [[1, 0],[0, 2]],10000)\n",
    "Y = np.matmul(X, M)"
   ]
  },
  {
   "cell_type": "code",
   "execution_count": 10,
   "metadata": {},
   "outputs": [
    {
     "data": {
      "text/plain": [
       "(array([  33.,   72.,  130.,  235.,  397.,  586.,  804., 1002., 1127.,\n",
       "        1168., 1161.,  932.,  830.,  633.,  363.,  252.,  131.,   68.,\n",
       "          30.]),\n",
       " array([-4.        , -3.57894737, -3.15789474, -2.73684211, -2.31578947,\n",
       "        -1.89473684, -1.47368421, -1.05263158, -0.63157895, -0.21052632,\n",
       "         0.21052632,  0.63157895,  1.05263158,  1.47368421,  1.89473684,\n",
       "         2.31578947,  2.73684211,  3.15789474,  3.57894737,  4.        ]),\n",
       " <a list of 19 Patch objects>)"
      ]
     },
     "execution_count": 10,
     "metadata": {},
     "output_type": "execute_result"
    },
    {
     "data": {
      "image/png": "[encoded data removed]",
      "text/plain": [
       "<Figure size 432x288 with 1 Axes>"
      ]
     },
     "metadata": {
      "needs_background": "light"
     },
     "output_type": "display_data"
    }
   ],
   "source": [
    "plt.hist(X[:,1], bins = np.linspace(-4, 4, 20))\n",
    "plt.hist(Y[0, :, 1], bins = np.linspace(-4, 4, 20), alpha = 0.5)"
   ]
  },
  {
   "cell_type": "code",
   "execution_count": 11,
   "metadata": {},
   "outputs": [
    {
     "name": "stdout",
     "output_type": "stream",
     "text": [
      "[[[-1.    0.08]\n",
      "  [-0.08 -1.  ]]\n",
      "\n",
      " [[ 0.17  1.  ]\n",
      "  [-1.    0.17]]\n",
      "\n",
      " [[ 0.65  0.74]\n",
      "  [-0.74  0.65]]\n",
      "\n",
      " [[ 0.7   0.71]\n",
      "  [-0.71  0.7 ]]\n",
      "\n",
      " [[-0.2   1.  ]\n",
      "  [-1.   -0.2 ]]\n",
      "\n",
      " [[ 0.62 -0.86]\n",
      "  [ 0.86  0.62]]\n",
      "\n",
      " [[ 0.81  0.74]\n",
      "  [-0.74  0.81]]\n",
      "\n",
      " [[-0.89 -0.53]\n",
      "  [ 0.53 -0.89]]\n",
      "\n",
      " [[ 0.95  0.04]\n",
      "  [-0.04  0.95]]\n",
      "\n",
      " [[ 0.82 -0.63]\n",
      "  [ 0.63  0.82]]\n",
      "\n",
      " [[ 0.95  0.24]\n",
      "  [-0.24  0.95]]\n",
      "\n",
      " [[-0.89 -0.46]\n",
      "  [ 0.46 -0.89]]\n",
      "\n",
      " [[-0.69  0.71]\n",
      "  [-0.71 -0.69]]\n",
      "\n",
      " [[ 0.44  0.92]\n",
      "  [-0.92  0.44]]\n",
      "\n",
      " [[-0.58  0.8 ]\n",
      "  [-0.8  -0.58]]\n",
      "\n",
      " [[ 0.64 -0.76]\n",
      "  [ 0.76  0.64]]\n",
      "\n",
      " [[-0.75  0.72]\n",
      "  [-0.72 -0.75]]\n",
      "\n",
      " [[-0.63 -0.86]\n",
      "  [ 0.86 -0.63]]\n",
      "\n",
      " [[-0.97  0.49]\n",
      "  [-0.49 -0.97]]\n",
      "\n",
      " [[ 0.17 -0.92]\n",
      "  [ 0.92  0.17]]]\n"
     ]
    }
   ],
   "source": [
    "print(np.round(M, 2))"
   ]
  },
  {
   "cell_type": "code",
   "execution_count": 16,
   "metadata": {},
   "outputs": [
    {
     "data": {
      "text/plain": [
       "Text(0, 0.5, 'freq')"
      ]
     },
     "execution_count": 16,
     "metadata": {},
     "output_type": "execute_result"
    },
    {
     "data": {
      "image/png": "[encoded data removed]",
      "text/plain": [
       "<Figure size 432x288 with 1 Axes>"
      ]
     },
     "metadata": {
      "needs_background": "light"
     },
     "output_type": "display_data"
    }
   ],
   "source": [
    "plt.hist(arccos)\n",
    "plt.xlabel(\"theta\")\n",
    "plt.ylabel(\"freq\")"
   ]
  },
  {
   "cell_type": "code",
   "execution_count": 17,
   "metadata": {},
   "outputs": [
    {
     "data": {
      "text/plain": [
       "(array([ 9.,  4.,  3., 10.,  5., 15., 14., 13., 15., 12.]),\n",
       " array([-0.98714375, -0.79455764, -0.60197153, -0.40938541, -0.2167993 ,\n",
       "        -0.02421319,  0.16837292,  0.36095903,  0.55354515,  0.74613126,\n",
       "         0.93871737]),\n",
       " <a list of 10 Patch objects>)"
      ]
     },
     "execution_count": 17,
     "metadata": {},
     "output_type": "execute_result"
    },
    {
     "data": {
      "image/png": "[encoded data removed]",
      "text/plain": [
       "<Figure size 432x288 with 1 Axes>"
      ]
     },
     "metadata": {
      "needs_background": "light"
     },
     "output_type": "display_data"
    }
   ],
   "source": [
    "plt.hist(c_i)"
   ]
  },
  {
   "cell_type": "code",
   "execution_count": 5,
   "metadata": {},
   "outputs": [
    {
     "ename": "NameError",
     "evalue": "name 'c_f' is not defined",
     "output_type": "error",
     "traceback": [
      "\u001b[0;31m---------------------------------------------------------------------------\u001b[0m",
      "\u001b[0;31mNameError\u001b[0m                                 Traceback (most recent call last)",
      "\u001b[0;32m<ipython-input-5-4f8e5e1d1347>\u001b[0m in \u001b[0;36m<module>\u001b[0;34m\u001b[0m\n\u001b[0;32m----> 1\u001b[0;31m \u001b[0mplt\u001b[0m\u001b[0;34m.\u001b[0m\u001b[0mscatter\u001b[0m\u001b[0;34m(\u001b[0m\u001b[0mc_i\u001b[0m\u001b[0;34m,\u001b[0m \u001b[0mc_f\u001b[0m\u001b[0;34m)\u001b[0m\u001b[0;34m\u001b[0m\u001b[0;34m\u001b[0m\u001b[0m\n\u001b[0m",
      "\u001b[0;31mNameError\u001b[0m: name 'c_f' is not defined"
     ]
    }
   ],
   "source": [
    "plt.scatter(c_i, c_f)"
   ]
  },
  {
   "cell_type": "code",
   "execution_count": null,
   "metadata": {},
   "outputs": [],
   "source": []
  }
 ],
 "metadata": {
  "kernelspec": {
   "display_name": "Python 3",
   "language": "python",
   "name": "python3"
  },
  "language_info": {
   "codemirror_mode": {
    "name": "ipython",
    "version": 3
   },
   "file_extension": ".py",
   "mimetype": "text/x-python",
   "name": "python",
   "nbconvert_exporter": "python",
   "pygments_lexer": "ipython3",
   "version": "3.7.4"
  }
 },
 "nbformat": 4,
 "nbformat_minor": 4
}
