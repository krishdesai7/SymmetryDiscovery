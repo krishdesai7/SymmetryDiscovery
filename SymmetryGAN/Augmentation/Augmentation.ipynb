{
 "cells": [
  {
   "cell_type": "code",
   "execution_count": 13,
   "id": "dbf9d6c9",
   "metadata": {},
   "outputs": [],
   "source": [
    "import numpy as np\n",
    "from sklearn.linear_model import LinearRegression\n",
    "import matplotlib.pyplot as plt\n",
    "from mpl_toolkits import mplot3d\n",
    "\n",
    "import tensorflow as tf\n",
    "import tensorflow.keras\n",
    "import tensorflow.keras.backend as K\n",
    "from tensorflow.keras.layers import Dense, Input, Dropout, Concatenate\n",
    "from tensorflow.keras.models import Model\n",
    "from tensorflow.keras.utils import to_categorical\n",
    "from tensorflow.keras.callbacks import EarlyStopping\n",
    "from tensorflow.keras.layers import Lambda, Layer"
   ]
  },
  {
   "cell_type": "code",
   "execution_count": 14,
   "id": "8bb58908",
   "metadata": {},
   "outputs": [],
   "source": [
    "class MyDenseLayer(Layer):\n",
    "\n",
    "    def __init__(self, kernel_initilizer=tf.keras.initializers.Identity(), num_outputs=1, **kwargs):\n",
    "        super(MyDenseLayer, self).__init__(**kwargs)\n",
    "        self.kernel_initializer = tf.keras.initializers.get(kernel_initilizer)\n",
    "        self.num_outputs = num_outputs\n",
    "\n",
    "    def build(self, input_shape):\n",
    "        # Create a trainable weight variable for this layer.\n",
    "        self._b = self.add_weight(name='x', \n",
    "                                    shape=[int(input_shape[-1]),\n",
    "                                         self.num_outputs],\n",
    "                                    initializer=self.kernel_initializer, #'uniform',\n",
    "                                    trainable=True)\n",
    "#         self._c = self.add_weight(name='x', \n",
    "#                                     shape=[int(input_shape[-1]),\n",
    "#                                          self.num_outputs],\n",
    "#                                     initializer=tf.keras.initializers.Zeros(), #'uniform',\n",
    "#                                     trainable=True)\n",
    "#         self._d = self.add_weight(name='x', \n",
    "#                                     shape=[int(input_shape[-1]),\n",
    "#                                          self.num_outputs],\n",
    "#                                     initializer=tf.keras.initializers.Zeros(), #'uniform',\n",
    "#                                     trainable=True)\n",
    "#         self._e = self.add_weight(name='x', \n",
    "#                                     shape=[int(input_shape[-1]),\n",
    "#                                          self.num_outputs],\n",
    "#                                     initializer=tf.keras.initializers.Zeros(), #'uniform',\n",
    "#                                     trainable=True)\n",
    "#         self._f = self.add_weight(name='x', \n",
    "#                                     shape=[int(input_shape[-1]),\n",
    "#                                          self.num_outputs],\n",
    "#                                     initializer=tf.keras.initializers.Zeros(), #'uniform',\n",
    "#                                     trainable=True)\n",
    "#         self._g = self.add_weight(name='x', \n",
    "#                                     shape=[int(input_shape[-1]),\n",
    "#                                          self.num_outputs],\n",
    "#                                     initializer=tf.keras.initializers.Zeros(), #'uniform',\n",
    "#                                     trainable=True)\n",
    "#         self._h = self.add_weight(name='x', \n",
    "#                                     shape=[int(input_shape[-1]),\n",
    "#                                          self.num_outputs],\n",
    "#                                     initializer=tf.keras.initializers.Zeros(), #'uniform',\n",
    "#                                     trainable=True)\n",
    "#         self._i = self.add_weight(name='x', \n",
    "#                                     shape=[int(input_shape[-1]),\n",
    "#                                          self.num_outputs],\n",
    "#                                     initializer=tf.keras.initializers.Zeros(), #'uniform',\n",
    "#                                     trainable=True)\n",
    "#         self._j = self.add_weight(name='x', \n",
    "#                                     shape=[int(input_shape[-1]),\n",
    "#                                          self.num_outputs],\n",
    "#                                     initializer=tf.keras.initializers.Zeros(), #'uniform',\n",
    "#                                     trainable=True)\n",
    "        \n",
    "#         self._k = self.add_weight(name='x', \n",
    "#                                     shape=[int(input_shape[-1]),\n",
    "#                                          self.num_outputs],\n",
    "#                                     initializer=tf.keras.initializers.Zeros(), #'uniform',\n",
    "#                                     trainable=True)\n",
    "#         self._l = self.add_weight(name='x', \n",
    "#                                     shape=[int(input_shape[-1]),\n",
    "#                                          self.num_outputs],\n",
    "#                                     initializer=tf.keras.initializers.Zeros(), #'uniform',\n",
    "#                                     trainable=True)\n",
    "        super(MyDenseLayer, self).build(input_shape)  # Be sure to call this at the end\n",
    "    \n",
    "    def call(self, x):\n",
    "        return self._b*x + (1 - self._b)*tf.math.sign(x)\n",
    "        #return self._b*x + self._c * (x**2) + self._d * (x**3) + self._e * (x**4) + self._f * (x**5) + self._g * (x**6) + self._h * (x**7) + self._i * (x**8) + self._j * (x**9) + self._k * (x**10) + self._l * (x**11)\n",
    "        #return self._c*tf.math.sign(x)\n",
    "        #return tf.linalg.matmul(tf.nn.relu(x), self._b) - tf.linalg.matmul(tf.nn.relu(-x), self._c) + self._d"
   ]
  },
  {
   "cell_type": "code",
   "execution_count": 18,
   "id": "2b01d6ab",
   "metadata": {},
   "outputs": [],
   "source": [
    "#Define the discriminator\n",
    "opt = tf.keras.optimizers.Adam(learning_rate=1)\n",
    "\n",
    "inputs = Input((1, ))\n",
    "hidden_layer_1 = Dense(50, activation='relu')(inputs)\n",
    "hidden_layer_2 = Dense(50, activation='relu')(hidden_layer_1)\n",
    "hidden_layer_3 = Dense(50, activation='relu')(hidden_layer_2)\n",
    "hidden_layer_4 = Dense(50, activation='relu')(hidden_layer_3)\n",
    "hidden_layer_5 = Dense(50, activation='relu')(hidden_layer_4)\n",
    "hidden_layer_6 = Dense(50, activation='relu')(hidden_layer_5)\n",
    "outputs = Dense(1, activation='sigmoid')(hidden_layer_6)\n",
    "Discriminator = Model(inputs=inputs, outputs=outputs)\n",
    "Discriminator.compile(loss='binary_crossentropy', optimizer=opt, metrics=['accuracy'])\n",
    "\n",
    "#Define the mapping function:\n",
    "inputsM = Input((1, ))\n",
    "\n",
    "initializer = tf.keras.initializers.Identity()\n",
    "\n",
    "hidden_layer_1M = MyDenseLayer()(inputsM)\n",
    "#hidden_layer_2M = MyDenseLayer()(hidden_layer_1M)\n",
    "#hidden_layer_3M = MyDenseLayer()(hidden_layer_2M)\n",
    "#hidden_layer_4M = MyDenseLayer()(hidden_layer_3M)\n",
    "#hidden_layer_5M = MyDenseLayer()(hidden_layer_4M)\n",
    "#hidden_layer_6M = MyDenseLayer()(hidden_layer_5M)\n",
    "hidden_layer_7M = Dense(1, activation='linear', kernel_initializer=initializer)(hidden_layer_1M)\n",
    "MappingFunc = Model(inputs=inputsM, outputs=hidden_layer_1M)\n",
    "\n",
    "#Define the generator\n",
    "inputsG = Input((2, ))\n",
    "concatenate_layerG = Concatenate()([MappingFunc(inputsG[:,1:2]),inputsG[:,0:1]])\n",
    "outputG = concatenate_layerG[:, 0]*concatenate_layerG[:, 1]\n",
    "Generator = Model(inputs=inputsG, outputs=outputG)\n",
    "\n",
    "#Define the full GAN for training\n",
    "inputsGAN = Input((2, ))\n",
    "GAN = Model(inputs=inputsGAN,outputs=Discriminator(Generator(inputsGAN)))\n",
    "GAN.compile(loss='binary_crossentropy', optimizer=opt, metrics=['accuracy'])"
   ]
  },
  {
   "cell_type": "code",
   "execution_count": 19,
   "id": "c668a61e",
   "metadata": {},
   "outputs": [],
   "source": [
    "# generate n real samples with class labels\n",
    "def generate_real_samples(n):\n",
    "    rng = np.random.default_rng()\n",
    "    x = rng.normal(0,1,n)\n",
    "    y = np.ones((n, 1))\n",
    "    c = np.random.uniform(-1.5,1.5,n) #[-1.5]*(n//4) + [1.5]*(n//4) + [0.5]*(n//4) + [-0.5]*(n//4)  # \n",
    "    X = np.c_[x,c]\n",
    "    rng.shuffle(X)\n",
    "    return X, y\n",
    "\n",
    "# use the generator to generate n fake examples, with class labels\n",
    "def generate_fake_samples(real_samples,generator, n):\n",
    "    # predict outputs\n",
    "    X = np.c_[Generator.predict(real_samples),real_samples[:,1]]\n",
    "    # create class labels\n",
    "    y = np.zeros((n, 1))\n",
    "    return X, y"
   ]
  },
  {
   "cell_type": "code",
   "execution_count": 25,
   "id": "7c344210",
   "metadata": {},
   "outputs": [
    {
     "name": "stdout",
     "output_type": "stream",
     "text": [
      "0 [[1.]]\n",
      "{'loss': 0.41416409611701965, 'accuracy': 1.0}\n",
      "2000 [[1.]]\n",
      "{'loss': 0.41416412591934204, 'accuracy': 1.0}\n",
      "4000 [[1.]]\n",
      "{'loss': 0.41416412591934204, 'accuracy': 1.0}\n",
      "6000 [[1.]]\n",
      "{'loss': 0.41416412591934204, 'accuracy': 1.0}\n",
      "8000 [[1.]]\n",
      "{'loss': 0.41416412591934204, 'accuracy': 1.0}\n"
     ]
    }
   ],
   "source": [
    "m = 2000\n",
    "n_batch = m\n",
    "n_epochs = 5*m\n",
    "half_batch = int(n_batch / 2)\n",
    "# manually enumerate epochs\n",
    "for i in range(n_epochs):\n",
    "    # prepare real samples\n",
    "    x_real, y_real = generate_real_samples(half_batch)\n",
    "    # prepare fake examples\n",
    "    x_fake, y_fake = generate_fake_samples(x_real, Generator, half_batch)\n",
    "    Discriminator.train_on_batch(x_real[:,0], y_real)\n",
    "    Discriminator.train_on_batch(x_fake[:,0], y_fake)\n",
    "    Discriminator.trainable = False\n",
    "    # update the generator via the discriminator's error\n",
    "    loss = GAN.train_on_batch(x_real, np.ones(len(x_real)), return_dict=True)\n",
    "    Discriminator.trainable = True\n",
    "    #Discriminator.compile(loss='binary_crossentropy', optimizer='adam', metrics=['accuracy'])\n",
    "    if(i%m == 0):\n",
    "        print(i,MappingFunc.predict([[1]]))\n",
    "        print(loss)"
   ]
  },
  {
   "cell_type": "code",
   "execution_count": 13,
   "id": "a184c921",
   "metadata": {},
   "outputs": [
    {
     "data": {
      "text/plain": [
       "array([[0.8357174]], dtype=float32)"
      ]
     },
     "execution_count": 13,
     "metadata": {},
     "output_type": "execute_result"
    }
   ],
   "source": [
    "MappingFunc.predict([[0.5]])"
   ]
  },
  {
   "cell_type": "code",
   "execution_count": 169,
   "id": "66b94f5f",
   "metadata": {},
   "outputs": [
    {
     "data": {
      "text/plain": [
       "array([[-0.8247875]], dtype=float32)"
      ]
     },
     "execution_count": 169,
     "metadata": {},
     "output_type": "execute_result"
    }
   ],
   "source": [
    "MappingFunc.predict([[-0.5]])"
   ]
  },
  {
   "cell_type": "code",
   "execution_count": 170,
   "id": "73380caf",
   "metadata": {},
   "outputs": [
    {
     "data": {
      "text/plain": [
       "array([[0.6960026]], dtype=float32)"
      ]
     },
     "execution_count": 170,
     "metadata": {},
     "output_type": "execute_result"
    }
   ],
   "source": [
    "MappingFunc.predict([[1.5]])"
   ]
  },
  {
   "cell_type": "code",
   "execution_count": 171,
   "id": "6694da78",
   "metadata": {},
   "outputs": [
    {
     "data": {
      "text/plain": [
       "array([[-0.68608916]], dtype=float32)"
      ]
     },
     "execution_count": 171,
     "metadata": {},
     "output_type": "execute_result"
    }
   ],
   "source": [
    "MappingFunc.predict([[-1.5]])"
   ]
  },
  {
   "cell_type": "code",
   "execution_count": 21,
   "id": "a6e82f32",
   "metadata": {},
   "outputs": [],
   "source": [
    "c_i = np.random.uniform(-1.5,1.5,m)\n",
    "c_f = []\n",
    "\n",
    "\n",
    "for j in range(m):\n",
    "    preds = MappingFunc.predict([[c_i[j]]])\n",
    "    c_f.append(preds[0,0])"
   ]
  },
  {
   "cell_type": "code",
   "execution_count": null,
   "id": "246503d6-b210-4fbd-9a2e-5ea8171694ee",
   "metadata": {},
   "outputs": [],
   "source": []
  },
  {
   "cell_type": "code",
   "execution_count": 23,
   "id": "1a84d755",
   "metadata": {},
   "outputs": [
    {
     "data": {
      "image/png": "[encoded data removed]",
      "text/plain": [
       "<Figure size 432x288 with 1 Axes>"
      ]
     },
     "metadata": {
      "needs_background": "light"
     },
     "output_type": "display_data"
    }
   ],
   "source": [
    "plt.rc('font', size=15)\n",
    "plt.title(\"Symmetry Discovery Map\")\n",
    "plt.scatter(c_i, c_f, color='limegreen')\n",
    "plt.xlabel(\"initial slope (c)\")\n",
    "plt.ylabel(\"final slope (S(c))\")\n",
    "plt.savefig(\"Augmentation.pdf\", bbox_inches='tight')\n",
    "plt.show()"
   ]
  },
  {
   "cell_type": "code",
   "execution_count": 24,
   "id": "37d2d0fc",
   "metadata": {},
   "outputs": [
    {
     "name": "stdout",
     "output_type": "stream",
     "text": [
      "c_i = [ 1.14955439 -0.41081221  0.28901427  1.44230196 -0.87387236 -0.88565216\n",
      "  0.73732508  0.71583408 -1.18337399  1.12641503 -0.4414858  -0.88147022\n",
      "  0.60641745 -0.05976692 -0.33088347  1.2786814   0.8810508  -0.24377406\n",
      " -0.29800486  0.30329809 -1.08992099  1.39685263  1.28023089  1.07324287\n",
      " -0.51817483 -0.17246541 -0.79430023 -0.88430067 -1.33531398 -0.93774571\n",
      "  0.76366824  0.51767166  0.59381051  1.22323235 -1.22450029 -0.61869995\n",
      " -0.06872249  0.67992119 -1.33650849 -0.86072736  0.09145148 -0.44612151\n",
      "  0.18318965 -0.64795372 -1.07001992 -0.61389693  1.33838078 -0.04035718\n",
      " -0.60298012  1.27284397  0.9448372  -0.93964537  1.31600571 -1.11207336\n",
      "  0.40728794  0.82262016 -1.26025581 -0.19879757  1.27620292 -0.5582429\n",
      " -0.70925626 -0.60399834 -1.18426787  0.00778511 -0.4986901   0.5623829\n",
      "  0.39756406 -0.94676262  1.38508183 -0.00355875  0.85813929  1.19900637\n",
      " -1.03331863  0.75594303 -0.17899348 -0.78163856 -0.29515649 -0.18605135\n",
      " -0.00917471 -1.35583214  1.3145551   0.83255531  1.46148274 -0.17488271\n",
      "  0.36088565 -0.71618511 -0.02843565  0.56834503  1.00561363 -1.26210757\n",
      " -1.32636581  0.48959183  1.04765391 -1.0558733  -0.6009092   1.21643384\n",
      " -1.39926223  0.26465548  0.95779323  0.32786162 -1.08908841  0.43402128\n",
      " -1.16278918 -1.17521457  0.79233645  0.44936047 -0.39831284 -1.01418077\n",
      " -1.40480162 -0.7842072   1.25865687  0.71313855  0.78819581  0.39460137\n",
      "  1.2386162   0.91792251 -0.50804492  1.40176239 -1.16873755 -0.73132752\n",
      "  0.18175813 -0.97385318 -0.41245683 -1.38446536 -0.14821194 -0.6955216\n",
      " -1.21211821  1.44695782 -0.21321652  0.92242677 -1.20049774 -0.10350257\n",
      " -1.06836888 -1.22252827 -1.48171012 -1.12255264  0.73777657  0.19235524\n",
      "  0.64726132  0.67733916 -0.75429433  0.28259835 -1.15067558  0.20438226\n",
      "  0.54028343  1.35947578  0.02702086  0.58839705 -0.28356528 -1.23963441\n",
      " -0.33265858 -0.67786382  1.44938797 -0.3163871  -1.1966993  -0.40477078\n",
      " -1.04851277 -1.39855923  0.67836699  0.36033362 -1.4263349  -1.18310938\n",
      " -1.32376132  1.39113294 -0.18764194 -1.09616141 -0.66064603 -1.28835291\n",
      " -0.00190705  0.75112149 -0.6291998   0.19452851 -0.41679263 -0.37327342\n",
      " -0.99730479 -0.90646976  0.31201784  0.84377522 -0.98572012  0.2196597\n",
      "  0.87322677 -1.13318088  0.39629253 -0.28628103 -0.77954169 -0.08065567\n",
      " -0.76095673 -1.14113985 -0.27706619  0.2247901   0.08983516  1.07593043\n",
      "  0.83588319 -0.95829557  0.50466318  0.11479529  0.13909169  1.37445983\n",
      "  0.20770665 -0.73828059 -0.93130352  1.07818221  1.10111399 -1.29549427\n",
      "  1.18301856 -1.39889023 -0.25203279  0.53246452  0.19903675 -0.81137267\n",
      "  1.26192958 -0.35967943 -1.3861194   0.97406687 -0.5941339   1.19058267\n",
      "  1.26372257 -0.14995297 -1.3728245   1.12465041 -0.99946472 -0.2178412\n",
      "  0.41676336 -0.05815358 -0.243023    1.49597778 -1.47361367 -0.45718468\n",
      " -0.71235638 -1.34659938 -1.12871928  1.23154497  0.71168862 -0.11535486\n",
      "  1.4274557   0.21866336 -0.32855467 -0.8203283   0.51802523  0.38339908\n",
      " -1.0994917   0.78537042  0.58220026 -1.39374353  0.15249121  1.39268154\n",
      " -0.36970261 -0.34736561 -0.19498091  0.0164731   0.75946415  0.0686526\n",
      "  1.34269551  0.27817486 -0.19391651  0.40937822 -0.18166417  0.58542565\n",
      "  1.06491785 -0.06056647 -0.57656921 -0.27625312 -0.59769075  0.73276494\n",
      " -0.37255991 -0.34348474 -0.82453689  0.7542962  -1.32072661 -1.43885101\n",
      " -0.75933526  1.29645529  0.40400584 -1.34659197  1.00394633  0.78583147\n",
      " -1.19122301 -0.49029637  1.35040267  0.10571008 -0.22856943  0.04176289\n",
      " -1.20329067  0.5290883  -0.77478125  0.00491042  0.2232522   0.0955497\n",
      "  1.06804919  0.26497863  1.12916711  0.31910376 -0.27278573  1.40122628\n",
      " -0.71987033 -0.31449437 -1.27790737 -0.55852926  0.65840868  0.34788512\n",
      " -0.5848044  -0.76808229 -1.0684091  -0.90902235 -0.92804889  0.93142613\n",
      " -0.77571622  1.0020604   1.38721506 -0.70640957 -1.06042103 -0.08404801\n",
      " -0.74815548 -1.26653218  1.21224133  0.74471449 -0.6771451   0.4898358\n",
      " -0.12789779  0.54272362  1.1798392   0.47561275 -0.01995371 -1.11865575\n",
      "  0.1529259   1.49946053  0.72198344  0.27228587 -1.44248093 -0.79289868\n",
      "  0.51531196 -0.56834833 -0.69363861  0.7583358   1.20288865  0.74072589\n",
      "  1.46570327  1.20470177 -0.62254804 -0.56113491 -0.65881402  1.38841213\n",
      " -0.05932865 -1.49886052  1.09982555  0.52801705 -0.67115276 -0.14567095\n",
      " -1.42442221 -1.04166344 -1.05543028  1.07153993 -1.02297261  0.30112655\n",
      "  0.06193758 -0.72967582  0.03031121  1.03743127 -1.38558989 -0.87943906\n",
      "  0.72821477 -0.84484101  0.14902211  1.01357188  0.5446685   0.36323492\n",
      " -1.04283762  1.34482798  1.14652867 -0.71232476 -1.44305128 -0.96407648\n",
      "  0.14746221  0.29305148  0.68658308  1.04458435 -0.4786826   0.5030743\n",
      " -0.51278367  1.22704136  1.3345296  -0.89258291  0.39535745 -0.24430116\n",
      "  1.29132921  1.48418233  1.28014512 -1.40955261 -1.35261084  1.19942824\n",
      " -0.69649113  1.27227767  1.18155573 -1.30232449 -0.20526991  0.13287079\n",
      "  0.15968722  0.69314875 -0.7564782   0.16132278 -1.42807474 -1.23925435\n",
      " -0.67528899  1.06879464  0.83972521  1.06076647  0.19051228 -1.2362503\n",
      "  0.77663633  0.64080353  1.23142521 -0.41681853  1.18798111  0.14861729\n",
      " -1.09013456  1.31021801 -0.18385836  0.74875356  1.21295337 -1.26696998\n",
      "  0.68190863 -0.60261015  0.10830054 -1.05414573 -0.90396778  0.49310557\n",
      "  1.38351808 -0.3776304  -0.7587737  -0.40795491  1.35846923 -0.39475931\n",
      " -0.2830863  -0.21843725 -1.34466792  1.16178583 -0.14983358 -1.14333915\n",
      " -1.420199    0.11423321  0.33650402 -0.71535674  0.28329031 -1.06881788\n",
      " -0.64665133 -0.35254404 -1.22671379 -0.80359049  0.00552633  0.6442882\n",
      " -1.04211917  1.26510953 -0.9322722  -0.64640345  1.3061088  -0.1626375\n",
      "  0.66944628  0.57472893 -0.90558134  0.177245   -0.44740258 -1.0617251\n",
      "  1.31657542 -1.17817582 -0.45633479 -1.15700716  1.4375417   0.29777594\n",
      "  0.77788626 -1.15353424 -0.70910664  0.56469411  0.07246597 -0.9504498\n",
      "  0.26422992  0.96412767 -0.2107149  -1.28995202 -0.01145425 -0.65470851\n",
      "  1.37877106 -0.07814036  0.23775081 -0.20779074  0.99294699 -0.24962719\n",
      " -1.4363243   1.43601692 -0.15364048  0.31552927 -0.99797447 -0.05135733\n",
      " -0.65590703 -1.23584548  1.05338153 -1.43978992 -0.70200706  0.42115352\n",
      "  0.7411055   0.50572239]\n",
      "c_f = [0.36227226, -3.5124063, 4.0317755, -0.88605833, -1.5378318, -1.4876003, 2.1200948, 2.2117364, -0.21805906, 0.46094275, -3.3816087, -1.5054331, 2.6783094, -5.009329, -3.8532376, -0.18834925, 1.5072215, -4.2246885, -3.9934382, 3.9708667, -0.61656, -0.6922536, -0.19495678, 0.6876788, -3.0545924, -4.528762, -1.8771422, -1.4933636, 0.42984152, -1.2654641, 2.0077627, 3.056738, 2.7320678, 0.048095703, -0.042688847, -2.6259344, -4.971141, 2.3648756, 0.4349351, -1.5938845, 4.8742204, -3.3618412, 4.4830317, -2.5011911, -0.70142174, -2.6464155, -0.44291878, -5.092096, -2.6929667, -0.1634574, 1.2352242, -1.2573633, -0.347507, -0.52209854, 3.5274348, 1.7563808, 0.10977936, -4.4164762, -0.17778063, -2.8837345, -2.2397857, -2.6886249, -0.21424723, 5.230989, -3.1376789, 2.866081, 3.5688992, -1.2270141, -0.6420603, -5.249011, 1.6049206, 0.15140009, -0.85792303, 2.0407043, -4.500925, -1.931134, -4.005584, -4.4708285, -5.225064, 0.51733446, -0.34132147, 1.7140155, -0.9678483, -4.518454, 3.7253027, -2.2102396, -5.1429315, 2.8406572, 0.9760623, 0.11767578, 0.39168453, 3.1764755, 0.7967949, -0.7617459, -2.7017977, 0.077085495, 0.7025285, 4.135646, 1.1799774, 3.8661234, -0.6201105, 3.4134388, -0.3058362, -0.25285244, 1.8855159, 3.3480296, -3.5657063, -0.9395304, 0.72614956, -1.9201806, -0.10296106, 2.2232306, 1.9031727, 3.5815325, -0.017504215, 1.3499937, -3.0977883, -0.7131896, -0.2804718, -2.1456695, 4.4891357, -1.111495, -3.5053935, 0.63943195, -4.632183, -2.2983527, -0.09548807, -0.90591145, -4.3549914, 1.3307867, -0.14504004, -4.822832, -0.70846224, -0.051098347, 1.0541015, -0.4774127, 2.1181695, 4.443948, 2.5041435, 2.375886, -2.0477347, 4.0591345, -0.3574915, 4.3926625, 2.9603171, -0.5328717, 5.1489644, 2.7551517, -4.0550113, 0.021845818, -3.8456683, -2.3736486, -0.9162736, -3.915053, -0.16123772, -3.5381684, -0.7931323, 0.6995306, 2.3715029, 3.7276566, 0.8179712, -0.21918726, 0.38057852, -0.66786385, -4.464046, -0.5899501, -2.4470687, 0.22959042, -5.2560544, 2.0612643, -2.5811613, 4.4346805, -3.486905, -3.672479, -1.0114927, -1.3988304, 3.9336843, 1.6661716, -1.0608921, 4.3275166, 1.5405848, -0.4320922, 3.5743213, -4.043431, -1.9400754, -4.9202557, -2.0193253, -0.3981533, -4.0827246, 4.3056393, 4.8811126, 0.6762185, 1.6998246, -1.1778355, 3.1122086, 4.7746778, 4.6710734, -0.5967665, 4.3784866, -2.1160204, -1.2929347, 0.66661644, 0.56883097, 0.26004267, 0.21957493, 0.7009425, -4.1894717, 2.9936585, 4.415457, -1.804342, -0.11691666, -3.7304463, 0.64648485, 1.1105838, -2.7306886, 0.18732023, -0.12456226, -4.6247587, 0.5897932, 0.4684677, -1.0022826, -4.335271, 3.4870296, -5.0162086, -4.227891, -1.1149416, 1.0195765, -3.3146658, -2.226566, 0.4779644, -0.45111656, 0.012649059, 2.2294133, -4.7722917, -0.82275057, 4.331765, -3.8631682, -1.7661536, 3.0552304, 3.6293013, -0.5757489, 1.9152205, 2.781576, 0.6789956, 4.6139355, -0.67446756, -3.6877055, -3.7829547, -4.4327517, 5.193942, 2.0256896, 4.971439, -0.46131754, 4.0779967, -4.43729, 3.5185213, -4.4895363, 2.7678223, 0.7231784, -5.0059195, -2.8055878, -4.0861917, -2.7155216, 2.13954, -3.6755214, -3.7995033, -1.7482076, 2.0477269, 0.3676381, 0.87134266, -2.0262392, -0.2641406, 3.5414302, 0.47793245, 0.9831724, 1.9132545, -0.18458939, -3.1734712, -0.4941826, 4.813419, -4.2895236, 5.0861015, -0.13313055, 3.0080552, -1.9603748, 5.2432475, 4.312197, 4.856745, 0.7098255, 4.1342683, 0.4492073, 3.9034686, -4.100977, -0.71090364, -2.1945252, -3.9231238, 0.18504906, -2.8825135, 2.456609, 3.7807393, -2.7704713, -1.9889402, -0.70829105, -1.3879457, -1.3068128, 1.2924118, -1.9563878, 0.9912138, -0.6511569, -2.2519243, -0.74235344, -4.90579, -2.073912, 0.1365428, 0.09496355, 2.088585, -2.3767133, 3.1754353, -4.7188063, 2.9499118, 0.23313189, 3.236085, -5.1791, -0.49402952, 4.612082, -1.1297932, 2.1855145, 4.1031084, 0.88682127, -1.8831186, 3.0668, -2.8406432, -2.306382, 2.0305014, 0.13484526, 2.1055932, -0.98584557, 0.12711334, -2.6095254, -2.8714025, -2.4548807, -0.65626144, -5.011198, 1.127234, 0.57432556, 3.0126233, -2.4022658, -4.6430182, 0.8098154, -0.82233953, -0.7636347, 0.69494057, -0.9020405, 3.9801269, 5.000073, -2.1527126, 5.1349335, 0.8403864, 0.644227, -1.5140944, 2.158943, -1.6616268, 4.6287284, 0.9421272, 2.9416184, 3.715285, -0.81733227, -0.47041082, 0.37517405, -2.226701, 0.88925314, -1.1531849, 4.6353803, 4.01456, 2.336468, 0.8098841, -3.2229946, 3.1189837, -3.0775814, 0.0318532, -0.4264965, -1.4580467, 3.5783086, -4.2224407, -0.24228239, -1.0646439, -0.19459105, 0.74640846, 0.5035982, 0.14960098, -2.2942185, -0.16104269, 0.22581244, 0.28916836, -4.3888774, 4.6976004, 4.58325, 2.308471, -2.0384223, 4.576276, 0.82539034, 0.020225048, -2.3846283, 0.7066469, 1.6834416, 0.7408805, 4.4518065, 0.0074152946, 1.9524641, 2.5316808, 0.013159752, -3.4867945, 0.19841337, 4.6304545, -0.6156497, -0.32282734, -4.48018, 2.0713618, 0.09192753, 0.13841009, 2.356401, -2.6945443, 4.8023725, -0.7691126, -1.4094992, 3.1614923, -0.63539267, -3.6539001, -2.028634, -3.5245905, -0.5285797, -3.5808592, -4.0570536, -4.3327293, 0.469728, 0.31011486, -4.625268, -0.38877535, 0.7918072, 4.777075, 3.8292706, -2.2137718, 4.056184, -0.70654774, -2.5067446, -3.7608728, -0.033250332, -1.8375268, 5.240621, 2.5168214, -0.82039595, -0.13047647, -1.288804, -2.5078018, -0.305305, -4.5706697, 2.4095426, 2.8134353, -1.4026186, 4.508381, -3.3563786, -0.73679256, -0.3499365, -0.24022532, -3.3182898, -0.33049202, -0.8657594, 3.9944143, 1.9471343, -0.34530115, -2.2404237, 2.8562255, 4.955178, -1.2112913, 4.1374607, 1.1529665, -4.3656588, 0.23640966, -5.2153435, -2.4723873, -0.61515045, -4.930981, 4.250373, -4.378128, 1.0300756, -4.1997294, 0.86056805, -0.8592572, -4.6090345, 3.9187107, -1.0086374, -5.0451894, -2.4672766, 0.005689144, 0.7723713, 0.8753462, -2.2706974, 3.4683094, 2.1039743, 3.1076918]\n"
     ]
    }
   ],
   "source": [
    "print(f'c_i = {c_i}')\n",
    "print(f'c_f = {c_f}')"
   ]
  },
  {
   "cell_type": "code",
   "execution_count": 16,
   "id": "a80c5a0d",
   "metadata": {},
   "outputs": [
    {
     "data": {
      "text/plain": [
       "5.283185307179586"
      ]
     },
     "execution_count": 16,
     "metadata": {},
     "output_type": "execute_result"
    }
   ],
   "source": []
  },
  {
   "cell_type": "code",
   "execution_count": null,
   "id": "22e22b9e",
   "metadata": {},
   "outputs": [],
   "source": []
  }
 ],
 "metadata": {
  "kernelspec": {
   "display_name": "tensorflow-v2.2.0-gpu",
   "language": "python",
   "name": "tensorflow_gpu_2.2.0-py37"
  },
  "language_info": {
   "codemirror_mode": {
    "name": "ipython",
    "version": 3
   },
   "file_extension": ".py",
   "mimetype": "text/x-python",
   "name": "python",
   "nbconvert_exporter": "python",
   "pygments_lexer": "ipython3",
   "version": "3.7.4"
  }
 },
 "nbformat": 4,
 "nbformat_minor": 5
}
