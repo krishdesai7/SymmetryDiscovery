{
 "cells": [
  {
   "cell_type": "code",
   "execution_count": 133,
   "id": "5e552c38-64a3-4928-ab33-4ed1ed8435c2",
   "metadata": {},
   "outputs": [],
   "source": [
    "import numpy as np\n",
    "from sklearn.linear_model import LinearRegression\n",
    "import matplotlib.pyplot as plt\n",
    "from mpl_toolkits import mplot3d\n",
    "\n",
    "import tensorflow as tf\n",
    "import tensorflow.keras\n",
    "import tensorflow.keras.backend as K\n",
    "from tensorflow.keras.layers import Dense, Input, Dropout, Concatenate\n",
    "from tensorflow.keras.models import Model\n",
    "from tensorflow.keras.utils import to_categorical\n",
    "from tensorflow.keras.callbacks import EarlyStopping\n",
    "from tensorflow.keras.layers import Lambda, Layer"
   ]
  },
  {
   "cell_type": "code",
   "execution_count": 136,
   "id": "2be7870d-abe0-4f34-97fc-3c44d155b940",
   "metadata": {},
   "outputs": [],
   "source": [
    "class MyDenseLayer(Layer):\n",
    "\n",
    "    def __init__(self, kernel_initilizer=tf.keras.initializers.Identity(), num_outputs=1, **kwargs):\n",
    "        super(MyDenseLayer, self).__init__(**kwargs)\n",
    "        self.kernel_initializer = tf.keras.initializers.get(kernel_initilizer)\n",
    "        self.num_outputs = num_outputs\n",
    "\n",
    "    def build(self, input_shape):\n",
    "        # Create a trainable weight variable for this layer.\n",
    "        self._b = self.add_weight(name='x', \n",
    "                                    shape=[int(input_shape[-1]),\n",
    "                                         self.num_outputs],\n",
    "                                    initializer=self.kernel_initializer, #'uniform',\n",
    "                                    trainable=True)\n",
    "        self._c = self.add_weight(name='x', \n",
    "                                    shape=[int(input_shape[-1]),\n",
    "                                         self.num_outputs],\n",
    "                                    initializer=tf.keras.initializers.Zeros(), #'uniform',\n",
    "                                    trainable=True)\n",
    "        self._d = self.add_weight(name='x', \n",
    "                                    shape=[int(input_shape[-1]),\n",
    "                                         self.num_outputs],\n",
    "                                    initializer=tf.keras.initializers.Zeros(), #'uniform',\n",
    "                                    trainable=True)\n",
    "        self._e = self.add_weight(name='x', \n",
    "                                    shape=[int(input_shape[-1]),\n",
    "                                         self.num_outputs],\n",
    "                                    initializer=tf.keras.initializers.Zeros(), #'uniform',\n",
    "                                    trainable=True)\n",
    "        self._f = self.add_weight(name='x', \n",
    "                                    shape=[int(input_shape[-1]),\n",
    "                                         self.num_outputs],\n",
    "                                    initializer=tf.keras.initializers.Zeros(), #'uniform',\n",
    "                                    trainable=True)\n",
    "        self._g = self.add_weight(name='x', \n",
    "                                    shape=[int(input_shape[-1]),\n",
    "                                         self.num_outputs],\n",
    "                                    initializer=tf.keras.initializers.Zeros(), #'uniform',\n",
    "                                    trainable=True)\n",
    "        self._h = self.add_weight(name='x', \n",
    "                                    shape=[int(input_shape[-1]),\n",
    "                                         self.num_outputs],\n",
    "                                    initializer=tf.keras.initializers.Zeros(), #'uniform',\n",
    "                                    trainable=True)\n",
    "        self._i = self.add_weight(name='x', \n",
    "                                    shape=[int(input_shape[-1]),\n",
    "                                         self.num_outputs],\n",
    "                                    initializer=tf.keras.initializers.Zeros(), #'uniform',\n",
    "                                    trainable=True)\n",
    "        self._j = self.add_weight(name='x', \n",
    "                                    shape=[int(input_shape[-1]),\n",
    "                                         self.num_outputs],\n",
    "                                    initializer=tf.keras.initializers.Zeros(), #'uniform',\n",
    "                                    trainable=True)\n",
    "        \n",
    "        self._k = self.add_weight(name='x', \n",
    "                                    shape=[int(input_shape[-1]),\n",
    "                                         self.num_outputs],\n",
    "                                    initializer=tf.keras.initializers.Zeros(), #'uniform',\n",
    "                                    trainable=True)\n",
    "        self._l = self.add_weight(name='x', \n",
    "                                    shape=[int(input_shape[-1]),\n",
    "                                         self.num_outputs],\n",
    "                                    initializer=tf.keras.initializers.Zeros(), #'uniform',\n",
    "                                    trainable=True)\n",
    "        super(MyDenseLayer, self).build(input_shape)  # Be sure to call this at the end\n",
    "\n",
    "    def call(self, x):\n",
    "        return self._b*x + self._c * (x**2) + self._d * (x**3) + self._e * (x**4) + self._f * (x**5) + self._g * (x**6) + self._h * (x**7) + self._i * (x**8) + self._j * (x**9) + self._k * (x**10) + self._l * (x**11)\n",
    "        #return self._c*tf.math.sign(x)\n",
    "        #return tf.linalg.matmul(tf.nn.relu(x), self._b) - tf.linalg.matmul(tf.nn.relu(-x), self._c) + self._d"
   ]
  },
  {
   "cell_type": "code",
   "execution_count": 137,
   "id": "b9a00f07",
   "metadata": {},
   "outputs": [],
   "source": [
    "#Define the discriminator\n",
    "opt = tf.keras.optimizers.Adam(learning_rate=1e-4)\n",
    "\n",
    "inputs = Input((1, ))\n",
    "hidden_layer_1 = Dense(50, activation='relu')(inputs)\n",
    "hidden_layer_2 = Dense(50, activation='relu')(hidden_layer_1)\n",
    "hidden_layer_3 = Dense(50, activation='relu')(hidden_layer_2)\n",
    "hidden_layer_4 = Dense(50, activation='relu')(hidden_layer_3)\n",
    "hidden_layer_5 = Dense(50, activation='relu')(hidden_layer_4)\n",
    "hidden_layer_6 = Dense(50, activation='relu')(hidden_layer_5)\n",
    "outputs = Dense(1, activation='sigmoid')(hidden_layer_6)\n",
    "Discriminator = Model(inputs=inputs, outputs=outputs)\n",
    "Discriminator.compile(loss='binary_crossentropy', optimizer=opt, metrics=['accuracy'])\n",
    "\n",
    "#Define the mapping function:\n",
    "inputsM = Input((1, ))\n",
    "\n",
    "initializer = tf.keras.initializers.Identity()\n",
    "\n",
    "hidden_layer_1M = MyDenseLayer()(inputsM)\n",
    "#hidden_layer_2M = MyDenseLayer()(hidden_layer_1M)\n",
    "#hidden_layer_3M = MyDenseLayer()(hidden_layer_2M)\n",
    "#hidden_layer_4M = MyDenseLayer()(hidden_layer_3M)\n",
    "#hidden_layer_5M = MyDenseLayer()(hidden_layer_4M)\n",
    "#hidden_layer_6M = MyDenseLayer()(hidden_layer_5M)\n",
    "hidden_layer_7M = Dense(1, activation='linear', kernel_initializer=initializer)(hidden_layer_1M)\n",
    "MappingFunc = Model(inputs=inputsM, outputs=hidden_layer_1M)\n",
    "\n",
    "#Define the generator\n",
    "inputsG = Input((2, ))\n",
    "concatenate_layerG = Concatenate()([MappingFunc(inputsG[:,1:2]),inputsG[:,0:1]])\n",
    "outputG = concatenate_layerG[:, 0]*concatenate_layerG[:, 1]\n",
    "Generator = Model(inputs=inputsG, outputs=outputG)\n",
    "\n",
    "#Define the full GAN for training\n",
    "inputsGAN = Input((2, ))\n",
    "GAN = Model(inputs=inputsGAN,outputs=Discriminator(Generator(inputsGAN)))\n",
    "GAN.compile(loss='binary_crossentropy', optimizer=opt, metrics=['accuracy'])"
   ]
  },
  {
   "cell_type": "code",
   "execution_count": 138,
   "id": "d5bdd428",
   "metadata": {},
   "outputs": [],
   "source": [
    "# generate n real samples with class labels\n",
    "def generate_real_samples(n):\n",
    "    rng = np.random.default_rng()\n",
    "    x = rng.normal(0,1,n)\n",
    "    y = np.ones((n, 1))\n",
    "    c = np.random.uniform(-1.5,1.5,n) #[-1.5]*(n//4) + [1.5]*(n//4) + [0.5]*(n//4) + [-0.5]*(n//4)  # \n",
    "    X = np.c_[x,c]\n",
    "    rng.shuffle(X)\n",
    "    return X, y\n",
    "\n",
    "# use the generator to generate n fake examples, with class labels\n",
    "def generate_fake_samples(real_samples,generator, n):\n",
    "    # predict outputs\n",
    "    X = np.c_[Generator.predict(real_samples),real_samples[:,1]]\n",
    "    # create class labels\n",
    "    y = np.zeros((n, 1))\n",
    "    return X, y"
   ]
  },
  {
   "cell_type": "code",
   "execution_count": 140,
   "id": "6d5df47f",
   "metadata": {},
   "outputs": [
    {
     "name": "stdout",
     "output_type": "stream",
     "text": [
      "0 [[ 1.1037846  -0.15466575  0.          0.          0.          0.\n",
      "   0.          0.          0.          0.          0.          0.\n",
      "   0.          0.          0.          0.          0.          0.\n",
      "   0.          0.          0.          0.          0.          0.\n",
      "   0.          0.          0.          0.          0.          0.\n",
      "   0.          0.          0.          0.          0.          0.\n",
      "   0.          0.          0.          0.          0.          0.\n",
      "   0.          0.          0.          0.          0.          0.\n",
      "   0.          0.        ]]\n",
      "{'loss': 0.4729461669921875, 'accuracy': 1.0}\n",
      "200 [[ 1.2001477  -0.20981568  0.          0.          0.          0.\n",
      "   0.          0.          0.          0.          0.          0.\n",
      "   0.          0.          0.          0.          0.          0.\n",
      "   0.          0.          0.          0.          0.          0.\n",
      "   0.          0.          0.          0.          0.          0.\n",
      "   0.          0.          0.          0.          0.          0.\n",
      "   0.          0.          0.          0.          0.          0.\n",
      "   0.          0.          0.          0.          0.          0.\n",
      "   0.          0.        ]]\n",
      "{'loss': 0.4750426113605499, 'accuracy': 1.0}\n",
      "400 [[ 1.2520663  -0.25209358  0.          0.          0.          0.\n",
      "   0.          0.          0.          0.          0.          0.\n",
      "   0.          0.          0.          0.          0.          0.\n",
      "   0.          0.          0.          0.          0.          0.\n",
      "   0.          0.          0.          0.          0.          0.\n",
      "   0.          0.          0.          0.          0.          0.\n",
      "   0.          0.          0.          0.          0.          0.\n",
      "   0.          0.          0.          0.          0.          0.\n",
      "   0.          0.        ]]\n",
      "{'loss': 0.46554556488990784, 'accuracy': 1.0}\n",
      "600 [[ 1.252845   -0.28544208  0.          0.          0.          0.\n",
      "   0.          0.          0.          0.          0.          0.\n",
      "   0.          0.          0.          0.          0.          0.\n",
      "   0.          0.          0.          0.          0.          0.\n",
      "   0.          0.          0.          0.          0.          0.\n",
      "   0.          0.          0.          0.          0.          0.\n",
      "   0.          0.          0.          0.          0.          0.\n",
      "   0.          0.          0.          0.          0.          0.\n",
      "   0.          0.        ]]\n",
      "{'loss': 0.4475606679916382, 'accuracy': 1.0}\n",
      "800 [[ 1.223544   -0.31138796  0.          0.          0.          0.\n",
      "   0.          0.          0.          0.          0.          0.\n",
      "   0.          0.          0.          0.          0.          0.\n",
      "   0.          0.          0.          0.          0.          0.\n",
      "   0.          0.          0.          0.          0.          0.\n",
      "   0.          0.          0.          0.          0.          0.\n",
      "   0.          0.          0.          0.          0.          0.\n",
      "   0.          0.          0.          0.          0.          0.\n",
      "   0.          0.        ]]\n",
      "{'loss': 0.4340493083000183, 'accuracy': 1.0}\n"
     ]
    }
   ],
   "source": [
    "m = 2000\n",
    "n_batch = m\n",
    "n_epochs = 5*m\n",
    "half_batch = int(n_batch / 2)\n",
    "# manually enumerate epochs\n",
    "for i in range(n_epochs):\n",
    "    # prepare real samples\n",
    "    x_real, y_real = generate_real_samples(half_batch)\n",
    "    # prepare fake examples\n",
    "    x_fake, y_fake = generate_fake_samples(x_real, Generator, half_batch)\n",
    "    Discriminator.train_on_batch(x_real[:,0], y_real)\n",
    "    Discriminator.train_on_batch(x_fake[:,0], y_fake)\n",
    "    Discriminator.trainable = False\n",
    "    # update the generator via the discriminator's error\n",
    "    loss = GAN.train_on_batch(x_real, np.ones(len(x_real)), return_dict=True)\n",
    "    Discriminator.trainable = True\n",
    "    #Discriminator.compile(loss='binary_crossentropy', optimizer='adam', metrics=['accuracy'])\n",
    "    if(i%m == 0):\n",
    "        print(i,MappingFunc.predict([[1]]))\n",
    "        print(loss)"
   ]
  },
  {
   "cell_type": "code",
   "execution_count": 141,
   "id": "f7902c0d",
   "metadata": {},
   "outputs": [
    {
     "data": {
      "text/plain": [
       "array([[ 1.9884238 , -0.41974616,  0.        ,  0.        ,  0.        ,\n",
       "         0.        ,  0.        ,  0.        ,  0.        ,  0.        ,\n",
       "         0.        ,  0.        ,  0.        ,  0.        ,  0.        ,\n",
       "         0.        ,  0.        ,  0.        ,  0.        ,  0.        ,\n",
       "         0.        ,  0.        ,  0.        ,  0.        ,  0.        ,\n",
       "         0.        ,  0.        ,  0.        ,  0.        ,  0.        ,\n",
       "         0.        ,  0.        ,  0.        ,  0.        ,  0.        ,\n",
       "         0.        ,  0.        ,  0.        ,  0.        ,  0.        ,\n",
       "         0.        ,  0.        ,  0.        ,  0.        ,  0.        ,\n",
       "         0.        ,  0.        ,  0.        ,  0.        ,  0.        ]],\n",
       "      dtype=float32)"
      ]
     },
     "execution_count": 141,
     "metadata": {},
     "output_type": "execute_result"
    }
   ],
   "source": [
    "MappingFunc.predict([[1.5]])"
   ]
  },
  {
   "cell_type": "code",
   "execution_count": 142,
   "id": "81719b9b",
   "metadata": {},
   "outputs": [
    {
     "data": {
      "text/plain": [
       "array([[-2.6807246, -0.570415 ,  0.       ,  0.       ,  0.       ,\n",
       "         0.       ,  0.       ,  0.       ,  0.       ,  0.       ,\n",
       "         0.       ,  0.       ,  0.       ,  0.       ,  0.       ,\n",
       "         0.       ,  0.       ,  0.       ,  0.       ,  0.       ,\n",
       "         0.       ,  0.       ,  0.       ,  0.       ,  0.       ,\n",
       "         0.       ,  0.       ,  0.       ,  0.       ,  0.       ,\n",
       "         0.       ,  0.       ,  0.       ,  0.       ,  0.       ,\n",
       "         0.       ,  0.       ,  0.       ,  0.       ,  0.       ,\n",
       "         0.       ,  0.       ,  0.       ,  0.       ,  0.       ,\n",
       "         0.       ,  0.       ,  0.       ,  0.       ,  0.       ]],\n",
       "      dtype=float32)"
      ]
     },
     "execution_count": 142,
     "metadata": {},
     "output_type": "execute_result"
    }
   ],
   "source": [
    "MappingFunc.predict([[-1.5]])"
   ]
  },
  {
   "cell_type": "code",
   "execution_count": 143,
   "id": "e40cb1bb-ec3b-4974-8251-1a4acd0f52e6",
   "metadata": {},
   "outputs": [
    {
     "data": {
      "text/plain": [
       "array([[ 0.40746218, -0.2474971 ,  0.        ,  0.        ,  0.        ,\n",
       "         0.        ,  0.        ,  0.        ,  0.        ,  0.        ,\n",
       "         0.        ,  0.        ,  0.        ,  0.        ,  0.        ,\n",
       "         0.        ,  0.        ,  0.        ,  0.        ,  0.        ,\n",
       "         0.        ,  0.        ,  0.        ,  0.        ,  0.        ,\n",
       "         0.        ,  0.        ,  0.        ,  0.        ,  0.        ,\n",
       "         0.        ,  0.        ,  0.        ,  0.        ,  0.        ,\n",
       "         0.        ,  0.        ,  0.        ,  0.        ,  0.        ,\n",
       "         0.        ,  0.        ,  0.        ,  0.        ,  0.        ,\n",
       "         0.        ,  0.        ,  0.        ,  0.        ,  0.        ]],\n",
       "      dtype=float32)"
      ]
     },
     "execution_count": 143,
     "metadata": {},
     "output_type": "execute_result"
    }
   ],
   "source": [
    "MappingFunc.predict([[0.5]])"
   ]
  },
  {
   "cell_type": "code",
   "execution_count": 144,
   "id": "1efebcbd-a286-40ca-a090-01b3cf7a976b",
   "metadata": {},
   "outputs": [
    {
     "data": {
      "text/plain": [
       "array([[-1.1461543 , -0.33771017,  0.        ,  0.        ,  0.        ,\n",
       "         0.        ,  0.        ,  0.        ,  0.        ,  0.        ,\n",
       "         0.        ,  0.        ,  0.        ,  0.        ,  0.        ,\n",
       "         0.        ,  0.        ,  0.        ,  0.        ,  0.        ,\n",
       "         0.        ,  0.        ,  0.        ,  0.        ,  0.        ,\n",
       "         0.        ,  0.        ,  0.        ,  0.        ,  0.        ,\n",
       "         0.        ,  0.        ,  0.        ,  0.        ,  0.        ,\n",
       "         0.        ,  0.        ,  0.        ,  0.        ,  0.        ,\n",
       "         0.        ,  0.        ,  0.        ,  0.        ,  0.        ,\n",
       "         0.        ,  0.        ,  0.        ,  0.        ,  0.        ]],\n",
       "      dtype=float32)"
      ]
     },
     "execution_count": 144,
     "metadata": {},
     "output_type": "execute_result"
    }
   ],
   "source": [
    "MappingFunc.predict([[-0.5]])"
   ]
  },
  {
   "cell_type": "code",
   "execution_count": null,
   "id": "f70e8a87",
   "metadata": {},
   "outputs": [],
   "source": [
    "preds = MappingFunc.predict([[c] for c in np.linspace(-2,2,20)])\n",
    "plt.plot(np.linspace(-2,2,20),preds)"
   ]
  },
  {
   "cell_type": "code",
   "execution_count": 10,
   "id": "9ce32c10-50cd-49e6-83ba-050e7fd16465",
   "metadata": {},
   "outputs": [],
   "source": [
    "c_i = np.random.uniform(-1.5,1.5,m//10)\n",
    "c_f = []\n",
    "\n",
    "\n",
    "for j in range(m//10):\n",
    "    preds = MappingFunc.predict([[c_i[j]]])\n",
    "    c_f.append(preds[0,0])\n",
    "    \n",
    "        "
   ]
  },
  {
   "cell_type": "code",
   "execution_count": 11,
   "id": "4b1e4de0-282a-4cb4-970e-b183978c00a9",
   "metadata": {},
   "outputs": [
    {
     "data": {
      "text/plain": [
       "Text(0, 0.5, 'final slope')"
      ]
     },
     "execution_count": 11,
     "metadata": {},
     "output_type": "execute_result"
    },
    {
     "data": {
      "image/png": "[encoded data removed]",
      "text/plain": [
       "<Figure size 432x288 with 1 Axes>"
      ]
     },
     "metadata": {
      "needs_background": "light"
     },
     "output_type": "display_data"
    }
   ],
   "source": [
    "plt.scatter(c_i, c_f)\n",
    "plt.xlabel(\"initial slope\")\n",
    "plt.ylabel(\"final slope\")"
   ]
  },
  {
   "cell_type": "code",
   "execution_count": 34,
   "id": "89c4d421",
   "metadata": {},
   "outputs": [],
   "source": [
    "x_real, y_real = generate_real_samples(10000)\n",
    "x_fake, y_fake = generate_fake_samples(x_real, Generator, 10000)"
   ]
  },
  {
   "cell_type": "code",
   "execution_count": 35,
   "id": "710ae81e",
   "metadata": {},
   "outputs": [
    {
     "data": {
      "text/plain": [
       "(array([ 315.,  708., 1222., 1658., 1933., 1579., 1204.,  696.,  333.]),\n",
       " array([-2.        , -1.55555556, -1.11111111, -0.66666667, -0.22222222,\n",
       "         0.22222222,  0.66666667,  1.11111111,  1.55555556,  2.        ]),\n",
       " <a list of 9 Patch objects>)"
      ]
     },
     "execution_count": 35,
     "metadata": {},
     "output_type": "execute_result"
    },
    {
     "data": {
      "image/png": "[encoded data removed]",
      "text/plain": [
       "<Figure size 432x288 with 1 Axes>"
      ]
     },
     "metadata": {
      "needs_background": "light"
     },
     "output_type": "display_data"
    }
   ],
   "source": [
    "plt.hist(x_real[:,0],bins=np.linspace(-2,2,10),alpha=0.5)\n",
    "plt.hist(x_fake[:,0],bins=np.linspace(-2,2,10),alpha=0.5)"
   ]
  },
  {
   "cell_type": "code",
   "execution_count": 36,
   "id": "9202b1fb",
   "metadata": {},
   "outputs": [
    {
     "data": {
      "text/plain": [
       "-0.0012336223399872213"
      ]
     },
     "execution_count": 36,
     "metadata": {},
     "output_type": "execute_result"
    }
   ],
   "source": [
    "np.mean(x_real[:,0])"
   ]
  },
  {
   "cell_type": "code",
   "execution_count": 37,
   "id": "77f7f6ff",
   "metadata": {},
   "outputs": [
    {
     "data": {
      "text/plain": [
       "0.0011748947770996892"
      ]
     },
     "execution_count": 37,
     "metadata": {},
     "output_type": "execute_result"
    }
   ],
   "source": [
    "np.mean(x_fake[:,0])"
   ]
  },
  {
   "cell_type": "code",
   "execution_count": 38,
   "id": "b22e7b38",
   "metadata": {},
   "outputs": [
    {
     "data": {
      "text/plain": [
       "<matplotlib.collections.PathCollection at 0x2aaf992e8650>"
      ]
     },
     "execution_count": 38,
     "metadata": {},
     "output_type": "execute_result"
    },
    {
     "data": {
      "image/png": "[encoded data removed]",
      "text/plain": [
       "<Figure size 432x288 with 1 Axes>"
      ]
     },
     "metadata": {
      "needs_background": "light"
     },
     "output_type": "display_data"
    }
   ],
   "source": [
    "plt.scatter(x_real[:,0],x_fake[:,0])"
   ]
  }
 ],
 "metadata": {
  "kernelspec": {
   "display_name": "tensorflow-v2.2.0-gpu",
   "language": "python",
   "name": "tensorflow_gpu_2.2.0-py37"
  },
  "language_info": {
   "codemirror_mode": {
    "name": "ipython",
    "version": 3
   },
   "file_extension": ".py",
   "mimetype": "text/x-python",
   "name": "python",
   "nbconvert_exporter": "python",
   "pygments_lexer": "ipython3",
   "version": "3.7.4"
  }
 },
 "nbformat": 4,
 "nbformat_minor": 5
}
