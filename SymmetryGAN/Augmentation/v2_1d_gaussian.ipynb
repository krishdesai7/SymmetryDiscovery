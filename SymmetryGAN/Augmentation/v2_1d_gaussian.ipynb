{
 "cells": [
  {
   "cell_type": "code",
   "execution_count": 133,
   "id": "5e552c38-64a3-4928-ab33-4ed1ed8435c2",
   "metadata": {},
   "outputs": [],
   "source": [
    "import numpy as np\n",
    "from sklearn.linear_model import LinearRegression\n",
    "import matplotlib.pyplot as plt\n",
    "from mpl_toolkits import mplot3d\n",
    "\n",
    "import tensorflow as tf\n",
    "import tensorflow.keras\n",
    "import tensorflow.keras.backend as K\n",
    "from tensorflow.keras.layers import Dense, Input, Dropout, Concatenate\n",
    "from tensorflow.keras.models import Model\n",
    "from tensorflow.keras.utils import to_categorical\n",
    "from tensorflow.keras.callbacks import EarlyStopping\n",
    "from tensorflow.keras.layers import Lambda, Layer"
   ]
  },
  {
   "cell_type": "code",
   "execution_count": null,
   "id": "8252c68c-0b37-4e80-a736-418fd75d7e85",
   "metadata": {},
   "outputs": [],
   "source": []
  },
  {
   "cell_type": "code",
   "execution_count": 134,
   "id": "5eb1e04a",
   "metadata": {},
   "outputs": [],
   "source": [
    "#import os\n",
    "#os.environ['CUDA_VISIBLE_DEVICES']=\"1\"\n",
    "\n",
    "#physical_devices = tf.config.list_physical_devices('GPU') \n",
    "#tf.config.experimental.set_memory_growth(physical_devices[0], True)"
   ]
  },
  {
   "cell_type": "code",
   "execution_count": 135,
   "id": "85dca625-8099-477b-8860-e561eef3901f",
   "metadata": {},
   "outputs": [],
   "source": [
    "#tf.shape(hidden_layer_1M)"
   ]
  },
  {
   "cell_type": "code",
   "execution_count": 136,
   "id": "2be7870d-abe0-4f34-97fc-3c44d155b940",
   "metadata": {},
   "outputs": [],
   "source": [
    "class MyDenseLayer(Layer):\n",
    "\n",
    "    def __init__(self, kernel_initilizer=tf.keras.initializers.Identity(), num_outputs=50, **kwargs):\n",
    "        super(MyDenseLayer, self).__init__(**kwargs)\n",
    "        self.kernel_initializer = tf.keras.initializers.get(kernel_initilizer)\n",
    "        self.num_outputs = num_outputs\n",
    "\n",
    "    def build(self, input_shape):\n",
    "        # Create a trainable weight variable for this layer.\n",
    "        self._b = self.add_weight(name='x', \n",
    "                                    shape=[int(input_shape[-1]),\n",
    "                                         self.num_outputs],\n",
    "                                    initializer=self.kernel_initializer, #'uniform',\n",
    "                                    trainable=True)\n",
    "        self._c = self.add_weight(name='x', \n",
    "                                    shape=[int(input_shape[-1]),\n",
    "                                         self.num_outputs],\n",
    "                                    initializer=self.kernel_initializer, #'uniform',\n",
    "                                    trainable=True)\n",
    "        self._d = self.add_weight(name='x', \n",
    "                                    shape=[\n",
    "                                         self.num_outputs],\n",
    "                                    initializer=tf.keras.initializers.Zeros(), #'uniform',\n",
    "                                    trainable=True)\n",
    "\n",
    "        super(MyDenseLayer, self).build(input_shape)  # Be sure to call this at the end\n",
    "\n",
    "    def call(self, x):\n",
    "        return tf.linalg.matmul(tf.nn.relu(x), self._b) - tf.linalg.matmul(tf.nn.relu(-x), self._c) + self._d"
   ]
  },
  {
   "cell_type": "code",
   "execution_count": 137,
   "id": "b9a00f07",
   "metadata": {},
   "outputs": [],
   "source": [
    "#Define the discriminator\n",
    "opt = tf.keras.optimizers.Adam(learning_rate=1e-4)\n",
    "\n",
    "inputs = Input((1, ))\n",
    "hidden_layer_1 = Dense(50, activation='relu')(inputs)\n",
    "hidden_layer_2 = Dense(50, activation='relu')(hidden_layer_1)\n",
    "hidden_layer_3 = Dense(50, activation='relu')(hidden_layer_2)\n",
    "hidden_layer_4 = Dense(50, activation='relu')(hidden_layer_3)\n",
    "hidden_layer_5 = Dense(50, activation='relu')(hidden_layer_4)\n",
    "hidden_layer_6 = Dense(50, activation='relu')(hidden_layer_5)\n",
    "outputs = Dense(1, activation='sigmoid')(hidden_layer_6)\n",
    "Discriminator = Model(inputs=inputs, outputs=outputs)\n",
    "Discriminator.compile(loss='binary_crossentropy', optimizer=opt, metrics=['accuracy'])\n",
    "\n",
    "#Define the mapping function:\n",
    "inputsM = Input((1, ))\n",
    "\n",
    "initializer = tf.keras.initializers.Identity()\n",
    "\n",
    "hidden_layer_1M = MyDenseLayer()(inputsM)\n",
    "hidden_layer_2M = MyDenseLayer()(hidden_layer_1M)\n",
    "#hidden_layer_3M = MyDenseLayer()(hidden_layer_2M)\n",
    "#hidden_layer_4M = MyDenseLayer()(hidden_layer_3M)\n",
    "#hidden_layer_5M = MyDenseLayer()(hidden_layer_4M)\n",
    "#hidden_layer_6M = MyDenseLayer()(hidden_layer_5M)\n",
    "#hidden_layer_4M = Dense(1, activation='linear', kernel_initializer=initializer)(hidden_layer_6M)\n",
    "MappingFunc = Model(inputs=inputsM, outputs=hidden_layer_2M)\n",
    "\n",
    "#Define the generator\n",
    "inputsG = Input((2, ))\n",
    "concatenate_layerG = Concatenate()([MappingFunc(inputsG[:,1:2]),inputsG[:,0:1]])\n",
    "outputG = concatenate_layerG[:, 0]*concatenate_layerG[:, 1]\n",
    "Generator = Model(inputs=inputsG, outputs=outputG)\n",
    "\n",
    "#Define the full GAN for training\n",
    "inputsGAN = Input((2, ))\n",
    "GAN = Model(inputs=inputsGAN,outputs=Discriminator(Generator(inputsGAN)))\n",
    "GAN.compile(loss='binary_crossentropy', optimizer=opt, metrics=['accuracy'])"
   ]
  },
  {
   "cell_type": "code",
   "execution_count": null,
   "id": "86a8b5e7-caee-45f4-8ffd-e2dd59d9a968",
   "metadata": {},
   "outputs": [],
   "source": []
  },
  {
   "cell_type": "code",
   "execution_count": 138,
   "id": "d5bdd428",
   "metadata": {},
   "outputs": [],
   "source": [
    "# generate n real samples with class labels\n",
    "def generate_real_samples(n):\n",
    "    rng = np.random.default_rng()\n",
    "    x = rng.normal(0,1,n)\n",
    "    y = np.ones((n, 1))\n",
    "    c = [-1.5]*(n//4) + [1.5]*(n//4) + [0.5]*(n//4) + [-0.5]*(n//4) #np.random.uniform(-1.5,1.5,n)\n",
    "    X = np.c_[x,c]\n",
    "    rng.shuffle(X)\n",
    "    return X, y\n",
    "\n",
    "# use the generator to generate n fake examples, with class labels\n",
    "def generate_fake_samples(real_samples,generator, n):\n",
    "    # predict outputs\n",
    "    X = np.c_[Generator.predict(real_samples),real_samples[:,1]]\n",
    "    # create class labels\n",
    "    y = np.zeros((n, 1))\n",
    "    return X, y"
   ]
  },
  {
   "cell_type": "code",
   "execution_count": 140,
   "id": "6d5df47f",
   "metadata": {},
   "outputs": [
    {
     "name": "stdout",
     "output_type": "stream",
     "text": [
      "0 [[ 1.1037846  -0.15466575  0.          0.          0.          0.\n",
      "   0.          0.          0.          0.          0.          0.\n",
      "   0.          0.          0.          0.          0.          0.\n",
      "   0.          0.          0.          0.          0.          0.\n",
      "   0.          0.          0.          0.          0.          0.\n",
      "   0.          0.          0.          0.          0.          0.\n",
      "   0.          0.          0.          0.          0.          0.\n",
      "   0.          0.          0.          0.          0.          0.\n",
      "   0.          0.        ]]\n",
      "{'loss': 0.4729461669921875, 'accuracy': 1.0}\n",
      "200 [[ 1.2001477  -0.20981568  0.          0.          0.          0.\n",
      "   0.          0.          0.          0.          0.          0.\n",
      "   0.          0.          0.          0.          0.          0.\n",
      "   0.          0.          0.          0.          0.          0.\n",
      "   0.          0.          0.          0.          0.          0.\n",
      "   0.          0.          0.          0.          0.          0.\n",
      "   0.          0.          0.          0.          0.          0.\n",
      "   0.          0.          0.          0.          0.          0.\n",
      "   0.          0.        ]]\n",
      "{'loss': 0.4750426113605499, 'accuracy': 1.0}\n",
      "400 [[ 1.2520663  -0.25209358  0.          0.          0.          0.\n",
      "   0.          0.          0.          0.          0.          0.\n",
      "   0.          0.          0.          0.          0.          0.\n",
      "   0.          0.          0.          0.          0.          0.\n",
      "   0.          0.          0.          0.          0.          0.\n",
      "   0.          0.          0.          0.          0.          0.\n",
      "   0.          0.          0.          0.          0.          0.\n",
      "   0.          0.          0.          0.          0.          0.\n",
      "   0.          0.        ]]\n",
      "{'loss': 0.46554556488990784, 'accuracy': 1.0}\n",
      "600 [[ 1.252845   -0.28544208  0.          0.          0.          0.\n",
      "   0.          0.          0.          0.          0.          0.\n",
      "   0.          0.          0.          0.          0.          0.\n",
      "   0.          0.          0.          0.          0.          0.\n",
      "   0.          0.          0.          0.          0.          0.\n",
      "   0.          0.          0.          0.          0.          0.\n",
      "   0.          0.          0.          0.          0.          0.\n",
      "   0.          0.          0.          0.          0.          0.\n",
      "   0.          0.        ]]\n",
      "{'loss': 0.4475606679916382, 'accuracy': 1.0}\n",
      "800 [[ 1.223544   -0.31138796  0.          0.          0.          0.\n",
      "   0.          0.          0.          0.          0.          0.\n",
      "   0.          0.          0.          0.          0.          0.\n",
      "   0.          0.          0.          0.          0.          0.\n",
      "   0.          0.          0.          0.          0.          0.\n",
      "   0.          0.          0.          0.          0.          0.\n",
      "   0.          0.          0.          0.          0.          0.\n",
      "   0.          0.          0.          0.          0.          0.\n",
      "   0.          0.        ]]\n",
      "{'loss': 0.4340493083000183, 'accuracy': 1.0}\n"
     ]
    }
   ],
   "source": [
    "m = 200\n",
    "n_batch = m\n",
    "n_epochs = 5*m\n",
    "half_batch = int(n_batch / 2)\n",
    "# manually enumerate epochs\n",
    "for i in range(n_epochs):\n",
    "    # prepare real samples\n",
    "    x_real, y_real = generate_real_samples(half_batch)\n",
    "    # prepare fake examples\n",
    "    x_fake, y_fake = generate_fake_samples(x_real, Generator, half_batch)\n",
    "    Discriminator.train_on_batch(x_real[:,0], y_real)\n",
    "    Discriminator.train_on_batch(x_fake[:,0], y_fake)\n",
    "    Discriminator.trainable = False\n",
    "    # update the generator via the discriminator's error\n",
    "    loss = GAN.train_on_batch(x_real, np.ones(len(x_real)), return_dict=True)\n",
    "    Discriminator.trainable = True\n",
    "    #Discriminator.compile(loss='binary_crossentropy', optimizer='adam', metrics=['accuracy'])\n",
    "    if(i%m == 0):\n",
    "        print(i,MappingFunc.predict([[1]]))\n",
    "        print(loss)"
   ]
  },
  {
   "cell_type": "code",
   "execution_count": 141,
   "id": "f7902c0d",
   "metadata": {},
   "outputs": [
    {
     "data": {
      "text/plain": [
       "array([[ 1.9884238 , -0.41974616,  0.        ,  0.        ,  0.        ,\n",
       "         0.        ,  0.        ,  0.        ,  0.        ,  0.        ,\n",
       "         0.        ,  0.        ,  0.        ,  0.        ,  0.        ,\n",
       "         0.        ,  0.        ,  0.        ,  0.        ,  0.        ,\n",
       "         0.        ,  0.        ,  0.        ,  0.        ,  0.        ,\n",
       "         0.        ,  0.        ,  0.        ,  0.        ,  0.        ,\n",
       "         0.        ,  0.        ,  0.        ,  0.        ,  0.        ,\n",
       "         0.        ,  0.        ,  0.        ,  0.        ,  0.        ,\n",
       "         0.        ,  0.        ,  0.        ,  0.        ,  0.        ,\n",
       "         0.        ,  0.        ,  0.        ,  0.        ,  0.        ]],\n",
       "      dtype=float32)"
      ]
     },
     "execution_count": 141,
     "metadata": {},
     "output_type": "execute_result"
    }
   ],
   "source": [
    "MappingFunc.predict([[1.5]])"
   ]
  },
  {
   "cell_type": "code",
   "execution_count": 142,
   "id": "81719b9b",
   "metadata": {},
   "outputs": [
    {
     "data": {
      "text/plain": [
       "array([[-2.6807246, -0.570415 ,  0.       ,  0.       ,  0.       ,\n",
       "         0.       ,  0.       ,  0.       ,  0.       ,  0.       ,\n",
       "         0.       ,  0.       ,  0.       ,  0.       ,  0.       ,\n",
       "         0.       ,  0.       ,  0.       ,  0.       ,  0.       ,\n",
       "         0.       ,  0.       ,  0.       ,  0.       ,  0.       ,\n",
       "         0.       ,  0.       ,  0.       ,  0.       ,  0.       ,\n",
       "         0.       ,  0.       ,  0.       ,  0.       ,  0.       ,\n",
       "         0.       ,  0.       ,  0.       ,  0.       ,  0.       ,\n",
       "         0.       ,  0.       ,  0.       ,  0.       ,  0.       ,\n",
       "         0.       ,  0.       ,  0.       ,  0.       ,  0.       ]],\n",
       "      dtype=float32)"
      ]
     },
     "execution_count": 142,
     "metadata": {},
     "output_type": "execute_result"
    }
   ],
   "source": [
    "MappingFunc.predict([[-1.5]])"
   ]
  },
  {
   "cell_type": "code",
   "execution_count": 143,
   "id": "e40cb1bb-ec3b-4974-8251-1a4acd0f52e6",
   "metadata": {},
   "outputs": [
    {
     "data": {
      "text/plain": [
       "array([[ 0.40746218, -0.2474971 ,  0.        ,  0.        ,  0.        ,\n",
       "         0.        ,  0.        ,  0.        ,  0.        ,  0.        ,\n",
       "         0.        ,  0.        ,  0.        ,  0.        ,  0.        ,\n",
       "         0.        ,  0.        ,  0.        ,  0.        ,  0.        ,\n",
       "         0.        ,  0.        ,  0.        ,  0.        ,  0.        ,\n",
       "         0.        ,  0.        ,  0.        ,  0.        ,  0.        ,\n",
       "         0.        ,  0.        ,  0.        ,  0.        ,  0.        ,\n",
       "         0.        ,  0.        ,  0.        ,  0.        ,  0.        ,\n",
       "         0.        ,  0.        ,  0.        ,  0.        ,  0.        ,\n",
       "         0.        ,  0.        ,  0.        ,  0.        ,  0.        ]],\n",
       "      dtype=float32)"
      ]
     },
     "execution_count": 143,
     "metadata": {},
     "output_type": "execute_result"
    }
   ],
   "source": [
    "MappingFunc.predict([[0.5]])"
   ]
  },
  {
   "cell_type": "code",
   "execution_count": 144,
   "id": "1efebcbd-a286-40ca-a090-01b3cf7a976b",
   "metadata": {},
   "outputs": [
    {
     "data": {
      "text/plain": [
       "array([[-1.1461543 , -0.33771017,  0.        ,  0.        ,  0.        ,\n",
       "         0.        ,  0.        ,  0.        ,  0.        ,  0.        ,\n",
       "         0.        ,  0.        ,  0.        ,  0.        ,  0.        ,\n",
       "         0.        ,  0.        ,  0.        ,  0.        ,  0.        ,\n",
       "         0.        ,  0.        ,  0.        ,  0.        ,  0.        ,\n",
       "         0.        ,  0.        ,  0.        ,  0.        ,  0.        ,\n",
       "         0.        ,  0.        ,  0.        ,  0.        ,  0.        ,\n",
       "         0.        ,  0.        ,  0.        ,  0.        ,  0.        ,\n",
       "         0.        ,  0.        ,  0.        ,  0.        ,  0.        ,\n",
       "         0.        ,  0.        ,  0.        ,  0.        ,  0.        ]],\n",
       "      dtype=float32)"
      ]
     },
     "execution_count": 144,
     "metadata": {},
     "output_type": "execute_result"
    }
   ],
   "source": [
    "MappingFunc.predict([[-0.5]])"
   ]
  },
  {
   "cell_type": "code",
   "execution_count": null,
   "id": "f70e8a87",
   "metadata": {},
   "outputs": [],
   "source": [
    "preds = MappingFunc.predict([[c] for c in np.linspace(-2,2,20)])\n",
    "plt.plot(np.linspace(-2,2,20),preds)"
   ]
  },
  {
   "cell_type": "code",
   "execution_count": 10,
   "id": "9ce32c10-50cd-49e6-83ba-050e7fd16465",
   "metadata": {},
   "outputs": [],
   "source": [
    "b_i = np.random.uniform(-1.5,1.5,m//10)\n",
    "b_f = []\n",
    "c_i = np.random.uniform(-1.5,1.5,m//10)\n",
    "c_f = []\n",
    "\n",
    "\n",
    "for j in range(m//10):\n",
    "    preds = MappingFunc.predict([[c_i[j]]])\n",
    "    c_f.append(preds[0,0])\n",
    "    \n",
    "        "
   ]
  },
  {
   "cell_type": "code",
   "execution_count": 30,
   "id": "e3542dce-d589-4cd6-b8af-5653b57e608e",
   "metadata": {},
   "outputs": [
    {
     "ename": "ValueError",
     "evalue": "shape mismatch: objects cannot be broadcast to a single shape",
     "output_type": "error",
     "traceback": [
      "\u001b[0;31m---------------------------------------------------------------------------\u001b[0m",
      "\u001b[0;31mValueError\u001b[0m                                Traceback (most recent call last)",
      "\u001b[0;32m<ipython-input-30-859940bbe6cf>\u001b[0m in \u001b[0;36m<module>\u001b[0;34m\u001b[0m\n\u001b[1;32m      1\u001b[0m \u001b[0max\u001b[0m \u001b[0;34m=\u001b[0m \u001b[0mplt\u001b[0m\u001b[0;34m.\u001b[0m\u001b[0maxes\u001b[0m\u001b[0;34m(\u001b[0m\u001b[0mprojection\u001b[0m\u001b[0;34m=\u001b[0m\u001b[0;34m'3d'\u001b[0m\u001b[0;34m)\u001b[0m\u001b[0;34m\u001b[0m\u001b[0;34m\u001b[0m\u001b[0m\n\u001b[1;32m      2\u001b[0m ax.scatter(c_i, c_f, b_f,\n\u001b[0;32m----> 3\u001b[0;31m                 c=b_f, cmap='viridis', linewidth=0.5)\n\u001b[0m",
      "\u001b[0;32m/usr/common/software/tensorflow/gpu-tensorflow/2.2.0-py37/lib/python3.7/site-packages/mpl_toolkits/mplot3d/axes3d.py\u001b[0m in \u001b[0;36mscatter\u001b[0;34m(self, xs, ys, zs, zdir, s, c, depthshade, *args, **kwargs)\u001b[0m\n\u001b[1;32m   2320\u001b[0m \u001b[0;34m\u001b[0m\u001b[0m\n\u001b[1;32m   2321\u001b[0m         xs, ys, zs = np.broadcast_arrays(\n\u001b[0;32m-> 2322\u001b[0;31m             *[np.ravel(np.ma.filled(t, np.nan)) for t in [xs, ys, zs]])\n\u001b[0m\u001b[1;32m   2323\u001b[0m         \u001b[0ms\u001b[0m \u001b[0;34m=\u001b[0m \u001b[0mnp\u001b[0m\u001b[0;34m.\u001b[0m\u001b[0mma\u001b[0m\u001b[0;34m.\u001b[0m\u001b[0mravel\u001b[0m\u001b[0;34m(\u001b[0m\u001b[0ms\u001b[0m\u001b[0;34m)\u001b[0m  \u001b[0;31m# This doesn't have to match x, y in size.\u001b[0m\u001b[0;34m\u001b[0m\u001b[0;34m\u001b[0m\u001b[0m\n\u001b[1;32m   2324\u001b[0m \u001b[0;34m\u001b[0m\u001b[0m\n",
      "\u001b[0;32m<__array_function__ internals>\u001b[0m in \u001b[0;36mbroadcast_arrays\u001b[0;34m(*args, **kwargs)\u001b[0m\n",
      "\u001b[0;32m/usr/common/software/tensorflow/gpu-tensorflow/2.2.0-py37/lib/python3.7/site-packages/numpy/lib/stride_tricks.py\u001b[0m in \u001b[0;36mbroadcast_arrays\u001b[0;34m(*args, **kwargs)\u001b[0m\n\u001b[1;32m    262\u001b[0m     \u001b[0margs\u001b[0m \u001b[0;34m=\u001b[0m \u001b[0;34m[\u001b[0m\u001b[0mnp\u001b[0m\u001b[0;34m.\u001b[0m\u001b[0marray\u001b[0m\u001b[0;34m(\u001b[0m\u001b[0m_m\u001b[0m\u001b[0;34m,\u001b[0m \u001b[0mcopy\u001b[0m\u001b[0;34m=\u001b[0m\u001b[0;32mFalse\u001b[0m\u001b[0;34m,\u001b[0m \u001b[0msubok\u001b[0m\u001b[0;34m=\u001b[0m\u001b[0msubok\u001b[0m\u001b[0;34m)\u001b[0m \u001b[0;32mfor\u001b[0m \u001b[0m_m\u001b[0m \u001b[0;32min\u001b[0m \u001b[0margs\u001b[0m\u001b[0;34m]\u001b[0m\u001b[0;34m\u001b[0m\u001b[0;34m\u001b[0m\u001b[0m\n\u001b[1;32m    263\u001b[0m \u001b[0;34m\u001b[0m\u001b[0m\n\u001b[0;32m--> 264\u001b[0;31m     \u001b[0mshape\u001b[0m \u001b[0;34m=\u001b[0m \u001b[0m_broadcast_shape\u001b[0m\u001b[0;34m(\u001b[0m\u001b[0;34m*\u001b[0m\u001b[0margs\u001b[0m\u001b[0;34m)\u001b[0m\u001b[0;34m\u001b[0m\u001b[0;34m\u001b[0m\u001b[0m\n\u001b[0m\u001b[1;32m    265\u001b[0m \u001b[0;34m\u001b[0m\u001b[0m\n\u001b[1;32m    266\u001b[0m     \u001b[0;32mif\u001b[0m \u001b[0mall\u001b[0m\u001b[0;34m(\u001b[0m\u001b[0marray\u001b[0m\u001b[0;34m.\u001b[0m\u001b[0mshape\u001b[0m \u001b[0;34m==\u001b[0m \u001b[0mshape\u001b[0m \u001b[0;32mfor\u001b[0m \u001b[0marray\u001b[0m \u001b[0;32min\u001b[0m \u001b[0margs\u001b[0m\u001b[0;34m)\u001b[0m\u001b[0;34m:\u001b[0m\u001b[0;34m\u001b[0m\u001b[0;34m\u001b[0m\u001b[0m\n",
      "\u001b[0;32m/usr/common/software/tensorflow/gpu-tensorflow/2.2.0-py37/lib/python3.7/site-packages/numpy/lib/stride_tricks.py\u001b[0m in \u001b[0;36m_broadcast_shape\u001b[0;34m(*args)\u001b[0m\n\u001b[1;32m    189\u001b[0m     \u001b[0;31m# use the old-iterator because np.nditer does not handle size 0 arrays\u001b[0m\u001b[0;34m\u001b[0m\u001b[0;34m\u001b[0m\u001b[0;34m\u001b[0m\u001b[0m\n\u001b[1;32m    190\u001b[0m     \u001b[0;31m# consistently\u001b[0m\u001b[0;34m\u001b[0m\u001b[0;34m\u001b[0m\u001b[0;34m\u001b[0m\u001b[0m\n\u001b[0;32m--> 191\u001b[0;31m     \u001b[0mb\u001b[0m \u001b[0;34m=\u001b[0m \u001b[0mnp\u001b[0m\u001b[0;34m.\u001b[0m\u001b[0mbroadcast\u001b[0m\u001b[0;34m(\u001b[0m\u001b[0;34m*\u001b[0m\u001b[0margs\u001b[0m\u001b[0;34m[\u001b[0m\u001b[0;34m:\u001b[0m\u001b[0;36m32\u001b[0m\u001b[0;34m]\u001b[0m\u001b[0;34m)\u001b[0m\u001b[0;34m\u001b[0m\u001b[0;34m\u001b[0m\u001b[0m\n\u001b[0m\u001b[1;32m    192\u001b[0m     \u001b[0;31m# unfortunately, it cannot handle 32 or more arguments directly\u001b[0m\u001b[0;34m\u001b[0m\u001b[0;34m\u001b[0m\u001b[0;34m\u001b[0m\u001b[0m\n\u001b[1;32m    193\u001b[0m     \u001b[0;32mfor\u001b[0m \u001b[0mpos\u001b[0m \u001b[0;32min\u001b[0m \u001b[0mrange\u001b[0m\u001b[0;34m(\u001b[0m\u001b[0;36m32\u001b[0m\u001b[0;34m,\u001b[0m \u001b[0mlen\u001b[0m\u001b[0;34m(\u001b[0m\u001b[0margs\u001b[0m\u001b[0;34m)\u001b[0m\u001b[0;34m,\u001b[0m \u001b[0;36m31\u001b[0m\u001b[0;34m)\u001b[0m\u001b[0;34m:\u001b[0m\u001b[0;34m\u001b[0m\u001b[0;34m\u001b[0m\u001b[0m\n",
      "\u001b[0;31mValueError\u001b[0m: shape mismatch: objects cannot be broadcast to a single shape"
     ]
    },
    {
     "data": {
      "image/png": "[encoded data removed]",
      "text/plain": [
       "<Figure size 432x288 with 1 Axes>"
      ]
     },
     "metadata": {
      "needs_background": "light"
     },
     "output_type": "display_data"
    }
   ],
   "source": [
    "ax = plt.axes(projection='3d')\n",
    "ax.scatter(c_i, c_f, b_f,\n",
    "                c=b_f, cmap='viridis', linewidth=0.5)"
   ]
  },
  {
   "cell_type": "code",
   "execution_count": 11,
   "id": "4b1e4de0-282a-4cb4-970e-b183978c00a9",
   "metadata": {},
   "outputs": [
    {
     "data": {
      "text/plain": [
       "Text(0, 0.5, 'final slope')"
      ]
     },
     "execution_count": 11,
     "metadata": {},
     "output_type": "execute_result"
    },
    {
     "data": {
      "image/png": "[encoded data removed]",
      "text/plain": [
       "<Figure size 432x288 with 1 Axes>"
      ]
     },
     "metadata": {
      "needs_background": "light"
     },
     "output_type": "display_data"
    }
   ],
   "source": [
    "plt.scatter(c_i, c_f)\n",
    "plt.xlabel(\"initial slope\")\n",
    "plt.ylabel(\"final slope\")"
   ]
  },
  {
   "cell_type": "code",
   "execution_count": 33,
   "id": "d184d9e4-7c08-4cdf-bf20-780be7c65514",
   "metadata": {},
   "outputs": [],
   "source": [
    "#plt.scatter(b_i, b_f)\n",
    "#plt.xlabel(\"initial intercept\")\n",
    "#plt.ylabel(\"final intercept\")"
   ]
  },
  {
   "cell_type": "code",
   "execution_count": 34,
   "id": "89c4d421",
   "metadata": {},
   "outputs": [],
   "source": [
    "x_real, y_real = generate_real_samples(10000)\n",
    "x_fake, y_fake = generate_fake_samples(x_real, Generator, 10000)"
   ]
  },
  {
   "cell_type": "code",
   "execution_count": 35,
   "id": "710ae81e",
   "metadata": {},
   "outputs": [
    {
     "data": {
      "text/plain": [
       "(array([ 315.,  708., 1222., 1658., 1933., 1579., 1204.,  696.,  333.]),\n",
       " array([-2.        , -1.55555556, -1.11111111, -0.66666667, -0.22222222,\n",
       "         0.22222222,  0.66666667,  1.11111111,  1.55555556,  2.        ]),\n",
       " <a list of 9 Patch objects>)"
      ]
     },
     "execution_count": 35,
     "metadata": {},
     "output_type": "execute_result"
    },
    {
     "data": {
      "image/png": "[encoded data removed]",
      "text/plain": [
       "<Figure size 432x288 with 1 Axes>"
      ]
     },
     "metadata": {
      "needs_background": "light"
     },
     "output_type": "display_data"
    }
   ],
   "source": [
    "plt.hist(x_real[:,0],bins=np.linspace(-2,2,10),alpha=0.5)\n",
    "plt.hist(x_fake[:,0],bins=np.linspace(-2,2,10),alpha=0.5)"
   ]
  },
  {
   "cell_type": "code",
   "execution_count": 36,
   "id": "9202b1fb",
   "metadata": {},
   "outputs": [
    {
     "data": {
      "text/plain": [
       "-0.0012336223399872213"
      ]
     },
     "execution_count": 36,
     "metadata": {},
     "output_type": "execute_result"
    }
   ],
   "source": [
    "np.mean(x_real[:,0])"
   ]
  },
  {
   "cell_type": "code",
   "execution_count": 37,
   "id": "77f7f6ff",
   "metadata": {},
   "outputs": [
    {
     "data": {
      "text/plain": [
       "0.0011748947770996892"
      ]
     },
     "execution_count": 37,
     "metadata": {},
     "output_type": "execute_result"
    }
   ],
   "source": [
    "np.mean(x_fake[:,0])"
   ]
  },
  {
   "cell_type": "code",
   "execution_count": 38,
   "id": "b22e7b38",
   "metadata": {},
   "outputs": [
    {
     "data": {
      "text/plain": [
       "<matplotlib.collections.PathCollection at 0x2aaf992e8650>"
      ]
     },
     "execution_count": 38,
     "metadata": {},
     "output_type": "execute_result"
    },
    {
     "data": {
      "image/png": "[encoded data removed]",
      "text/plain": [
       "<Figure size 432x288 with 1 Axes>"
      ]
     },
     "metadata": {
      "needs_background": "light"
     },
     "output_type": "display_data"
    }
   ],
   "source": [
    "plt.scatter(x_real[:,0],x_fake[:,0])"
   ]
  },
  {
   "cell_type": "code",
   "execution_count": 127,
   "id": "255377d7-0fdd-48ee-b70e-f081e9d07f79",
   "metadata": {},
   "outputs": [],
   "source": [
    "X1 = np.random.normal(0, 1, 10000)\n",
    "y1 = np.zeros(10000)\n",
    "X2 = np.random.normal(-2, 1, 10000)\n",
    "y2 = np.ones(10000)"
   ]
  },
  {
   "cell_type": "code",
   "execution_count": 128,
   "id": "9bc6edf9-1a60-46c6-8097-16117cf2f1af",
   "metadata": {},
   "outputs": [],
   "source": [
    "#Define the mapping function:\n",
    "inputsM = Input((1, ))\n",
    "\n",
    "initializer = tf.keras.initializers.Identity()\n",
    "\n",
    "hidden_layer_1M = MyDenseLayer()(inputsM)\n",
    "hidden_layer_2M = MyDenseLayer()(hidden_layer_1M)\n",
    "#hidden_layer_3M = MyDenseLayer()(hidden_layer_2M)\n",
    "#hidden_layer_4M = MyDenseLayer()(hidden_layer_3M)\n",
    "#hidden_layer_5M = MyDenseLayer()(hidden_layer_4M)\n",
    "#hidden_layer_6M = MyDenseLayer()(hidden_layer_5M)\n",
    "hidden_layer_7M = Dense(1, activation='sigmoid', kernel_initializer=initializer)(hidden_layer_2M)\n",
    "MappingFunc = Model(inputs=inputsM, outputs=hidden_layer_7M)"
   ]
  },
  {
   "cell_type": "code",
   "execution_count": 129,
   "id": "9f67d3dc-b919-4fde-9684-19f86d99bd72",
   "metadata": {},
   "outputs": [],
   "source": [
    "MappingFunc.compile(loss='binary_crossentropy', optimizer='adam', metrics=['accuracy'])"
   ]
  },
  {
   "cell_type": "code",
   "execution_count": 130,
   "id": "fb22cba9-12ae-404d-a714-3896b8bf1a74",
   "metadata": {},
   "outputs": [
    {
     "data": {
      "text/plain": [
       "<tensorflow.python.keras.callbacks.History at 0x2aafe0c33990>"
      ]
     },
     "execution_count": 130,
     "metadata": {},
     "output_type": "execute_result"
    }
   ],
   "source": [
    "MappingFunc.fit(np.concatenate([X1, X2]),np.concatenate([y1, y2]), epochs = 10, verbose=0)"
   ]
  },
  {
   "cell_type": "code",
   "execution_count": 131,
   "id": "091c72c5-9448-4919-bb5d-394c61a39634",
   "metadata": {},
   "outputs": [
    {
     "data": {
      "text/plain": [
       "[<matplotlib.lines.Line2D at 0x2aafe0fbee10>]"
      ]
     },
     "execution_count": 131,
     "metadata": {},
     "output_type": "execute_result"
    },
    {
     "data": {
      "image/png": "[encoded data removed]",
      "text/plain": [
       "<Figure size 432x288 with 1 Axes>"
      ]
     },
     "metadata": {
      "needs_background": "light"
     },
     "output_type": "display_data"
    }
   ],
   "source": [
    "plt.plot(np.linspace(-4, 4, 50), MappingFunc.predict(np.linspace(-4, 4, 50)))"
   ]
  },
  {
   "cell_type": "code",
   "execution_count": 119,
   "id": "e7c8d525-e3d9-4635-80bb-f22804bcda5b",
   "metadata": {},
   "outputs": [
    {
     "name": "stdout",
     "output_type": "stream",
     "text": [
      "(1, 50)\n",
      "(1, 50)\n",
      "(50,)\n",
      "(50, 50)\n",
      "(50, 50)\n",
      "(50,)\n",
      "(50, 1)\n",
      "(1,)\n"
     ]
    }
   ],
   "source": [
    "for i in range(8):\n",
    "    print(np.shape(MappingFunc.get_weights()[i]))"
   ]
  },
  {
   "cell_type": "code",
   "execution_count": 112,
   "id": "47e2871d-53ab-48b6-9c4b-f36eb86adccd",
   "metadata": {},
   "outputs": [
    {
     "name": "stdout",
     "output_type": "stream",
     "text": [
      "[[0.78181195 0.         0.         0.         0.         0.\n",
      "  0.         0.         0.         0.         0.         0.\n",
      "  0.         0.         0.         0.         0.         0.\n",
      "  0.         0.         0.         0.         0.         0.\n",
      "  0.         0.         0.         0.         0.         0.\n",
      "  0.         0.         0.         0.         0.         0.\n",
      "  0.         0.         0.         0.         0.         0.\n",
      "  0.         0.         0.         0.         0.         0.\n",
      "  0.         0.        ]]\n"
     ]
    }
   ],
   "source": [
    "print(MappingFunc.get_weights()[0])"
   ]
  },
  {
   "cell_type": "code",
   "execution_count": 113,
   "id": "37550547-152e-4ce9-8225-b0ff70d68a25",
   "metadata": {},
   "outputs": [
    {
     "name": "stdout",
     "output_type": "stream",
     "text": [
      "[[0.6462336 0.        0.        0.        0.        0.        0.\n",
      "  0.        0.        0.        0.        0.        0.        0.\n",
      "  0.        0.        0.        0.        0.        0.        0.\n",
      "  0.        0.        0.        0.        0.        0.        0.\n",
      "  0.        0.        0.        0.        0.        0.        0.\n",
      "  0.        0.        0.        0.        0.        0.        0.\n",
      "  0.        0.        0.        0.        0.        0.        0.\n",
      "  0.       ]]\n"
     ]
    }
   ],
   "source": [
    "print(MappingFunc.get_weights()[1])"
   ]
  },
  {
   "cell_type": "code",
   "execution_count": 114,
   "id": "5c8bb6a5-8690-4e94-a59c-1ba0d43fd7e9",
   "metadata": {},
   "outputs": [
    {
     "name": "stdout",
     "output_type": "stream",
     "text": [
      "[0.98516273 0.         0.         0.         0.         0.\n",
      " 0.         0.         0.         0.         0.         0.\n",
      " 0.         0.         0.         0.         0.         0.\n",
      " 0.         0.         0.         0.         0.         0.\n",
      " 0.         0.         0.         0.         0.         0.\n",
      " 0.         0.         0.         0.         0.         0.\n",
      " 0.         0.         0.         0.         0.         0.\n",
      " 0.         0.         0.         0.         0.         0.\n",
      " 0.         0.        ]\n"
     ]
    }
   ],
   "source": [
    "print(MappingFunc.get_weights()[2])"
   ]
  },
  {
   "cell_type": "code",
   "execution_count": 115,
   "id": "d889fe5b-a2ed-4bf2-8f46-6d076e56da32",
   "metadata": {},
   "outputs": [
    {
     "name": "stdout",
     "output_type": "stream",
     "text": [
      "[[-0.6065227  0.         0.        ...  0.         0.         0.       ]\n",
      " [ 0.         1.         0.        ...  0.         0.         0.       ]\n",
      " [ 0.         0.         1.        ...  0.         0.         0.       ]\n",
      " ...\n",
      " [ 0.         0.         0.        ...  1.         0.         0.       ]\n",
      " [ 0.         0.         0.        ...  0.         1.         0.       ]\n",
      " [ 0.         0.         0.        ...  0.         0.         1.       ]]\n"
     ]
    }
   ],
   "source": [
    "print(MappingFunc.get_weights()[4])"
   ]
  },
  {
   "cell_type": "code",
   "execution_count": 116,
   "id": "29c03c62-0410-4650-8ff1-fc2fb8a66019",
   "metadata": {},
   "outputs": [
    {
     "name": "stdout",
     "output_type": "stream",
     "text": [
      "[0.3481868]\n"
     ]
    }
   ],
   "source": [
    "print(MappingFunc.get_weights()[7])"
   ]
  },
  {
   "cell_type": "code",
   "execution_count": null,
   "id": "6a5fd50b-413a-4cd4-9a12-fb81aa0c58fe",
   "metadata": {},
   "outputs": [],
   "source": []
  },
  {
   "cell_type": "code",
   "execution_count": 77,
   "id": "23e53a24-8eff-4c1c-8b80-5bcc655f9ee7",
   "metadata": {},
   "outputs": [
    {
     "name": "stdout",
     "output_type": "stream",
     "text": [
      "Model: \"model_6\"\n",
      "_________________________________________________________________\n",
      "Layer (type)                 Output Shape              Param #   \n",
      "=================================================================\n",
      "input_7 (InputLayer)         [(None, 1)]               0         \n",
      "_________________________________________________________________\n",
      "my_dense_layer_36 (MyDenseLa (None, 50)                150       \n",
      "_________________________________________________________________\n",
      "my_dense_layer_37 (MyDenseLa (None, 50)                5050      \n",
      "_________________________________________________________________\n",
      "my_dense_layer_38 (MyDenseLa (None, 50)                5050      \n",
      "_________________________________________________________________\n",
      "my_dense_layer_39 (MyDenseLa (None, 50)                5050      \n",
      "_________________________________________________________________\n",
      "my_dense_layer_40 (MyDenseLa (None, 50)                5050      \n",
      "_________________________________________________________________\n",
      "my_dense_layer_41 (MyDenseLa (None, 50)                5050      \n",
      "_________________________________________________________________\n",
      "dense_6 (Dense)              (None, 1)                 51        \n",
      "=================================================================\n",
      "Total params: 25,451\n",
      "Trainable params: 25,451\n",
      "Non-trainable params: 0\n",
      "_________________________________________________________________\n",
      "None\n"
     ]
    }
   ],
   "source": [
    "print(MappingFunc.summary())"
   ]
  },
  {
   "cell_type": "code",
   "execution_count": 60,
   "id": "4b0c4e40-e3a5-49c1-83f4-ee9fabaf259b",
   "metadata": {},
   "outputs": [],
   "source": [
    "def g(x, b, c, d):\n",
    "    return tf.multiply(b,[tf.nn.relu(x)]) - tf.multiply(c, [tf.nn.relu(-x)]) + d\n",
    "\n",
    "b = np.ones([50, 1])\n",
    "c = np.ones([50, 1])\n",
    "d = np.zeros([50])"
   ]
  },
  {
   "cell_type": "code",
   "execution_count": 62,
   "id": "1f6cae37-3292-4859-8d5c-48d47049a9a1",
   "metadata": {},
   "outputs": [
    {
     "name": "stdout",
     "output_type": "stream",
     "text": [
      "tf.Tensor(\n",
      "[[-5. -5. -5. ... -5. -5. -5.]\n",
      " [-5. -5. -5. ... -5. -5. -5.]\n",
      " [-5. -5. -5. ... -5. -5. -5.]\n",
      " ...\n",
      " [-5. -5. -5. ... -5. -5. -5.]\n",
      " [-5. -5. -5. ... -5. -5. -5.]\n",
      " [-5. -5. -5. ... -5. -5. -5.]], shape=(50, 50), dtype=float64)\n"
     ]
    }
   ],
   "source": [
    "print(g(-5.0, b, c, d))"
   ]
  },
  {
   "cell_type": "code",
   "execution_count": null,
   "id": "1575cd3a-af07-40ae-9403-55dd507a0df9",
   "metadata": {},
   "outputs": [],
   "source": []
  }
 ],
 "metadata": {
  "kernelspec": {
   "display_name": "tensorflow-v2.2.0-gpu",
   "language": "python",
   "name": "tensorflow_gpu_2.2.0-py37"
  },
  "language_info": {
   "codemirror_mode": {
    "name": "ipython",
    "version": 3
   },
   "file_extension": ".py",
   "mimetype": "text/x-python",
   "name": "python",
   "nbconvert_exporter": "python",
   "pygments_lexer": "ipython3",
   "version": "3.7.4"
  }
 },
 "nbformat": 4,
 "nbformat_minor": 5
}
