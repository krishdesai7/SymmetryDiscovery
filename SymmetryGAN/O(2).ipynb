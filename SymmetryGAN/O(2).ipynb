{
 "cells": [
  {
   "cell_type": "code",
   "execution_count": 3,
   "metadata": {},
   "outputs": [],
   "source": [
    "import tensorflow as tf\n",
    "import numpy as np\n",
    "import matplotlib.pyplot as plt\n",
    "from numpy import hstack\n",
    "from numpy import zeros\n",
    "from numpy import ones\n",
    "from numpy.random import rand\n",
    "from numpy.random import randn\n",
    "from tensorflow.keras.models import Sequential\n",
    "from tensorflow.keras.layers import Lambda, Dense, Input, Layer, Dropout\n",
    "from tensorflow.keras.callbacks import EarlyStopping, LambdaCallback\n",
    "from tensorflow.keras.utils import to_categorical\n",
    "from tensorflow.keras.models import Model\n",
    "from matplotlib import pyplot\n",
    "from sklearn.model_selection import train_test_split\n",
    "import scipy\n",
    "from matplotlib import gridspec\n",
    "from tensorflow.keras.layers import Layer"
   ]
  },
  {
   "cell_type": "code",
   "execution_count": 4,
   "metadata": {},
   "outputs": [],
   "source": [
    "class MyLayer(Layer):\n",
    "\n",
    "    def __init__(self, kernel_initilizer=tf.keras.initializers.RandomUniform(minval=-1., maxval=1.), **kwargs):\n",
    "        super(MyLayer, self).__init__(**kwargs)\n",
    "        self.kernel_initializer = tf.keras.initializers.get(kernel_initilizer)\n",
    "\n",
    "    def build(self, input_shape):\n",
    "        # Create a trainable weight variable for this layer.\n",
    "        self._c = self.add_weight(name='x', \n",
    "                                    shape=(1,),\n",
    "                                    initializer=self.kernel_initializer, #'uniform',\n",
    "                                    trainable=True)\n",
    "        self._s = self.add_weight(name='x', \n",
    "                                    shape=(1,),\n",
    "                                    initializer=self.kernel_initializer, #'uniform',\n",
    "                                    trainable=True)\n",
    "        super(MyLayer, self).build(input_shape)  # Be sure to call this at the end\n",
    "\n",
    "    def call(self, X):\n",
    "        npc = [[self._c,-1.0*self._s],[self._s,self._c]]\n",
    "        M = tf.convert_to_tensor(npc)\n",
    "        M = tf.reshape(M, [2, 2])\n",
    "        #print(\"SHAPE OF THINGS:\", tf.shape(self._c), \"*****\", tf.shape(self._s), \"*****\", tf.shape(M), \"****\", tf.shape(X) )\n",
    "        #print(\"M:\", M)\n",
    "        return tf.linalg.matmul(X, M)"
   ]
  },
  {
   "cell_type": "code",
   "execution_count": 5,
   "metadata": {},
   "outputs": [],
   "source": [
    "#Quick vanilla GAN from https://machinelearningmastery.com/how-to-develop-a-generative-adversarial-network-for-a-1-dimensional-function-from-scratch-in-keras/\n",
    " \n",
    "# define the standalone discriminator model\n",
    "def define_discriminator(n_inputs=2):\n",
    "\tmodel = Sequential()\n",
    "\tmodel.add(Dense(25, activation='relu', input_dim=n_inputs))\n",
    "\tmodel.add(Dense(25, activation='relu', input_dim=n_inputs))    \n",
    "\tmodel.add(Dense(1, activation='sigmoid'))\n",
    "\t# compile model\n",
    "\tmodel.compile(loss='binary_crossentropy', optimizer='adam', metrics=['accuracy'])\n",
    "\treturn model\n",
    " \n",
    "# define the standalone generator model\n",
    "def define_generator(n_outputs=1):\n",
    "\t#model = Sequential()\n",
    "\t#model.add(Dense(15, activation='relu', input_dim=n_outputs))\n",
    "\t#model.add(Dense(15, activation='relu', input_dim=n_outputs))    \n",
    "\t#model.add(Dense(n_outputs, activation='linear'))\n",
    "\n",
    "\tmymodel_inputtest = Input(shape=(2,))\n",
    "\tmymodel_test = MyLayer()(mymodel_inputtest)\n",
    "\tmodel = Model(mymodel_inputtest, mymodel_test)\n",
    "\treturn model\n",
    " \n",
    "# define the combined generator and discriminator model, for updating the generator\n",
    "def define_gan(generator, discriminator):\n",
    "\t# make weights in the discriminator not trainable\n",
    "\tdiscriminator.trainable = False\n",
    "\t# connect them\n",
    "\tmodel = Sequential()\n",
    "\t# add generator\n",
    "\tmodel.add(generator)\n",
    "\t# add the discriminator\n",
    "\tmodel.add(discriminator)\n",
    "\t# compile model\n",
    "\tmodel.compile(loss='binary_crossentropy', optimizer='adam')\n",
    "\treturn model\n",
    " \n",
    "# generate n real samples with class labels\n",
    "def generate_real_samples(n):\n",
    "\tX = np.random.multivariate_normal([0, 0], [[1, 0],[0, 1]],n)\n",
    "\ty = ones((n, 1))\n",
    "\treturn X, y\n",
    " \n",
    "# generate points in latent space as input for the generator\n",
    "def generate_latent_points(n):\n",
    "\t# generate points in the latent space\n",
    "\tx_input = generate_real_samples(n)\n",
    "\treturn x_input[0]\n",
    " \n",
    "# use the generator to generate n fake examples, with class labels\n",
    "def generate_fake_samples(generator, n):\n",
    "\t# generate points in latent space\n",
    "\tx_input = generate_latent_points(n)\n",
    "\t# predict outputs\n",
    "\tX = generator.predict(x_input)\n",
    "\t# create class labels\n",
    "\ty = zeros((n, 1))\n",
    "\treturn X, y\n",
    "\n",
    "def generate_fake_samples_with_input(generator, n):\n",
    "\t# generate points in latent space\n",
    "\tx_input = generate_latent_points(n)\n",
    "\t# predict outputs\n",
    "\tX = generator.predict(x_input)\n",
    "\t# create class labels\n",
    "\ty = zeros((n, 1))\n",
    "\treturn X, y, x_input\n",
    " \n",
    "# train the generator and discriminator\n",
    "def train(g_model, d_model, gan_model, n_epochs=10000, n_batch=128, n_eval=2000):\n",
    "\t# determine half the size of one batch, for updating the discriminator\n",
    "\thalf_batch = int(n_batch / 2)\n",
    "\t# manually enumerate epochs\n",
    "\tfor i in range(n_epochs):\n",
    "\t\t# prepare real samples\n",
    "\t\tx_real, y_real = generate_real_samples(half_batch)\n",
    "\t\t# prepare fake examples\n",
    "\t\tx_fake, y_fake = generate_fake_samples(g_model, half_batch)\n",
    "\t\t# update discriminator\n",
    "\t\td_model.train_on_batch(x_real, y_real)\n",
    "\t\td_model.train_on_batch(x_fake, y_fake)\n",
    "\t\t# prepare points in latent space as input for the generator\n",
    "\t\tx_gan = generate_latent_points(n_batch)\n",
    "\t\t# create inverted labels for the fake samples\n",
    "\t\ty_gan = ones((n_batch, 1))\n",
    "\t\t# update the generator via the discriminator's error\n",
    "\t\tgan_model.train_on_batch(x_gan, y_gan)\n",
    "\t\tif (i+1) % n_eval == 0:\n",
    "\t\t\tprint(\"epoch = \", i)"
   ]
  },
  {
   "cell_type": "code",
   "execution_count": 9,
   "metadata": {},
   "outputs": [
    {
     "name": "stdout",
     "output_type": "stream",
     "text": [
      "j =  0\n"
     ]
    }
   ],
   "source": [
    "N = 10**2\n",
    "c_i = []\n",
    "s_i = []\n",
    "c_f = []\n",
    "s_f = []\n",
    "for j in range(N):\n",
    "    if j%10**4 == 0:\n",
    "        print(\"j = \", j)\n",
    "    # create the discriminator\n",
    "    #discriminator = define_discriminator()\n",
    "    # create the generator\n",
    "    generator = define_generator()\n",
    "    # create the gan\n",
    "    #gan_model = define_gan(generator, discriminator)\n",
    "    c_i.append(generator.layers[-1].get_weights()[0][0])\n",
    "    s_i.append(generator.layers[-1].get_weights()[1][0])\n",
    "    # train model\n",
    "    #train(generator, discriminator, gan_model)\n",
    "    #c_f.append(generator.layers[-1].get_weights()[0][0])\n",
    "    #s_f.append(generator.layers[-1].get_weights()[1][0])\n",
    "    #print(\"c_i = \", c_i)\n",
    "    #print(\"s_i = \", s_i)\n",
    "    #print(\"c_f = \", c_f)\n",
    "    #print(\"s_f = \", s_f)"
   ]
  },
  {
   "cell_type": "code",
   "execution_count": null,
   "metadata": {},
   "outputs": [],
   "source": []
  },
  {
   "cell_type": "code",
   "execution_count": 5,
   "metadata": {},
   "outputs": [],
   "source": [
    "npc = np.array([[1, 2],[3, 4]])\n",
    "M = tf.convert_to_tensor(npc)"
   ]
  },
  {
   "cell_type": "code",
   "execution_count": 6,
   "metadata": {},
   "outputs": [
    {
     "data": {
      "text/plain": [
       "<tf.Tensor: shape=(2,), dtype=int32, numpy=array([2, 2], dtype=int32)>"
      ]
     },
     "execution_count": 6,
     "metadata": {},
     "output_type": "execute_result"
    }
   ],
   "source": [
    "tf.shape(M)"
   ]
  },
  {
   "cell_type": "code",
   "execution_count": 11,
   "metadata": {},
   "outputs": [
    {
     "name": "stdout",
     "output_type": "stream",
     "text": [
      "[1.6901073  2.6507988  0.89205927 0.7664816  2.2961755  2.1648343\n",
      " 0.5389004  1.3360634  0.70325667 0.7054404  1.4566677  1.8967447\n",
      " 2.3576434  1.0144808  2.309811   1.119429   1.1632241  1.9800982\n",
      " 1.407951   1.6462114  0.84260386 2.750158   1.1788194  1.4169811\n",
      " 1.2685796  2.732837   1.1374221  1.792957   1.7756087  1.1384165\n",
      " 0.24000277 2.1267223  2.1282783  1.9002422  0.9199715  2.4518526\n",
      " 0.34012914 2.572497   1.5215212  2.468117   2.0149434  1.8648345\n",
      " 1.7079576  2.2545085  1.9767673  0.9379369  0.2639368  1.9408904\n",
      " 1.6749495  1.8432745  0.874192   1.7645302  1.4590145  1.4450237\n",
      " 2.56736    1.6222106  1.7172792  1.0842484  2.9521308  2.0601792\n",
      " 1.9959344  1.0688992  2.2215104  0.8575602  2.2868843  0.95782113\n",
      " 1.6310576  1.7381867  2.2601852  1.5973016  1.4221653  1.0271617\n",
      " 2.5486803  2.542611   0.93902546 2.239106   2.3276076  1.4746315\n",
      " 2.2061331  0.8757048  1.6981367  1.2093049  1.5483848  2.2727776\n",
      " 1.0707392  1.4897952  1.4607161  2.3217962  2.4639757  0.9671042\n",
      " 1.0009365  1.6949139  1.2742577  1.25502    1.5468888  1.4203162\n",
      " 2.3536263  2.3941512  1.2609835  1.4558591 ]\n",
      "[-0.5723083  -1.0961552   0.71769214  0.02716589  0.6877456  -0.6597144\n",
      " -0.99112415 -0.27659363 -0.2756988  -0.04336118 -1.1523552   0.6697327\n",
      " -0.38015732  0.39833102  0.6347143  -0.2614386   0.5555338   0.6612351\n",
      " -0.6525467   0.6185255   0.05532488  1.2353666  -0.3660684  -0.5078263\n",
      "  0.77642    -1.2157158  -1.1006556   0.23708919  0.05949311  0.66745144\n",
      " -1.1464825  -0.33335453 -0.31475842 -0.05833071  0.672718   -0.39837214\n",
      "  0.18352771 -1.0441477  -0.87704754 -0.72838897  0.37641338  1.3560021\n",
      " -0.51653594 -1.4543638  -0.00247336 -0.19660452 -0.22947943 -0.04776625\n",
      " -0.7804513   0.12227368 -0.2299569   0.4738766  -0.03701889  0.30946788\n",
      " -0.26420483 -1.0092351  -0.7774645   0.41799495 -1.3515267   0.23291098\n",
      " -0.67708105 -0.53309953  0.02732092 -0.258722    1.0455872  -0.7267815\n",
      "  0.3191575  -0.19655712 -0.05452019 -0.7738057  -1.1383319  -0.00256586\n",
      " -0.4857438   1.2186232   0.6003475   0.0625711  -0.85636795  0.24709588\n",
      " -0.43914253  1.4618657   0.3528363   1.1690661   0.8151393  -0.17830212\n",
      " -0.7321627  -0.03012612 -0.6256823   0.6405208   0.6730625   0.6849889\n",
      "  0.42326307  0.3944492   0.29765677 -0.33142778  0.40349036 -0.11972567\n",
      " -1.1338127  -0.3567559   0.6857209  -1.2546401 ]\n"
     ]
    }
   ],
   "source": [
    "print(np.arccos(c_i))\n",
    "print(np.arcsin(s_i))"
   ]
  },
  {
   "cell_type": "code",
   "execution_count": 8,
   "metadata": {},
   "outputs": [
    {
     "ename": "IndexError",
     "evalue": "list index out of range",
     "output_type": "error",
     "traceback": [
      "\u001b[0;31m---------------------------------------------------------------------------\u001b[0m",
      "\u001b[0;31mIndexError\u001b[0m                                Traceback (most recent call last)",
      "\u001b[0;32m<ipython-input-8-3f6366963d26>\u001b[0m in \u001b[0;36m<module>\u001b[0;34m\u001b[0m\n\u001b[0;32m----> 1\u001b[0;31m \u001b[0mdet\u001b[0m \u001b[0;34m=\u001b[0m \u001b[0;34m[\u001b[0m\u001b[0mc_f\u001b[0m\u001b[0;34m[\u001b[0m\u001b[0mn\u001b[0m\u001b[0;34m]\u001b[0m\u001b[0;34m**\u001b[0m\u001b[0;36m2\u001b[0m \u001b[0;34m+\u001b[0m \u001b[0ms_f\u001b[0m\u001b[0;34m[\u001b[0m\u001b[0mn\u001b[0m\u001b[0;34m]\u001b[0m\u001b[0;34m**\u001b[0m\u001b[0;36m2\u001b[0m \u001b[0;32mfor\u001b[0m \u001b[0mn\u001b[0m \u001b[0;32min\u001b[0m \u001b[0mrange\u001b[0m\u001b[0;34m(\u001b[0m\u001b[0mN\u001b[0m\u001b[0;34m)\u001b[0m\u001b[0;34m]\u001b[0m\u001b[0;34m\u001b[0m\u001b[0;34m\u001b[0m\u001b[0m\n\u001b[0m\u001b[1;32m      2\u001b[0m \u001b[0mdet\u001b[0m\u001b[0;34m\u001b[0m\u001b[0;34m\u001b[0m\u001b[0m\n",
      "\u001b[0;32m<ipython-input-8-3f6366963d26>\u001b[0m in \u001b[0;36m<listcomp>\u001b[0;34m(.0)\u001b[0m\n\u001b[0;32m----> 1\u001b[0;31m \u001b[0mdet\u001b[0m \u001b[0;34m=\u001b[0m \u001b[0;34m[\u001b[0m\u001b[0mc_f\u001b[0m\u001b[0;34m[\u001b[0m\u001b[0mn\u001b[0m\u001b[0;34m]\u001b[0m\u001b[0;34m**\u001b[0m\u001b[0;36m2\u001b[0m \u001b[0;34m+\u001b[0m \u001b[0ms_f\u001b[0m\u001b[0;34m[\u001b[0m\u001b[0mn\u001b[0m\u001b[0;34m]\u001b[0m\u001b[0;34m**\u001b[0m\u001b[0;36m2\u001b[0m \u001b[0;32mfor\u001b[0m \u001b[0mn\u001b[0m \u001b[0;32min\u001b[0m \u001b[0mrange\u001b[0m\u001b[0;34m(\u001b[0m\u001b[0mN\u001b[0m\u001b[0;34m)\u001b[0m\u001b[0;34m]\u001b[0m\u001b[0;34m\u001b[0m\u001b[0;34m\u001b[0m\u001b[0m\n\u001b[0m\u001b[1;32m      2\u001b[0m \u001b[0mdet\u001b[0m\u001b[0;34m\u001b[0m\u001b[0;34m\u001b[0m\u001b[0m\n",
      "\u001b[0;31mIndexError\u001b[0m: list index out of range"
     ]
    }
   ],
   "source": [
    "det = [c_f[n]**2 + s_f[n]**2 for n in range(N)]\n",
    "det"
   ]
  },
  {
   "cell_type": "code",
   "execution_count": 7,
   "metadata": {},
   "outputs": [
    {
     "data": {
      "text/plain": [
       "Text(0, 0.5, 'freq')"
      ]
     },
     "execution_count": 7,
     "metadata": {},
     "output_type": "execute_result"
    },
    {
     "data": {
      "image/png": "[encoded data removed]",
      "text/plain": [
       "<Figure size 432x288 with 1 Axes>"
      ]
     },
     "metadata": {
      "needs_background": "light"
     },
     "output_type": "display_data"
    }
   ],
   "source": [
    "plt.hist(np.arctan(np.array(c_i)/np.array(s_i)), bins=100)\n",
    "plt.xlabel(\"theta\")\n",
    "plt.ylabel(\"freq\")\n",
    "plt.show()"
   ]
  },
  {
   "cell_type": "code",
   "execution_count": 85,
   "metadata": {},
   "outputs": [],
   "source": [
    "def reset_weights(model):\n",
    "    for layer in model.layers:\n",
    "        if hasattr(layer, 'kernel_initializer'):\n",
    "            layer.set_weights(np.array([[np.random.uniform(-1, 1)], [np.random.uniform(-1, 1)]]))"
   ]
  },
  {
   "cell_type": "code",
   "execution_count": 86,
   "metadata": {},
   "outputs": [
    {
     "name": "stdout",
     "output_type": "stream",
     "text": [
      "j =  0\n",
      "j =  100\n",
      "j =  200\n",
      "j =  300\n",
      "j =  400\n",
      "j =  500\n",
      "j =  600\n",
      "j =  700\n",
      "j =  800\n",
      "j =  900\n"
     ]
    }
   ],
   "source": [
    "N = 10**3\n",
    "c_i = []\n",
    "s_i = []\n",
    "c_f = []\n",
    "s_f = []\n",
    "generator = define_generator()\n",
    "for j in range(N):\n",
    "    if j%100 == 0:\n",
    "        print(\"j = \", j)\n",
    "    # create the discriminator\n",
    "    #discriminator = define_discriminator()\n",
    "    # create the generator\n",
    "    reset_weights(generator)\n",
    "    # create the gan\n",
    "    #gan_model = define_gan(generator, discriminator)\n",
    "    c_i.append(generator.layers[-1].get_weights()[0][0])\n",
    "    s_i.append(generator.layers[-1].get_weights()[1][0])\n",
    "    # train model\n",
    "    #train(generator, discriminator, gan_model)\n",
    "    #c_f.append(generator.layers[-1].get_weights()[0][0])\n",
    "    #s_f.append(generator.layers[-1].get_weights()[1][0])\n",
    "    #print(\"c_i = \", c_i)\n",
    "    #print(\"s_i = \", s_i)\n",
    "    #print(\"c_f = \", c_f)\n",
    "    #print(\"s_f = \", s_f)"
   ]
  },
  {
   "cell_type": "code",
   "execution_count": 87,
   "metadata": {},
   "outputs": [
    {
     "data": {
      "text/plain": [
       "Text(0, 0.5, 'freq')"
      ]
     },
     "execution_count": 87,
     "metadata": {},
     "output_type": "execute_result"
    },
    {
     "data": {
      "image/png": "[encoded data removed]",
      "text/plain": [
       "<Figure size 432x288 with 1 Axes>"
      ]
     },
     "metadata": {
      "needs_background": "light"
     },
     "output_type": "display_data"
    }
   ],
   "source": [
    "plt.hist(np.arctan(np.array(c_i)/np.array(s_i)), bins=100)\n",
    "plt.xlabel(\"theta\")\n",
    "plt.ylabel(\"freq\")"
   ]
  },
  {
   "cell_type": "code",
   "execution_count": 25,
   "metadata": {},
   "outputs": [
    {
     "name": "stdout",
     "output_type": "stream",
     "text": [
      "\n"
     ]
    }
   ],
   "source": [
    "print()"
   ]
  },
  {
   "cell_type": "code",
   "execution_count": 55,
   "metadata": {},
   "outputs": [
    {
     "name": "stdout",
     "output_type": "stream",
     "text": [
      "<tensorflow.python.keras.engine.input_layer.InputLayer object at 0x2aabaaea0e10>\n",
      "2\n"
     ]
    }
   ],
   "source": [
    "print(generator.layers[0])\n",
    "print(len(generator.layers))"
   ]
  },
  {
   "cell_type": "code",
   "execution_count": 57,
   "metadata": {},
   "outputs": [
    {
     "data": {
      "text/plain": [
       "<tensorflow.python.ops.init_ops_v2.RandomUniform at 0x2aabaaead990>"
      ]
     },
     "execution_count": 57,
     "metadata": {},
     "output_type": "execute_result"
    }
   ],
   "source": [
    "generator.layers[1].kernel_initializer"
   ]
  },
  {
   "cell_type": "code",
   "execution_count": null,
   "metadata": {},
   "outputs": [],
   "source": []
  }
 ],
 "metadata": {
  "kernelspec": {
   "display_name": "tensorflow-v2.2.0-gpu",
   "language": "python",
   "name": "tensorflow_gpu_2.2.0-py37"
  },
  "language_info": {
   "codemirror_mode": {
    "name": "ipython",
    "version": 3
   },
   "file_extension": ".py",
   "mimetype": "text/x-python",
   "name": "python",
   "nbconvert_exporter": "python",
   "pygments_lexer": "ipython3",
   "version": "3.7.4"
  }
 },
 "nbformat": 4,
 "nbformat_minor": 4
}
