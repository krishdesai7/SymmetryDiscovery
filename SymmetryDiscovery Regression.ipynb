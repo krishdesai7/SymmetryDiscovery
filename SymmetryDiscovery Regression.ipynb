{
  "cells": [
    {
      "cell_type": "code",
      "source": [
        "import numpy as np\n",
        "import matplotlib.pyplot as plt\n",
        "from sklearn.metrics import roc_curve, auc,roc_auc_score\n",
        "from sklearn.linear_model import LinearRegression\n",
        "import keras\n",
        "import keras.backend as K\n",
        "from keras.models import Sequential, Model\n",
        "from keras.layers import Dense, Activation, Dropout, ReLU, ELU, PReLU, Input, Concatenate, Lambda\n",
        "from keras.callbacks import ModelCheckpoint\n",
        "from keras.losses import mse, binary_crossentropy\n",
        "import tensorflow as tf \n",
        "from termcolor import colored"
      ],
      "outputs": [],
      "execution_count": 52,
      "metadata": {
        "execution": {
          "iopub.execute_input": "2020-11-11T20:31:24.403Z",
          "iopub.status.busy": "2020-11-11T20:31:24.398Z",
          "iopub.status.idle": "2020-11-11T20:31:24.415Z",
          "shell.execute_reply": "2020-11-11T20:31:24.444Z"
        }
      }
    },
    {
      "cell_type": "code",
      "source": [
        "def myloss(y_true, y_pred, alpha = 0.1, beta = 0):\n",
        "    #alpha determines the amount of decorrelation; 0 means no decorrelation.\n",
        "    \n",
        "    #We want to learn f(g(x)) = x with g != identity and g(x) and x should have the same probability density.\n",
        "    #g(x) = y_pred[:,0]\n",
        "    #f(g(x)) = y_pred[:,1]\n",
        "    #h(x) = y_pred[:,2]\n",
        "    #h(g(x)) = y_pred[:,3]\n",
        "    \n",
        "    myoutput =  beta*mse(y_true[:,0],y_pred[:,1]) \\\n",
        "                - alpha*binary_crossentropy(y_pred[:,2],K.ones_like(y_pred[:,0])) \\\n",
        "                - alpha*binary_crossentropy(y_pred[:,3],0.*K.ones_like(y_pred[:,0]))\n",
        "    return myoutput"
      ],
      "outputs": [],
      "execution_count": 53,
      "metadata": {
        "execution": {
          "iopub.execute_input": "2020-11-11T20:31:24.428Z",
          "iopub.status.busy": "2020-11-11T20:31:24.423Z",
          "iopub.status.idle": "2020-11-11T20:31:24.436Z",
          "shell.execute_reply": "2020-11-11T20:31:24.448Z"
        },
        "jupyter": {
          "outputs_hidden": false,
          "source_hidden": false
        },
        "nteract": {
          "transient": {
            "deleting": false
          }
        }
      }
    },
    {
      "cell_type": "code",
      "source": [
        "num_iterations = 1\n",
        "identity = 0\n",
        "neg_identity = 0\n",
        "other = 0\n",
        "error = 0.05\n",
        "mu = 1\n",
        "yintercepts = []\n",
        "\n",
        "for j in range(num_iterations):\n",
        "    print(\"In j = \", j)\n",
        "    x = mydata = np.random.normal(mu, 1, 10000)\n",
        "    \n",
        "    \n",
        "    \n",
        "\n",
        "\n",
        "    #setup the model\n",
        "\n",
        "    myinput = Input(shape=(1,));\n",
        "    encoded = myinput\n",
        "    \n",
        "    #encoded = Dense(5, activation='elu')(myinput);\n",
        "    #encoded = Dense(5, activation='elu')(encoded);\n",
        "    encoded = Dense(1, activation='linear')(encoded);\n",
        "\n",
        "    encoder = Model(myinput, encoded);\n",
        "    encoder2 = encoder(encoder(myinput));\n",
        "    autoencoder = Model(myinput, encoder2);\n",
        "\n",
        "    combinedModel = Model(myinput,Concatenate(axis=-1)([encoded, encoder2]));\n",
        "\n",
        "    myinput_classify = Input(shape=(1,));\n",
        "    myclassifier = Dense(128, activation='elu')(myinput_classify);\n",
        "    myclassifier = Dense(64, activation='elu')(myclassifier);\n",
        "    myclassifier = Dense(1, activation='sigmoid')(myclassifier);\n",
        "    myclassifier_model = Model(myinput_classify, myclassifier);\n",
        "    myclassifier_input = myclassifier_model(myinput);\n",
        "    myclassifier_encoded = myclassifier_model(encoded);\n",
        "\n",
        "    combinedModel_classifier = Model(myinput,Concatenate(axis=-1)([encoded, encoder2, myclassifier_input, myclassifier_encoded]));\n",
        "\n",
        "    #First, pretrain the autoencoder:\n",
        "    #autoencoder.compile(optimizer='adam', loss='mse')\n",
        "    #autoencoder.fit(x,x, epochs=5, batch_size=int(0.01*len(x)))\n",
        "\n",
        "    preds = [];\n",
        "    preds += [encoder.predict(np.linspace(-4,4,10))];\n",
        "\n",
        "    for i in range(20):\n",
        "        #Now, train the classifier\n",
        "        encoded_x = encoder.predict(x)[:,0];\n",
        "        myclassifier_model.compile(optimizer='adam', loss='binary_crossentropy');\n",
        "        myclassifier_model.fit(np.concatenate([x,encoded_x]),np.concatenate([np.ones(len(x)),np.zeros(len(x))]), epochs=1, batch_size=int(0.01*len(x)));\n",
        "\n",
        "        #y_scores = encoder.predict(np.concatenate([x,encoded_x]))\n",
        "        #print(i,roc_auc_score(np.concatenate([np.ones(len(x)),np.zeros(len(x))]),y_scores))\n",
        "\n",
        "        #Now, update the autoencoder\n",
        "        for layer in myclassifier_model.layers[:]:\n",
        "            layer.trainable = False;\n",
        "\n",
        "        combinedModel_classifier.compile(optimizer='adam', loss=lambda y_true, y_pred: myloss(y_true, y_pred));\n",
        "        combinedModel_classifier.fit(x,np.stack((x, x), axis=-1), epochs=1, batch_size=int(0.01*len(x)));\n",
        "\n",
        "        preds += [encoder.predict(np.linspace(-4,4,10))];\n",
        "\n",
        "        for layer in myclassifier_model.layers[:]:\n",
        "            layer.trainable = True;\n",
        "\n",
        "\n",
        "    #for i in range(len(preds)):\n",
        "     #   plt.plot(np.linspace(-4,4,10),preds[i],label=str(i))\n",
        "      #  pass\n",
        "    #plt.legend(frameon=False)\n",
        "\n",
        "\n",
        "    mypreds = combinedModel_classifier.predict(x);\n",
        "\n",
        "    model = LinearRegression().fit(x.reshape((-1, 1)), mypreds[:,0]);\n",
        "    #r_sq = model.score(x.reshape((-1, 1)), mypreds[:,0])\n",
        "    #print('coefficient of determination:', r_sq)\n",
        "    yintercepts.append(round(model.intercept_, 2));\n",
        "    #print('slope:', model.coef_)\n",
        "    \n",
        "    if abs(model.coef_ - 1) <= error:\n",
        "        identity += 1\n",
        "    elif abs(model.coef_ + 1) <= error:\n",
        "        neg_identity += 1\n",
        "    else:\n",
        "        other += 1"
      ],
      "outputs": [
        {
          "output_type": "stream",
          "name": "stdout",
          "text": [
            "In j =  0\n",
            "200/200 [==============================] - 0s 2ms/step - loss: 0.3600\b\b\b\b\b\b\b\b\b\b\b\b\b\b\b\b\b\b\b\b\b\b\b\b\b\b\b\b\b\b\b\b\b\b\b\b\b\b\b\b\b\b\b\b\b\b\b\b\b\b\b\b\b\b\b\b\b\b\b\b\b\n",
            "100/100 [==============================] - 0s 2ms/step - loss: -0.7137\b\b\b\b\b\b\b\b\b\b\b\b\b\b\b\b\b\b\b\b\b\b\b\b\b\b\b\b\b\b\b\b\b\b\b\b\b\b\b\b\b\b\b\b\b\b\b\b\b\b\b\b\b\b\b\b\b\b\b\b\b\b\n",
            "200/200 [==============================] - 0s 2ms/step - loss: 0.3745\b\b\b\b\b\b\b\b\b\b\b\b\b\b\b\b\b\b\b\b\b\b\b\b\b\b\b\b\b\b\b\b\b\b\b\b\b\b\b\b\b\b\b\b\b\b\b\b\b\b\b\b\b\b\b\b\b\b\b\b\b\n",
            "100/100 [==============================] - 0s 1ms/step - loss: -0.7289\b\b\b\b\b\b\b\b\b\b\b\b\b\b\b\b\b\b\b\b\b\b\b\b\b\b\b\b\b\b\b\b\b\b\b\b\b\b\b\b\b\b\b\b\b\b\b\b\b\b\b\b\b\b\b\b\b\b\b\b\b\b\n",
            "200/200 [==============================] - 0s 1ms/step - loss: 0.3984\b\b\b\b\b\b\b\b\b\b\b\b\b\b\b\b\b\b\b\b\b\b\b\b\b\b\b\b\b\b\b\b\b\b\b\b\b\b\b\b\b\b\b\b\b\b\b\b\b\b\b\b\b\b\b\b\b\b\b\b\b\n",
            "100/100 [==============================] - 0s 1ms/step - loss: -0.8143\b\b\b\b\b\b\b\b\b\b\b\b\b\b\b\b\b\b\b\b\b\b\b\b\b\b\b\b\b\b\b\b\b\b\b\b\b\b\b\b\b\b\b\b\b\b\b\b\b\b\b\b\b\b\b\b\b\b\b\b\b\b\n",
            "200/200 [==============================] - 0s 1ms/step - loss: 0.4245\b\b\b\b\b\b\b\b\b\b\b\b\b\b\b\b\b\b\b\b\b\b\b\b\b\b\b\b\b\b\b\b\b\b\b\b\b\b\b\b\b\b\b\b\b\b\b\b\b\b\b\b\b\b\b\b\b\b\b\b\b\n",
            "100/100 [==============================] - 0s 1ms/step - loss: -0.8890\b\b\b\b\b\b\b\b\b\b\b\b\b\b\b\b\b\b\b\b\b\b\b\b\b\b\b\b\b\b\b\b\b\b\b\b\b\b\b\b\b\b\b\b\b\b\b\b\b\b\b\b\b\b\b\b\b\b\b\b\b\b\n",
            "200/200 [==============================] - 0s 1ms/step - loss: 0.4534\b\b\b\b\b\b\b\b\b\b\b\b\b\b\b\b\b\b\b\b\b\b\b\b\b\b\b\b\b\b\b\b\b\b\b\b\b\b\b\b\b\b\b\b\b\b\b\b\b\b\b\b\b\b\b\b\b\b\b\b\b\n",
            "100/100 [==============================] - 0s 1ms/step - loss: -0.9472\b\b\b\b\b\b\b\b\b\b\b\b\b\b\b\b\b\b\b\b\b\b\b\b\b\b\b\b\b\b\b\b\b\b\b\b\b\b\b\b\b\b\b\b\b\b\b\b\b\b\b\b\b\b\b\b\b\b\b\b\b\b\n",
            "200/200 [==============================] - 0s 1ms/step - loss: 0.4831\b\b\b\b\b\b\b\b\b\b\b\b\b\b\b\b\b\b\b\b\b\b\b\b\b\b\b\b\b\b\b\b\b\b\b\b\b\b\b\b\b\b\b\b\b\b\b\b\b\b\b\b\b\b\b\b\b\b\b\b\b\n",
            "100/100 [==============================] - 0s 1ms/step - loss: -1.0002\b\b\b\b\b\b\b\b\b\b\b\b\b\b\b\b\b\b\b\b\b\b\b\b\b\b\b\b\b\b\b\b\b\b\b\b\b\b\b\b\b\b\b\b\b\b\b\b\b\b\b\b\b\b\b\b\b\b\b\b\b\b\n",
            "200/200 [==============================] - 0s 2ms/step - loss: 0.5119\b\b\b\b\b\b\b\b\b\b\b\b\b\b\b\b\b\b\b\b\b\b\b\b\b\b\b\b\b\b\b\b\b\b\b\b\b\b\b\b\b\b\b\b\b\b\b\b\b\b\b\b\b\b\b\b\b\b\b\b\b\n",
            "100/100 [==============================] - 0s 2ms/step - loss: -1.0560\b\b\b\b\b\b\b\b\b\b\b\b\b\b\b\b\b\b\b\b\b\b\b\b\b\b\b\b\b\b\b\b\b\b\b\b\b\b\b\b\b\b\b\b\b\b\b\b\b\b\b\b\b\b\b\b\b\b\b\b\b\b\n",
            "200/200 [==============================] - 0s 2ms/step - loss: 0.5346\b\b\b\b\b\b\b\b\b\b\b\b\b\b\b\b\b\b\b\b\b\b\b\b\b\b\b\b\b\b\b\b\b\b\b\b\b\b\b\b\b\b\b\b\b\b\b\b\b\b\b\b\b\b\b\b\b\b\b\b\b\n",
            "100/100 [==============================] - 0s 1ms/step - loss: -1.1056\b\b\b\b\b\b\b\b\b\b\b\b\b\b\b\b\b\b\b\b\b\b\b\b\b\b\b\b\b\b\b\b\b\b\b\b\b\b\b\b\b\b\b\b\b\b\b\b\b\b\b\b\b\b\b\b\b\b\b\b\b\b\n",
            "200/200 [==============================] - 0s 1ms/step - loss: 0.5408\b\b\b\b\b\b\b\b\b\b\b\b\b\b\b\b\b\b\b\b\b\b\b\b\b\b\b\b\b\b\b\b\b\b\b\b\b\b\b\b\b\b\b\b\b\b\b\b\b\b\b\b\b\b\b\b\b\b\b\b\b\n",
            "100/100 [==============================] - 0s 1ms/step - loss: -1.1466\b\b\b\b\b\b\b\b\b\b\b\b\b\b\b\b\b\b\b\b\b\b\b\b\b\b\b\b\b\b\b\b\b\b\b\b\b\b\b\b\b\b\b\b\b\b\b\b\b\b\b\b\b\b\b\b\b\b\b\b\b\b\n",
            "200/200 [==============================] - 0s 1ms/step - loss: 0.5738\b\b\b\b\b\b\b\b\b\b\b\b\b\b\b\b\b\b\b\b\b\b\b\b\b\b\b\b\b\b\b\b\b\b\b\b\b\b\b\b\b\b\b\b\b\b\b\b\b\b\b\b\b\b\b\b\b\b\b\b\b\n",
            "100/100 [==============================] - 0s 5ms/step - loss: -1.2450\b\b\b\b\b\b\b\b\b\b\b\b\b\b\b\b\b\b\b\b\b\b\b\b\b\b\b\b\b\b\b\b\b\b\b\b\b\b\b\b\b\b\b\b\b\b\b\b\b\b\b\b\b\b\b\b\b\b\b\b\b\b\n",
            "200/200 [==============================] - 0s 1ms/step - loss: 0.5986\b\b\b\b\b\b\b\b\b\b\b\b\b\b\b\b\b\b\b\b\b\b\b\b\b\b\b\b\b\b\b\b\b\b\b\b\b\b\b\b\b\b\b\b\b\b\b\b\b\b\b\b\b\b\b\b\b\b\b\b\b\n",
            "100/100 [==============================] - 0s 1ms/step - loss: -1.3103\b\b\b\b\b\b\b\b\b\b\b\b\b\b\b\b\b\b\b\b\b\b\b\b\b\b\b\b\b\b\b\b\b\b\b\b\b\b\b\b\b\b\b\b\b\b\b\b\b\b\b\b\b\b\b\b\b\b\b\b\b\b\n",
            "200/200 [==============================] - 0s 1ms/step - loss: 0.6177\b\b\b\b\b\b\b\b\b\b\b\b\b\b\b\b\b\b\b\b\b\b\b\b\b\b\b\b\b\b\b\b\b\b\b\b\b\b\b\b\b\b\b\b\b\b\b\b\b\b\b\b\b\b\b\b\b\b\b\b\b\n",
            "100/100 [==============================] - 0s 1ms/step - loss: -1.3082\b\b\b\b\b\b\b\b\b\b\b\b\b\b\b\b\b\b\b\b\b\b\b\b\b\b\b\b\b\b\b\b\b\b\b\b\b\b\b\b\b\b\b\b\b\b\b\b\b\b\b\b\b\b\b\b\b\b\b\b\b\b\n",
            "200/200 [==============================] - 0s 1ms/step - loss: 0.6316\b\b\b\b\b\b\b\b\b\b\b\b\b\b\b\b\b\b\b\b\b\b\b\b\b\b\b\b\b\b\b\b\b\b\b\b\b\b\b\b\b\b\b\b\b\b\b\b\b\b\b\b\b\b\b\b\b\b\b\b\b\n",
            "100/100 [==============================] - 0s 1ms/step - loss: -1.3786\b\b\b\b\b\b\b\b\b\b\b\b\b\b\b\b\b\b\b\b\b\b\b\b\b\b\b\b\b\b\b\b\b\b\b\b\b\b\b\b\b\b\b\b\b\b\b\b\b\b\b\b\b\b\b\b\b\b\b\b\b\b\n",
            "200/200 [==============================] - 0s 1ms/step - loss: 0.6485\b\b\b\b\b\b\b\b\b\b\b\b\b\b\b\b\b\b\b\b\b\b\b\b\b\b\b\b\b\b\b\b\b\b\b\b\b\b\b\b\b\b\b\b\b\b\b\b\b\b\b\b\b\b\b\b\b\b\b\b\b\n",
            "100/100 [==============================] - 0s 1ms/step - loss: -1.4244\b\b\b\b\b\b\b\b\b\b\b\b\b\b\b\b\b\b\b\b\b\b\b\b\b\b\b\b\b\b\b\b\b\b\b\b\b\b\b\b\b\b\b\b\b\b\b\b\b\b\b\b\b\b\b\b\b\b\b\b\b\b\n",
            "200/200 [==============================] - 0s 1ms/step - loss: 0.6601\b\b\b\b\b\b\b\b\b\b\b\b\b\b\b\b\b\b\b\b\b\b\b\b\b\b\b\b\b\b\b\b\b\b\b\b\b\b\b\b\b\b\b\b\b\b\b\b\b\b\b\b\b\b\b\b\b\b\b\b\b\n",
            "100/100 [==============================] - 0s 2ms/step - loss: -1.4505\b\b\b\b\b\b\b\b\b\b\b\b\b\b\b\b\b\b\b\b\b\b\b\b\b\b\b\b\b\b\b\b\b\b\b\b\b\b\b\b\b\b\b\b\b\b\b\b\b\b\b\b\b\b\b\b\b\b\b\b\b\b\n",
            "200/200 [==============================] - 0s 2ms/step - loss: 0.6703\b\b\b\b\b\b\b\b\b\b\b\b\b\b\b\b\b\b\b\b\b\b\b\b\b\b\b\b\b\b\b\b\b\b\b\b\b\b\b\b\b\b\b\b\b\b\b\b\b\b\b\b\b\b\b\b\b\b\b\b\b\n",
            "100/100 [==============================] - 0s 2ms/step - loss: -1.4756\b\b\b\b\b\b\b\b\b\b\b\b\b\b\b\b\b\b\b\b\b\b\b\b\b\b\b\b\b\b\b\b\b\b\b\b\b\b\b\b\b\b\b\b\b\b\b\b\b\b\b\b\b\b\b\b\b\b\b\b\b\b\n",
            "200/200 [==============================] - 0s 2ms/step - loss: 0.6801\b\b\b\b\b\b\b\b\b\b\b\b\b\b\b\b\b\b\b\b\b\b\b\b\b\b\b\b\b\b\b\b\b\b\b\b\b\b\b\b\b\b\b\b\b\b\b\b\b\b\b\b\b\b\b\b\b\b\b\b\b\n",
            "100/100 [==============================] - 0s 1ms/step - loss: -1.4987\b\b\b\b\b\b\b\b\b\b\b\b\b\b\b\b\b\b\b\b\b\b\b\b\b\b\b\b\b\b\b\b\b\b\b\b\b\b\b\b\b\b\b\b\b\b\b\b\b\b\b\b\b\b\b\b\b\b\b\b\b\b\n",
            "200/200 [==============================] - 0s 2ms/step - loss: 0.6815\b\b\b\b\b\b\b\b\b\b\b\b\b\b\b\b\b\b\b\b\b\b\b\b\b\b\b\b\b\b\b\b\b\b\b\b\b\b\b\b\b\b\b\b\b\b\b\b\b\b\b\b\b\b\b\b\b\b\b\b\b\n",
            "100/100 [==============================] - 0s 1ms/step - loss: -1.5064\b\b\b\b\b\b\b\b\b\b\b\b\b\b\b\b\b\b\b\b\b\b\b\b\b\b\b\b\b\b\b\b\b\b\b\b\b\b\b\b\b\b\b\b\b\b\b\b\b\b\b\b\b\b\b\b\b\b\b\b\b\b\n",
            "200/200 [==============================] - 0s 1ms/step - loss: 0.6894\b\b\b\b\b\b\b\b\b\b\b\b\b\b\b\b\b\b\b\b\b\b\b\b\b\b\b\b\b\b\b\b\b\b\b\b\b\b\b\b\b\b\b\b\b\b\b\b\b\b\b\b\b\b\b\b\b\b\b\b\b\n",
            "100/100 [==============================] - 0s 1ms/step - loss: -1.5212\b\b\b\b\b\b\b\b\b\b\b\b\b\b\b\b\b\b\b\b\b\b\b\b\b\b\b\b\b\b\b\b\b\b\b\b\b\b\b\b\b\b\b\b\b\b\b\b\b\b\b\b\b\b\b\b\b\b\b\b\b\b\n",
            "200/200 [==============================] - 0s 1ms/step - loss: 0.6925\b\b\b\b\b\b\b\b\b\b\b\b\b\b\b\b\b\b\b\b\b\b\b\b\b\b\b\b\b\b\b\b\b\b\b\b\b\b\b\b\b\b\b\b\b\b\b\b\b\b\b\b\b\b\b\b\b\b\b\b\b\n",
            "100/100 [==============================] - 0s 1ms/step - loss: -1.5372\b\b\b\b\b\b\b\b\b\b\b\b\b\b\b\b\b\b\b\b\b\b\b\b\b\b\b\b\b\b\b\b\b\b\b\b\b\b\b\b\b\b\b\b\b\b\b\b\b\b\b\b\b\b\b\b\b\b\b\b\b\b\n"
          ]
        }
      ],
      "execution_count": 54,
      "metadata": {
        "execution": {
          "iopub.execute_input": "2020-11-11T20:31:24.468Z",
          "iopub.status.busy": "2020-11-11T20:31:24.463Z",
          "iopub.status.idle": "2020-11-11T20:32:24.244Z",
          "shell.execute_reply": "2020-11-11T20:32:24.252Z"
        }
      }
    },
    {
      "cell_type": "code",
      "source": [
        "print(\"identity = \", identity)\n",
        "print(\"neg_identity = \", neg_identity)\n",
        "print(\"other = \", other)\n",
        "print(\"y_intercepts = \", yintercepts)"
      ],
      "outputs": [
        {
          "output_type": "stream",
          "name": "stdout",
          "text": [
            "identity =  0\n",
            "neg_identity =  0\n",
            "other =  1\n",
            "y_intercepts =  [1.99]\n"
          ]
        }
      ],
      "execution_count": 55,
      "metadata": {
        "execution": {
          "iopub.status.busy": "2020-11-11T20:32:24.272Z",
          "iopub.execute_input": "2020-11-11T20:32:24.279Z",
          "iopub.status.idle": "2020-11-11T20:32:24.289Z",
          "shell.execute_reply": "2020-11-11T20:32:24.256Z"
        }
      }
    },
    {
      "cell_type": "code",
      "source": [
        "myinput = Input(shape=(1,))\n",
        "\n",
        "encoded = myinput    \n",
        "#encoded = Dense(5, activation='elu')(myinput);\n",
        "#encoded = Dense(5, activation='elu')(encoded);\n",
        "encoded = Dense(1, activation='linear')(encoded)\n",
        "\n",
        "encoder = Model(myinput, encoded)\n",
        "encoder2 = encoder(encoder(myinput))\n",
        "autoencoder = Model(myinput, encoder2)\n",
        "\n",
        "\n",
        "encoder.summary()\n"
      ],
      "outputs": [
        {
          "output_type": "stream",
          "name": "stdout",
          "text": [
            "Model: \"functional_761\"\n",
            "_________________________________________________________________\n",
            "Layer (type)                 Output Shape              Param #   \n",
            "=================================================================\n",
            "input_156 (InputLayer)       [(None, 1)]               0         \n",
            "_________________________________________________________________\n",
            "dense_425 (Dense)            (None, 1)                 2         \n",
            "=================================================================\n",
            "Total params: 2\n",
            "Trainable params: 2\n",
            "Non-trainable params: 0\n",
            "_________________________________________________________________\n"
          ]
        }
      ],
      "execution_count": 56,
      "metadata": {
        "execution": {
          "iopub.status.busy": "2020-11-11T20:32:24.298Z",
          "iopub.execute_input": "2020-11-11T20:32:24.302Z",
          "iopub.status.idle": "2020-11-11T20:32:24.333Z",
          "shell.execute_reply": "2020-11-11T20:32:24.352Z"
        }
      }
    },
    {
      "cell_type": "code",
      "source": [
        "for i in range(len(preds)):\n",
        "    plt.plot(np.linspace(-4,4,10),preds[i],label=str(i))\n",
        "    pass\n",
        "plt.legend(frameon=False)\n"
      ],
      "outputs": [
        {
          "output_type": "execute_result",
          "execution_count": 57,
          "data": {
            "text/plain": "<matplotlib.legend.Legend at 0x7fc86b3a6220>"
          },
          "metadata": {}
        },
        {
          "output_type": "display_data",
          "data": {
            "text/plain": "<Figure size 432x288 with 1 Axes>",
            "image/png": "[encoded data removed]"
          },
          "metadata": {
            "needs_background": "light"
          }
        }
      ],
      "execution_count": 57,
      "metadata": {
        "collapsed": true,
        "jupyter": {
          "source_hidden": false,
          "outputs_hidden": false
        },
        "nteract": {
          "transient": {
            "deleting": false
          }
        },
        "execution": {
          "iopub.status.busy": "2020-11-11T20:32:24.341Z",
          "iopub.execute_input": "2020-11-11T20:32:24.345Z",
          "iopub.status.idle": "2020-11-11T20:32:24.747Z",
          "shell.execute_reply": "2020-11-11T20:32:24.809Z"
        }
      }
    },
    {
      "cell_type": "code",
      "source": [
        "print(model.coef_)\n",
        "print(model.intercept_)"
      ],
      "outputs": [
        {
          "output_type": "stream",
          "name": "stdout",
          "text": [
            "[-1.05996132]\n",
            "1.9857150340114003\n"
          ]
        }
      ],
      "execution_count": 58,
      "metadata": {
        "collapsed": true,
        "jupyter": {
          "source_hidden": false,
          "outputs_hidden": false
        },
        "nteract": {
          "transient": {
            "deleting": false
          }
        },
        "execution": {
          "iopub.status.busy": "2020-11-11T20:32:24.760Z",
          "iopub.execute_input": "2020-11-11T20:32:24.787Z",
          "iopub.status.idle": "2020-11-11T20:32:24.800Z",
          "shell.execute_reply": "2020-11-11T20:32:24.814Z"
        }
      }
    },
    {
      "cell_type": "code",
      "source": [],
      "outputs": [],
      "execution_count": null,
      "metadata": {
        "collapsed": true,
        "jupyter": {
          "source_hidden": false,
          "outputs_hidden": false
        },
        "nteract": {
          "transient": {
            "deleting": false
          }
        }
      }
    }
  ],
  "metadata": {
    "kernelspec": {
      "display_name": "Python 3",
      "language": "python",
      "name": "python3"
    },
    "language_info": {
      "name": "python",
      "version": "3.8.3",
      "mimetype": "text/x-python",
      "codemirror_mode": {
        "name": "ipython",
        "version": 3
      },
      "pygments_lexer": "ipython3",
      "nbconvert_exporter": "python",
      "file_extension": ".py"
    },
    "nteract": {
      "version": "0.26.0"
    }
  },
  "nbformat": 4,
  "nbformat_minor": 2
}