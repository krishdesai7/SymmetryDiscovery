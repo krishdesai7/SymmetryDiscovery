{
 "cells": [
  {
   "cell_type": "code",
   "execution_count": 1,
   "metadata": {},
   "outputs": [],
   "source": [
    "import numpy as np\n",
    "import matplotlib.pyplot as plt\n",
    "from sklearn.metrics import roc_curve, auc,roc_auc_score\n",
    "from sklearn.linear_model import LinearRegression"
   ]
  },
  {
   "cell_type": "code",
   "execution_count": 2,
   "metadata": {},
   "outputs": [],
   "source": [
    "x0 = np.random.normal(0,1,100000)\n",
    "x1 = np.random.normal(0,2,100000)"
   ]
  },
  {
   "cell_type": "code",
   "execution_count": 52,
   "metadata": {},
   "outputs": [
    {
     "data": {
      "image/png": "[encoded data removed]",
      "text/plain": [
       "<Figure size 432x288 with 1 Axes>"
      ]
     },
     "metadata": {
      "needs_background": "light"
     },
     "output_type": "display_data"
    }
   ],
   "source": [
    "plt.hist(x0);"
   ]
  },
  {
   "cell_type": "code",
   "execution_count": 53,
   "metadata": {},
   "outputs": [],
   "source": [
    "import tensorflow.keras\n",
    "import tensorflow.keras.backend as K\n",
    "from tensorflow.keras.models import Sequential, Model\n",
    "from tensorflow.keras.layers import Dense, Activation, Dropout, ReLU, ELU, PReLU, Input, Concatenate, Lambda\n",
    "from tensorflow.keras.callbacks import ModelCheckpoint\n",
    "from tensorflow.keras.losses import mse, binary_crossentropy\n",
    "import tensorflow as tf"
   ]
  },
  {
   "cell_type": "code",
   "execution_count": 5,
   "metadata": {},
   "outputs": [],
   "source": [
    "zero = [0]*100000"
   ]
  },
  {
   "cell_type": "code",
   "execution_count": 6,
   "metadata": {},
   "outputs": [
    {
     "name": "stdout",
     "output_type": "stream",
     "text": [
      "[[-0.75614621  0.        ]\n",
      " [ 0.         -1.36431614]\n",
      " [ 0.06971135  0.        ]\n",
      " ...\n",
      " [ 0.         -3.21096877]\n",
      " [ 0.72941324  0.        ]\n",
      " [ 1.51784868  0.        ]]\n"
     ]
    }
   ],
   "source": [
    "X = np.concatenate((np.c_[x0, zero], np.c_[zero, x1]))\n",
    "np.random.shuffle(X)\n",
    "print(X)"
   ]
  },
  {
   "cell_type": "code",
   "execution_count": 56,
   "metadata": {},
   "outputs": [],
   "source": [
    "def myloss2d(y_true, y_pred, alpha = 0.0):\n",
    "    #alpha determines the amount of decorrelation; 0 means no decorrelation.\n",
    "    \n",
    "    #We want to learn f(g(x)) = x with g != identity and g(x) and x should have the same probability density.\n",
    "    #g(x) = y_pred[:,0]\n",
    "    #f(g(x)) = y_pred[:,1]\n",
    "    #h(x) = y_pred[:,2]\n",
    "    #h(g(x)) = y_pred[:,3]\n",
    "    \n",
    "    myoutput =  mse(y_true[:,0],y_pred[:,1]) \\\n",
    "                - alpha*binary_crossentropy(y_pred[:,2],K.ones_like(y_pred[:,2])) \\\n",
    "                - alpha*binary_crossentropy(y_pred[:,3],0.*K.ones_like(y_pred[:,2]))\n",
    "    return myoutput"
   ]
  },
  {
   "cell_type": "code",
   "execution_count": 57,
   "metadata": {},
   "outputs": [
    {
     "name": "stdout",
     "output_type": "stream",
     "text": [
      "on i= 0\n",
      "on i= 1\n",
      "on i= 2\n",
      "on i= 3\n",
      "on i= 4\n",
      "on i= 5\n",
      "on i= 6\n",
      "on i= 7\n",
      "on i= 8\n",
      "on i= 9\n",
      "on i= 10\n",
      "on i= 11\n",
      "on i= 12\n",
      "on i= 13\n",
      "on i= 14\n",
      "on i= 15\n",
      "on i= 16\n",
      "on i= 17\n",
      "on i= 18\n",
      "on i= 19\n"
     ]
    }
   ],
   "source": [
    "#setup the model\n",
    "\n",
    "myinput_2d = Input(shape=(2,))\n",
    "encoded_2d = Dense(5, activation='elu')(myinput_2d)\n",
    "encoded_2d = Dense(5, activation='elu')(encoded_2d)\n",
    "encoded_2d = Dense(2, activation='linear')(encoded_2d)\n",
    "\n",
    "encoder_2d = Model(myinput_2d, encoded_2d)\n",
    "encoder2_2d = encoder_2d(encoder_2d(myinput_2d))\n",
    "autoencoder_2d = Model(myinput_2d, encoder2_2d)\n",
    "\n",
    "combinedModel_2d = Model(myinput_2d,Concatenate(axis=-1)([encoded_2d, encoder2_2d]))\n",
    "\n",
    "myinput_classify_2d = Input(shape=(2,))\n",
    "myclassifier_2d = Dense(128, activation='elu')(myinput_classify_2d)\n",
    "myclassifier_2d = Dense(64, activation='elu')(myclassifier_2d)\n",
    "myclassifier_2d = Dense(1, activation='sigmoid')(myclassifier_2d)\n",
    "myclassifier_model_2d = Model(myinput_classify_2d, myclassifier_2d)\n",
    "myclassifier_input_2d = myclassifier_model_2d(myinput_2d)\n",
    "myclassifier_encoded_2d = myclassifier_model_2d(encoded_2d)\n",
    "\n",
    "combinedModel_classifier_2d = Model(myinput_2d,Concatenate(axis=-1)([encoded_2d, encoder2_2d, myclassifier_input_2d, myclassifier_encoded_2d]))\n",
    "\n",
    "preds = []\n",
    "preds += [encoder_2d.predict(X)]\n",
    "\n",
    "for i in range(20):\n",
    "    print(\"on i=\",i)\n",
    "    #Now, train the classifier\n",
    "    encoded_x_2d = encoder_2d.predict(X)\n",
    "    myclassifier_model_2d.compile(optimizer='adam', loss='binary_crossentropy')\n",
    "    myclassifier_model_2d.fit(np.concatenate([X,encoded_x_2d]),np.concatenate([np.ones(len(X)),np.zeros(len(X))]), epochs=1, batch_size=int(0.01*len(X)), verbose=0)\n",
    "        \n",
    "    #Now, update the autoencoder\n",
    "    for layer in myclassifier_model_2d.layers[:]:\n",
    "        layer.trainable = False\n",
    "\n",
    "    combinedModel_classifier_2d.compile(optimizer='adam', loss=lambda y_true, y_pred: myloss2d(y_true, y_pred))\n",
    "    combinedModel_classifier_2d.fit(X,X, epochs=1, batch_size=int(0.01*len(X)), verbose=0)\n",
    "    \n",
    "    autoencoder_2d.compile(optimizer='adam', loss='mse')\n",
    "    autoencoder_2d.fit(X,X, epochs=5, batch_size=int(0.01*len(x0)), verbose=0)\n",
    "    \n",
    "    preds += [encoder_2d.predict(X)]\n",
    "    \n",
    "    for layer in myclassifier_model_2d.layers[:]:\n",
    "        layer.trainable = True"
   ]
  },
  {
   "cell_type": "code",
   "execution_count": 74,
   "metadata": {},
   "outputs": [
    {
     "data": {
      "text/plain": [
       "<matplotlib.legend.Legend at 0x2aaf7420a150>"
      ]
     },
     "execution_count": 74,
     "metadata": {},
     "output_type": "execute_result"
    },
    {
     "data": {
      "image/png": "[encoded data removed]",
      "text/plain": [
       "<Figure size 612x612 with 1 Axes>"
      ]
     },
     "metadata": {
      "needs_background": "light"
     },
     "output_type": "display_data"
    }
   ],
   "source": [
    "f = plt.figure(figsize=(8.5, 8.5))\n",
    "plt.scatter(X[:,0],preds[-1][:,0],label=\"$x_0$\")\n",
    "plt.scatter(X[:,1],preds[-1][:,1],label=\"$x_1$\")\n",
    "plt.plot(np.linspace(-4,4,10),np.linspace(-4,4,10),ls=':',color=\"gray\")\n",
    "plt.plot(np.linspace(-4,4,10),-np.linspace(-4,4,10),ls=':',color=\"gray\")\n",
    "plt.xlabel(\"x\")\n",
    "plt.ylabel(\"Encoder(x)\")\n",
    "plt.legend(frameon=False)"
   ]
  },
  {
   "cell_type": "code",
   "execution_count": 59,
   "metadata": {},
   "outputs": [],
   "source": [
    "mypreds = combinedModel_classifier_2d.predict(X)"
   ]
  },
  {
   "cell_type": "code",
   "execution_count": 60,
   "metadata": {},
   "outputs": [
    {
     "data": {
      "text/plain": [
       "<matplotlib.legend.Legend at 0x2aaec55a3190>"
      ]
     },
     "execution_count": 60,
     "metadata": {},
     "output_type": "execute_result"
    },
    {
     "data": {
      "image/png": "[encoded data removed]",
      "text/plain": [
       "<Figure size 612x612 with 1 Axes>"
      ]
     },
     "metadata": {
      "needs_background": "light"
     },
     "output_type": "display_data"
    }
   ],
   "source": [
    "f = plt.figure(figsize=(8.5, 8.5))\n",
    "plt.scatter(X[:,0],mypreds[:,2],label=\"$x_0$\")\n",
    "plt.scatter(X[:,1],mypreds[:,3],label=\"$x_1$\")\n",
    "plt.plot(np.linspace(-4,4,10),np.linspace(-4,4,10),ls=':',color=\"gray\")\n",
    "plt.xlabel(\"x\")\n",
    "plt.ylabel(\"Autoencoder(x) = Encoder$^2$(x)\")\n",
    "plt.legend(frameon=False)"
   ]
  },
  {
   "cell_type": "code",
   "execution_count": 7,
   "metadata": {},
   "outputs": [
    {
     "data": {
      "image/png": "[encoded data removed]",
      "text/plain": [
       "<Figure size 432x288 with 1 Axes>"
      ]
     },
     "metadata": {
      "needs_background": "light"
     },
     "output_type": "display_data"
    }
   ],
   "source": [
    "plt.hist2d(X[:,0], X[:,1]);\n",
    "plt.xlabel(\"X\");"
   ]
  },
  {
   "cell_type": "code",
   "execution_count": 62,
   "metadata": {},
   "outputs": [],
   "source": [
    "Y = encoder_2d.predict(X)"
   ]
  },
  {
   "cell_type": "code",
   "execution_count": 69,
   "metadata": {},
   "outputs": [
    {
     "data": {
      "image/png": "[encoded data removed]",
      "text/plain": [
       "<Figure size 432x288 with 1 Axes>"
      ]
     },
     "metadata": {
      "needs_background": "light"
     },
     "output_type": "display_data"
    }
   ],
   "source": [
    "plt.hist(Y[:,1], bins=10);\n",
    "plt.xlabel(\"Encoder(X)_1\");"
   ]
  },
  {
   "cell_type": "code",
   "execution_count": 70,
   "metadata": {},
   "outputs": [
    {
     "data": {
      "image/png": "[encoded data removed]",
      "text/plain": [
       "<Figure size 432x288 with 1 Axes>"
      ]
     },
     "metadata": {
      "needs_background": "light"
     },
     "output_type": "display_data"
    }
   ],
   "source": [
    "plt.hist(Y[:,0], bins=10);\n",
    "plt.xlabel(\"Encoder(X)_0\");"
   ]
  },
  {
   "cell_type": "code",
   "execution_count": 65,
   "metadata": {},
   "outputs": [
    {
     "data": {
      "text/plain": [
       "(21, 200000, 2)"
      ]
     },
     "execution_count": 65,
     "metadata": {},
     "output_type": "execute_result"
    }
   ],
   "source": [
    "np.shape(preds)"
   ]
  },
  {
   "cell_type": "code",
   "execution_count": 66,
   "metadata": {},
   "outputs": [
    {
     "data": {
      "text/plain": [
       "(200000, 2)"
      ]
     },
     "execution_count": 66,
     "metadata": {},
     "output_type": "execute_result"
    }
   ],
   "source": [
    "np.shape(X)"
   ]
  },
  {
   "cell_type": "code",
   "execution_count": 67,
   "metadata": {},
   "outputs": [
    {
     "data": {
      "image/png": "[encoded data removed]",
      "text/plain": [
       "<Figure size 432x288 with 1 Axes>"
      ]
     },
     "metadata": {
      "needs_background": "light"
     },
     "output_type": "display_data"
    }
   ],
   "source": [
    "plt.hist2d(Y[:,0], Y[:, 1]);\n",
    "plt.xlabel(\"Y\");"
   ]
  },
  {
   "cell_type": "code",
   "execution_count": 71,
   "metadata": {},
   "outputs": [
    {
     "name": "stdout",
     "output_type": "stream",
     "text": [
      "(200000, 2)\n",
      "(20, 200000, 2)\n"
     ]
    }
   ],
   "source": [
    "print(np.shape(X))\n",
    "print(np.shape(preds[:-1]))\n",
    "model = LinearRegression().fit(X, preds[-1]);"
   ]
  },
  {
   "cell_type": "code",
   "execution_count": 72,
   "metadata": {},
   "outputs": [
    {
     "name": "stdout",
     "output_type": "stream",
     "text": [
      "slope: [[-0.02591923  0.88506154]\n",
      " [ 1.11963086  0.0185806 ]]\n",
      "intercept: [ 0.03799631 -0.04246489]\n"
     ]
    }
   ],
   "source": [
    "print('slope:', model.coef_)\n",
    "print('intercept:', model.intercept_)"
   ]
  },
  {
   "cell_type": "code",
   "execution_count": null,
   "metadata": {},
   "outputs": [],
   "source": []
  }
 ],
 "metadata": {
  "kernelspec": {
   "display_name": "tensorflow-v2.2.0-cpu",
   "language": "python",
   "name": "tensorflow_intel_2.2.0-py37"
  },
  "language_info": {
   "codemirror_mode": {
    "name": "ipython",
    "version": 3
   },
   "file_extension": ".py",
   "mimetype": "text/x-python",
   "name": "python",
   "nbconvert_exporter": "python",
   "pygments_lexer": "ipython3",
   "version": "3.7.4"
  }
 },
 "nbformat": 4,
 "nbformat_minor": 4
}
