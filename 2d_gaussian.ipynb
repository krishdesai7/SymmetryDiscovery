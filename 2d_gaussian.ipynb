{
 "cells": [
  {
   "cell_type": "code",
   "execution_count": 1,
   "metadata": {},
   "outputs": [],
   "source": [
    "import numpy as np\n",
    "import matplotlib.pyplot as plt\n",
    "from sklearn.metrics import roc_curve, auc,roc_auc_score\n",
    "from sklearn.linear_model import LinearRegression"
   ]
  },
  {
   "cell_type": "code",
   "execution_count": 3,
   "metadata": {},
   "outputs": [],
   "source": [
    "x0 = np.random.normal(0,1,100000)\n",
    "x1 = np.random.normal(0,1,100000)"
   ]
  },
  {
   "cell_type": "code",
   "execution_count": 28,
   "metadata": {},
   "outputs": [
    {
     "data": {
      "image/png": "[encoded data removed]",
      "text/plain": [
       "<Figure size 432x288 with 1 Axes>"
      ]
     },
     "metadata": {
      "needs_background": "light"
     },
     "output_type": "display_data"
    }
   ],
   "source": [
    "plt.hist(x0);"
   ]
  },
  {
   "cell_type": "code",
   "execution_count": 5,
   "metadata": {},
   "outputs": [],
   "source": [
    "import tensorflow.keras\n",
    "import tensorflow.keras.backend as K\n",
    "from tensorflow.keras.models import Sequential, Model\n",
    "from tensorflow.keras.layers import Dense, Activation, Dropout, ReLU, ELU, PReLU, Input, Concatenate, Lambda\n",
    "from tensorflow.keras.callbacks import ModelCheckpoint\n",
    "from tensorflow.keras.losses import mse, binary_crossentropy\n",
    "import tensorflow as tf"
   ]
  },
  {
   "cell_type": "code",
   "execution_count": 30,
   "metadata": {},
   "outputs": [],
   "source": [
    "zero = [0]*100000"
   ]
  },
  {
   "cell_type": "code",
   "execution_count": 45,
   "metadata": {},
   "outputs": [
    {
     "name": "stdout",
     "output_type": "stream",
     "text": [
      "[[-0.44694793  0.        ]\n",
      " [ 0.         -0.96008461]\n",
      " [-0.84044752  0.        ]\n",
      " ...\n",
      " [ 0.02479429  0.        ]\n",
      " [-0.79452475  0.        ]\n",
      " [ 1.5721071   0.        ]]\n"
     ]
    }
   ],
   "source": [
    "X = np.concatenate((np.c_[x0, zero], np.c_[zero, x1]))\n",
    "np.random.shuffle(X)\n",
    "print(X)"
   ]
  },
  {
   "cell_type": "code",
   "execution_count": 46,
   "metadata": {},
   "outputs": [],
   "source": [
    "def myloss2d(y_true, y_pred, alpha = 0.01):\n",
    "    #alpha determines the amount of decorrelation; 0 means no decorrelation.\n",
    "    \n",
    "    #We want to learn f(g(x)) = x with g != identity and g(x) and x should have the same probability density.\n",
    "    #g(x) = y_pred[:,0]\n",
    "    #f(g(x)) = y_pred[:,1]\n",
    "    #h(x) = y_pred[:,2]\n",
    "    #h(g(x)) = y_pred[:,3]\n",
    "    \n",
    "    myoutput =  mse(y_true[:,0],y_pred[:,1]) \\\n",
    "                - alpha*binary_crossentropy(y_pred[:,2],K.ones_like(y_pred[:,2])) \\\n",
    "                - alpha*binary_crossentropy(y_pred[:,3],0.*K.ones_like(y_pred[:,2]))\n",
    "    return myoutput"
   ]
  },
  {
   "cell_type": "code",
   "execution_count": 47,
   "metadata": {},
   "outputs": [
    {
     "name": "stdout",
     "output_type": "stream",
     "text": [
      "on i= 0\n",
      "200/200 [==============================] - 2s 9ms/step - loss: 0.5154\n",
      "100/100 [==============================] - 1s 11ms/step - loss: 0.3634\n",
      "Epoch 1/5\n",
      "200/200 [==============================] - 0s 2ms/step - loss: 0.1733\n",
      "Epoch 2/5\n",
      "200/200 [==============================] - 0s 2ms/step - loss: 0.0478\n",
      "Epoch 3/5\n",
      "200/200 [==============================] - 0s 2ms/step - loss: 0.0308\n",
      "Epoch 4/5\n",
      "200/200 [==============================] - 0s 2ms/step - loss: 0.0205\n",
      "Epoch 5/5\n",
      "200/200 [==============================] - 0s 2ms/step - loss: 0.0134\n",
      "on i= 1\n",
      "200/200 [==============================] - 2s 9ms/step - loss: 1.0290\n",
      "100/100 [==============================] - 1s 12ms/step - loss: -0.0285\n",
      "Epoch 1/5\n",
      "200/200 [==============================] - 0s 2ms/step - loss: 0.1871\n",
      "Epoch 2/5\n",
      "200/200 [==============================] - 0s 2ms/step - loss: 0.0147\n",
      "Epoch 3/5\n",
      "200/200 [==============================] - 0s 2ms/step - loss: 0.0110\n",
      "Epoch 4/5\n",
      "200/200 [==============================] - 0s 2ms/step - loss: 0.0090\n",
      "Epoch 5/5\n",
      "200/200 [==============================] - 0s 2ms/step - loss: 0.0078\n",
      "on i= 2\n",
      "200/200 [==============================] - 2s 9ms/step - loss: 0.4470\n",
      "100/100 [==============================] - 1s 12ms/step - loss: -0.1160\n",
      "Epoch 1/5\n",
      "200/200 [==============================] - 0s 2ms/step - loss: 0.2764\n",
      "Epoch 2/5\n",
      "200/200 [==============================] - 0s 2ms/step - loss: 0.0094\n",
      "Epoch 3/5\n",
      "200/200 [==============================] - 0s 2ms/step - loss: 0.0082\n",
      "Epoch 4/5\n",
      "200/200 [==============================] - 0s 2ms/step - loss: 0.0072\n",
      "Epoch 5/5\n",
      "200/200 [==============================] - 0s 2ms/step - loss: 0.0064\n",
      "on i= 3\n",
      "200/200 [==============================] - 2s 9ms/step - loss: 0.2072\n",
      "100/100 [==============================] - 1s 11ms/step - loss: -0.1680\n",
      "Epoch 1/5\n",
      "200/200 [==============================] - 0s 2ms/step - loss: 0.3433\n",
      "Epoch 2/5\n",
      "200/200 [==============================] - 0s 2ms/step - loss: 0.0075\n",
      "Epoch 3/5\n",
      "200/200 [==============================] - 0s 2ms/step - loss: 0.0069\n",
      "Epoch 4/5\n",
      "200/200 [==============================] - 0s 2ms/step - loss: 0.0063\n",
      "Epoch 5/5\n",
      "200/200 [==============================] - 0s 2ms/step - loss: 0.0058\n",
      "on i= 4\n",
      "200/200 [==============================] - 2s 9ms/step - loss: 0.1649\n",
      "100/100 [==============================] - 1s 13ms/step - loss: -0.1864\n",
      "Epoch 1/5\n",
      "200/200 [==============================] - 0s 2ms/step - loss: 0.3390\n",
      "Epoch 2/5\n",
      "200/200 [==============================] - 0s 2ms/step - loss: 0.0070\n",
      "Epoch 3/5\n",
      "200/200 [==============================] - 0s 2ms/step - loss: 0.0065\n",
      "Epoch 4/5\n",
      "200/200 [==============================] - 0s 2ms/step - loss: 0.0060\n",
      "Epoch 5/5\n",
      "200/200 [==============================] - 0s 2ms/step - loss: 0.0056\n",
      "on i= 5\n",
      "200/200 [==============================] - 2s 9ms/step - loss: 0.1322\n",
      "100/100 [==============================] - 1s 13ms/step - loss: -0.1924\n",
      "Epoch 1/5\n",
      "200/200 [==============================] - 0s 2ms/step - loss: 0.3185\n",
      "Epoch 2/5\n",
      "200/200 [==============================] - 0s 2ms/step - loss: 0.0071\n",
      "Epoch 3/5\n",
      "200/200 [==============================] - 0s 2ms/step - loss: 0.0067\n",
      "Epoch 4/5\n",
      "200/200 [==============================] - 0s 2ms/step - loss: 0.0063\n",
      "Epoch 5/5\n",
      "200/200 [==============================] - 0s 2ms/step - loss: 0.0058\n",
      "on i= 6\n",
      "200/200 [==============================] - 2s 10ms/step - loss: 0.1091\n",
      "100/100 [==============================] - 1s 12ms/step - loss: -0.1932\n",
      "Epoch 1/5\n",
      "200/200 [==============================] - 0s 2ms/step - loss: 0.3167\n",
      "Epoch 2/5\n",
      "200/200 [==============================] - 0s 2ms/step - loss: 0.0074\n",
      "Epoch 3/5\n",
      "200/200 [==============================] - 0s 2ms/step - loss: 0.0070\n",
      "Epoch 4/5\n",
      "200/200 [==============================] - 0s 2ms/step - loss: 0.0066\n",
      "Epoch 5/5\n",
      "200/200 [==============================] - 0s 2ms/step - loss: 0.0062\n",
      "on i= 7\n",
      "200/200 [==============================] - 2s 9ms/step - loss: 0.0913\n",
      "100/100 [==============================] - 1s 13ms/step - loss: -0.1869\n",
      "Epoch 1/5\n",
      "200/200 [==============================] - 0s 2ms/step - loss: 0.3287\n",
      "Epoch 2/5\n",
      "200/200 [==============================] - 0s 2ms/step - loss: 0.0076\n",
      "Epoch 3/5\n",
      "200/200 [==============================] - 0s 2ms/step - loss: 0.0072\n",
      "Epoch 4/5\n",
      "200/200 [==============================] - 0s 2ms/step - loss: 0.0068\n",
      "Epoch 5/5\n",
      "200/200 [==============================] - 0s 2ms/step - loss: 0.0063\n",
      "on i= 8\n",
      "200/200 [==============================] - 2s 9ms/step - loss: 0.0783\n",
      "100/100 [==============================] - 1s 12ms/step - loss: -0.1773\n",
      "Epoch 1/5\n",
      "200/200 [==============================] - 0s 2ms/step - loss: 0.3502\n",
      "Epoch 2/5\n",
      "200/200 [==============================] - 0s 2ms/step - loss: 0.0075\n",
      "Epoch 3/5\n",
      "200/200 [==============================] - 0s 2ms/step - loss: 0.0071\n",
      "Epoch 4/5\n",
      "200/200 [==============================] - 0s 2ms/step - loss: 0.0068\n",
      "Epoch 5/5\n",
      "200/200 [==============================] - 0s 2ms/step - loss: 0.0064\n",
      "on i= 9\n",
      "200/200 [==============================] - 2s 9ms/step - loss: 0.0692\n",
      "100/100 [==============================] - 1s 11ms/step - loss: -0.1630\n",
      "Epoch 1/5\n",
      "200/200 [==============================] - 0s 2ms/step - loss: 0.3472\n",
      "Epoch 2/5\n",
      "200/200 [==============================] - 0s 2ms/step - loss: 0.0072\n",
      "Epoch 3/5\n",
      "200/200 [==============================] - 0s 2ms/step - loss: 0.0068\n",
      "Epoch 4/5\n",
      "200/200 [==============================] - 0s 2ms/step - loss: 0.0065\n",
      "Epoch 5/5\n",
      "200/200 [==============================] - 0s 2ms/step - loss: 0.0061\n",
      "on i= 10\n",
      "200/200 [==============================] - 2s 9ms/step - loss: 0.0616\n",
      "100/100 [==============================] - 1s 11ms/step - loss: -0.1526\n",
      "Epoch 1/5\n",
      "200/200 [==============================] - 0s 2ms/step - loss: 0.3252\n",
      "Epoch 2/5\n",
      "200/200 [==============================] - 0s 2ms/step - loss: 0.0068\n",
      "Epoch 3/5\n",
      "200/200 [==============================] - 0s 2ms/step - loss: 0.0063\n",
      "Epoch 4/5\n",
      "200/200 [==============================] - 0s 2ms/step - loss: 0.0059\n",
      "Epoch 5/5\n",
      "200/200 [==============================] - 0s 2ms/step - loss: 0.0055\n",
      "on i= 11\n",
      "200/200 [==============================] - 2s 9ms/step - loss: 0.0559\n",
      "100/100 [==============================] - 1s 11ms/step - loss: -0.1430\n",
      "Epoch 1/5\n",
      "200/200 [==============================] - 0s 2ms/step - loss: 0.2810\n",
      "Epoch 2/5\n",
      "200/200 [==============================] - 0s 2ms/step - loss: 0.0057\n",
      "Epoch 3/5\n",
      "200/200 [==============================] - 0s 2ms/step - loss: 0.0052\n",
      "Epoch 4/5\n",
      "200/200 [==============================] - 0s 2ms/step - loss: 0.0048\n",
      "Epoch 5/5\n",
      "200/200 [==============================] - 0s 2ms/step - loss: 0.0044\n",
      "on i= 12\n",
      "200/200 [==============================] - 2s 9ms/step - loss: 0.0507\n",
      "100/100 [==============================] - 1s 11ms/step - loss: -0.1341\n",
      "Epoch 1/5\n",
      "200/200 [==============================] - 0s 2ms/step - loss: 0.2287\n",
      "Epoch 2/5\n",
      "200/200 [==============================] - 0s 2ms/step - loss: 0.0050\n",
      "Epoch 3/5\n",
      "200/200 [==============================] - 0s 2ms/step - loss: 0.0043\n",
      "Epoch 4/5\n",
      "200/200 [==============================] - 0s 2ms/step - loss: 0.0039\n",
      "Epoch 5/5\n",
      "200/200 [==============================] - 0s 2ms/step - loss: 0.0035\n",
      "on i= 13\n",
      "200/200 [==============================] - 2s 9ms/step - loss: 0.0477\n",
      "100/100 [==============================] - 1s 11ms/step - loss: -0.1439\n",
      "Epoch 1/5\n",
      "200/200 [==============================] - 0s 2ms/step - loss: 0.2176\n",
      "Epoch 2/5\n",
      "200/200 [==============================] - 0s 2ms/step - loss: 0.0041\n",
      "Epoch 3/5\n",
      "200/200 [==============================] - 0s 2ms/step - loss: 0.0034\n",
      "Epoch 4/5\n",
      "200/200 [==============================] - 0s 2ms/step - loss: 0.0030\n",
      "Epoch 5/5\n",
      "200/200 [==============================] - 0s 2ms/step - loss: 0.0027\n",
      "on i= 14\n",
      "200/200 [==============================] - 2s 9ms/step - loss: 0.0449\n",
      "100/100 [==============================] - 1s 12ms/step - loss: -0.1666\n",
      "Epoch 1/5\n",
      "200/200 [==============================] - 0s 2ms/step - loss: 0.2412\n",
      "Epoch 2/5\n",
      "200/200 [==============================] - 0s 2ms/step - loss: 0.0037\n",
      "Epoch 3/5\n",
      "200/200 [==============================] - 0s 2ms/step - loss: 0.0028\n",
      "Epoch 4/5\n",
      "200/200 [==============================] - 0s 2ms/step - loss: 0.0024\n",
      "Epoch 5/5\n",
      "200/200 [==============================] - 0s 2ms/step - loss: 0.0022\n",
      "on i= 15\n",
      "200/200 [==============================] - 2s 10ms/step - loss: 0.0422\n",
      "100/100 [==============================] - 1s 11ms/step - loss: -0.1730\n",
      "Epoch 1/5\n",
      "200/200 [==============================] - 0s 2ms/step - loss: 0.2448\n",
      "Epoch 2/5\n",
      "200/200 [==============================] - 0s 2ms/step - loss: 0.0037\n",
      "Epoch 3/5\n",
      "200/200 [==============================] - 0s 2ms/step - loss: 0.0026\n",
      "Epoch 4/5\n",
      "200/200 [==============================] - 0s 2ms/step - loss: 0.0022\n",
      "Epoch 5/5\n",
      "200/200 [==============================] - 0s 2ms/step - loss: 0.0019\n",
      "on i= 16\n",
      "200/200 [==============================] - 2s 9ms/step - loss: 0.0398\n",
      "100/100 [==============================] - 1s 12ms/step - loss: -0.1827\n",
      "Epoch 1/5\n",
      "200/200 [==============================] - 0s 2ms/step - loss: 0.2600\n",
      "Epoch 2/5\n",
      "200/200 [==============================] - 0s 2ms/step - loss: 0.0043\n",
      "Epoch 3/5\n",
      "200/200 [==============================] - 0s 2ms/step - loss: 0.0028\n",
      "Epoch 4/5\n",
      "200/200 [==============================] - 0s 2ms/step - loss: 0.0022\n",
      "Epoch 5/5\n",
      "200/200 [==============================] - 0s 2ms/step - loss: 0.0019\n",
      "on i= 17\n",
      "200/200 [==============================] - 2s 9ms/step - loss: 0.0374\n",
      "100/100 [==============================] - 1s 11ms/step - loss: -0.1849\n",
      "Epoch 1/5\n",
      "200/200 [==============================] - 0s 2ms/step - loss: 0.2533\n",
      "Epoch 2/5\n",
      "200/200 [==============================] - 0s 2ms/step - loss: 0.0045\n",
      "Epoch 3/5\n",
      "200/200 [==============================] - 0s 2ms/step - loss: 0.0028\n",
      "Epoch 4/5\n",
      "200/200 [==============================] - 0s 2ms/step - loss: 0.0022\n",
      "Epoch 5/5\n",
      "200/200 [==============================] - 0s 2ms/step - loss: 0.0019\n",
      "on i= 18\n",
      "200/200 [==============================] - 2s 8ms/step - loss: 0.0354\n",
      "100/100 [==============================] - 1s 11ms/step - loss: -0.1868\n",
      "Epoch 1/5\n",
      "200/200 [==============================] - 0s 2ms/step - loss: 0.2424\n",
      "Epoch 2/5\n",
      "200/200 [==============================] - 0s 2ms/step - loss: 0.0041\n",
      "Epoch 3/5\n",
      "200/200 [==============================] - 0s 2ms/step - loss: 0.0026\n",
      "Epoch 4/5\n",
      "200/200 [==============================] - 0s 2ms/step - loss: 0.0021\n",
      "Epoch 5/5\n",
      "200/200 [==============================] - 0s 2ms/step - loss: 0.0018\n",
      "on i= 19\n",
      "200/200 [==============================] - 2s 9ms/step - loss: 0.0335\n",
      "100/100 [==============================] - 1s 12ms/step - loss: -0.1897\n",
      "Epoch 1/5\n",
      "200/200 [==============================] - 0s 2ms/step - loss: 0.2388\n",
      "Epoch 2/5\n",
      "200/200 [==============================] - 0s 2ms/step - loss: 0.0035\n",
      "Epoch 3/5\n",
      "200/200 [==============================] - 0s 2ms/step - loss: 0.0024\n",
      "Epoch 4/5\n",
      "200/200 [==============================] - 0s 2ms/step - loss: 0.0020\n",
      "Epoch 5/5\n",
      "200/200 [==============================] - 0s 2ms/step - loss: 0.0018\n"
     ]
    }
   ],
   "source": [
    "#setup the model\n",
    "\n",
    "myinput_2d = Input(shape=(2,))\n",
    "encoded_2d = Dense(5, activation='elu')(myinput_2d)\n",
    "encoded_2d = Dense(5, activation='elu')(encoded_2d)\n",
    "encoded_2d = Dense(2, activation='linear')(encoded_2d)\n",
    "\n",
    "encoder_2d = Model(myinput_2d, encoded_2d)\n",
    "encoder2_2d = encoder_2d(encoder_2d(myinput_2d))\n",
    "autoencoder_2d = Model(myinput_2d, encoder2_2d)\n",
    "\n",
    "combinedModel_2d = Model(myinput_2d,Concatenate(axis=-1)([encoded_2d, encoder2_2d]))\n",
    "\n",
    "myinput_classify_2d = Input(shape=(2,))\n",
    "myclassifier_2d = Dense(128, activation='elu')(myinput_classify_2d)\n",
    "myclassifier_2d = Dense(64, activation='elu')(myclassifier_2d)\n",
    "myclassifier_2d = Dense(1, activation='sigmoid')(myclassifier_2d)\n",
    "myclassifier_model_2d = Model(myinput_classify_2d, myclassifier_2d)\n",
    "myclassifier_input_2d = myclassifier_model_2d(myinput_2d)\n",
    "myclassifier_encoded_2d = myclassifier_model_2d(encoded_2d)\n",
    "\n",
    "combinedModel_classifier_2d = Model(myinput_2d,Concatenate(axis=-1)([encoded_2d, encoder2_2d, myclassifier_input_2d, myclassifier_encoded_2d]))\n",
    "\n",
    "preds = []\n",
    "preds += [encoder_2d.predict(X)]\n",
    "\n",
    "num_iters = 20\n",
    "\n",
    "for i in range(num_iters):\n",
    "    print(\"on i=\",i)\n",
    "    #Now, train the classifier\n",
    "    encoded_x_2d = encoder_2d.predict(X)\n",
    "    myclassifier_model_2d.compile(optimizer='adam', loss='binary_crossentropy')\n",
    "    myclassifier_model_2d.fit(np.concatenate([X,encoded_x_2d]),np.concatenate([np.ones(len(X)),np.zeros(len(X))]), epochs=1, batch_size=int(0.01*len(X)))\n",
    "        \n",
    "    #Now, update the autoencoder\n",
    "    for layer in myclassifier_model_2d.layers[:]:\n",
    "        layer.trainable = False\n",
    "\n",
    "    combinedModel_classifier_2d.compile(optimizer='adam', loss=lambda y_true, y_pred: myloss2d(y_true, y_pred))\n",
    "    combinedModel_classifier_2d.fit(X,X, epochs=1, batch_size=int(0.01*len(X)))\n",
    "    \n",
    "    autoencoder_2d.compile(optimizer='adam', loss='mse')\n",
    "    autoencoder_2d.fit(X,X, epochs=5, batch_size=int(0.01*len(x)))\n",
    "    \n",
    "    preds += [encoder_2d.predict(X)]\n",
    "    \n",
    "    for layer in myclassifier_model_2d.layers[:]:\n",
    "        layer.trainable = True"
   ]
  },
  {
   "cell_type": "code",
   "execution_count": 48,
   "metadata": {},
   "outputs": [
    {
     "data": {
      "text/plain": [
       "<matplotlib.legend.Legend at 0x2aadbbf2a210>"
      ]
     },
     "execution_count": 48,
     "metadata": {},
     "output_type": "execute_result"
    },
    {
     "data": {
      "image/png": "[encoded data removed]",
      "text/plain": [
       "<Figure size 612x612 with 1 Axes>"
      ]
     },
     "metadata": {
      "needs_background": "light"
     },
     "output_type": "display_data"
    }
   ],
   "source": [
    "f = plt.figure(figsize=(8.5, 8.5))\n",
    "plt.scatter(X[:,0],preds[-1][:,0],label=\"$x_0$\")\n",
    "plt.scatter(X[:,1],preds[-1][:,1],label=\"$x_1$\")\n",
    "plt.plot(np.linspace(-4,4,10),np.linspace(-4,4,10),ls=':',color=\"gray\")\n",
    "plt.plot(np.linspace(-4,4,10),-np.linspace(-4,4,10),ls=':',color=\"gray\")\n",
    "plt.xlabel(\"x\")\n",
    "plt.ylabel(\"Encoder(x)\")\n",
    "plt.legend(frameon=False)"
   ]
  },
  {
   "cell_type": "code",
   "execution_count": 49,
   "metadata": {},
   "outputs": [],
   "source": [
    "mypreds = combinedModel_classifier_2d.predict(X)"
   ]
  },
  {
   "cell_type": "code",
   "execution_count": 50,
   "metadata": {},
   "outputs": [
    {
     "data": {
      "text/plain": [
       "<matplotlib.legend.Legend at 0x2aaed37f1d90>"
      ]
     },
     "execution_count": 50,
     "metadata": {},
     "output_type": "execute_result"
    },
    {
     "data": {
      "image/png": "[encoded data removed]",
      "text/plain": [
       "<Figure size 612x612 with 1 Axes>"
      ]
     },
     "metadata": {
      "needs_background": "light"
     },
     "output_type": "display_data"
    }
   ],
   "source": [
    "f = plt.figure(figsize=(8.5, 8.5))\n",
    "plt.scatter(X[:,0],mypreds[:,2],label=\"$x_0$\")\n",
    "plt.scatter(X[:,1],mypreds[:,3],label=\"$x_1$\")\n",
    "plt.plot(np.linspace(-4,4,10),np.linspace(-4,4,10),ls=':',color=\"gray\")\n",
    "plt.xlabel(\"x\")\n",
    "plt.ylabel(\"Autoencoder(x) = Encoder$^2$(x)\")\n",
    "plt.legend(frameon=False)"
   ]
  },
  {
   "cell_type": "code",
   "execution_count": 51,
   "metadata": {},
   "outputs": [
    {
     "data": {
      "image/png": "[encoded data removed]",
      "text/plain": [
       "<Figure size 432x288 with 1 Axes>"
      ]
     },
     "metadata": {
      "needs_background": "light"
     },
     "output_type": "display_data"
    }
   ],
   "source": [
    "plt.hist2d(x0, x1);\n",
    "plt.xlabel(\"X\");"
   ]
  },
  {
   "cell_type": "code",
   "execution_count": 52,
   "metadata": {},
   "outputs": [],
   "source": [
    "Y = encoder_2d.predict(X)"
   ]
  },
  {
   "cell_type": "code",
   "execution_count": 53,
   "metadata": {},
   "outputs": [
    {
     "data": {
      "image/png": "[encoded data removed]",
      "text/plain": [
       "<Figure size 432x288 with 1 Axes>"
      ]
     },
     "metadata": {
      "needs_background": "light"
     },
     "output_type": "display_data"
    }
   ],
   "source": [
    "plt.hist(Y[:,1]);\n",
    "plt.xlabel(\"Encoder(x)_1\");"
   ]
  },
  {
   "cell_type": "code",
   "execution_count": null,
   "metadata": {},
   "outputs": [],
   "source": []
  }
 ],
 "metadata": {
  "kernelspec": {
   "display_name": "tensorflow-v2.2.0-cpu",
   "language": "python",
   "name": "tensorflow_intel_2.2.0-py37"
  },
  "language_info": {
   "codemirror_mode": {
    "name": "ipython",
    "version": 3
   },
   "file_extension": ".py",
   "mimetype": "text/x-python",
   "name": "python",
   "nbconvert_exporter": "python",
   "pygments_lexer": "ipython3",
   "version": "3.7.4"
  }
 },
 "nbformat": 4,
 "nbformat_minor": 4
}
