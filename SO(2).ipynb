{
 "cells": [
  {
   "cell_type": "code",
   "execution_count": 14,
   "metadata": {},
   "outputs": [],
   "source": [
    "import numpy as np\n",
    "import matplotlib.pyplot as plt\n",
    "from sklearn.metrics import roc_curve, auc,roc_auc_score\n",
    "from sklearn.linear_model import LinearRegression"
   ]
  },
  {
   "cell_type": "code",
   "execution_count": 15,
   "metadata": {},
   "outputs": [],
   "source": [
    "x = np.random.normal(0,1,100000)\n",
    "x2 = np.random.normal(0,1,100000)\n",
    "#x = np.random.multivariate_normal(mean, cov, (3, 3))"
   ]
  },
  {
   "cell_type": "code",
   "execution_count": 16,
   "metadata": {},
   "outputs": [
    {
     "data": {
      "text/plain": [
       "(array([7.9000e+01, 1.2730e+03, 8.7230e+03, 2.5872e+04, 3.5266e+04,\n",
       "        2.1858e+04, 6.1130e+03, 7.8100e+02, 3.2000e+01, 3.0000e+00]),\n",
       " array([-4.02796727, -3.11015216, -2.19233706, -1.27452195, -0.35670685,\n",
       "         0.56110825,  1.47892336,  2.39673846,  3.31455356,  4.23236867,\n",
       "         5.15018377]),\n",
       " <a list of 10 Patch objects>)"
      ]
     },
     "execution_count": 16,
     "metadata": {},
     "output_type": "execute_result"
    },
    {
     "data": {
      "image/png": "[encoded data removed]",
      "text/plain": [
       "<Figure size 432x288 with 1 Axes>"
      ]
     },
     "metadata": {
      "needs_background": "light"
     },
     "output_type": "display_data"
    }
   ],
   "source": [
    "plt.hist(x)"
   ]
  },
  {
   "cell_type": "code",
   "execution_count": null,
   "metadata": {},
   "outputs": [],
   "source": []
  },
  {
   "cell_type": "code",
   "execution_count": 17,
   "metadata": {},
   "outputs": [],
   "source": [
    "import tensorflow.keras\n",
    "import tensorflow.keras.backend as K\n",
    "from tensorflow.keras.models import Sequential, Model\n",
    "from tensorflow.keras.layers import Dense, Activation, Dropout, ReLU, ELU, PReLU, Input, Concatenate, Lambda\n",
    "from tensorflow.keras.callbacks import ModelCheckpoint\n",
    "from tensorflow.keras.losses import mse, binary_crossentropy\n",
    "import tensorflow as tf"
   ]
  },
  {
   "cell_type": "code",
   "execution_count": 18,
   "metadata": {},
   "outputs": [
    {
     "data": {
      "text/plain": [
       "'\\ndef myloss(y_true, y_pred, alpha = 0.):\\n    #alpha determines the amount of decorrelation; 0 means no decorrelation.\\n    \\n    #We want to learn f(g(x)) = x with g != identity and g(x) and x should have the same probability density.\\n    #g(x) = y_pred[:,0]\\n    #f(g(x)) = y_pred[:,1]\\n    #h(x) = y_pred[:,2]\\n    #h(g(x)) = y_pred[:,3]\\n    \\n    myoutput =  mse(y_true[:,0],y_pred[:,1])                 - 0.1*binary_crossentropy(y_pred[:,2],K.ones_like(y_pred[:,2]))                 - 0.1*binary_crossentropy(y_pred[:,3],0.*K.ones_like(y_pred[:,2]))\\n    return myoutput\\n'"
      ]
     },
     "execution_count": 18,
     "metadata": {},
     "output_type": "execute_result"
    }
   ],
   "source": [
    "'''\n",
    "def myloss(y_true, y_pred, alpha = 0.):\n",
    "    #alpha determines the amount of decorrelation; 0 means no decorrelation.\n",
    "    \n",
    "    #We want to learn f(g(x)) = x with g != identity and g(x) and x should have the same probability density.\n",
    "    #g(x) = y_pred[:,0]\n",
    "    #f(g(x)) = y_pred[:,1]\n",
    "    #h(x) = y_pred[:,2]\n",
    "    #h(g(x)) = y_pred[:,3]\n",
    "    \n",
    "    myoutput =  mse(y_true[:,0],y_pred[:,1]) \\\n",
    "                - 0.1*binary_crossentropy(y_pred[:,2],K.ones_like(y_pred[:,2])) \\\n",
    "                - 0.1*binary_crossentropy(y_pred[:,3],0.*K.ones_like(y_pred[:,2]))\n",
    "    return myoutput\n",
    "'''"
   ]
  },
  {
   "cell_type": "code",
   "execution_count": 19,
   "metadata": {},
   "outputs": [
    {
     "data": {
      "text/plain": [
       "'\\n#setup the model\\n\\nmyinput = Input(shape=(1,))\\nencoded = Dense(5, activation=\\'elu\\')(myinput)\\nencoded = Dense(5, activation=\\'elu\\')(encoded)\\nencoded = Dense(1, activation=\\'linear\\')(encoded)\\n\\nencoder = Model(myinput, encoded)\\nencoder2 = encoder(encoder(myinput))\\nautoencoder = Model(myinput, encoder2)\\n\\ncombinedModel = Model(myinput,Concatenate(axis=-1)([encoded, encoder2]))\\n\\nmyinput_classify = Input(shape=(1,))\\nmyclassifier = Dense(128, activation=\\'elu\\')(myinput_classify)\\nmyclassifier = Dense(64, activation=\\'elu\\')(myclassifier)\\nmyclassifier = Dense(1, activation=\\'sigmoid\\')(myclassifier)\\nmyclassifier_model = Model(myinput_classify, myclassifier)\\nmyclassifier_input = myclassifier_model(myinput)\\nmyclassifier_encoded = myclassifier_model(encoded)\\n\\ncombinedModel_classifier = Model(myinput,Concatenate(axis=-1)([encoded, encoder2, myclassifier_input, myclassifier_encoded]))\\n\\n#First, pretrain the autoencoder:\\n#autoencoder.compile(optimizer=\\'adam\\', loss=\\'mse\\')\\n#autoencoder.fit(x,x, epochs=5, batch_size=int(0.01*len(x)))\\n\\npreds = []\\npreds += [encoder.predict(np.linspace(-4,4,10))]\\n\\nfor i in range(10):\\n    print(\"on i=\",i)\\n    #Now, train the classifier\\n    encoded_x = encoder.predict(x)[:,0]\\n    myclassifier_model.compile(optimizer=\\'adam\\', loss=\\'binary_crossentropy\\')\\n    myclassifier_model.fit(np.concatenate([x,encoded_x]),np.concatenate([np.ones(len(x)),np.zeros(len(x))]), epochs=1, batch_size=int(0.01*len(x)))\\n\\n    #y_scores = encoder.predict(np.concatenate([x,encoded_x]))\\n    #print(i,roc_auc_score(np.concatenate([np.ones(len(x)),np.zeros(len(x))]),y_scores))\\n    \\n    #Now, update the autoencoder\\n    for layer in myclassifier_model.layers[:]:\\n        layer.trainable = False\\n\\n    combinedModel_classifier.compile(optimizer=\\'adam\\', loss=lambda y_true, y_pred: myloss(y_true, y_pred))\\n    combinedModel_classifier.fit(x,np.stack((x, x), axis=-1), epochs=1, batch_size=int(0.01*len(x)))\\n    \\n    preds += [encoder.predict(np.linspace(-4,4,10))]\\n    \\n    for layer in myclassifier_model.layers[:]:\\n        layer.trainable = True\\n'"
      ]
     },
     "execution_count": 19,
     "metadata": {},
     "output_type": "execute_result"
    }
   ],
   "source": [
    "'''\n",
    "#setup the model\n",
    "\n",
    "myinput = Input(shape=(1,))\n",
    "encoded = Dense(5, activation='elu')(myinput)\n",
    "encoded = Dense(5, activation='elu')(encoded)\n",
    "encoded = Dense(1, activation='linear')(encoded)\n",
    "\n",
    "encoder = Model(myinput, encoded)\n",
    "encoder2 = encoder(encoder(myinput))\n",
    "autoencoder = Model(myinput, encoder2)\n",
    "\n",
    "combinedModel = Model(myinput,Concatenate(axis=-1)([encoded, encoder2]))\n",
    "\n",
    "myinput_classify = Input(shape=(1,))\n",
    "myclassifier = Dense(128, activation='elu')(myinput_classify)\n",
    "myclassifier = Dense(64, activation='elu')(myclassifier)\n",
    "myclassifier = Dense(1, activation='sigmoid')(myclassifier)\n",
    "myclassifier_model = Model(myinput_classify, myclassifier)\n",
    "myclassifier_input = myclassifier_model(myinput)\n",
    "myclassifier_encoded = myclassifier_model(encoded)\n",
    "\n",
    "combinedModel_classifier = Model(myinput,Concatenate(axis=-1)([encoded, encoder2, myclassifier_input, myclassifier_encoded]))\n",
    "\n",
    "#First, pretrain the autoencoder:\n",
    "#autoencoder.compile(optimizer='adam', loss='mse')\n",
    "#autoencoder.fit(x,x, epochs=5, batch_size=int(0.01*len(x)))\n",
    "\n",
    "preds = []\n",
    "preds += [encoder.predict(np.linspace(-4,4,10))]\n",
    "\n",
    "for i in range(10):\n",
    "    print(\"on i=\",i)\n",
    "    #Now, train the classifier\n",
    "    encoded_x = encoder.predict(x)[:,0]\n",
    "    myclassifier_model.compile(optimizer='adam', loss='binary_crossentropy')\n",
    "    myclassifier_model.fit(np.concatenate([x,encoded_x]),np.concatenate([np.ones(len(x)),np.zeros(len(x))]), epochs=1, batch_size=int(0.01*len(x)))\n",
    "\n",
    "    #y_scores = encoder.predict(np.concatenate([x,encoded_x]))\n",
    "    #print(i,roc_auc_score(np.concatenate([np.ones(len(x)),np.zeros(len(x))]),y_scores))\n",
    "    \n",
    "    #Now, update the autoencoder\n",
    "    for layer in myclassifier_model.layers[:]:\n",
    "        layer.trainable = False\n",
    "\n",
    "    combinedModel_classifier.compile(optimizer='adam', loss=lambda y_true, y_pred: myloss(y_true, y_pred))\n",
    "    combinedModel_classifier.fit(x,np.stack((x, x), axis=-1), epochs=1, batch_size=int(0.01*len(x)))\n",
    "    \n",
    "    preds += [encoder.predict(np.linspace(-4,4,10))]\n",
    "    \n",
    "    for layer in myclassifier_model.layers[:]:\n",
    "        layer.trainable = True\n",
    "'''"
   ]
  },
  {
   "cell_type": "code",
   "execution_count": 20,
   "metadata": {},
   "outputs": [
    {
     "data": {
      "text/plain": [
       "'\\nfor i in range(len(preds)):\\n    plt.plot(np.linspace(-4,4,10),preds[i],label=str(i))\\n    pass\\nplt.legend(frameon=False)\\n'"
      ]
     },
     "execution_count": 20,
     "metadata": {},
     "output_type": "execute_result"
    }
   ],
   "source": [
    "'''\n",
    "for i in range(len(preds)):\n",
    "    plt.plot(np.linspace(-4,4,10),preds[i],label=str(i))\n",
    "    pass\n",
    "plt.legend(frameon=False)\n",
    "'''"
   ]
  },
  {
   "cell_type": "code",
   "execution_count": 21,
   "metadata": {},
   "outputs": [],
   "source": [
    "#mypreds = combinedModel_classifier.predict(x)"
   ]
  },
  {
   "cell_type": "code",
   "execution_count": 22,
   "metadata": {},
   "outputs": [
    {
     "data": {
      "text/plain": [
       "'\\nplt.scatter(x,mypreds[:,0],label=\"Encoder\")\\nplt.scatter(x,mypreds[:,1],label=r\"Autoencoder = Encoder$^2$\")\\nplt.plot(np.linspace(-4,4,10),np.linspace(-4,4,10),ls=\\':\\',color=\"gray\")\\nplt.xlabel(\"x\")\\nplt.ylabel(\"function value\")\\nplt.legend(frameon=False)\\n'"
      ]
     },
     "execution_count": 22,
     "metadata": {},
     "output_type": "execute_result"
    }
   ],
   "source": [
    "'''\n",
    "plt.scatter(x,mypreds[:,0],label=\"Encoder\")\n",
    "plt.scatter(x,mypreds[:,1],label=r\"Autoencoder = Encoder$^2$\")\n",
    "plt.plot(np.linspace(-4,4,10),np.linspace(-4,4,10),ls=':',color=\"gray\")\n",
    "plt.xlabel(\"x\")\n",
    "plt.ylabel(\"function value\")\n",
    "plt.legend(frameon=False)\n",
    "'''"
   ]
  },
  {
   "cell_type": "code",
   "execution_count": 23,
   "metadata": {},
   "outputs": [],
   "source": []
  },
  {
   "cell_type": "code",
   "execution_count": 24,
   "metadata": {},
   "outputs": [],
   "source": [
    "X = np.c_[x,x2]"
   ]
  },
  {
   "cell_type": "code",
   "execution_count": 25,
   "metadata": {},
   "outputs": [],
   "source": [
    "def myloss2d(y_true, y_pred, alpha = 0.0):\n",
    "    #alpha determines the amount of decorrelation; 0 means no decorrelation.\n",
    "    \n",
    "    #We want to learn f(g(x)) = x with g != identity and g(x) and x should have the same probability density.\n",
    "    #g(x) = y_pred[:,0]\n",
    "    #f(g(x)) = y_pred[:,1]\n",
    "    #h(x) = y_pred[:,2]\n",
    "    #h(g(x)) = y_pred[:,3]\n",
    "    \n",
    "    myoutput =  mse(y_true[:,0],y_pred[:,1]) \\\n",
    "                - alpha*binary_crossentropy(y_pred[:,2],K.ones_like(y_pred[:,2])) \\\n",
    "                - alpha*binary_crossentropy(y_pred[:,3],0.*K.ones_like(y_pred[:,2]))\n",
    "    return myoutput"
   ]
  },
  {
   "cell_type": "code",
   "execution_count": 26,
   "metadata": {},
   "outputs": [
    {
     "name": "stdout",
     "output_type": "stream",
     "text": [
      "on i= 0\n",
      "on i= 1\n",
      "on i= 2\n",
      "on i= 3\n",
      "on i= 4\n",
      "on i= 5\n",
      "on i= 6\n",
      "on i= 7\n",
      "on i= 8\n",
      "on i= 9\n",
      "on i= 10\n",
      "on i= 11\n",
      "on i= 12\n",
      "on i= 13\n",
      "on i= 14\n",
      "on i= 15\n",
      "on i= 16\n",
      "on i= 17\n",
      "on i= 18\n",
      "on i= 19\n"
     ]
    }
   ],
   "source": [
    "#setup the model\n",
    "\n",
    "myinput_2d = Input(shape=(2,))\n",
    "encoded_2d = Dense(5, activation='elu')(myinput_2d)\n",
    "encoded_2d = Dense(5, activation='elu')(encoded_2d)\n",
    "encoded_2d = Dense(2, activation='linear')(encoded_2d)\n",
    "\n",
    "encoder_2d = Model(myinput_2d, encoded_2d)\n",
    "encoder2_2d = encoder_2d(encoder_2d(myinput_2d))\n",
    "autoencoder_2d = Model(myinput_2d, encoder2_2d)\n",
    "\n",
    "combinedModel_2d = Model(myinput_2d,Concatenate(axis=-1)([encoded_2d, encoder2_2d]))\n",
    "\n",
    "myinput_classify_2d = Input(shape=(2,))\n",
    "myclassifier_2d = Dense(128, activation='elu')(myinput_classify_2d)\n",
    "myclassifier_2d = Dense(64, activation='elu')(myclassifier_2d)\n",
    "myclassifier_2d = Dense(1, activation='sigmoid')(myclassifier_2d)\n",
    "myclassifier_model_2d = Model(myinput_classify_2d, myclassifier_2d)\n",
    "myclassifier_input_2d = myclassifier_model_2d(myinput_2d)\n",
    "myclassifier_encoded_2d = myclassifier_model_2d(encoded_2d)\n",
    "\n",
    "combinedModel_classifier_2d = Model(myinput_2d,Concatenate(axis=-1)([encoded_2d, encoder2_2d, myclassifier_input_2d, myclassifier_encoded_2d]))\n",
    "\n",
    "preds = []\n",
    "preds += [encoder_2d.predict(X)]\n",
    "\n",
    "num_iters = 20\n",
    "\n",
    "for i in range(num_iters):\n",
    "    print(\"on i=\",i)\n",
    "    #Now, train the classifier\n",
    "    encoded_x_2d = encoder_2d.predict(X)\n",
    "    myclassifier_model_2d.compile(optimizer='adam', loss='binary_crossentropy')\n",
    "    myclassifier_model_2d.fit(np.concatenate([X,encoded_x_2d]),np.concatenate([np.ones(len(X)),np.zeros(len(X))]), epochs=1, batch_size=int(0.01*len(X)), verbose=0)\n",
    "        \n",
    "    #Now, update the autoencoder\n",
    "    for layer in myclassifier_model_2d.layers[:]:\n",
    "        layer.trainable = False\n",
    "\n",
    "    combinedModel_classifier_2d.compile(optimizer='adam', loss=lambda y_true, y_pred: myloss2d(y_true, y_pred))\n",
    "    combinedModel_classifier_2d.fit(X,X, epochs=1, batch_size=int(0.01*len(X)), verbose=0)\n",
    "    \n",
    "    autoencoder_2d.compile(optimizer='adam', loss='mse')\n",
    "    autoencoder_2d.fit(X,X, epochs=5, batch_size=int(0.01*len(x)), verbose=0)\n",
    "    \n",
    "    preds += [encoder_2d.predict(X)]\n",
    "    \n",
    "    for layer in myclassifier_model_2d.layers[:]:\n",
    "        layer.trainable = True"
   ]
  },
  {
   "cell_type": "code",
   "execution_count": 42,
   "metadata": {},
   "outputs": [
    {
     "data": {
      "text/plain": [
       "<matplotlib.legend.Legend at 0x2aaf5f813a10>"
      ]
     },
     "execution_count": 42,
     "metadata": {},
     "output_type": "execute_result"
    },
    {
     "data": {
      "image/png": "[encoded data removed]",
      "text/plain": [
       "<Figure size 612x612 with 1 Axes>"
      ]
     },
     "metadata": {
      "needs_background": "light"
     },
     "output_type": "display_data"
    }
   ],
   "source": [
    "f = plt.figure(figsize=(8.5, 8.5))\n",
    "plt.scatter(X[:,0],preds[-1][:,1],label=\"$x_0$\")\n",
    "plt.scatter(X[:,1],preds[-1][:,0],label=\"$x_1$\")\n",
    "plt.plot(np.linspace(-4,4,10),np.linspace(-4,4,10),ls=':',color=\"gray\")\n",
    "plt.plot(np.linspace(-4,4,10),-np.linspace(-4,4,10),ls=':',color=\"gray\")\n",
    "plt.xlabel(\"x\")\n",
    "plt.ylabel(\"Encoder(x)\")\n",
    "plt.legend(frameon=False)"
   ]
  },
  {
   "cell_type": "code",
   "execution_count": 28,
   "metadata": {},
   "outputs": [],
   "source": [
    "mypreds = combinedModel_classifier_2d.predict(X)"
   ]
  },
  {
   "cell_type": "code",
   "execution_count": 29,
   "metadata": {},
   "outputs": [
    {
     "data": {
      "text/plain": [
       "<matplotlib.legend.Legend at 0x2aaf5e3065d0>"
      ]
     },
     "execution_count": 29,
     "metadata": {},
     "output_type": "execute_result"
    },
    {
     "data": {
      "image/png": "[encoded data removed]",
      "text/plain": [
       "<Figure size 612x612 with 1 Axes>"
      ]
     },
     "metadata": {
      "needs_background": "light"
     },
     "output_type": "display_data"
    }
   ],
   "source": [
    "f = plt.figure(figsize=(8.5, 8.5))\n",
    "plt.scatter(X[:,0],mypreds[:,2],label=\"$x_0$\")\n",
    "plt.scatter(X[:,1],mypreds[:,3],label=\"$x_1$\")\n",
    "plt.plot(np.linspace(-4,4,10),np.linspace(-4,4,10),ls=':',color=\"gray\")\n",
    "plt.xlabel(\"x\")\n",
    "plt.ylabel(\"Autoencoder(x) = Encoder$^2$(x)\")\n",
    "plt.legend(frameon=False)"
   ]
  },
  {
   "cell_type": "code",
   "execution_count": 30,
   "metadata": {},
   "outputs": [
    {
     "data": {
      "text/plain": [
       "'for k in range(num_iters):\\n    \\n    print(\"on k=\",k)\\n\\n    K.clear_session()\\n\\n    #setup the model\\n\\n    myinput_2d = Input(shape=(2,))\\n    encoded_2d = Dense(5, activation=\\'elu\\')(myinput_2d)\\n    encoded_2d = Dense(5, activation=\\'elu\\')(encoded_2d)\\n    encoded_2d = Dense(2, activation=\\'linear\\')(encoded_2d)\\n\\n    encoder_2d = Model(myinput_2d, encoded_2d)\\n    encoder2_2d = encoder_2d(encoder_2d(myinput_2d))\\n    autoencoder_2d = Model(myinput_2d, encoder2_2d)\\n\\n    combinedModel_2d = Model(myinput_2d,Concatenate(axis=-1)([encoded_2d, encoder2_2d]))\\n\\n    myinput_classify_2d = Input(shape=(2,))\\n    myclassifier_2d = Dense(128, activation=\\'elu\\')(myinput_classify_2d)\\n    myclassifier_2d = Dense(64, activation=\\'elu\\')(myclassifier_2d)\\n    myclassifier_2d = Dense(1, activation=\\'sigmoid\\')(myclassifier_2d)\\n    myclassifier_model_2d = Model(myinput_classify_2d, myclassifier_2d)\\n    myclassifier_input_2d = myclassifier_model_2d(myinput_2d)\\n    myclassifier_encoded_2d = myclassifier_model_2d(encoded_2d)\\n\\n    combinedModel_classifier_2d = Model(myinput_2d,Concatenate(axis=-1)([encoded_2d, encoder2_2d, myclassifier_input_2d, myclassifier_encoded_2d]))\\n\\n    preds = []\\n    preds += [encoder_2d.predict(X)]\\n\\n    for i in range(num_iters):\\n        print(\"on i=\",i)\\n        #Now, train the classifier\\n        encoded_x_2d = encoder_2d.predict(X)\\n        myclassifier_model_2d.compile(optimizer=\\'adam\\', loss=\\'binary_crossentropy\\')\\n        myclassifier_model_2d.fit(np.concatenate([X,encoded_x_2d]),np.concatenate([np.ones(len(X)),np.zeros(len(X))]), epochs=1, batch_size=int(0.01*len(X)))\\n\\n        #Now, update the autoencoder\\n        for layer in myclassifier_model_2d.layers[:]:\\n            layer.trainable = False\\n\\n        combinedModel_classifier_2d.compile(optimizer=\\'adam\\', loss=lambda y_true, y_pred: myloss2d(y_true, y_pred))\\n        combinedModel_classifier_2d.fit(X,X, epochs=1, batch_size=int(0.01*len(X)))\\n\\n        autoencoder_2d.compile(optimizer=\\'adam\\', loss=\\'mse\\')\\n        autoencoder_2d.fit(X,X, epochs=5, batch_size=int(0.01*len(x)))\\n\\n        preds += [encoder_2d.predict(X)]\\n\\n        for layer in myclassifier_model_2d.layers[:]:\\n            layer.trainable = True\\n\\n    f = plt.figure(figsize=(8.5, 8.5))\\n    plt.scatter(X[:,0][0:1000],preds[-1][:,0][0:1000],label=\"$x_0$\")\\n    plt.scatter(X[:,1][0:1000],preds[-1][:,1][0:1000],label=\"$x_1$\")\\n    plt.plot(np.linspace(-4,4,10),np.linspace(-4,4,10),ls=\\':\\',color=\"gray\")\\n    plt.plot(np.linspace(-4,4,10),-np.linspace(-4,4,10),ls=\\':\\',color=\"gray\")\\n    plt.xlabel(\"x\")\\n    plt.ylabel(\"Encoder(x)\")\\n    plt.legend(frameon=False)\\n    plt.savefig(\"symdata/encoder_\"+str(k)+\".pdf\",bbox_inches=\\'tight\\')\\n\\n    mypreds = combinedModel_classifier_2d.predict(X)\\n    \\n    print(\"why is this growing?\",len(X),len(mypreds))\\n\\n    f = plt.figure(figsize=(8.5, 8.5))\\n    plt.scatter(X[:,0][0:1000],mypreds[:,2][0:1000],label=\"$x_0$\")\\n    plt.scatter(X[:,1][0:1000],mypreds[:,3][0:1000],label=\"$x_1$\")\\n    plt.plot(np.linspace(-4,4,10),np.linspace(-4,4,10),ls=\\':\\',color=\"gray\")\\n    plt.xlabel(\"x\")\\n    plt.ylabel(\"Autoencoder(x) = Encoder$^2$(x)\")\\n    plt.legend(frameon=False)\\n    plt.savefig(\"symdata/autoencoder_\"+str(k)+\".pdf\",bbox_inches=\\'tight\\')'"
      ]
     },
     "execution_count": 30,
     "metadata": {},
     "output_type": "execute_result"
    }
   ],
   "source": [
    "'''for k in range(num_iters):\n",
    "    \n",
    "    print(\"on k=\",k)\n",
    "\n",
    "    K.clear_session()\n",
    "\n",
    "    #setup the model\n",
    "\n",
    "    myinput_2d = Input(shape=(2,))\n",
    "    encoded_2d = Dense(5, activation='elu')(myinput_2d)\n",
    "    encoded_2d = Dense(5, activation='elu')(encoded_2d)\n",
    "    encoded_2d = Dense(2, activation='linear')(encoded_2d)\n",
    "\n",
    "    encoder_2d = Model(myinput_2d, encoded_2d)\n",
    "    encoder2_2d = encoder_2d(encoder_2d(myinput_2d))\n",
    "    autoencoder_2d = Model(myinput_2d, encoder2_2d)\n",
    "\n",
    "    combinedModel_2d = Model(myinput_2d,Concatenate(axis=-1)([encoded_2d, encoder2_2d]))\n",
    "\n",
    "    myinput_classify_2d = Input(shape=(2,))\n",
    "    myclassifier_2d = Dense(128, activation='elu')(myinput_classify_2d)\n",
    "    myclassifier_2d = Dense(64, activation='elu')(myclassifier_2d)\n",
    "    myclassifier_2d = Dense(1, activation='sigmoid')(myclassifier_2d)\n",
    "    myclassifier_model_2d = Model(myinput_classify_2d, myclassifier_2d)\n",
    "    myclassifier_input_2d = myclassifier_model_2d(myinput_2d)\n",
    "    myclassifier_encoded_2d = myclassifier_model_2d(encoded_2d)\n",
    "\n",
    "    combinedModel_classifier_2d = Model(myinput_2d,Concatenate(axis=-1)([encoded_2d, encoder2_2d, myclassifier_input_2d, myclassifier_encoded_2d]))\n",
    "\n",
    "    preds = []\n",
    "    preds += [encoder_2d.predict(X)]\n",
    "\n",
    "    for i in range(num_iters):\n",
    "        print(\"on i=\",i)\n",
    "        #Now, train the classifier\n",
    "        encoded_x_2d = encoder_2d.predict(X)\n",
    "        myclassifier_model_2d.compile(optimizer='adam', loss='binary_crossentropy')\n",
    "        myclassifier_model_2d.fit(np.concatenate([X,encoded_x_2d]),np.concatenate([np.ones(len(X)),np.zeros(len(X))]), epochs=1, batch_size=int(0.01*len(X)))\n",
    "\n",
    "        #Now, update the autoencoder\n",
    "        for layer in myclassifier_model_2d.layers[:]:\n",
    "            layer.trainable = False\n",
    "\n",
    "        combinedModel_classifier_2d.compile(optimizer='adam', loss=lambda y_true, y_pred: myloss2d(y_true, y_pred))\n",
    "        combinedModel_classifier_2d.fit(X,X, epochs=1, batch_size=int(0.01*len(X)))\n",
    "\n",
    "        autoencoder_2d.compile(optimizer='adam', loss='mse')\n",
    "        autoencoder_2d.fit(X,X, epochs=5, batch_size=int(0.01*len(x)))\n",
    "\n",
    "        preds += [encoder_2d.predict(X)]\n",
    "\n",
    "        for layer in myclassifier_model_2d.layers[:]:\n",
    "            layer.trainable = True\n",
    "\n",
    "    f = plt.figure(figsize=(8.5, 8.5))\n",
    "    plt.scatter(X[:,0][0:1000],preds[-1][:,0][0:1000],label=\"$x_0$\")\n",
    "    plt.scatter(X[:,1][0:1000],preds[-1][:,1][0:1000],label=\"$x_1$\")\n",
    "    plt.plot(np.linspace(-4,4,10),np.linspace(-4,4,10),ls=':',color=\"gray\")\n",
    "    plt.plot(np.linspace(-4,4,10),-np.linspace(-4,4,10),ls=':',color=\"gray\")\n",
    "    plt.xlabel(\"x\")\n",
    "    plt.ylabel(\"Encoder(x)\")\n",
    "    plt.legend(frameon=False)\n",
    "    plt.savefig(\"symdata/encoder_\"+str(k)+\".pdf\",bbox_inches='tight')\n",
    "\n",
    "    mypreds = combinedModel_classifier_2d.predict(X)\n",
    "    \n",
    "    print(\"why is this growing?\",len(X),len(mypreds))\n",
    "\n",
    "    f = plt.figure(figsize=(8.5, 8.5))\n",
    "    plt.scatter(X[:,0][0:1000],mypreds[:,2][0:1000],label=\"$x_0$\")\n",
    "    plt.scatter(X[:,1][0:1000],mypreds[:,3][0:1000],label=\"$x_1$\")\n",
    "    plt.plot(np.linspace(-4,4,10),np.linspace(-4,4,10),ls=':',color=\"gray\")\n",
    "    plt.xlabel(\"x\")\n",
    "    plt.ylabel(\"Autoencoder(x) = Encoder$^2$(x)\")\n",
    "    plt.legend(frameon=False)\n",
    "    plt.savefig(\"symdata/autoencoder_\"+str(k)+\".pdf\",bbox_inches='tight')'''"
   ]
  },
  {
   "cell_type": "code",
   "execution_count": 31,
   "metadata": {},
   "outputs": [
    {
     "data": {
      "image/png": "[encoded data removed]",
      "text/plain": [
       "<Figure size 432x288 with 1 Axes>"
      ]
     },
     "metadata": {
      "needs_background": "light"
     },
     "output_type": "display_data"
    }
   ],
   "source": [
    "plt.hist(x);\n",
    "plt.xlabel(\"x_0\");"
   ]
  },
  {
   "cell_type": "code",
   "execution_count": 32,
   "metadata": {},
   "outputs": [
    {
     "data": {
      "image/png": "[encoded data removed]",
      "text/plain": [
       "<Figure size 432x288 with 1 Axes>"
      ]
     },
     "metadata": {
      "needs_background": "light"
     },
     "output_type": "display_data"
    }
   ],
   "source": [
    "plt.hist(x2);\n",
    "plt.xlabel(\"x_1\");"
   ]
  },
  {
   "cell_type": "code",
   "execution_count": 33,
   "metadata": {},
   "outputs": [
    {
     "data": {
      "image/png": "[encoded data removed]",
      "text/plain": [
       "<Figure size 432x288 with 1 Axes>"
      ]
     },
     "metadata": {
      "needs_background": "light"
     },
     "output_type": "display_data"
    }
   ],
   "source": [
    "plt.hist2d(x, x2);\n",
    "plt.xlabel(\"X\");"
   ]
  },
  {
   "cell_type": "code",
   "execution_count": 34,
   "metadata": {},
   "outputs": [],
   "source": [
    "Y = encoder_2d.predict(X)"
   ]
  },
  {
   "cell_type": "code",
   "execution_count": 35,
   "metadata": {},
   "outputs": [
    {
     "data": {
      "image/png": "[encoded data removed]",
      "text/plain": [
       "<Figure size 432x288 with 1 Axes>"
      ]
     },
     "metadata": {
      "needs_background": "light"
     },
     "output_type": "display_data"
    }
   ],
   "source": [
    "plt.hist2d(Y[:,0], Y[:,1]);\n",
    "plt.xlabel(\"Encoder(X)\");"
   ]
  },
  {
   "cell_type": "code",
   "execution_count": 36,
   "metadata": {},
   "outputs": [
    {
     "data": {
      "image/png": "[encoded data removed]",
      "text/plain": [
       "<Figure size 432x288 with 1 Axes>"
      ]
     },
     "metadata": {
      "needs_background": "light"
     },
     "output_type": "display_data"
    }
   ],
   "source": [
    "plt.hist(Y[:,0]);\n",
    "plt.xlabel(\"Encoder(x)_0\");"
   ]
  },
  {
   "cell_type": "code",
   "execution_count": 37,
   "metadata": {},
   "outputs": [
    {
     "data": {
      "image/png": "[encoded data removed]",
      "text/plain": [
       "<Figure size 432x288 with 1 Axes>"
      ]
     },
     "metadata": {
      "needs_background": "light"
     },
     "output_type": "display_data"
    }
   ],
   "source": [
    "plt.hist(Y[:,1]);\n",
    "plt.xlabel(\"Encoder(x)_1\");"
   ]
  },
  {
   "cell_type": "code",
   "execution_count": 38,
   "metadata": {},
   "outputs": [
    {
     "name": "stdout",
     "output_type": "stream",
     "text": [
      "Model: \"model_5\"\n",
      "_________________________________________________________________\n",
      "Layer (type)                 Output Shape              Param #   \n",
      "=================================================================\n",
      "input_3 (InputLayer)         [(None, 2)]               0         \n",
      "_________________________________________________________________\n",
      "dense_6 (Dense)              (None, 5)                 15        \n",
      "_________________________________________________________________\n",
      "dense_7 (Dense)              (None, 5)                 30        \n",
      "_________________________________________________________________\n",
      "dense_8 (Dense)              (None, 2)                 12        \n",
      "=================================================================\n",
      "Total params: 57\n",
      "Trainable params: 57\n",
      "Non-trainable params: 0\n",
      "_________________________________________________________________\n"
     ]
    }
   ],
   "source": [
    "encoder_2d.summary()"
   ]
  },
  {
   "cell_type": "code",
   "execution_count": 62,
   "metadata": {},
   "outputs": [
    {
     "name": "stdout",
     "output_type": "stream",
     "text": [
      "(100000, 2)\n",
      "(20, 100000, 2)\n"
     ]
    }
   ],
   "source": [
    "print(np.shape(X))\n",
    "print(np.shape(preds[:-1]))\n",
    "model = LinearRegression().fit(X, preds[-1]);\n"
   ]
  },
  {
   "cell_type": "code",
   "execution_count": 63,
   "metadata": {},
   "outputs": [
    {
     "name": "stdout",
     "output_type": "stream",
     "text": [
      "slope: [[-0.04123571  1.02879878]\n",
      " [ 0.97067397  0.04105201]]\n",
      "intercept: [ 0.0058686 -0.0049123]\n"
     ]
    }
   ],
   "source": [
    "print('slope:', model.coef_)\n",
    "print('intercept:', model.intercept_)"
   ]
  },
  {
   "cell_type": "code",
   "execution_count": null,
   "metadata": {},
   "outputs": [],
   "source": [
    "#print([preds[:1][0][:,1],preds[:1][0][:,0]])"
   ]
  },
  {
   "cell_type": "code",
   "execution_count": null,
   "metadata": {},
   "outputs": [],
   "source": []
  }
 ],
 "metadata": {
  "kernelspec": {
   "display_name": "tensorflow-v2.2.0-cpu",
   "language": "python",
   "name": "tensorflow_intel_2.2.0-py37"
  },
  "language_info": {
   "codemirror_mode": {
    "name": "ipython",
    "version": 3
   },
   "file_extension": ".py",
   "mimetype": "text/x-python",
   "name": "python",
   "nbconvert_exporter": "python",
   "pygments_lexer": "ipython3",
   "version": "3.7.4"
  },
  "nteract": {
   "version": "0.26.0"
  }
 },
 "nbformat": 4,
 "nbformat_minor": 4
}
